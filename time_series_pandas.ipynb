{
 "cells": [
  {
   "cell_type": "markdown",
   "id": "05a6e627",
   "metadata": {},
   "source": [
    "# A few notes on time series data\n",
    "- See more here https://pandas.pydata.org/pandas-docs/stable/user_guide/timeseries.html"
   ]
  },
  {
   "cell_type": "code",
   "execution_count": 36,
   "id": "87e5c3cf",
   "metadata": {},
   "outputs": [],
   "source": [
    "import pandas as pd\n",
    "import matplotlib.pyplot as plt "
   ]
  },
  {
   "cell_type": "code",
   "execution_count": null,
   "id": "09eaa234",
   "metadata": {},
   "outputs": [],
   "source": [
    "# We have here google stock data \n",
    "- "
   ]
  },
  {
   "cell_type": "code",
   "execution_count": 24,
   "id": "4cd29bf1",
   "metadata": {},
   "outputs": [],
   "source": [
    "df = pd.read_csv('GOOG.csv')"
   ]
  },
  {
   "cell_type": "code",
   "execution_count": 5,
   "id": "28c88b78",
   "metadata": {},
   "outputs": [
    {
     "data": {
      "text/plain": [
       "Date          object\n",
       "Open         float64\n",
       "High         float64\n",
       "Low          float64\n",
       "Close        float64\n",
       "Adj Close    float64\n",
       "Volume         int64\n",
       "dtype: object"
      ]
     },
     "execution_count": 5,
     "metadata": {},
     "output_type": "execute_result"
    }
   ],
   "source": [
    "df.dtypes"
   ]
  },
  {
   "cell_type": "code",
   "execution_count": null,
   "id": "ee69011b",
   "metadata": {},
   "outputs": [],
   "source": [
    "## Coding date columns"
   ]
  },
  {
   "cell_type": "code",
   "execution_count": null,
   "id": "96d3dc91",
   "metadata": {},
   "outputs": [],
   "source": [
    "pd.to_datetime('2018-01-15 3:45pm')\n",
    "pd.to_datetime('7/8/1952')"
   ]
  },
  {
   "cell_type": "code",
   "execution_count": null,
   "id": "28cdb5b7",
   "metadata": {},
   "outputs": [],
   "source": [
    "## Change the date column type"
   ]
  },
  {
   "cell_type": "code",
   "execution_count": 25,
   "id": "92c650fd",
   "metadata": {},
   "outputs": [
    {
     "data": {
      "text/plain": [
       "Date         datetime64[ns]\n",
       "Open                float64\n",
       "High                float64\n",
       "Low                 float64\n",
       "Close               float64\n",
       "Adj Close           float64\n",
       "Volume                int64\n",
       "dtype: object"
      ]
     },
     "execution_count": 25,
     "metadata": {},
     "output_type": "execute_result"
    }
   ],
   "source": [
    "df['Date'] = pd.to_datetime(df.Date)\n",
    "df.dtypes"
   ]
  },
  {
   "cell_type": "code",
   "execution_count": 19,
   "id": "193e54e8",
   "metadata": {},
   "outputs": [],
   "source": [
    "df.set_index('Date',inplace=True)"
   ]
  },
  {
   "cell_type": "code",
   "execution_count": null,
   "id": "cbc8243d",
   "metadata": {},
   "outputs": [],
   "source": [
    "## various time functions"
   ]
  },
  {
   "cell_type": "code",
   "execution_count": 30,
   "id": "65b7115f",
   "metadata": {},
   "outputs": [],
   "source": [
    "df['weekday_name'] = pd.DatetimeIndex(df['Date']).day_name()\n",
    "df['year'] = pd.DatetimeIndex(df['Date']).year\n",
    "df['month'] = pd.DatetimeIndex(df['Date']).month"
   ]
  },
  {
   "cell_type": "code",
   "execution_count": 32,
   "id": "c55229ee",
   "metadata": {},
   "outputs": [],
   "source": [
    "df.set_index('Date',inplace=True)\n"
   ]
  },
  {
   "cell_type": "code",
   "execution_count": null,
   "id": "c6823707",
   "metadata": {},
   "outputs": [],
   "source": [
    "# partial  string indexing"
   ]
  },
  {
   "cell_type": "code",
   "execution_count": 49,
   "id": "b2fb5221",
   "metadata": {},
   "outputs": [
    {
     "data": {
      "text/html": [
       "<div>\n",
       "<style scoped>\n",
       "    .dataframe tbody tr th:only-of-type {\n",
       "        vertical-align: middle;\n",
       "    }\n",
       "\n",
       "    .dataframe tbody tr th {\n",
       "        vertical-align: top;\n",
       "    }\n",
       "\n",
       "    .dataframe thead th {\n",
       "        text-align: right;\n",
       "    }\n",
       "</style>\n",
       "<table border=\"1\" class=\"dataframe\">\n",
       "  <thead>\n",
       "    <tr style=\"text-align: right;\">\n",
       "      <th></th>\n",
       "      <th>Open</th>\n",
       "      <th>High</th>\n",
       "      <th>Low</th>\n",
       "      <th>Close</th>\n",
       "      <th>Adj Close</th>\n",
       "      <th>Volume</th>\n",
       "      <th>weekday_name</th>\n",
       "      <th>year</th>\n",
       "      <th>month</th>\n",
       "    </tr>\n",
       "    <tr>\n",
       "      <th>Date</th>\n",
       "      <th></th>\n",
       "      <th></th>\n",
       "      <th></th>\n",
       "      <th></th>\n",
       "      <th></th>\n",
       "      <th></th>\n",
       "      <th></th>\n",
       "      <th></th>\n",
       "      <th></th>\n",
       "    </tr>\n",
       "  </thead>\n",
       "  <tbody>\n",
       "    <tr>\n",
       "      <th>2016-01-04</th>\n",
       "      <td>743.000000</td>\n",
       "      <td>744.059998</td>\n",
       "      <td>731.257996</td>\n",
       "      <td>741.840027</td>\n",
       "      <td>741.840027</td>\n",
       "      <td>3272800</td>\n",
       "      <td>Monday</td>\n",
       "      <td>2016</td>\n",
       "      <td>1</td>\n",
       "    </tr>\n",
       "    <tr>\n",
       "      <th>2016-01-05</th>\n",
       "      <td>746.450012</td>\n",
       "      <td>752.000000</td>\n",
       "      <td>738.640015</td>\n",
       "      <td>742.580017</td>\n",
       "      <td>742.580017</td>\n",
       "      <td>1950700</td>\n",
       "      <td>Tuesday</td>\n",
       "      <td>2016</td>\n",
       "      <td>1</td>\n",
       "    </tr>\n",
       "    <tr>\n",
       "      <th>2016-01-06</th>\n",
       "      <td>730.000000</td>\n",
       "      <td>747.179993</td>\n",
       "      <td>728.919983</td>\n",
       "      <td>743.619995</td>\n",
       "      <td>743.619995</td>\n",
       "      <td>1947000</td>\n",
       "      <td>Wednesday</td>\n",
       "      <td>2016</td>\n",
       "      <td>1</td>\n",
       "    </tr>\n",
       "    <tr>\n",
       "      <th>2016-01-07</th>\n",
       "      <td>730.309998</td>\n",
       "      <td>738.500000</td>\n",
       "      <td>719.059998</td>\n",
       "      <td>726.390015</td>\n",
       "      <td>726.390015</td>\n",
       "      <td>2963700</td>\n",
       "      <td>Thursday</td>\n",
       "      <td>2016</td>\n",
       "      <td>1</td>\n",
       "    </tr>\n",
       "    <tr>\n",
       "      <th>2016-01-08</th>\n",
       "      <td>731.450012</td>\n",
       "      <td>733.229980</td>\n",
       "      <td>713.000000</td>\n",
       "      <td>714.469971</td>\n",
       "      <td>714.469971</td>\n",
       "      <td>2450900</td>\n",
       "      <td>Friday</td>\n",
       "      <td>2016</td>\n",
       "      <td>1</td>\n",
       "    </tr>\n",
       "    <tr>\n",
       "      <th>2016-01-11</th>\n",
       "      <td>716.609985</td>\n",
       "      <td>718.854980</td>\n",
       "      <td>703.539978</td>\n",
       "      <td>716.030029</td>\n",
       "      <td>716.030029</td>\n",
       "      <td>2090600</td>\n",
       "      <td>Monday</td>\n",
       "      <td>2016</td>\n",
       "      <td>1</td>\n",
       "    </tr>\n",
       "    <tr>\n",
       "      <th>2016-01-12</th>\n",
       "      <td>721.679993</td>\n",
       "      <td>728.750000</td>\n",
       "      <td>717.317017</td>\n",
       "      <td>726.070007</td>\n",
       "      <td>726.070007</td>\n",
       "      <td>2024500</td>\n",
       "      <td>Tuesday</td>\n",
       "      <td>2016</td>\n",
       "      <td>1</td>\n",
       "    </tr>\n",
       "    <tr>\n",
       "      <th>2016-01-13</th>\n",
       "      <td>730.849976</td>\n",
       "      <td>734.739990</td>\n",
       "      <td>698.609985</td>\n",
       "      <td>700.559998</td>\n",
       "      <td>700.559998</td>\n",
       "      <td>2501700</td>\n",
       "      <td>Wednesday</td>\n",
       "      <td>2016</td>\n",
       "      <td>1</td>\n",
       "    </tr>\n",
       "    <tr>\n",
       "      <th>2016-01-14</th>\n",
       "      <td>705.380005</td>\n",
       "      <td>721.924988</td>\n",
       "      <td>689.099976</td>\n",
       "      <td>714.719971</td>\n",
       "      <td>714.719971</td>\n",
       "      <td>2225800</td>\n",
       "      <td>Thursday</td>\n",
       "      <td>2016</td>\n",
       "      <td>1</td>\n",
       "    </tr>\n",
       "    <tr>\n",
       "      <th>2016-01-15</th>\n",
       "      <td>692.289978</td>\n",
       "      <td>706.739990</td>\n",
       "      <td>685.369995</td>\n",
       "      <td>694.450012</td>\n",
       "      <td>694.450012</td>\n",
       "      <td>3608100</td>\n",
       "      <td>Friday</td>\n",
       "      <td>2016</td>\n",
       "      <td>1</td>\n",
       "    </tr>\n",
       "    <tr>\n",
       "      <th>2016-01-19</th>\n",
       "      <td>703.299988</td>\n",
       "      <td>709.979980</td>\n",
       "      <td>693.409973</td>\n",
       "      <td>701.789978</td>\n",
       "      <td>701.789978</td>\n",
       "      <td>2268100</td>\n",
       "      <td>Tuesday</td>\n",
       "      <td>2016</td>\n",
       "      <td>1</td>\n",
       "    </tr>\n",
       "    <tr>\n",
       "      <th>2016-01-20</th>\n",
       "      <td>688.609985</td>\n",
       "      <td>706.849976</td>\n",
       "      <td>673.260010</td>\n",
       "      <td>698.450012</td>\n",
       "      <td>698.450012</td>\n",
       "      <td>3445000</td>\n",
       "      <td>Wednesday</td>\n",
       "      <td>2016</td>\n",
       "      <td>1</td>\n",
       "    </tr>\n",
       "    <tr>\n",
       "      <th>2016-01-21</th>\n",
       "      <td>702.179993</td>\n",
       "      <td>719.190002</td>\n",
       "      <td>694.460022</td>\n",
       "      <td>706.590027</td>\n",
       "      <td>706.590027</td>\n",
       "      <td>2412200</td>\n",
       "      <td>Thursday</td>\n",
       "      <td>2016</td>\n",
       "      <td>1</td>\n",
       "    </tr>\n",
       "    <tr>\n",
       "      <th>2016-01-22</th>\n",
       "      <td>723.599976</td>\n",
       "      <td>728.130005</td>\n",
       "      <td>720.120972</td>\n",
       "      <td>725.250000</td>\n",
       "      <td>725.250000</td>\n",
       "      <td>2011800</td>\n",
       "      <td>Friday</td>\n",
       "      <td>2016</td>\n",
       "      <td>1</td>\n",
       "    </tr>\n",
       "    <tr>\n",
       "      <th>2016-01-25</th>\n",
       "      <td>723.580017</td>\n",
       "      <td>729.679993</td>\n",
       "      <td>710.010010</td>\n",
       "      <td>711.669983</td>\n",
       "      <td>711.669983</td>\n",
       "      <td>1711700</td>\n",
       "      <td>Monday</td>\n",
       "      <td>2016</td>\n",
       "      <td>1</td>\n",
       "    </tr>\n",
       "    <tr>\n",
       "      <th>2016-01-26</th>\n",
       "      <td>713.849976</td>\n",
       "      <td>718.280029</td>\n",
       "      <td>706.479980</td>\n",
       "      <td>713.039978</td>\n",
       "      <td>713.039978</td>\n",
       "      <td>1331700</td>\n",
       "      <td>Tuesday</td>\n",
       "      <td>2016</td>\n",
       "      <td>1</td>\n",
       "    </tr>\n",
       "    <tr>\n",
       "      <th>2016-01-27</th>\n",
       "      <td>713.669983</td>\n",
       "      <td>718.234985</td>\n",
       "      <td>694.390015</td>\n",
       "      <td>699.989990</td>\n",
       "      <td>699.989990</td>\n",
       "      <td>2194200</td>\n",
       "      <td>Wednesday</td>\n",
       "      <td>2016</td>\n",
       "      <td>1</td>\n",
       "    </tr>\n",
       "    <tr>\n",
       "      <th>2016-01-28</th>\n",
       "      <td>722.219971</td>\n",
       "      <td>733.690002</td>\n",
       "      <td>712.349976</td>\n",
       "      <td>730.960022</td>\n",
       "      <td>730.960022</td>\n",
       "      <td>2676400</td>\n",
       "      <td>Thursday</td>\n",
       "      <td>2016</td>\n",
       "      <td>1</td>\n",
       "    </tr>\n",
       "    <tr>\n",
       "      <th>2016-01-29</th>\n",
       "      <td>731.530029</td>\n",
       "      <td>744.989990</td>\n",
       "      <td>726.799988</td>\n",
       "      <td>742.950012</td>\n",
       "      <td>742.950012</td>\n",
       "      <td>3474300</td>\n",
       "      <td>Friday</td>\n",
       "      <td>2016</td>\n",
       "      <td>1</td>\n",
       "    </tr>\n",
       "  </tbody>\n",
       "</table>\n",
       "</div>"
      ],
      "text/plain": [
       "                  Open        High         Low       Close   Adj Close  \\\n",
       "Date                                                                     \n",
       "2016-01-04  743.000000  744.059998  731.257996  741.840027  741.840027   \n",
       "2016-01-05  746.450012  752.000000  738.640015  742.580017  742.580017   \n",
       "2016-01-06  730.000000  747.179993  728.919983  743.619995  743.619995   \n",
       "2016-01-07  730.309998  738.500000  719.059998  726.390015  726.390015   \n",
       "2016-01-08  731.450012  733.229980  713.000000  714.469971  714.469971   \n",
       "2016-01-11  716.609985  718.854980  703.539978  716.030029  716.030029   \n",
       "2016-01-12  721.679993  728.750000  717.317017  726.070007  726.070007   \n",
       "2016-01-13  730.849976  734.739990  698.609985  700.559998  700.559998   \n",
       "2016-01-14  705.380005  721.924988  689.099976  714.719971  714.719971   \n",
       "2016-01-15  692.289978  706.739990  685.369995  694.450012  694.450012   \n",
       "2016-01-19  703.299988  709.979980  693.409973  701.789978  701.789978   \n",
       "2016-01-20  688.609985  706.849976  673.260010  698.450012  698.450012   \n",
       "2016-01-21  702.179993  719.190002  694.460022  706.590027  706.590027   \n",
       "2016-01-22  723.599976  728.130005  720.120972  725.250000  725.250000   \n",
       "2016-01-25  723.580017  729.679993  710.010010  711.669983  711.669983   \n",
       "2016-01-26  713.849976  718.280029  706.479980  713.039978  713.039978   \n",
       "2016-01-27  713.669983  718.234985  694.390015  699.989990  699.989990   \n",
       "2016-01-28  722.219971  733.690002  712.349976  730.960022  730.960022   \n",
       "2016-01-29  731.530029  744.989990  726.799988  742.950012  742.950012   \n",
       "\n",
       "             Volume weekday_name  year  month  \n",
       "Date                                           \n",
       "2016-01-04  3272800       Monday  2016      1  \n",
       "2016-01-05  1950700      Tuesday  2016      1  \n",
       "2016-01-06  1947000    Wednesday  2016      1  \n",
       "2016-01-07  2963700     Thursday  2016      1  \n",
       "2016-01-08  2450900       Friday  2016      1  \n",
       "2016-01-11  2090600       Monday  2016      1  \n",
       "2016-01-12  2024500      Tuesday  2016      1  \n",
       "2016-01-13  2501700    Wednesday  2016      1  \n",
       "2016-01-14  2225800     Thursday  2016      1  \n",
       "2016-01-15  3608100       Friday  2016      1  \n",
       "2016-01-19  2268100      Tuesday  2016      1  \n",
       "2016-01-20  3445000    Wednesday  2016      1  \n",
       "2016-01-21  2412200     Thursday  2016      1  \n",
       "2016-01-22  2011800       Friday  2016      1  \n",
       "2016-01-25  1711700       Monday  2016      1  \n",
       "2016-01-26  1331700      Tuesday  2016      1  \n",
       "2016-01-27  2194200    Wednesday  2016      1  \n",
       "2016-01-28  2676400     Thursday  2016      1  \n",
       "2016-01-29  3474300       Friday  2016      1  "
      ]
     },
     "execution_count": 49,
     "metadata": {},
     "output_type": "execute_result"
    }
   ],
   "source": [
    "df.loc['2016']\n",
    "df.loc['2016-01']\n",
    "df.loc['2016-01' : '2017-02']"
   ]
  },
  {
   "cell_type": "code",
   "execution_count": null,
   "id": "c996578a",
   "metadata": {},
   "outputs": [],
   "source": [
    "#resampling\n",
    "df.asfreq('D')\n",
    "df.asfreq('B')"
   ]
  },
  {
   "cell_type": "markdown",
   "id": "6c46ef1d",
   "metadata": {},
   "source": [
    "## lag functions\n",
    "- We can move a series forward or backward in time using lagged variables\n",
    "- `shift()` moves forward or backward for a defined period \n",
    "-https://pandas.pydata.org/pandas-docs/stable/reference/api/pandas.Series.shift.html#pandas.Series.shift\n",
    "\n",
    "-`.diff()` Get difference between sucessive rows, can also define a period\n",
    "- `.pct_change(periods=...)` gives the percentage change between successive rows\n"
   ]
  },
  {
   "cell_type": "code",
   "execution_count": 52,
   "id": "3fc9c148",
   "metadata": {},
   "outputs": [
    {
     "data": {
      "text/html": [
       "<div>\n",
       "<style scoped>\n",
       "    .dataframe tbody tr th:only-of-type {\n",
       "        vertical-align: middle;\n",
       "    }\n",
       "\n",
       "    .dataframe tbody tr th {\n",
       "        vertical-align: top;\n",
       "    }\n",
       "\n",
       "    .dataframe thead th {\n",
       "        text-align: right;\n",
       "    }\n",
       "</style>\n",
       "<table border=\"1\" class=\"dataframe\">\n",
       "  <thead>\n",
       "    <tr style=\"text-align: right;\">\n",
       "      <th></th>\n",
       "      <th>High</th>\n",
       "      <th>high_lag_1</th>\n",
       "    </tr>\n",
       "    <tr>\n",
       "      <th>Date</th>\n",
       "      <th></th>\n",
       "      <th></th>\n",
       "    </tr>\n",
       "  </thead>\n",
       "  <tbody>\n",
       "    <tr>\n",
       "      <th>2004-08-19</th>\n",
       "      <td>51.835709</td>\n",
       "      <td>NaN</td>\n",
       "    </tr>\n",
       "    <tr>\n",
       "      <th>2004-08-20</th>\n",
       "      <td>54.336334</td>\n",
       "      <td>51.835709</td>\n",
       "    </tr>\n",
       "    <tr>\n",
       "      <th>2004-08-23</th>\n",
       "      <td>56.528118</td>\n",
       "      <td>54.336334</td>\n",
       "    </tr>\n",
       "    <tr>\n",
       "      <th>2004-08-24</th>\n",
       "      <td>55.591629</td>\n",
       "      <td>56.528118</td>\n",
       "    </tr>\n",
       "    <tr>\n",
       "      <th>2004-08-25</th>\n",
       "      <td>53.798351</td>\n",
       "      <td>55.591629</td>\n",
       "    </tr>\n",
       "  </tbody>\n",
       "</table>\n",
       "</div>"
      ],
      "text/plain": [
       "                 High  high_lag_1\n",
       "Date                             \n",
       "2004-08-19  51.835709         NaN\n",
       "2004-08-20  54.336334   51.835709\n",
       "2004-08-23  56.528118   54.336334\n",
       "2004-08-24  55.591629   56.528118\n",
       "2004-08-25  53.798351   55.591629"
      ]
     },
     "execution_count": 52,
     "metadata": {},
     "output_type": "execute_result"
    }
   ],
   "source": [
    "df['high_lag_1'] = df['High'].shift()\n",
    "df[['High','high_lag_1']].head()"
   ]
  },
  {
   "cell_type": "code",
   "execution_count": null,
   "id": "ee04a874",
   "metadata": {},
   "outputs": [],
   "source": [
    "# the series has been shifted in time\n",
    "- We could take the difference of the two rows get the relative daily change\n",
    "- `diff` also does that automatically"
   ]
  },
  {
   "cell_type": "code",
   "execution_count": 58,
   "id": "de4d9ff0",
   "metadata": {},
   "outputs": [
    {
     "name": "stdout",
     "output_type": "stream",
     "text": [
      "Date\n",
      "2004-08-19         NaN\n",
      "2004-08-20   -2.500625\n",
      "2004-08-23   -2.191784\n",
      "2004-08-24    0.936489\n",
      "2004-08-25    1.793278\n",
      "dtype: float64\n"
     ]
    },
    {
     "data": {
      "text/plain": [
       "Date\n",
       "2004-08-19         NaN\n",
       "2004-08-20    2.500625\n",
       "2004-08-23    2.191784\n",
       "2004-08-24   -0.936489\n",
       "2004-08-25   -1.793278\n",
       "Name: High, dtype: float64"
      ]
     },
     "execution_count": 58,
     "metadata": {},
     "output_type": "execute_result"
    }
   ],
   "source": [
    "print((df['high_lag_1'] - df['High']).head())\n",
    "df['High'].diff().head()"
   ]
  },
  {
   "cell_type": "code",
   "execution_count": 39,
   "id": "14b8c158",
   "metadata": {},
   "outputs": [
    {
     "data": {
      "image/png": "[encoded data removed]",
      "text/plain": [
       "<Figure size 432x288 with 1 Axes>"
      ]
     },
     "metadata": {
      "needs_background": "light"
     },
     "output_type": "display_data"
    }
   ],
   "source": [
    "\n",
    "df['High'].plot(linewidth=0.5)\n",
    "df['Low'].plot()\n",
    "plt.show()"
   ]
  },
  {
   "cell_type": "code",
   "execution_count": 47,
   "id": "5a77d063",
   "metadata": {},
   "outputs": [
    {
     "data": {
      "image/png": "[encoded data removed]",
      "text/plain": [
       "<Figure size 432x288 with 1 Axes>"
      ]
     },
     "metadata": {
      "needs_background": "light"
     },
     "output_type": "display_data"
    },
    {
     "data": {
      "image/png": "[encoded data removed]",
      "text/plain": [
       "<Figure size 432x288 with 1 Axes>"
      ]
     },
     "metadata": {
      "needs_background": "light"
     },
     "output_type": "display_data"
    }
   ],
   "source": [
    "df.query(\"year == 2018\").boxplot(by='month', column=['High'])\n",
    "df.query(\"year == 2019\").boxplot(by='month', column=['High'])\n",
    "\n",
    "plt.show()"
   ]
  },
  {
   "cell_type": "code",
   "execution_count": null,
   "id": "5b755c2c",
   "metadata": {},
   "outputs": [],
   "source": []
  }
 ],
 "metadata": {
  "kernelspec": {
   "display_name": "Python 3",
   "language": "python",
   "name": "python3"
  },
  "language_info": {
   "codemirror_mode": {
    "name": "ipython",
    "version": 3
   },
   "file_extension": ".py",
   "mimetype": "text/x-python",
   "name": "python",
   "nbconvert_exporter": "python",
   "pygments_lexer": "ipython3",
   "version": "3.7.10"
  }
 },
 "nbformat": 4,
 "nbformat_minor": 5
}
