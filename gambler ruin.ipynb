{
 "cells": [
  {
   "cell_type": "code",
   "execution_count": 1,
   "metadata": {},
   "outputs": [
    {
     "name": "stdout",
     "output_type": "stream",
     "text": [
      "Populating the interactive namespace from numpy and matplotlib\n"
     ]
    }
   ],
   "source": [
    "import numpy as np\n",
    "import numpy.random as nr\n",
    "import matplotlib.pyplot as plt\n",
    "%pylab inline"
   ]
  },
  {
   "cell_type": "code",
   "execution_count": 2,
   "metadata": {},
   "outputs": [],
   "source": [
    "import matplotlib.pyplot as plt\n",
    "import numpy as np\n",
    "import pandas as pd\n",
    "import seaborn as sns\n",
    "\n",
    "# Make NumPy printouts easier to read.\n",
    "np.set_printoptions(precision=3, suppress=True)"
   ]
  },
  {
   "cell_type": "code",
   "execution_count": 3,
   "metadata": {},
   "outputs": [
    {
     "name": "stdout",
     "output_type": "stream",
     "text": [
      "2.6.0\n"
     ]
    }
   ],
   "source": [
    "import tensorflow as tf\n",
    "\n",
    "from tensorflow import keras\n",
    "from tensorflow.keras import layers\n",
    "\n",
    "print(tf.__version__)"
   ]
  },
  {
   "cell_type": "code",
   "execution_count": 4,
   "metadata": {},
   "outputs": [],
   "source": [
    "url = 'http://archive.ics.uci.edu/ml/machine-learning-databases/auto-mpg/auto-mpg.data'\n",
    "column_names = ['MPG', 'Cylinders', 'Displacement', 'Horsepower', 'Weight',\n",
    "                'Acceleration', 'Model Year', 'Origin']\n",
    "\n",
    "raw_dataset = pd.read_csv(url, names=column_names,\n",
    "                          na_values='?', comment='\\t',\n",
    "                          sep=' ', skipinitialspace=True)"
   ]
  },
  {
   "cell_type": "code",
   "execution_count": 5,
   "metadata": {},
   "outputs": [],
   "source": [
    "dataset = raw_dataset.copy()\n",
    "dataset.tail()\n",
    "dataset = dataset.dropna()"
   ]
  },
  {
   "cell_type": "code",
   "execution_count": 6,
   "metadata": {},
   "outputs": [
    {
     "data": {
      "text/html": [
       "<div>\n",
       "<style scoped>\n",
       "    .dataframe tbody tr th:only-of-type {\n",
       "        vertical-align: middle;\n",
       "    }\n",
       "\n",
       "    .dataframe tbody tr th {\n",
       "        vertical-align: top;\n",
       "    }\n",
       "\n",
       "    .dataframe thead th {\n",
       "        text-align: right;\n",
       "    }\n",
       "</style>\n",
       "<table border=\"1\" class=\"dataframe\">\n",
       "  <thead>\n",
       "    <tr style=\"text-align: right;\">\n",
       "      <th></th>\n",
       "      <th>MPG</th>\n",
       "      <th>Cylinders</th>\n",
       "      <th>Displacement</th>\n",
       "      <th>Horsepower</th>\n",
       "      <th>Weight</th>\n",
       "      <th>Acceleration</th>\n",
       "      <th>Model Year</th>\n",
       "      <th>Europe</th>\n",
       "      <th>Japan</th>\n",
       "      <th>USA</th>\n",
       "    </tr>\n",
       "  </thead>\n",
       "  <tbody>\n",
       "    <tr>\n",
       "      <th>393</th>\n",
       "      <td>27.0</td>\n",
       "      <td>4</td>\n",
       "      <td>140.0</td>\n",
       "      <td>86.0</td>\n",
       "      <td>2790.0</td>\n",
       "      <td>15.6</td>\n",
       "      <td>82</td>\n",
       "      <td>0</td>\n",
       "      <td>0</td>\n",
       "      <td>1</td>\n",
       "    </tr>\n",
       "    <tr>\n",
       "      <th>394</th>\n",
       "      <td>44.0</td>\n",
       "      <td>4</td>\n",
       "      <td>97.0</td>\n",
       "      <td>52.0</td>\n",
       "      <td>2130.0</td>\n",
       "      <td>24.6</td>\n",
       "      <td>82</td>\n",
       "      <td>1</td>\n",
       "      <td>0</td>\n",
       "      <td>0</td>\n",
       "    </tr>\n",
       "    <tr>\n",
       "      <th>395</th>\n",
       "      <td>32.0</td>\n",
       "      <td>4</td>\n",
       "      <td>135.0</td>\n",
       "      <td>84.0</td>\n",
       "      <td>2295.0</td>\n",
       "      <td>11.6</td>\n",
       "      <td>82</td>\n",
       "      <td>0</td>\n",
       "      <td>0</td>\n",
       "      <td>1</td>\n",
       "    </tr>\n",
       "    <tr>\n",
       "      <th>396</th>\n",
       "      <td>28.0</td>\n",
       "      <td>4</td>\n",
       "      <td>120.0</td>\n",
       "      <td>79.0</td>\n",
       "      <td>2625.0</td>\n",
       "      <td>18.6</td>\n",
       "      <td>82</td>\n",
       "      <td>0</td>\n",
       "      <td>0</td>\n",
       "      <td>1</td>\n",
       "    </tr>\n",
       "    <tr>\n",
       "      <th>397</th>\n",
       "      <td>31.0</td>\n",
       "      <td>4</td>\n",
       "      <td>119.0</td>\n",
       "      <td>82.0</td>\n",
       "      <td>2720.0</td>\n",
       "      <td>19.4</td>\n",
       "      <td>82</td>\n",
       "      <td>0</td>\n",
       "      <td>0</td>\n",
       "      <td>1</td>\n",
       "    </tr>\n",
       "  </tbody>\n",
       "</table>\n",
       "</div>"
      ],
      "text/plain": [
       "      MPG  Cylinders  Displacement  Horsepower  Weight  Acceleration  \\\n",
       "393  27.0          4         140.0        86.0  2790.0          15.6   \n",
       "394  44.0          4          97.0        52.0  2130.0          24.6   \n",
       "395  32.0          4         135.0        84.0  2295.0          11.6   \n",
       "396  28.0          4         120.0        79.0  2625.0          18.6   \n",
       "397  31.0          4         119.0        82.0  2720.0          19.4   \n",
       "\n",
       "     Model Year  Europe  Japan  USA  \n",
       "393          82       0      0    1  \n",
       "394          82       1      0    0  \n",
       "395          82       0      0    1  \n",
       "396          82       0      0    1  \n",
       "397          82       0      0    1  "
      ]
     },
     "execution_count": 6,
     "metadata": {},
     "output_type": "execute_result"
    }
   ],
   "source": [
    "dataset['Origin'] = dataset['Origin'].map({1: 'USA', 2: 'Europe', 3: 'Japan'})\n",
    "dataset = pd.get_dummies(dataset, columns=['Origin'], prefix='', prefix_sep='')\n",
    "dataset.tail()"
   ]
  },
  {
   "cell_type": "code",
   "execution_count": 8,
   "metadata": {},
   "outputs": [],
   "source": [
    "train_dataset = dataset.sample(frac=0.8, random_state=0)\n",
    "test_dataset = dataset.drop(train_dataset.index)\n",
    "\n",
    "train_features = train_dataset.copy()\n",
    "test_features = test_dataset.copy()\n",
    "\n",
    "train_labels = train_features.pop('MPG')\n",
    "test_labels = test_features.pop('MPG')"
   ]
  },
  {
   "cell_type": "code",
   "execution_count": 10,
   "metadata": {},
   "outputs": [
    {
     "name": "stdout",
     "output_type": "stream",
     "text": [
      "[[   5.478  195.318  104.869 2990.252   15.559   75.898    0.178    0.197\n",
      "     0.624]]\n"
     ]
    }
   ],
   "source": [
    "normalizer = tf.keras.layers.Normalization(axis=-1)\n",
    "normalizer.adapt(np.array(train_features))\n",
    "print(normalizer.mean.numpy())\n"
   ]
  },
  {
   "cell_type": "code",
   "execution_count": 11,
   "metadata": {},
   "outputs": [
    {
     "name": "stdout",
     "output_type": "stream",
     "text": [
      "First example: [[   4.    90.    75.  2125.    14.5   74.     0.     0.     1. ]]\n",
      "\n",
      "Normalized: [[-0.87 -1.01 -0.79 -1.03 -0.38 -0.52 -0.47 -0.5   0.78]]\n"
     ]
    }
   ],
   "source": [
    "first = np.array(train_features[:1])\n",
    "\n",
    "with np.printoptions(precision=2, suppress=True):\n",
    "  print('First example:', first)\n",
    "  print()\n",
    "  print('Normalized:', normalizer(first).numpy())"
   ]
  },
  {
   "cell_type": "code",
   "execution_count": 13,
   "metadata": {},
   "outputs": [],
   "source": [
    "horsepower = np.array(train_features['Horsepower'])\n",
    "\n",
    "horsepower_normalizer = layers.Normalization(input_shape=[1,], axis=None)\n",
    "horsepower_normalizer.adapt(horsepower)"
   ]
  },
  {
   "cell_type": "code",
   "execution_count": 14,
   "metadata": {},
   "outputs": [
    {
     "name": "stdout",
     "output_type": "stream",
     "text": [
      "Model: \"sequential\"\n",
      "_________________________________________________________________\n",
      "Layer (type)                 Output Shape              Param #   \n",
      "=================================================================\n",
      "normalization_1 (Normalizati (None, 1)                 3         \n",
      "_________________________________________________________________\n",
      "dense (Dense)                (None, 1)                 2         \n",
      "=================================================================\n",
      "Total params: 5\n",
      "Trainable params: 2\n",
      "Non-trainable params: 3\n",
      "_________________________________________________________________\n"
     ]
    }
   ],
   "source": [
    "horsepower_model = tf.keras.Sequential([\n",
    "    horsepower_normalizer,\n",
    "    layers.Dense(units=1)\n",
    "])\n",
    "\n",
    "horsepower_model.summary()"
   ]
  },
  {
   "cell_type": "code",
   "execution_count": 16,
   "metadata": {},
   "outputs": [],
   "source": [
    "horsepower_model.compile(\n",
    "    optimizer=tf.optimizers.Adam(learning_rate=0.1),\n",
    "    loss='mean_absolute_error')"
   ]
  },
  {
   "cell_type": "code",
   "execution_count": 17,
   "metadata": {},
   "outputs": [
    {
     "name": "stdout",
     "output_type": "stream",
     "text": [
      "CPU times: user 2.19 s, sys: 370 ms, total: 2.57 s\n",
      "Wall time: 1.99 s\n"
     ]
    }
   ],
   "source": [
    "%%time\n",
    "history = horsepower_model.fit(\n",
    "    train_features['Horsepower'],\n",
    "    train_labels,\n",
    "    epochs=100,\n",
    "    # Suppress logging.\n",
    "    verbose=0,\n",
    "    # Calculate validation results on 20% of the training data.\n",
    "    validation_split = 0.2)"
   ]
  },
  {
   "cell_type": "code",
   "execution_count": 18,
   "metadata": {},
   "outputs": [
    {
     "data": {
      "text/html": [
       "<div>\n",
       "<style scoped>\n",
       "    .dataframe tbody tr th:only-of-type {\n",
       "        vertical-align: middle;\n",
       "    }\n",
       "\n",
       "    .dataframe tbody tr th {\n",
       "        vertical-align: top;\n",
       "    }\n",
       "\n",
       "    .dataframe thead th {\n",
       "        text-align: right;\n",
       "    }\n",
       "</style>\n",
       "<table border=\"1\" class=\"dataframe\">\n",
       "  <thead>\n",
       "    <tr style=\"text-align: right;\">\n",
       "      <th></th>\n",
       "      <th>loss</th>\n",
       "      <th>val_loss</th>\n",
       "      <th>epoch</th>\n",
       "    </tr>\n",
       "  </thead>\n",
       "  <tbody>\n",
       "    <tr>\n",
       "      <th>95</th>\n",
       "      <td>3.804043</td>\n",
       "      <td>4.189397</td>\n",
       "      <td>95</td>\n",
       "    </tr>\n",
       "    <tr>\n",
       "      <th>96</th>\n",
       "      <td>3.805872</td>\n",
       "      <td>4.183249</td>\n",
       "      <td>96</td>\n",
       "    </tr>\n",
       "    <tr>\n",
       "      <th>97</th>\n",
       "      <td>3.802624</td>\n",
       "      <td>4.182348</td>\n",
       "      <td>97</td>\n",
       "    </tr>\n",
       "    <tr>\n",
       "      <th>98</th>\n",
       "      <td>3.803858</td>\n",
       "      <td>4.190848</td>\n",
       "      <td>98</td>\n",
       "    </tr>\n",
       "    <tr>\n",
       "      <th>99</th>\n",
       "      <td>3.804562</td>\n",
       "      <td>4.194671</td>\n",
       "      <td>99</td>\n",
       "    </tr>\n",
       "  </tbody>\n",
       "</table>\n",
       "</div>"
      ],
      "text/plain": [
       "        loss  val_loss  epoch\n",
       "95  3.804043  4.189397     95\n",
       "96  3.805872  4.183249     96\n",
       "97  3.802624  4.182348     97\n",
       "98  3.803858  4.190848     98\n",
       "99  3.804562  4.194671     99"
      ]
     },
     "execution_count": 18,
     "metadata": {},
     "output_type": "execute_result"
    }
   ],
   "source": [
    "hist = pd.DataFrame(history.history)\n",
    "hist['epoch'] = history.epoch\n",
    "hist.tail()"
   ]
  },
  {
   "cell_type": "code",
   "execution_count": 20,
   "metadata": {},
   "outputs": [],
   "source": [
    "def plot_loss(history):\n",
    "  plt.plot(history.history['loss'], label='loss')\n",
    "  plt.plot(history.history['val_loss'], label='val_loss')\n",
    "  plt.ylim([0, 10])\n",
    "  plt.xlabel('Epoch')\n",
    "  plt.ylabel('Error [MPG]')\n",
    "  plt.legend()\n",
    "  plt.grid(True)"
   ]
  },
  {
   "cell_type": "code",
   "execution_count": 21,
   "metadata": {},
   "outputs": [
    {
     "data": {
      "image/png": "[encoded data removed]",
      "text/plain": [
       "<Figure size 432x288 with 1 Axes>"
      ]
     },
     "metadata": {
      "needs_background": "light"
     },
     "output_type": "display_data"
    }
   ],
   "source": [
    "plot_loss(history)"
   ]
  },
  {
   "cell_type": "code",
   "execution_count": 19,
   "metadata": {},
   "outputs": [
    {
     "data": {
      "text/plain": [
       "array([[27.532],\n",
       "       [25.359],\n",
       "       [13.326],\n",
       "       [29.537],\n",
       "       [28.869],\n",
       "       [25.025],\n",
       "       [30.039],\n",
       "       [28.869],\n",
       "       [24.189],\n",
       "       [25.359]], dtype=float32)"
      ]
     },
     "execution_count": 19,
     "metadata": {},
     "output_type": "execute_result"
    }
   ],
   "source": [
    "horsepower_model.predict(horsepower[:10])\n"
   ]
  },
  {
   "cell_type": "code",
   "execution_count": 79,
   "metadata": {},
   "outputs": [],
   "source": [
    "t1 = nr.rand(5,3)\n",
    "t2 = nr.rand(2,3)"
   ]
  },
  {
   "cell_type": "code",
   "execution_count": 96,
   "metadata": {},
   "outputs": [
    {
     "data": {
      "text/plain": [
       "(5, 3)"
      ]
     },
     "execution_count": 96,
     "metadata": {},
     "output_type": "execute_result"
    }
   ],
   "source": [
    "t1.shape"
   ]
  },
  {
   "cell_type": "code",
   "execution_count": 99,
   "metadata": {},
   "outputs": [
    {
     "data": {
      "text/plain": [
       "(5, 5)"
      ]
     },
     "execution_count": 99,
     "metadata": {},
     "output_type": "execute_result"
    }
   ],
   "source": [
    "hmm.shape"
   ]
  },
  {
   "cell_type": "code",
   "execution_count": 98,
   "metadata": {},
   "outputs": [],
   "source": [
    "hmm = np.cov(t1)"
   ]
  },
  {
   "cell_type": "code",
   "execution_count": 69,
   "metadata": {},
   "outputs": [],
   "source": [
    "dist = np.zeros((5,2))"
   ]
  },
  {
   "cell_type": "code",
   "execution_count": 70,
   "metadata": {},
   "outputs": [
    {
     "data": {
      "text/plain": [
       "array([[0., 0.],\n",
       "       [0., 0.],\n",
       "       [0., 0.],\n",
       "       [0., 0.],\n",
       "       [0., 0.]])"
      ]
     },
     "execution_count": 70,
     "metadata": {},
     "output_type": "execute_result"
    }
   ],
   "source": [
    "dist"
   ]
  },
  {
   "cell_type": "code",
   "execution_count": 61,
   "metadata": {},
   "outputs": [],
   "source": [
    "for i in range(2):\n",
    "    dist[i] = np.linalg.norm(t1 - t2[i],axis=1)"
   ]
  },
  {
   "cell_type": "code",
   "execution_count": 82,
   "metadata": {},
   "outputs": [],
   "source": [
    "dist[:,0] = np.linalg.norm(t1 - t2[0],axis=1)\n",
    "dist[:,1] = np.linalg.norm(t1 - t2[1],axis=1)\n",
    "hmm = np.argmin(dist,axis=1)"
   ]
  },
  {
   "cell_type": "code",
   "execution_count": 86,
   "metadata": {},
   "outputs": [
    {
     "data": {
      "text/plain": [
       "(array([1, 2, 3]),)"
      ]
     },
     "execution_count": 86,
     "metadata": {},
     "output_type": "execute_result"
    }
   ],
   "source": [
    "np.where(hmm==0)"
   ]
  },
  {
   "cell_type": "code",
   "execution_count": 88,
   "metadata": {},
   "outputs": [
    {
     "data": {
      "text/plain": [
       "array([0.36028801, 0.55901113, 0.77288412])"
      ]
     },
     "execution_count": 88,
     "metadata": {},
     "output_type": "execute_result"
    }
   ],
   "source": [
    "t1[hmm == 0].mean(axis=1)"
   ]
  },
  {
   "cell_type": "code",
   "execution_count": 94,
   "metadata": {},
   "outputs": [
    {
     "data": {
      "text/plain": [
       "array([[0.84289622, 0.76949306],\n",
       "       [0.50452201, 0.51813195],\n",
       "       [0.49981997, 0.96867419],\n",
       "       [0.51389211, 0.91789746],\n",
       "       [0.75026676, 0.36850721]])"
      ]
     },
     "execution_count": 94,
     "metadata": {},
     "output_type": "execute_result"
    }
   ],
   "source": [
    "dist"
   ]
  },
  {
   "cell_type": "code",
   "execution_count": 93,
   "metadata": {},
   "outputs": [
    {
     "data": {
      "text/plain": [
       "array([0.84289622, 0.50452201, 0.49981997, 0.51389211, 0.75026676])"
      ]
     },
     "execution_count": 93,
     "metadata": {},
     "output_type": "execute_result"
    }
   ],
   "source": [
    "np.sqrt(np.square(t1 - t2[0]).sum(axis=1))"
   ]
  },
  {
   "cell_type": "code",
   "execution_count": 20,
   "metadata": {},
   "outputs": [
    {
     "data": {
      "text/plain": [
       "array([[0.        ],\n",
       "       [1.70736633],\n",
       "       [1.31328192],\n",
       "       [0.98277899],\n",
       "       [1.35942424],\n",
       "       [1.14861361],\n",
       "       [1.11491718],\n",
       "       [1.04960183],\n",
       "       [1.20579297],\n",
       "       [1.07435252],\n",
       "       [1.19280307],\n",
       "       [0.98202243],\n",
       "       [1.34355817],\n",
       "       [1.34380484],\n",
       "       [1.09653094],\n",
       "       [0.99673973],\n",
       "       [1.56906858],\n",
       "       [0.90166941],\n",
       "       [1.17007643],\n",
       "       [1.16162923],\n",
       "       [1.43552335],\n",
       "       [0.92670775],\n",
       "       [1.28685216],\n",
       "       [1.17973593],\n",
       "       [1.24729592],\n",
       "       [1.202749  ],\n",
       "       [1.22231426],\n",
       "       [1.35286656],\n",
       "       [1.52617717],\n",
       "       [1.27878347]])"
      ]
     },
     "execution_count": 20,
     "metadata": {},
     "output_type": "execute_result"
    }
   ],
   "source": [
    "np.linalg.norm(t1 - t1[0],axis=1).reshape(-1,1)"
   ]
  },
  {
   "cell_type": "code",
   "execution_count": 30,
   "metadata": {},
   "outputs": [
    {
     "data": {
      "text/plain": [
       "array([[ 0.        ,  0.        ,  0.        ],\n",
       "       [ 0.38495532, -0.74057591, -0.02251249],\n",
       "       [ 0.69029364,  0.11540341, -0.31545204],\n",
       "       [ 0.21031743, -0.36017386, -0.15417253],\n",
       "       [ 0.10263606, -0.64067664, -0.44803921]])"
      ]
     },
     "execution_count": 30,
     "metadata": {},
     "output_type": "execute_result"
    }
   ],
   "source": [
    "t1-t1[0]"
   ]
  },
  {
   "cell_type": "code",
   "execution_count": 26,
   "metadata": {},
   "outputs": [
    {
     "ename": "ValueError",
     "evalue": "operands could not be broadcast together with shapes (30,10,1) (1,30,10) ",
     "output_type": "error",
     "traceback": [
      "\u001b[0;31m---------------------------------------------------------------------------\u001b[0m",
      "\u001b[0;31mValueError\u001b[0m                                Traceback (most recent call last)",
      "\u001b[0;32m<ipython-input-26-a2433e58c106>\u001b[0m in \u001b[0;36m<module>\u001b[0;34m\u001b[0m\n\u001b[0;32m----> 1\u001b[0;31m \u001b[0mt1\u001b[0m\u001b[0;34m[\u001b[0m\u001b[0;34m...\u001b[0m\u001b[0;34m,\u001b[0m \u001b[0mnp\u001b[0m\u001b[0;34m.\u001b[0m\u001b[0mnewaxis\u001b[0m\u001b[0;34m]\u001b[0m \u001b[0;34m-\u001b[0m \u001b[0mt1\u001b[0m\u001b[0;34m[\u001b[0m\u001b[0mnp\u001b[0m\u001b[0;34m.\u001b[0m\u001b[0mnewaxis\u001b[0m\u001b[0;34m,\u001b[0m \u001b[0;34m...\u001b[0m\u001b[0;34m]\u001b[0m\u001b[0;34m\u001b[0m\u001b[0;34m\u001b[0m\u001b[0m\n\u001b[0m",
      "\u001b[0;31mValueError\u001b[0m: operands could not be broadcast together with shapes (30,10,1) (1,30,10) "
     ]
    }
   ],
   "source": [
    "t1[..., np.newaxis] - t1[np.newaxis, ...] "
   ]
  },
  {
   "cell_type": "code",
   "execution_count": 43,
   "metadata": {},
   "outputs": [],
   "source": []
  },
  {
   "cell_type": "code",
   "execution_count": 42,
   "metadata": {},
   "outputs": [
    {
     "data": {
      "text/plain": [
       "array([0.        , 0.83495515, 0.76768043, 0.44466594, 0.78850482])"
      ]
     },
     "execution_count": 42,
     "metadata": {},
     "output_type": "execute_result"
    }
   ],
   "source": [
    "np.linalg.norm(t1 - t1[0],axis=1)"
   ]
  },
  {
   "cell_type": "code",
   "execution_count": 49,
   "metadata": {},
   "outputs": [
    {
     "data": {
      "text/plain": [
       "array([[0.        , 0.83495515, 0.76768043, 0.44466594, 0.78850482],\n",
       "       [0.83495515, 0.        , 0.95485374, 0.43879207, 0.52034318],\n",
       "       [0.76768043, 0.95485374, 0.        , 0.69466681, 0.96673566],\n",
       "       [0.44466594, 0.43879207, 0.69466681, 0.        , 0.42027933],\n",
       "       [0.78850482, 0.52034318, 0.96673566, 0.42027933, 0.        ]])"
      ]
     },
     "execution_count": 49,
     "metadata": {},
     "output_type": "execute_result"
    }
   ],
   "source": [
    "dist["
   ]
  },
  {
   "cell_type": "code",
   "execution_count": 6,
   "metadata": {},
   "outputs": [],
   "source": [
    "hh = np.ones(3)\n",
    "hh[:]=2"
   ]
  },
  {
   "cell_type": "code",
   "execution_count": 7,
   "metadata": {},
   "outputs": [
    {
     "data": {
      "text/plain": [
       "array([2., 2., 2.])"
      ]
     },
     "execution_count": 7,
     "metadata": {},
     "output_type": "execute_result"
    }
   ],
   "source": [
    "hh\n",
    "hh"
   ]
  },
  {
   "cell_type": "code",
   "execution_count": 10,
   "metadata": {},
   "outputs": [],
   "source": [
    "jk = nr.uniform(size=(2,3))"
   ]
  },
  {
   "cell_type": "code",
   "execution_count": 13,
   "metadata": {},
   "outputs": [],
   "source": [
    "jk[-1,:] =0"
   ]
  },
  {
   "cell_type": "code",
   "execution_count": 14,
   "metadata": {},
   "outputs": [
    {
     "data": {
      "text/plain": [
       "array([[0.89274348, 0.93979327, 0.55417182],\n",
       "       [0.        , 0.        , 0.        ]])"
      ]
     },
     "execution_count": 14,
     "metadata": {},
     "output_type": "execute_result"
    }
   ],
   "source": [
    "jk"
   ]
  },
  {
   "cell_type": "code",
   "execution_count": 15,
   "metadata": {},
   "outputs": [
    {
     "data": {
      "text/plain": [
       "3"
      ]
     },
     "execution_count": 15,
     "metadata": {},
     "output_type": "execute_result"
    }
   ],
   "source": [
    "max([1,2,3])"
   ]
  },
  {
   "cell_type": "code",
   "execution_count": 149,
   "metadata": {},
   "outputs": [],
   "source": [
    "class learner():\n",
    "\n",
    "    def __init__(self,run=3000,ph=0.25,gamma=1):\n",
    "        self.end_state= 100\n",
    "        self.ph = ph \n",
    "        self.runs = run\n",
    "        self.gamma = gamma\n",
    "        #self.value_s = nr.uniform(size=(self.end_state+1,self.runs))\n",
    "        self.value_s = np.zeros((self.end_state+1,self.runs))\n",
    "        self.value_s[0,:] =0 \n",
    "        self.value_s[-1,:] =0\n",
    "        self.reward = np.zeros(self.end_state+1)\n",
    "        self.reward[self.end_state] =1\n",
    "\n",
    "    def random_policy(self,st):\n",
    "        cr = np.ones(min(st+1,self.end_state-st+1))\n",
    "        cr[:] = 1/(len(cr)*1.0)\n",
    "        return cr\n",
    "    \n",
    "    def value_iteration(self):\n",
    "        delta = 0\n",
    "        value_s = np.zeros((self.end_state+1,self.runs))\n",
    " \n",
    "        for rn in range(self.runs):\n",
    "            for st in range(1,self.end_state-1):\n",
    "                old_v = self.value_s[st,rn]\n",
    "                rar = []\n",
    "                for act in range(1,min(st,100-st)+1):\n",
    "                    minus = (1-self.ph)*(self.reward[st-act] +self.gamma*self.value_s[st-act,rn])\n",
    "                    plus = (self.ph)*(self.reward[st+act] +self.gamma*self.value_s[st+act,rn])\n",
    "                    rar.append(minus+plus)\n",
    "                curr_v = max(rar)\n",
    "                delta_last = delta\n",
    "#                 print(delta_last,abs(old_v-curr_v))\n",
    "                delta = max(delta_last,abs(old_v-curr_v))\n",
    "                self.value_s[st,rn] = curr_v\n",
    "            \n",
    "        return delta,self.value_s\n",
    "    \n",
    "    \n",
    "    def optimal_v(self):\n",
    "        pi=np.zeros(self.end_state)\n",
    "        for st in range(1,self.end_state-1):\n",
    "            rar=[]\n",
    "            hah = min(st,100-st)\n",
    "            for act in range(1,hah+1):\n",
    "                minus = (1-self.ph)*(self.reward[st-act] +self.gamma*self.value_s[st-act,self.runs-1])\n",
    "                plus = (self.ph)*(self.reward[st+act] +self.gamma*self.value_s[st+act,self.runs-1])\n",
    "                rar.append(minus+plus)\n",
    "            pi[st] = np.argmax(rar)+1\n",
    "        return pi\n",
    "    \n",
    "#     def value_iteration(self):\n",
    "#         delta = [0]\n",
    "#         value_s = nr.uniform(size=self.end_state+1)\n",
    "# #        value_s = np.ones(self.end_state+1)\n",
    "#         value_s[0] =0 \n",
    "#         value_s[-1] =0 \n",
    "#         for rn in range(1,self.runs):\n",
    "#             for st in range(1,self.end_state-1):\n",
    "#                 old_v = value_s[st]\n",
    "#                 pias = self.random_policy(st)\n",
    "#                 curr_v =0\n",
    "#                 reward_minus = 0\n",
    "#                 reward_plus = 0\n",
    "#                 rar = []\n",
    "#                 for act in range(len(pias)):\n",
    "#                     reward_minus =  1 if st-act >= self.end_state else 0\n",
    "#                     reward_plus =  1 if st+act >= self.end_state else 0\n",
    "#                     rar.append((self.ph*(reward_minus +self.gamma*value_s[st-act]) \\\n",
    "#                                    + (1-self.ph)*(reward_plus+self.gamma*value_s[st+act])))\n",
    "#                 curr_v = max(rar)\n",
    "#                 delta_last = delta[-1]\n",
    "#                 print(delta_last,abs(old_v-curr_v))\n",
    "#                 delta.append(max(delta_last,abs(old_v-curr_v)))\n",
    "#                 value_s[st] = curr_v\n",
    "            \n",
    "#         return delta,value_s\n",
    "        \n",
    "def value_iteration():\n",
    "    qt = learner()\n",
    "    yak =qt.value_iteration()\n",
    "    yuy = qt.optimal_v()\n",
    "    return yak,yuy\n",
    "\n",
    "tat = value_iteration()\n"
   ]
  },
  {
   "cell_type": "code",
   "execution_count": 140,
   "metadata": {},
   "outputs": [
    {
     "data": {
      "text/plain": [
       "[<matplotlib.lines.Line2D at 0x1257f2080>]"
      ]
     },
     "execution_count": 140,
     "metadata": {},
     "output_type": "execute_result"
    },
    {
     "data": {
      "image/png": "[encoded data removed]",
      "text/plain": [
       "<Figure size 432x288 with 1 Axes>"
      ]
     },
     "metadata": {
      "needs_background": "light"
     },
     "output_type": "display_data"
    }
   ],
   "source": [
    "plt.plot(tat[0][0],'r-')\n"
   ]
  },
  {
   "cell_type": "code",
   "execution_count": 150,
   "metadata": {},
   "outputs": [
    {
     "data": {
      "text/plain": [
       "[<matplotlib.lines.Line2D at 0x1261ab278>]"
      ]
     },
     "execution_count": 150,
     "metadata": {},
     "output_type": "execute_result"
    },
    {
     "data": {
      "image/png": "[encoded data removed]",
      "text/plain": [
       "<Figure size 432x288 with 1 Axes>"
      ]
     },
     "metadata": {
      "needs_background": "light"
     },
     "output_type": "display_data"
    }
   ],
   "source": [
    "plt.plot(tat[1],'r*')"
   ]
  },
  {
   "cell_type": "code",
   "execution_count": 151,
   "metadata": {},
   "outputs": [
    {
     "data": {
      "text/plain": [
       "<BarContainer object of 100 artists>"
      ]
     },
     "execution_count": 151,
     "metadata": {},
     "output_type": "execute_result"
    },
    {
     "data": {
      "image/png": "[encoded data removed]",
      "text/plain": [
       "<Figure size 432x288 with 1 Axes>"
      ]
     },
     "metadata": {
      "needs_background": "light"
     },
     "output_type": "display_data"
    }
   ],
   "source": [
    "plt.bar(range(100), tat[1], align='center', alpha=0.5)"
   ]
  },
  {
   "cell_type": "code",
   "execution_count": 137,
   "metadata": {},
   "outputs": [
    {
     "data": {
      "text/plain": [
       "0.9222400000000001"
      ]
     },
     "execution_count": 137,
     "metadata": {},
     "output_type": "execute_result"
    }
   ],
   "source": [
    "tat[0][0]"
   ]
  },
  {
   "cell_type": "code",
   "execution_count": 152,
   "metadata": {},
   "outputs": [
    {
     "data": {
      "text/plain": [
       "[<matplotlib.lines.Line2D at 0x125195518>]"
      ]
     },
     "execution_count": 152,
     "metadata": {},
     "output_type": "execute_result"
    },
    {
     "data": {
      "image/png": "[encoded data removed]",
      "text/plain": [
       "<Figure size 432x288 with 1 Axes>"
      ]
     },
     "metadata": {
      "needs_background": "light"
     },
     "output_type": "display_data"
    }
   ],
   "source": [
    "plt.plot(tat[0][1][:99,2999],'r-')"
   ]
  },
  {
   "cell_type": "code",
   "execution_count": 95,
   "metadata": {},
   "outputs": [
    {
     "name": "stderr",
     "output_type": "stream",
     "text": [
      "/usr/local/lib/python3.6/site-packages/ipykernel_launcher.py:95: RuntimeWarning: invalid value encountered in true_divide\n"
     ]
    },
    {
     "data": {
      "text/plain": [
       "[<matplotlib.lines.Line2D at 0x11a9686a0>]"
      ]
     },
     "execution_count": 95,
     "metadata": {},
     "output_type": "execute_result"
    },
    {
     "data": {
      "image/png": "[encoded data removed]",
      "text/plain": [
       "<Figure size 432x288 with 1 Axes>"
      ]
     },
     "metadata": {
      "needs_background": "light"
     },
     "output_type": "display_data"
    }
   ],
   "source": [
    "class learner():\n",
    "\n",
    "    def __init__(self,run=1000,capital=300,ph=0.4,gamma=0.3):\n",
    "        self.capital = capital\n",
    "        self.max_state = 200\n",
    "        self.end_state= 100\n",
    "        self.ph = ph \n",
    "        self.runs = run\n",
    "        self.gamma = gamma\n",
    "        self.transition_matrix = np.zeros((self.max_state,self.max_state))\n",
    "        self.value_func = np.zeros((self.max_state,self.max_state))\n",
    "        self.q_func= np.zeros(self.max_state)\n",
    "        self.round_action = np.zeros(2*min(self.capital,self.max_state-self.capital))\n",
    "        self.reward_list = np.zeros(run)\n",
    "        self.chosen_action = np.zeros(run)\n",
    "        self.chosen_state = np.zeros(run)\n",
    "        self.chosen_state[0]\n",
    "        self.action_list = range(0,min(self.capital,self.max_state-self.capital))\n",
    "        self.chosen_state[0] = self.capital\n",
    "        \n",
    "        self.value_s = np.zeros(self.max_state)\n",
    "        \n",
    "        self.state_reward = np.zeros(self.capital)\n",
    "        self.state_num_rounds = np.zeros(self.capital)\n",
    "        return\n",
    "\n",
    "    def update_q(self,action,current_reward,current_round):\n",
    "        current_v = q_func[action]\n",
    "        action_n = self.round_action[action]    \n",
    "        reward_sample[action,int(action_n)-1] = current_reward\n",
    "        reward_list[current_round] = current_reward\n",
    "        q_func[action] += (current_reward-current_v)/(action_n*1.0)\n",
    "        return\n",
    "    \n",
    "    def update_v(self,state,current_reward):\n",
    "        self.state_reward[state] += current_reward\n",
    "        self.state_num_rounds[state] += 1\n",
    "\n",
    "        return\n",
    "\n",
    "    def get_transition_matrix(self):\n",
    "        return self.transition_matrix\n",
    "    \n",
    "    def get_v(self):\n",
    "        return self.state_reward, self.state_num_rounds\n",
    "    \n",
    "    def random_policy(st):\n",
    "        cr = np.ones(st)\n",
    "        cr[:] = 1/(st*1.0)\n",
    "        return cr\n",
    "    \n",
    "    def value_iteration(self):\n",
    "        delta = [0]\n",
    "        value_s = np.zeros((self.end_state,runs))\n",
    "        for rn in range(1,self.runs):\n",
    "            for st in range(self.end_state):\n",
    "                old_v = value_s[st,rn-1]\n",
    "                pias = self.random_policy(st)\n",
    "                curr_v =0 \n",
    "                for act in range(st):\n",
    "                    reward_minus =  1 if st-act >= self.end_state else 0\n",
    "                    reward_plus =  1 if st+act >= self.end_state else 0\n",
    "                    curr_v =+ pias*(self.ph*(reward_minus +self.gamma*value_s[st-act,rn-1]) \\\n",
    "                                    + (1-self.ph)*(reward_plus+self.gamma*value_s[st+act,rn-1]))\n",
    "        \n",
    "                delta.append(np.max(delta[-1],abs(curr_v - old_v)))\n",
    "                value_s[st,rn] = curr_v\n",
    "            \n",
    "        return delta,value_s\n",
    "    \n",
    "    \n",
    "    def choose_action_random(self,current_round, eps):\n",
    "        rn = nr.binomial(1,eps)\n",
    "        pp = nr.choice(self.action_list)\n",
    "        if rn > 0: \n",
    "            \n",
    "            i = int(self.chosen_state[current_round-1])\n",
    "            j = self.max_state if int(self.chosen_state[current_round-1]+pp) > self.max_state else int(self.chosen_state[current_round-1]+pp)\n",
    "            #print(i,j,pp)\n",
    "            self.transition_matrix[i][j] += 1\n",
    "            \n",
    "            self.chosen_action[current_round] = pp\n",
    "            self.round_action[pp] += 1\n",
    "\n",
    "            self.chosen_state[current_round] = self.max_state if int(self.chosen_state[current_round-1]+pp) > self.max_state else int(self.chosen_state[current_round-1]+pp)\n",
    "            return self.chosen_state[current_round]\n",
    "        else:\n",
    "            i = int(self.chosen_state[current_round-1])\n",
    "            j = 0 if int(self.chosen_state[current_round-1]-pp) <0 else int(self.chosen_state[current_round-1]-pp)\n",
    "            #print(i,j,pp)\n",
    "            self.transition_matrix[i][j] += 1\n",
    "            self.chosen_action[current_round] = -pp\n",
    "            self.round_action[-pp] += 1\n",
    "\n",
    "            self.chosen_state[current_round] = 0 if int(self.chosen_state[current_round-1]-pp) <0 else int(self.chosen_state[current_round-1]-pp)\n",
    "            #print(self.chosen_state)\n",
    "            return self.chosen_state[current_round]\n",
    "        \n",
    "def value_iteration():\n",
    "    \n",
    "    state_reward = np.zeros(99)\n",
    "    state_num_rounds = np.zeros(99)\n",
    "    \n",
    "   \n",
    "    for st in range(1,99):\n",
    "        qt = learner(run,st)\n",
    "        \n",
    "        for rd in range(1,run):\n",
    "\n",
    "            a = qt.choose_action_random(rd,epsilon)\n",
    "            reward = 0 if a <100 else 1\n",
    "            state_reward[st] += reward\n",
    "            state_num_rounds[st] += 1\n",
    "            \n",
    "            if a >99 or a < 1:\n",
    "                #print(qt.get_transition_matrix())\n",
    "                break\n",
    "\n",
    "        #print(qt.get_transition_matrix())\n",
    "    return state_reward, state_num_rounds        \n",
    "    \n",
    "def epsilon_greedy_agent(epsilon = 0.7,run=10):\n",
    "    \n",
    "    state_reward = np.zeros(99)\n",
    "    state_num_rounds = np.zeros(99)\n",
    "    \n",
    "   \n",
    "    for st in range(1,99):\n",
    "        qt = learner(run,st)\n",
    "        \n",
    "        for rd in range(1,run):\n",
    "\n",
    "            a = qt.choose_action_random(rd,epsilon)\n",
    "            reward = 0 if a <100 else 1\n",
    "            state_reward[st] += reward\n",
    "            state_num_rounds[st] += 1\n",
    "            \n",
    "            if a >99 or a < 1:\n",
    "                #print(qt.get_transition_matrix())\n",
    "                break\n",
    "\n",
    "        #print(qt.get_transition_matrix())\n",
    "    return state_reward, state_num_rounds\n",
    "\n",
    "x,y = epsilon_greedy_agent(epsilon = 0.7,run=1000)\n",
    "plt.plot((x/y)[1:],'ro')"
   ]
  },
  {
   "cell_type": "code",
   "execution_count": 94,
   "metadata": {},
   "outputs": [
    {
     "data": {
      "text/plain": [
       "array([0., 0., 0., 0., 0., 0., 0., 0., 0., 0., 0., 0., 0., 0., 0., 0., 0.,\n",
       "       0., 0., 0., 0., 0., 0., 0., 0., 0., 1., 0., 0., 0., 1., 0., 0., 1.,\n",
       "       0., 0., 0., 0., 0., 0., 0., 0., 0., 0., 0., 0., 0., 0., 0., 0., 0.,\n",
       "       0., 1., 0., 1., 0., 0., 1., 1., 0., 0., 0., 0., 1., 0., 1., 1., 0.,\n",
       "       0., 0., 1., 1., 0., 1., 0., 0., 0., 1., 0., 1., 0., 1., 1., 1., 1.,\n",
       "       1., 1., 1., 1., 1., 1., 0., 1., 1., 0., 1., 1., 0., 1.])"
      ]
     },
     "execution_count": 94,
     "metadata": {},
     "output_type": "execute_result"
    }
   ],
   "source": [
    "x"
   ]
  },
  {
   "cell_type": "code",
   "execution_count": 93,
   "metadata": {},
   "outputs": [
    {
     "data": {
      "text/plain": [
       "array([  0., 999.,   2.,   8.,   3.,   8.,   5.,   4.,   8.,  13.,   4.,\n",
       "         8.,   4.,   5.,  11.,  43.,  11.,   2.,  26.,  15.,   2.,   3.,\n",
       "        19.,  46.,  21.,   6.,  16.,   9.,  32.,  11.,  12.,   5.,  13.,\n",
       "         4.,   8.,   4.,   3.,   8.,   7.,   7.,   4.,   4.,  28.,  11.,\n",
       "         3.,  18.,   8.,   5.,   6.,   5.,   5.,   7.,   5.,  13.,  15.,\n",
       "         2.,   5.,   7.,   2.,   2.,   5.,   2.,   2.,   3.,   4.,   5.,\n",
       "         2.,   2.,   7.,   9.,   3.,   1.,   2.,   1.,   5.,   5.,   3.,\n",
       "         1.,   4.,   1.,   4.,   1.,   1.,   2.,   2.,   6.,   1.,   2.,\n",
       "         1.,   1.,   6.,   2.,   1.,   1.,   7.,   1.,   1.,   3.,   1.])"
      ]
     },
     "execution_count": 93,
     "metadata": {},
     "output_type": "execute_result"
    }
   ],
   "source": [
    "y"
   ]
  },
  {
   "cell_type": "code",
   "execution_count": 46,
   "metadata": {},
   "outputs": [],
   "source": [
    "np.set_printoptions(threshold=np.inf)"
   ]
  }
 ],
 "metadata": {
  "kernelspec": {
   "display_name": "tf_latest",
   "language": "python",
   "name": "tf_latest"
  },
  "language_info": {
   "codemirror_mode": {
    "name": "ipython",
    "version": 3
   },
   "file_extension": ".py",
   "mimetype": "text/x-python",
   "name": "python",
   "nbconvert_exporter": "python",
   "pygments_lexer": "ipython3",
   "version": "3.8.12"
  }
 },
 "nbformat": 4,
 "nbformat_minor": 2
}
