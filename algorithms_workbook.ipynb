{
 "cells": [
  {
   "cell_type": "code",
   "execution_count": null,
   "id": "43e03a85",
   "metadata": {},
   "outputs": [],
   "source": [
    "void merge_sort(item_type s[], int low, int high) { int middle; /* index of middle element */\n",
    "    if (low < high) {\n",
    "        middle = (low + high) / 2;\n",
    "        merge_sort(s, low, middle);\n",
    "        merge_sort(s, middle + 1, high);\n",
    "        merge(s, low, middle, high);\n",
    "    }\n",
    "}"
   ]
  },
  {
   "cell_type": "code",
   "execution_count": 1,
   "id": "8589cc63",
   "metadata": {},
   "outputs": [
    {
     "ename": "SyntaxError",
     "evalue": "invalid syntax (<ipython-input-1-ec171de29e68>, line 1)",
     "output_type": "error",
     "traceback": [
      "\u001b[0;36m  File \u001b[0;32m\"<ipython-input-1-ec171de29e68>\"\u001b[0;36m, line \u001b[0;32m1\u001b[0m\n\u001b[0;31m    def merge_sort(item_type, low, high){\u001b[0m\n\u001b[0m                                        ^\u001b[0m\n\u001b[0;31mSyntaxError\u001b[0m\u001b[0;31m:\u001b[0m invalid syntax\n"
     ]
    }
   ],
   "source": [
    "def merge_sort(item_type, low, high){\n",
    "    if (low < high){\n",
    "        middle = (low+high)/2\n",
    "        merge_sort(s,low,middle)\n",
    "        merge_sort(s, middle+1,high)\n",
    "        merge(s,low,middle, high)\n",
    "    }\n",
    "    \n",
    "}"
   ]
  },
  {
   "cell_type": "code",
   "execution_count": null,
   "id": "cbe9e40c",
   "metadata": {},
   "outputs": [],
   "source": []
  }
 ],
 "metadata": {
  "kernelspec": {
   "display_name": "Python 3",
   "language": "python",
   "name": "python3"
  },
  "language_info": {
   "codemirror_mode": {
    "name": "ipython",
    "version": 3
   },
   "file_extension": ".py",
   "mimetype": "text/x-python",
   "name": "python",
   "nbconvert_exporter": "python",
   "pygments_lexer": "ipython3",
   "version": "3.7.10"
  }
 },
 "nbformat": 4,
 "nbformat_minor": 5
}
