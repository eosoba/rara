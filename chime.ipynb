{
 "cells": [
  {
   "cell_type": "markdown",
   "id": "ee2f48d6",
   "metadata": {},
   "source": [
    "# Business questions\n",
    "- Who's most likely to open a credit account?\n",
    "- what kind of transactions are those with credit cards doing?\n"
   ]
  },
  {
   "cell_type": "code",
   "execution_count": 2,
   "id": "77a325ea",
   "metadata": {},
   "outputs": [],
   "source": [
    "import pandas as pd\n",
    "import numpy as np\n",
    "import  matplotlib.pyplot  as plt"
   ]
  },
  {
   "cell_type": "code",
   "execution_count": 324,
   "id": "bd300384",
   "metadata": {},
   "outputs": [
    {
     "data": {
      "text/html": [
       "<div>\n",
       "<style scoped>\n",
       "    .dataframe tbody tr th:only-of-type {\n",
       "        vertical-align: middle;\n",
       "    }\n",
       "\n",
       "    .dataframe tbody tr th {\n",
       "        vertical-align: top;\n",
       "    }\n",
       "\n",
       "    .dataframe thead th {\n",
       "        text-align: right;\n",
       "    }\n",
       "</style>\n",
       "<table border=\"1\" class=\"dataframe\">\n",
       "  <thead>\n",
       "    <tr style=\"text-align: right;\">\n",
       "      <th></th>\n",
       "      <th>ID</th>\n",
       "      <th>SPENDING_ACCOUNT_OPENED_DATE</th>\n",
       "      <th>CREDIT_OPENED_DATE</th>\n",
       "      <th>HAS_SAVINGS_ACCOUNT</th>\n",
       "      <th>TRAFFIC_SOURCE</th>\n",
       "      <th>KYC_SCORE</th>\n",
       "      <th>DISPUTE_CLAIMS_COUNT</th>\n",
       "    </tr>\n",
       "  </thead>\n",
       "  <tbody>\n",
       "    <tr>\n",
       "      <th>0</th>\n",
       "      <td>3</td>\n",
       "      <td>2019-04-09</td>\n",
       "      <td>NaN</td>\n",
       "      <td>1</td>\n",
       "      <td>paid</td>\n",
       "      <td>0.01</td>\n",
       "      <td>0</td>\n",
       "    </tr>\n",
       "    <tr>\n",
       "      <th>1</th>\n",
       "      <td>183</td>\n",
       "      <td>2019-10-21</td>\n",
       "      <td>2020-09-09</td>\n",
       "      <td>1</td>\n",
       "      <td>organic</td>\n",
       "      <td>0.01</td>\n",
       "      <td>0</td>\n",
       "    </tr>\n",
       "    <tr>\n",
       "      <th>2</th>\n",
       "      <td>1666</td>\n",
       "      <td>2020-05-23</td>\n",
       "      <td>2020-09-05</td>\n",
       "      <td>1</td>\n",
       "      <td>paid</td>\n",
       "      <td>0.01</td>\n",
       "      <td>0</td>\n",
       "    </tr>\n",
       "    <tr>\n",
       "      <th>3</th>\n",
       "      <td>1914</td>\n",
       "      <td>2020-07-30</td>\n",
       "      <td>NaN</td>\n",
       "      <td>1</td>\n",
       "      <td>organic</td>\n",
       "      <td>0.00</td>\n",
       "      <td>0</td>\n",
       "    </tr>\n",
       "    <tr>\n",
       "      <th>4</th>\n",
       "      <td>2863</td>\n",
       "      <td>2019-09-17</td>\n",
       "      <td>NaN</td>\n",
       "      <td>0</td>\n",
       "      <td>paid</td>\n",
       "      <td>0.03</td>\n",
       "      <td>0</td>\n",
       "    </tr>\n",
       "  </tbody>\n",
       "</table>\n",
       "</div>"
      ],
      "text/plain": [
       "     ID SPENDING_ACCOUNT_OPENED_DATE CREDIT_OPENED_DATE  HAS_SAVINGS_ACCOUNT  \\\n",
       "0     3                   2019-04-09                NaN                    1   \n",
       "1   183                   2019-10-21         2020-09-09                    1   \n",
       "2  1666                   2020-05-23         2020-09-05                    1   \n",
       "3  1914                   2020-07-30                NaN                    1   \n",
       "4  2863                   2019-09-17                NaN                    0   \n",
       "\n",
       "  TRAFFIC_SOURCE  KYC_SCORE  DISPUTE_CLAIMS_COUNT  \n",
       "0           paid       0.01                     0  \n",
       "1        organic       0.01                     0  \n",
       "2           paid       0.01                     0  \n",
       "3        organic       0.00                     0  \n",
       "4           paid       0.03                     0  "
      ]
     },
     "execution_count": 324,
     "metadata": {},
     "output_type": "execute_result"
    }
   ],
   "source": [
    "users = pd.read_csv('chime_ds_interview_data/users.csv')\n",
    "users.head()\n"
   ]
  },
  {
   "cell_type": "markdown",
   "id": "56d1751a",
   "metadata": {},
   "source": [
    "### check nulls"
   ]
  },
  {
   "cell_type": "code",
   "execution_count": 20,
   "id": "2ce42dfc",
   "metadata": {},
   "outputs": [
    {
     "name": "stdout",
     "output_type": "stream",
     "text": [
      "False    186\n",
      "Name: ID, dtype: int64\n",
      "False    186\n",
      "Name: SPENDING_ACCOUNT_OPENED_DATE, dtype: int64\n",
      "False    98\n",
      "True     88\n",
      "Name: CREDIT_OPENED_DATE, dtype: int64\n",
      "False    186\n",
      "Name: HAS_SAVINGS_ACCOUNT, dtype: int64\n",
      "False    184\n",
      "True       2\n",
      "Name: TRAFFIC_SOURCE, dtype: int64\n",
      "False    156\n",
      "True      30\n",
      "Name: KYC_SCORE, dtype: int64\n",
      "False    186\n",
      "Name: DISPUTE_CLAIMS_COUNT, dtype: int64\n"
     ]
    }
   ],
   "source": [
    "for a in users.columns.tolist():\n",
    "    print(users[a].isnull().value_counts())"
   ]
  },
  {
   "cell_type": "code",
   "execution_count": 328,
   "id": "9ca8ec0e",
   "metadata": {},
   "outputs": [],
   "source": [
    "# extract time information\n",
    "users['SPENDING_ACCOUNT_OPENED_DATE'] = pd.DatetimeIndex(users['SPENDING_ACCOUNT_OPENED_DATE'])\n",
    "users['CREDIT_OPENED_DATE'] = pd.DatetimeIndex(users['CREDIT_OPENED_DATE'])\n",
    "users['CREDIT_OPENED_DATE_month'] = pd.DatetimeIndex(users['CREDIT_OPENED_DATE']).month\n",
    "users['open_credit'] = users['CREDIT_OPENED_DATE'].notna()"
   ]
  },
  {
   "cell_type": "code",
   "execution_count": 198,
   "id": "8d257ed6",
   "metadata": {},
   "outputs": [
    {
     "data": {
      "text/plain": [
       "(Timestamp('2016-01-19 00:00:00'), Timestamp('2020-08-30 00:00:00'))"
      ]
     },
     "execution_count": 198,
     "metadata": {},
     "output_type": "execute_result"
    }
   ],
   "source": [
    "users['SPENDING_ACCOUNT_OPENED_DATE'].min(),users['SPENDING_ACCOUNT_OPENED_DATE'].max()"
   ]
  },
  {
   "cell_type": "code",
   "execution_count": 39,
   "id": "019dfc04",
   "metadata": {},
   "outputs": [
    {
     "data": {
      "text/plain": [
       "<AxesSubplot:xlabel='CREDIT_OPENED_DATE_month'>"
      ]
     },
     "execution_count": 39,
     "metadata": {},
     "output_type": "execute_result"
    },
    {
     "data": {
      "image/png": "[encoded data removed]",
      "text/plain": [
       "<Figure size 432x288 with 1 Axes>"
      ]
     },
     "metadata": {
      "needs_background": "light"
     },
     "output_type": "display_data"
    }
   ],
   "source": [
    "# most accounts were opened in august\n",
    "users.groupby(['CREDIT_OPENED_DATE_month']).size().plot(kind = 'bar')"
   ]
  },
  {
   "cell_type": "code",
   "execution_count": 10,
   "id": "7f50fd19",
   "metadata": {},
   "outputs": [
    {
     "data": {
      "text/plain": [
       "(Timestamp('2020-07-23 00:00:00'), Timestamp('2020-10-11 00:00:00'))"
      ]
     },
     "execution_count": 10,
     "metadata": {},
     "output_type": "execute_result"
    }
   ],
   "source": [
    "# time window\n",
    "users['CREDIT_OPENED_DATE'].min(),users['CREDIT_OPENED_DATE'].max()"
   ]
  },
  {
   "cell_type": "code",
   "execution_count": 118,
   "id": "48cc6dfc",
   "metadata": {},
   "outputs": [
    {
     "data": {
      "text/html": [
       "<div>\n",
       "<style scoped>\n",
       "    .dataframe tbody tr th:only-of-type {\n",
       "        vertical-align: middle;\n",
       "    }\n",
       "\n",
       "    .dataframe tbody tr th {\n",
       "        vertical-align: top;\n",
       "    }\n",
       "\n",
       "    .dataframe thead th {\n",
       "        text-align: right;\n",
       "    }\n",
       "</style>\n",
       "<table border=\"1\" class=\"dataframe\">\n",
       "  <thead>\n",
       "    <tr style=\"text-align: right;\">\n",
       "      <th></th>\n",
       "      <th>count</th>\n",
       "      <th>mean</th>\n",
       "      <th>std</th>\n",
       "      <th>min</th>\n",
       "      <th>25%</th>\n",
       "      <th>50%</th>\n",
       "      <th>75%</th>\n",
       "      <th>max</th>\n",
       "    </tr>\n",
       "    <tr>\n",
       "      <th>open_credit</th>\n",
       "      <th></th>\n",
       "      <th></th>\n",
       "      <th></th>\n",
       "      <th></th>\n",
       "      <th></th>\n",
       "      <th></th>\n",
       "      <th></th>\n",
       "      <th></th>\n",
       "    </tr>\n",
       "  </thead>\n",
       "  <tbody>\n",
       "    <tr>\n",
       "      <th>False</th>\n",
       "      <td>79.0</td>\n",
       "      <td>0.049873</td>\n",
       "      <td>0.062460</td>\n",
       "      <td>0.0</td>\n",
       "      <td>0.01</td>\n",
       "      <td>0.02</td>\n",
       "      <td>0.06</td>\n",
       "      <td>0.28</td>\n",
       "    </tr>\n",
       "    <tr>\n",
       "      <th>True</th>\n",
       "      <td>77.0</td>\n",
       "      <td>0.024286</td>\n",
       "      <td>0.021486</td>\n",
       "      <td>0.0</td>\n",
       "      <td>0.01</td>\n",
       "      <td>0.02</td>\n",
       "      <td>0.03</td>\n",
       "      <td>0.12</td>\n",
       "    </tr>\n",
       "  </tbody>\n",
       "</table>\n",
       "</div>"
      ],
      "text/plain": [
       "             count      mean       std  min   25%   50%   75%   max\n",
       "open_credit                                                        \n",
       "False         79.0  0.049873  0.062460  0.0  0.01  0.02  0.06  0.28\n",
       "True          77.0  0.024286  0.021486  0.0  0.01  0.02  0.03  0.12"
      ]
     },
     "execution_count": 118,
     "metadata": {},
     "output_type": "execute_result"
    }
   ],
   "source": [
    "# those with credit card opens seem to have lower kyc scores\n",
    "users.groupby(['open_credit'])['KYC_SCORE'].describe()"
   ]
  },
  {
   "cell_type": "code",
   "execution_count": 128,
   "id": "1a9a420d",
   "metadata": {},
   "outputs": [
    {
     "data": {
      "text/plain": [
       "open_credit\n",
       "False    AxesSubplot(0.125,0.125;0.775x0.755)\n",
       "True     AxesSubplot(0.125,0.125;0.775x0.755)\n",
       "Name: KYC_SCORE, dtype: object"
      ]
     },
     "execution_count": 128,
     "metadata": {},
     "output_type": "execute_result"
    },
    {
     "data": {
      "image/png": "[encoded data removed]",
      "text/plain": [
       "<Figure size 432x288 with 1 Axes>"
      ]
     },
     "metadata": {
      "needs_background": "light"
     },
     "output_type": "display_data"
    }
   ],
   "source": [
    "users.groupby(['open_credit'])['KYC_SCORE'].hist(legend = True)"
   ]
  },
  {
   "cell_type": "code",
   "execution_count": 43,
   "id": "3d403b5e",
   "metadata": {},
   "outputs": [
    {
     "data": {
      "text/plain": [
       "<AxesSubplot:xlabel='open_credit'>"
      ]
     },
     "execution_count": 43,
     "metadata": {},
     "output_type": "execute_result"
    },
    {
     "data": {
      "image/png": "[encoded data removed]",
      "text/plain": [
       "<Figure size 432x288 with 1 Axes>"
      ]
     },
     "metadata": {
      "needs_background": "light"
     },
     "output_type": "display_data"
    }
   ],
   "source": [
    "users.groupby(['open_credit','TRAFFIC_SOURCE']).size().unstack(level=1).plot.bar()"
   ]
  },
  {
   "cell_type": "code",
   "execution_count": 44,
   "id": "7260f432",
   "metadata": {},
   "outputs": [
    {
     "data": {
      "text/plain": [
       "<AxesSubplot:xlabel='open_credit'>"
      ]
     },
     "execution_count": 44,
     "metadata": {},
     "output_type": "execute_result"
    },
    {
     "data": {
      "image/png": "[encoded data removed]",
      "text/plain": [
       "<Figure size 432x288 with 1 Axes>"
      ]
     },
     "metadata": {
      "needs_background": "light"
     },
     "output_type": "display_data"
    }
   ],
   "source": [
    "# everyone with open credit has a savings accounts\n",
    "users.groupby(['open_credit','HAS_SAVINGS_ACCOUNT']).size().unstack(level=1).plot.bar()"
   ]
  },
  {
   "cell_type": "code",
   "execution_count": 347,
   "id": "9f1eff58",
   "metadata": {},
   "outputs": [
    {
     "data": {
      "text/plain": [
       "open_credit  DISPUTE_CLAIMS_COUNT\n",
       "False        0                       85\n",
       "             1                        3\n",
       "True         0                       95\n",
       "             1                        2\n",
       "             3                        1\n",
       "dtype: int64"
      ]
     },
     "execution_count": 347,
     "metadata": {},
     "output_type": "execute_result"
    }
   ],
   "source": [
    "\n",
    "users.groupby(['open_credit','DISPUTE_CLAIMS_COUNT']).size()"
   ]
  },
  {
   "cell_type": "markdown",
   "id": "c664ba18",
   "metadata": {},
   "source": [
    "# app events"
   ]
  },
  {
   "cell_type": "code",
   "execution_count": 32,
   "id": "7c814108",
   "metadata": {},
   "outputs": [
    {
     "name": "stdout",
     "output_type": "stream",
     "text": [
      "(19084, 4)\n"
     ]
    },
    {
     "data": {
      "text/html": [
       "<div>\n",
       "<style scoped>\n",
       "    .dataframe tbody tr th:only-of-type {\n",
       "        vertical-align: middle;\n",
       "    }\n",
       "\n",
       "    .dataframe tbody tr th {\n",
       "        vertical-align: top;\n",
       "    }\n",
       "\n",
       "    .dataframe thead th {\n",
       "        text-align: right;\n",
       "    }\n",
       "</style>\n",
       "<table border=\"1\" class=\"dataframe\">\n",
       "  <thead>\n",
       "    <tr style=\"text-align: right;\">\n",
       "      <th></th>\n",
       "      <th>ID</th>\n",
       "      <th>SCREEN</th>\n",
       "      <th>TIMESTAMP</th>\n",
       "      <th>app_month</th>\n",
       "    </tr>\n",
       "  </thead>\n",
       "  <tbody>\n",
       "    <tr>\n",
       "      <th>0</th>\n",
       "      <td>3</td>\n",
       "      <td>Home</td>\n",
       "      <td>2020-07-18 22:05:48</td>\n",
       "      <td>7</td>\n",
       "    </tr>\n",
       "    <tr>\n",
       "      <th>1</th>\n",
       "      <td>3</td>\n",
       "      <td>Home</td>\n",
       "      <td>2020-07-21 18:25:03</td>\n",
       "      <td>7</td>\n",
       "    </tr>\n",
       "    <tr>\n",
       "      <th>2</th>\n",
       "      <td>3</td>\n",
       "      <td>Home</td>\n",
       "      <td>2020-07-21 18:52:39</td>\n",
       "      <td>7</td>\n",
       "    </tr>\n",
       "    <tr>\n",
       "      <th>3</th>\n",
       "      <td>3</td>\n",
       "      <td>Home</td>\n",
       "      <td>2020-07-24 23:09:14</td>\n",
       "      <td>7</td>\n",
       "    </tr>\n",
       "    <tr>\n",
       "      <th>4</th>\n",
       "      <td>3</td>\n",
       "      <td>Settings</td>\n",
       "      <td>2020-07-26 06:43:19</td>\n",
       "      <td>7</td>\n",
       "    </tr>\n",
       "  </tbody>\n",
       "</table>\n",
       "</div>"
      ],
      "text/plain": [
       "   ID    SCREEN           TIMESTAMP  app_month\n",
       "0   3      Home 2020-07-18 22:05:48          7\n",
       "1   3      Home 2020-07-21 18:25:03          7\n",
       "2   3      Home 2020-07-21 18:52:39          7\n",
       "3   3      Home 2020-07-24 23:09:14          7\n",
       "4   3  Settings 2020-07-26 06:43:19          7"
      ]
     },
     "execution_count": 32,
     "metadata": {},
     "output_type": "execute_result"
    }
   ],
   "source": [
    "app_events = pd.read_csv('chime_ds_interview_data/app_events.csv')\n",
    "app_events['TIMESTAMP'] = pd.DatetimeIndex(app_events['TIMESTAMP'])\n",
    "app_events['app_month'] = pd.DatetimeIndex(app_events['TIMESTAMP']).month\n",
    "print(app_events.shape)\n",
    "app_events.head()\n"
   ]
  },
  {
   "cell_type": "code",
   "execution_count": 161,
   "id": "3a7abd47",
   "metadata": {},
   "outputs": [
    {
     "data": {
      "text/plain": [
       "(Timestamp('2020-06-07 05:27:14'), Timestamp('2020-10-19 05:36:27'))"
      ]
     },
     "execution_count": 161,
     "metadata": {},
     "output_type": "execute_result"
    }
   ],
   "source": [
    "app_events['TIMESTAMP'].min(),app_events['TIMESTAMP'].max()"
   ]
  },
  {
   "cell_type": "code",
   "execution_count": 31,
   "id": "359e23da",
   "metadata": {},
   "outputs": [
    {
     "data": {
      "text/plain": [
       "SCREEN\n",
       "Home        15705\n",
       "Offers         98\n",
       "Settings     3281\n",
       "Name: ID, dtype: int64"
      ]
     },
     "execution_count": 31,
     "metadata": {},
     "output_type": "execute_result"
    }
   ],
   "source": [
    "# most people spend time on the home page\n",
    "app_events.groupby(['SCREEN'])['ID'].count()"
   ]
  },
  {
   "cell_type": "markdown",
   "id": "9c2f8749",
   "metadata": {},
   "source": [
    "### most people are on the home page\n",
    "- looks there's some kind marketing push in august and july"
   ]
  },
  {
   "cell_type": "code",
   "execution_count": 45,
   "id": "f18abcb2",
   "metadata": {},
   "outputs": [
    {
     "data": {
      "text/plain": [
       "<AxesSubplot:xlabel='app_month'>"
      ]
     },
     "execution_count": 45,
     "metadata": {},
     "output_type": "execute_result"
    },
    {
     "data": {
      "image/png": "[encoded data removed]",
      "text/plain": [
       "<Figure size 432x288 with 1 Axes>"
      ]
     },
     "metadata": {
      "needs_background": "light"
     },
     "output_type": "display_data"
    }
   ],
   "source": [
    "app_events.groupby(['app_month','SCREEN']).size().unstack(level=1).plot.bar()"
   ]
  },
  {
   "cell_type": "markdown",
   "id": "ed3b7ef5",
   "metadata": {},
   "source": [
    "# invites"
   ]
  },
  {
   "cell_type": "code",
   "execution_count": 360,
   "id": "39f92630",
   "metadata": {},
   "outputs": [],
   "source": [
    "invites = pd.read_csv('chime_ds_interview_data/invites.csv')\n",
    "invites['INVITE_DATE'] = pd.to_datetime(invites['INVITE_DATE'])\n",
    "invites['invite_month'] = pd.DatetimeIndex(invites['INVITE_DATE']).month\n",
    "invites['in_date'] = pd.DatetimeIndex(invites['INVITE_DATE']).date\n"
   ]
  },
  {
   "cell_type": "code",
   "execution_count": 53,
   "id": "f8f3bacd",
   "metadata": {},
   "outputs": [
    {
     "data": {
      "text/html": [
       "<div>\n",
       "<style scoped>\n",
       "    .dataframe tbody tr th:only-of-type {\n",
       "        vertical-align: middle;\n",
       "    }\n",
       "\n",
       "    .dataframe tbody tr th {\n",
       "        vertical-align: top;\n",
       "    }\n",
       "\n",
       "    .dataframe thead th {\n",
       "        text-align: right;\n",
       "    }\n",
       "</style>\n",
       "<table border=\"1\" class=\"dataframe\">\n",
       "  <thead>\n",
       "    <tr style=\"text-align: right;\">\n",
       "      <th></th>\n",
       "      <th>ID</th>\n",
       "      <th>INVITE_DATE</th>\n",
       "      <th>CREDIT_INELIGIBLE</th>\n",
       "      <th>invite_month</th>\n",
       "    </tr>\n",
       "  </thead>\n",
       "  <tbody>\n",
       "    <tr>\n",
       "      <th>0</th>\n",
       "      <td>3</td>\n",
       "      <td>2020-08-24 08:00:39</td>\n",
       "      <td>1</td>\n",
       "      <td>8</td>\n",
       "    </tr>\n",
       "    <tr>\n",
       "      <th>1</th>\n",
       "      <td>183</td>\n",
       "      <td>2020-08-17 08:00:24</td>\n",
       "      <td>0</td>\n",
       "      <td>8</td>\n",
       "    </tr>\n",
       "    <tr>\n",
       "      <th>2</th>\n",
       "      <td>1666</td>\n",
       "      <td>2020-09-05 08:00:25</td>\n",
       "      <td>0</td>\n",
       "      <td>9</td>\n",
       "    </tr>\n",
       "    <tr>\n",
       "      <th>3</th>\n",
       "      <td>1914</td>\n",
       "      <td>2020-08-20 08:40:47</td>\n",
       "      <td>1</td>\n",
       "      <td>8</td>\n",
       "    </tr>\n",
       "    <tr>\n",
       "      <th>4</th>\n",
       "      <td>2863</td>\n",
       "      <td>2020-09-03 08:00:44</td>\n",
       "      <td>0</td>\n",
       "      <td>9</td>\n",
       "    </tr>\n",
       "  </tbody>\n",
       "</table>\n",
       "</div>"
      ],
      "text/plain": [
       "     ID         INVITE_DATE  CREDIT_INELIGIBLE  invite_month\n",
       "0     3 2020-08-24 08:00:39                  1             8\n",
       "1   183 2020-08-17 08:00:24                  0             8\n",
       "2  1666 2020-09-05 08:00:25                  0             9\n",
       "3  1914 2020-08-20 08:40:47                  1             8\n",
       "4  2863 2020-09-03 08:00:44                  0             9"
      ]
     },
     "execution_count": 53,
     "metadata": {},
     "output_type": "execute_result"
    }
   ],
   "source": [
    "invites.head()"
   ]
  },
  {
   "cell_type": "code",
   "execution_count": 59,
   "id": "22403333",
   "metadata": {},
   "outputs": [
    {
     "data": {
      "text/plain": [
       "186"
      ]
     },
     "execution_count": 59,
     "metadata": {},
     "output_type": "execute_result"
    }
   ],
   "source": [
    "# checking for multiple invites\n",
    "len(set(invites['ID'].tolist()))"
   ]
  },
  {
   "cell_type": "code",
   "execution_count": 54,
   "id": "c743a47d",
   "metadata": {},
   "outputs": [
    {
     "data": {
      "text/plain": [
       "(Timestamp('2020-07-17 08:28:48'), Timestamp('2020-09-17 08:00:20'))"
      ]
     },
     "execution_count": 54,
     "metadata": {},
     "output_type": "execute_result"
    }
   ],
   "source": [
    "# it looks like there was some kind of marketing push in july to september\n",
    "invites['INVITE_DATE'].min(),invites['INVITE_DATE'].max()"
   ]
  },
  {
   "cell_type": "code",
   "execution_count": 75,
   "id": "f5ff020d",
   "metadata": {},
   "outputs": [
    {
     "data": {
      "text/plain": [
       "<AxesSubplot:xlabel='invite_date'>"
      ]
     },
     "execution_count": 75,
     "metadata": {},
     "output_type": "execute_result"
    },
    {
     "data": {
      "image/png": "[encoded data removed]",
      "text/plain": [
       "<Figure size 720x360 with 1 Axes>"
      ]
     },
     "metadata": {
      "needs_background": "light"
     },
     "output_type": "display_data"
    }
   ],
   "source": [
    "invites.groupby('invite_date').size().plot.bar(figsize=(10,5))"
   ]
  },
  {
   "cell_type": "code",
   "execution_count": 68,
   "id": "b9569935",
   "metadata": {},
   "outputs": [
    {
     "data": {
      "text/plain": [
       "invite_month\n",
       "7     31\n",
       "8    125\n",
       "9     30\n",
       "dtype: int64"
      ]
     },
     "execution_count": 68,
     "metadata": {},
     "output_type": "execute_result"
    }
   ],
   "source": [
    "invites.groupby('invite_month').size()"
   ]
  },
  {
   "cell_type": "markdown",
   "id": "c3babacf",
   "metadata": {},
   "source": [
    "## looks like no credit account was opened before earliest invite date"
   ]
  },
  {
   "cell_type": "code",
   "execution_count": 77,
   "id": "c4713351",
   "metadata": {},
   "outputs": [
    {
     "data": {
      "text/plain": [
       "(0, 9)"
      ]
     },
     "execution_count": 77,
     "metadata": {},
     "output_type": "execute_result"
    }
   ],
   "source": [
    "users[users['CREDIT_OPENED_DATE'] < '2020-07-17'].shape"
   ]
  },
  {
   "cell_type": "code",
   "execution_count": 333,
   "id": "d1ffa590",
   "metadata": {},
   "outputs": [],
   "source": [
    "transactions = pd.read_csv('chime_ds_interview_data/transactions.csv')\n"
   ]
  },
  {
   "cell_type": "code",
   "execution_count": 329,
   "id": "c8505fa6",
   "metadata": {},
   "outputs": [],
   "source": [
    "app_users = users.set_index('ID').join(app_events.set_index('ID'),how='left')\\\n",
    "                                    .join(transactions.set_index('ID'),how='left')\n",
    "trans_users = users.set_index('ID').join(transactions.set_index('ID'),how='left')"
   ]
  },
  {
   "cell_type": "code",
   "execution_count": 330,
   "id": "bfaad9ec",
   "metadata": {},
   "outputs": [
    {
     "data": {
      "text/html": [
       "<div>\n",
       "<style scoped>\n",
       "    .dataframe tbody tr th:only-of-type {\n",
       "        vertical-align: middle;\n",
       "    }\n",
       "\n",
       "    .dataframe tbody tr th {\n",
       "        vertical-align: top;\n",
       "    }\n",
       "\n",
       "    .dataframe thead th {\n",
       "        text-align: right;\n",
       "    }\n",
       "</style>\n",
       "<table border=\"1\" class=\"dataframe\">\n",
       "  <thead>\n",
       "    <tr style=\"text-align: right;\">\n",
       "      <th></th>\n",
       "      <th></th>\n",
       "      <th>count</th>\n",
       "      <th>mean</th>\n",
       "      <th>std</th>\n",
       "      <th>min</th>\n",
       "      <th>25%</th>\n",
       "      <th>50%</th>\n",
       "      <th>75%</th>\n",
       "      <th>max</th>\n",
       "    </tr>\n",
       "    <tr>\n",
       "      <th>open_credit</th>\n",
       "      <th>TRANSACTION_TYPE</th>\n",
       "      <th></th>\n",
       "      <th></th>\n",
       "      <th></th>\n",
       "      <th></th>\n",
       "      <th></th>\n",
       "      <th></th>\n",
       "      <th></th>\n",
       "      <th></th>\n",
       "    </tr>\n",
       "  </thead>\n",
       "  <tbody>\n",
       "    <tr>\n",
       "      <th rowspan=\"3\" valign=\"top\">False</th>\n",
       "      <th>atm</th>\n",
       "      <td>378.0</td>\n",
       "      <td>160.109101</td>\n",
       "      <td>139.301541</td>\n",
       "      <td>5.05</td>\n",
       "      <td>49.0600</td>\n",
       "      <td>106.740</td>\n",
       "      <td>219.0600</td>\n",
       "      <td>802.39</td>\n",
       "    </tr>\n",
       "    <tr>\n",
       "      <th>deposit</th>\n",
       "      <td>2505.0</td>\n",
       "      <td>103.389637</td>\n",
       "      <td>295.547033</td>\n",
       "      <td>0.01</td>\n",
       "      <td>0.4500</td>\n",
       "      <td>5.070</td>\n",
       "      <td>72.6100</td>\n",
       "      <td>6741.89</td>\n",
       "    </tr>\n",
       "    <tr>\n",
       "      <th>purchase</th>\n",
       "      <td>3820.0</td>\n",
       "      <td>38.625639</td>\n",
       "      <td>110.554238</td>\n",
       "      <td>0.01</td>\n",
       "      <td>6.7075</td>\n",
       "      <td>12.755</td>\n",
       "      <td>29.8200</td>\n",
       "      <td>3817.80</td>\n",
       "    </tr>\n",
       "    <tr>\n",
       "      <th rowspan=\"3\" valign=\"top\">True</th>\n",
       "      <th>atm</th>\n",
       "      <td>600.0</td>\n",
       "      <td>158.415583</td>\n",
       "      <td>170.928935</td>\n",
       "      <td>9.04</td>\n",
       "      <td>45.7075</td>\n",
       "      <td>98.780</td>\n",
       "      <td>203.4025</td>\n",
       "      <td>1004.00</td>\n",
       "    </tr>\n",
       "    <tr>\n",
       "      <th>deposit</th>\n",
       "      <td>5521.0</td>\n",
       "      <td>123.902985</td>\n",
       "      <td>520.866618</td>\n",
       "      <td>0.01</td>\n",
       "      <td>0.4300</td>\n",
       "      <td>0.930</td>\n",
       "      <td>67.9500</td>\n",
       "      <td>11198.88</td>\n",
       "    </tr>\n",
       "    <tr>\n",
       "      <th>purchase</th>\n",
       "      <td>7929.0</td>\n",
       "      <td>38.837126</td>\n",
       "      <td>125.485506</td>\n",
       "      <td>0.01</td>\n",
       "      <td>6.7100</td>\n",
       "      <td>14.330</td>\n",
       "      <td>31.3700</td>\n",
       "      <td>7588.00</td>\n",
       "    </tr>\n",
       "  </tbody>\n",
       "</table>\n",
       "</div>"
      ],
      "text/plain": [
       "                               count        mean         std   min      25%  \\\n",
       "open_credit TRANSACTION_TYPE                                                  \n",
       "False       atm                378.0  160.109101  139.301541  5.05  49.0600   \n",
       "            deposit           2505.0  103.389637  295.547033  0.01   0.4500   \n",
       "            purchase          3820.0   38.625639  110.554238  0.01   6.7075   \n",
       "True        atm                600.0  158.415583  170.928935  9.04  45.7075   \n",
       "            deposit           5521.0  123.902985  520.866618  0.01   0.4300   \n",
       "            purchase          7929.0   38.837126  125.485506  0.01   6.7100   \n",
       "\n",
       "                                  50%       75%       max  \n",
       "open_credit TRANSACTION_TYPE                               \n",
       "False       atm               106.740  219.0600    802.39  \n",
       "            deposit             5.070   72.6100   6741.89  \n",
       "            purchase           12.755   29.8200   3817.80  \n",
       "True        atm                98.780  203.4025   1004.00  \n",
       "            deposit             0.930   67.9500  11198.88  \n",
       "            purchase           14.330   31.3700   7588.00  "
      ]
     },
     "execution_count": 330,
     "metadata": {},
     "output_type": "execute_result"
    }
   ],
   "source": [
    "trans_users.groupby(['open_credit','TRANSACTION_TYPE'])['TRANSACTION_AMOUNT'].describe()\n"
   ]
  },
  {
   "cell_type": "code",
   "execution_count": 331,
   "id": "9bc6ec49",
   "metadata": {},
   "outputs": [
    {
     "data": {
      "text/plain": [
       "<AxesSubplot:xlabel='open_credit'>"
      ]
     },
     "execution_count": 331,
     "metadata": {},
     "output_type": "execute_result"
    },
    {
     "data": {
      "image/png": "[encoded data removed]",
      "text/plain": [
       "<Figure size 432x288 with 1 Axes>"
      ]
     },
     "metadata": {
      "needs_background": "light"
     },
     "output_type": "display_data"
    }
   ],
   "source": [
    "# credit account owners have more activity\n",
    "trans_users.groupby(['open_credit','TRANSACTION_TYPE']).size().unstack(level=1).plot(kind = 'bar')\n"
   ]
  },
  {
   "cell_type": "code",
   "execution_count": 332,
   "id": "3e1ef87d",
   "metadata": {},
   "outputs": [
    {
     "data": {
      "text/plain": [
       "<AxesSubplot:xlabel='open_credit'>"
      ]
     },
     "execution_count": 332,
     "metadata": {},
     "output_type": "execute_result"
    },
    {
     "data": {
      "image/png": "[encoded data removed]",
      "text/plain": [
       "<Figure size 432x288 with 1 Axes>"
      ]
     },
     "metadata": {
      "needs_background": "light"
     },
     "output_type": "display_data"
    }
   ],
   "source": [
    "# credit card owners have more app activity\n",
    "app_users.groupby(['open_credit','SCREEN']).size().unstack(level=1).plot(kind = 'bar')"
   ]
  },
  {
   "cell_type": "markdown",
   "id": "1e8ccf81",
   "metadata": {},
   "source": [
    "# transaction wrangling"
   ]
  },
  {
   "cell_type": "code",
   "execution_count": 366,
   "id": "4e11d1d0",
   "metadata": {},
   "outputs": [
    {
     "name": "stderr",
     "output_type": "stream",
     "text": [
      "/Users/dami.osoba/opt/anaconda3/envs/tf/lib/python3.7/site-packages/ipykernel_launcher.py:5: FutureWarning: weekofyear and week have been deprecated, please use DatetimeIndex.isocalendar().week instead, which returns a Series.  To exactly reproduce the behavior of week and weekofyear and return an Index, you may call pd.Int64Index(idx.isocalendar().week)\n",
      "  \"\"\"\n"
     ]
    }
   ],
   "source": [
    "# change time string to datatime\n",
    "# extract time information\n",
    "transactions['TRANS_TS'] = pd.to_datetime(transactions['TRANS_TS'])\n",
    "transactions['month'] = pd.DatetimeIndex(transactions['TRANS_TS']).month\n",
    "transactions['week'] = pd.DatetimeIndex(transactions['TRANS_TS']).week\n",
    "transactions['ts_date'] = pd.DatetimeIndex(transactions['TRANS_TS']).date\n"
   ]
  },
  {
   "cell_type": "code",
   "execution_count": 62,
   "id": "0eaf8e4c",
   "metadata": {},
   "outputs": [
    {
     "data": {
      "text/html": [
       "<div>\n",
       "<style scoped>\n",
       "    .dataframe tbody tr th:only-of-type {\n",
       "        vertical-align: middle;\n",
       "    }\n",
       "\n",
       "    .dataframe tbody tr th {\n",
       "        vertical-align: top;\n",
       "    }\n",
       "\n",
       "    .dataframe thead th {\n",
       "        text-align: right;\n",
       "    }\n",
       "</style>\n",
       "<table border=\"1\" class=\"dataframe\">\n",
       "  <thead>\n",
       "    <tr style=\"text-align: right;\">\n",
       "      <th></th>\n",
       "      <th>ID</th>\n",
       "      <th>TRANSACTION_TYPE</th>\n",
       "      <th>TRANSACTION_AMOUNT</th>\n",
       "      <th>TRANS_TS</th>\n",
       "      <th>month</th>\n",
       "      <th>week</th>\n",
       "    </tr>\n",
       "  </thead>\n",
       "  <tbody>\n",
       "    <tr>\n",
       "      <th>0</th>\n",
       "      <td>3</td>\n",
       "      <td>deposit</td>\n",
       "      <td>2.67</td>\n",
       "      <td>2020-07-22 01:53:21</td>\n",
       "      <td>7</td>\n",
       "      <td>30</td>\n",
       "    </tr>\n",
       "    <tr>\n",
       "      <th>1</th>\n",
       "      <td>183</td>\n",
       "      <td>deposit</td>\n",
       "      <td>0.11</td>\n",
       "      <td>2020-07-08 08:30:17</td>\n",
       "      <td>7</td>\n",
       "      <td>28</td>\n",
       "    </tr>\n",
       "    <tr>\n",
       "      <th>2</th>\n",
       "      <td>183</td>\n",
       "      <td>purchase</td>\n",
       "      <td>27.92</td>\n",
       "      <td>2020-07-08 09:02:19</td>\n",
       "      <td>7</td>\n",
       "      <td>28</td>\n",
       "    </tr>\n",
       "    <tr>\n",
       "      <th>3</th>\n",
       "      <td>183</td>\n",
       "      <td>purchase</td>\n",
       "      <td>17.49</td>\n",
       "      <td>2020-07-08 09:03:59</td>\n",
       "      <td>7</td>\n",
       "      <td>28</td>\n",
       "    </tr>\n",
       "    <tr>\n",
       "      <th>4</th>\n",
       "      <td>183</td>\n",
       "      <td>purchase</td>\n",
       "      <td>40.84</td>\n",
       "      <td>2020-07-08 21:00:56</td>\n",
       "      <td>7</td>\n",
       "      <td>28</td>\n",
       "    </tr>\n",
       "  </tbody>\n",
       "</table>\n",
       "</div>"
      ],
      "text/plain": [
       "    ID TRANSACTION_TYPE  TRANSACTION_AMOUNT            TRANS_TS  month  week\n",
       "0    3          deposit                2.67 2020-07-22 01:53:21      7    30\n",
       "1  183          deposit                0.11 2020-07-08 08:30:17      7    28\n",
       "2  183         purchase               27.92 2020-07-08 09:02:19      7    28\n",
       "3  183         purchase               17.49 2020-07-08 09:03:59      7    28\n",
       "4  183         purchase               40.84 2020-07-08 21:00:56      7    28"
      ]
     },
     "execution_count": 62,
     "metadata": {},
     "output_type": "execute_result"
    }
   ],
   "source": [
    "transactions.head()"
   ]
  },
  {
   "cell_type": "markdown",
   "id": "3e9a9658",
   "metadata": {},
   "source": [
    "## mostly purchases by counts,  deposits  by dollar value \n",
    "- not sure if this is atm deposit or withdrawals"
   ]
  },
  {
   "cell_type": "code",
   "execution_count": 63,
   "id": "a005c636",
   "metadata": {},
   "outputs": [
    {
     "data": {
      "text/html": [
       "<div>\n",
       "<style scoped>\n",
       "    .dataframe tbody tr th:only-of-type {\n",
       "        vertical-align: middle;\n",
       "    }\n",
       "\n",
       "    .dataframe tbody tr th {\n",
       "        vertical-align: top;\n",
       "    }\n",
       "\n",
       "    .dataframe thead tr th {\n",
       "        text-align: left;\n",
       "    }\n",
       "\n",
       "    .dataframe thead tr:last-of-type th {\n",
       "        text-align: right;\n",
       "    }\n",
       "</style>\n",
       "<table border=\"1\" class=\"dataframe\">\n",
       "  <thead>\n",
       "    <tr>\n",
       "      <th></th>\n",
       "      <th colspan=\"4\" halign=\"left\">TRANSACTION_AMOUNT</th>\n",
       "    </tr>\n",
       "    <tr>\n",
       "      <th></th>\n",
       "      <th>count</th>\n",
       "      <th>max</th>\n",
       "      <th>mean</th>\n",
       "      <th>median</th>\n",
       "    </tr>\n",
       "    <tr>\n",
       "      <th>TRANSACTION_TYPE</th>\n",
       "      <th></th>\n",
       "      <th></th>\n",
       "      <th></th>\n",
       "      <th></th>\n",
       "    </tr>\n",
       "  </thead>\n",
       "  <tbody>\n",
       "    <tr>\n",
       "      <th>atm</th>\n",
       "      <td>978</td>\n",
       "      <td>1004.00</td>\n",
       "      <td>159.070133</td>\n",
       "      <td>102.50</td>\n",
       "    </tr>\n",
       "    <tr>\n",
       "      <th>deposit</th>\n",
       "      <td>8026</td>\n",
       "      <td>11198.88</td>\n",
       "      <td>117.500551</td>\n",
       "      <td>0.98</td>\n",
       "    </tr>\n",
       "    <tr>\n",
       "      <th>purchase</th>\n",
       "      <td>11749</td>\n",
       "      <td>7588.00</td>\n",
       "      <td>38.768364</td>\n",
       "      <td>13.88</td>\n",
       "    </tr>\n",
       "  </tbody>\n",
       "</table>\n",
       "</div>"
      ],
      "text/plain": [
       "                 TRANSACTION_AMOUNT                              \n",
       "                              count       max        mean  median\n",
       "TRANSACTION_TYPE                                                 \n",
       "atm                             978   1004.00  159.070133  102.50\n",
       "deposit                        8026  11198.88  117.500551    0.98\n",
       "purchase                      11749   7588.00   38.768364   13.88"
      ]
     },
     "execution_count": 63,
     "metadata": {},
     "output_type": "execute_result"
    }
   ],
   "source": [
    "\n",
    "transactions.groupby('TRANSACTION_TYPE').agg({'TRANSACTION_AMOUNT' : ['count', 'max','mean','median']})"
   ]
  },
  {
   "cell_type": "code",
   "execution_count": 110,
   "id": "b2871f82",
   "metadata": {},
   "outputs": [
    {
     "data": {
      "text/plain": [
       "7     9467\n",
       "8     7547\n",
       "9     1810\n",
       "6     1718\n",
       "10     211\n",
       "Name: month, dtype: int64"
      ]
     },
     "execution_count": 110,
     "metadata": {},
     "output_type": "execute_result"
    }
   ],
   "source": [
    "transactions['month'].value_counts()"
   ]
  },
  {
   "cell_type": "markdown",
   "id": "1e2a76e0",
   "metadata": {},
   "source": [
    "# Want to create model that calculates likelihood to convert in the next month\n",
    "- biggest push of invites was in aug.\n",
    "- create propensity score model that predicts conversions in august given activity in july\n",
    "- basic transaction statistics for july, and app events for july to predict for august\n",
    "- the score will tell how likely someone will convert\n",
    "- score model to minimize false positives\n",
    "- baseline model"
   ]
  },
  {
   "cell_type": "code",
   "execution_count": 80,
   "id": "a7923daf",
   "metadata": {},
   "outputs": [],
   "source": [
    "past = '2020-07-31'\n",
    "future = '2020-08-01'"
   ]
  },
  {
   "cell_type": "markdown",
   "id": "9bc5b000",
   "metadata": {},
   "source": [
    "### get eligible users\n",
    "- users who opened credit accounts after past or users with null credit account fields\n",
    "- remove users who open spending accounts after past"
   ]
  },
  {
   "cell_type": "code",
   "execution_count": 359,
   "id": "b5818e89",
   "metadata": {},
   "outputs": [],
   "source": [
    "user_invites = users.merge(invites, on= ['ID'])\n",
    "eligible_users = user_invites[(user_invites['CREDIT_OPENED_DATE'] > past) | \n",
    "                              user_invites['CREDIT_OPENED_DATE'].isna()] \n",
    "eligible_users = eligible_users[eligible_users['SPENDING_ACCOUNT_OPENED_DATE'] <=past]\n",
    "\n",
    " "
   ]
  },
  {
   "cell_type": "code",
   "execution_count": 364,
   "id": "7dfee337",
   "metadata": {},
   "outputs": [
    {
     "data": {
      "text/plain": [
       "ID                             int64\n",
       "TRANSACTION_TYPE              object\n",
       "TRANSACTION_AMOUNT           float64\n",
       "TRANS_TS              datetime64[ns]\n",
       "month                          int64\n",
       "week                           int64\n",
       "dtype: object"
      ]
     },
     "execution_count": 364,
     "metadata": {},
     "output_type": "execute_result"
    }
   ],
   "source": [
    "transactions.dtypes"
   ]
  },
  {
   "cell_type": "code",
   "execution_count": null,
   "id": "035ae7e1",
   "metadata": {},
   "outputs": [],
   "source": [
    "# for those who were invited, how l"
   ]
  },
  {
   "cell_type": "code",
   "execution_count": 376,
   "id": "5d72debd",
   "metadata": {},
   "outputs": [],
   "source": [
    "# try a different way of structuring the data\n",
    "invites_merge = user_invites.merge(transactions,left_on = ['ID'],right_on=['ID'],how='outer')\n",
    "trans_before_invite = invites_merge[invites_merge['in_date'] >= invites_merge['ts_date']]"
   ]
  },
  {
   "cell_type": "markdown",
   "id": "dc8c884d",
   "metadata": {},
   "source": [
    "###  additional user features\n",
    "- add invite boolean field\n",
    "- get time since open spending account"
   ]
  },
  {
   "cell_type": "code",
   "execution_count": 338,
   "id": "04e8e9ef",
   "metadata": {},
   "outputs": [],
   "source": [
    "eligible_users['invite_date_within_window'] = (eligible_users['INVITE_DATE'] <= past).values\n",
    "\n",
    "today = pd.to_datetime(past)\n",
    "eligible_users['time_since_open_spend'] = (today - eligible_users['SPENDING_ACCOUNT_OPENED_DATE'])"
   ]
  },
  {
   "cell_type": "markdown",
   "id": "6680e6a1",
   "metadata": {},
   "source": [
    "### get transactions for the past month"
   ]
  },
  {
   "cell_type": "code",
   "execution_count": 305,
   "id": "63558a26",
   "metadata": {},
   "outputs": [],
   "source": [
    "from dateutil.relativedelta import relativedelta\n",
    "beg_trans_date = pd.to_datetime(past) + relativedelta(months= -1)+ relativedelta(days=1))\n",
    "past_trans = transactions[(transactions['TRANS_TS']<=past) & (transactions['TRANS_TS']>beg_trans_date) ]"
   ]
  },
  {
   "cell_type": "code",
   "execution_count": 308,
   "id": "d45f3d61",
   "metadata": {},
   "outputs": [
    {
     "data": {
      "text/html": [
       "<div>\n",
       "<style scoped>\n",
       "    .dataframe tbody tr th:only-of-type {\n",
       "        vertical-align: middle;\n",
       "    }\n",
       "\n",
       "    .dataframe tbody tr th {\n",
       "        vertical-align: top;\n",
       "    }\n",
       "\n",
       "    .dataframe thead th {\n",
       "        text-align: right;\n",
       "    }\n",
       "</style>\n",
       "<table border=\"1\" class=\"dataframe\">\n",
       "  <thead>\n",
       "    <tr style=\"text-align: right;\">\n",
       "      <th></th>\n",
       "      <th>ID</th>\n",
       "      <th>TRANSACTION_AMOUNT_count_atm</th>\n",
       "      <th>TRANSACTION_AMOUNT_count_deposit</th>\n",
       "      <th>TRANSACTION_AMOUNT_count_purchase</th>\n",
       "      <th>TRANSACTION_AMOUNT_max_atm</th>\n",
       "      <th>TRANSACTION_AMOUNT_max_deposit</th>\n",
       "      <th>TRANSACTION_AMOUNT_max_purchase</th>\n",
       "      <th>TRANSACTION_AMOUNT_mean_atm</th>\n",
       "      <th>TRANSACTION_AMOUNT_mean_deposit</th>\n",
       "      <th>TRANSACTION_AMOUNT_mean_purchase</th>\n",
       "      <th>TRANSACTION_AMOUNT_median_atm</th>\n",
       "      <th>TRANSACTION_AMOUNT_median_deposit</th>\n",
       "      <th>TRANSACTION_AMOUNT_median_purchase</th>\n",
       "    </tr>\n",
       "  </thead>\n",
       "  <tbody>\n",
       "    <tr>\n",
       "      <th>0</th>\n",
       "      <td>3</td>\n",
       "      <td>0.0</td>\n",
       "      <td>1.0</td>\n",
       "      <td>0.0</td>\n",
       "      <td>0.00</td>\n",
       "      <td>2.67</td>\n",
       "      <td>0.00</td>\n",
       "      <td>0.000000</td>\n",
       "      <td>2.670000</td>\n",
       "      <td>0.000000</td>\n",
       "      <td>0.00</td>\n",
       "      <td>2.67</td>\n",
       "      <td>0.000</td>\n",
       "    </tr>\n",
       "    <tr>\n",
       "      <th>1</th>\n",
       "      <td>183</td>\n",
       "      <td>6.0</td>\n",
       "      <td>59.0</td>\n",
       "      <td>68.0</td>\n",
       "      <td>241.78</td>\n",
       "      <td>3166.86</td>\n",
       "      <td>1215.12</td>\n",
       "      <td>145.291667</td>\n",
       "      <td>138.753898</td>\n",
       "      <td>65.652500</td>\n",
       "      <td>152.14</td>\n",
       "      <td>0.76</td>\n",
       "      <td>24.900</td>\n",
       "    </tr>\n",
       "    <tr>\n",
       "      <th>2</th>\n",
       "      <td>1666</td>\n",
       "      <td>0.0</td>\n",
       "      <td>0.0</td>\n",
       "      <td>6.0</td>\n",
       "      <td>0.00</td>\n",
       "      <td>0.00</td>\n",
       "      <td>30.60</td>\n",
       "      <td>0.000000</td>\n",
       "      <td>0.000000</td>\n",
       "      <td>13.578333</td>\n",
       "      <td>0.00</td>\n",
       "      <td>0.00</td>\n",
       "      <td>11.360</td>\n",
       "    </tr>\n",
       "    <tr>\n",
       "      <th>3</th>\n",
       "      <td>2863</td>\n",
       "      <td>5.0</td>\n",
       "      <td>7.0</td>\n",
       "      <td>8.0</td>\n",
       "      <td>86.65</td>\n",
       "      <td>626.40</td>\n",
       "      <td>574.20</td>\n",
       "      <td>58.882000</td>\n",
       "      <td>158.981429</td>\n",
       "      <td>100.576250</td>\n",
       "      <td>51.16</td>\n",
       "      <td>78.30</td>\n",
       "      <td>36.985</td>\n",
       "    </tr>\n",
       "    <tr>\n",
       "      <th>4</th>\n",
       "      <td>3124</td>\n",
       "      <td>3.0</td>\n",
       "      <td>5.0</td>\n",
       "      <td>75.0</td>\n",
       "      <td>458.00</td>\n",
       "      <td>832.82</td>\n",
       "      <td>149.97</td>\n",
       "      <td>287.013333</td>\n",
       "      <td>439.686000</td>\n",
       "      <td>17.795067</td>\n",
       "      <td>329.76</td>\n",
       "      <td>637.00</td>\n",
       "      <td>5.230</td>\n",
       "    </tr>\n",
       "  </tbody>\n",
       "</table>\n",
       "</div>"
      ],
      "text/plain": [
       "     ID  TRANSACTION_AMOUNT_count_atm  TRANSACTION_AMOUNT_count_deposit  \\\n",
       "0     3                           0.0                               1.0   \n",
       "1   183                           6.0                              59.0   \n",
       "2  1666                           0.0                               0.0   \n",
       "3  2863                           5.0                               7.0   \n",
       "4  3124                           3.0                               5.0   \n",
       "\n",
       "   TRANSACTION_AMOUNT_count_purchase  TRANSACTION_AMOUNT_max_atm  \\\n",
       "0                                0.0                        0.00   \n",
       "1                               68.0                      241.78   \n",
       "2                                6.0                        0.00   \n",
       "3                                8.0                       86.65   \n",
       "4                               75.0                      458.00   \n",
       "\n",
       "   TRANSACTION_AMOUNT_max_deposit  TRANSACTION_AMOUNT_max_purchase  \\\n",
       "0                            2.67                             0.00   \n",
       "1                         3166.86                          1215.12   \n",
       "2                            0.00                            30.60   \n",
       "3                          626.40                           574.20   \n",
       "4                          832.82                           149.97   \n",
       "\n",
       "   TRANSACTION_AMOUNT_mean_atm  TRANSACTION_AMOUNT_mean_deposit  \\\n",
       "0                     0.000000                         2.670000   \n",
       "1                   145.291667                       138.753898   \n",
       "2                     0.000000                         0.000000   \n",
       "3                    58.882000                       158.981429   \n",
       "4                   287.013333                       439.686000   \n",
       "\n",
       "   TRANSACTION_AMOUNT_mean_purchase  TRANSACTION_AMOUNT_median_atm  \\\n",
       "0                          0.000000                           0.00   \n",
       "1                         65.652500                         152.14   \n",
       "2                         13.578333                           0.00   \n",
       "3                        100.576250                          51.16   \n",
       "4                         17.795067                         329.76   \n",
       "\n",
       "   TRANSACTION_AMOUNT_median_deposit  TRANSACTION_AMOUNT_median_purchase  \n",
       "0                               2.67                               0.000  \n",
       "1                               0.76                              24.900  \n",
       "2                               0.00                              11.360  \n",
       "3                              78.30                              36.985  \n",
       "4                             637.00                               5.230  "
      ]
     },
     "execution_count": 308,
     "metadata": {},
     "output_type": "execute_result"
    }
   ],
   "source": [
    "# get basic trasaction statistics for transaction type\n",
    "trans_type_grouped = past_trans.groupby(['ID','TRANSACTION_TYPE']).agg({'TRANSACTION_AMOUNT' : ['count', 'max','mean','median']})\\\n",
    "                        .unstack().reset_index().fillna(0)\n",
    "cols = [\"_\".join([str(b) for b in a]) for a in trans_type_grouped.columns.tolist()]\n",
    "cols[0] = 'ID'\n",
    "trans_type_grouped.columns = cols\n",
    "trans_type_grouped.head()"
   ]
  },
  {
   "cell_type": "code",
   "execution_count": 309,
   "id": "562225ef",
   "metadata": {},
   "outputs": [
    {
     "data": {
      "text/html": [
       "<div>\n",
       "<style scoped>\n",
       "    .dataframe tbody tr th:only-of-type {\n",
       "        vertical-align: middle;\n",
       "    }\n",
       "\n",
       "    .dataframe tbody tr th {\n",
       "        vertical-align: top;\n",
       "    }\n",
       "\n",
       "    .dataframe thead th {\n",
       "        text-align: right;\n",
       "    }\n",
       "</style>\n",
       "<table border=\"1\" class=\"dataframe\">\n",
       "  <thead>\n",
       "    <tr style=\"text-align: right;\">\n",
       "      <th></th>\n",
       "      <th>ID</th>\n",
       "      <th>TRANSACTION_AMOUNT_count_7</th>\n",
       "      <th>TRANSACTION_AMOUNT_max_7</th>\n",
       "      <th>TRANSACTION_AMOUNT_mean_7</th>\n",
       "      <th>TRANSACTION_AMOUNT_median_7</th>\n",
       "    </tr>\n",
       "  </thead>\n",
       "  <tbody>\n",
       "    <tr>\n",
       "      <th>0</th>\n",
       "      <td>3</td>\n",
       "      <td>1</td>\n",
       "      <td>2.67</td>\n",
       "      <td>2.670000</td>\n",
       "      <td>2.67</td>\n",
       "    </tr>\n",
       "    <tr>\n",
       "      <th>1</th>\n",
       "      <td>183</td>\n",
       "      <td>133</td>\n",
       "      <td>3166.86</td>\n",
       "      <td>101.673684</td>\n",
       "      <td>17.49</td>\n",
       "    </tr>\n",
       "    <tr>\n",
       "      <th>2</th>\n",
       "      <td>1666</td>\n",
       "      <td>6</td>\n",
       "      <td>30.60</td>\n",
       "      <td>13.578333</td>\n",
       "      <td>11.36</td>\n",
       "    </tr>\n",
       "    <tr>\n",
       "      <th>3</th>\n",
       "      <td>2863</td>\n",
       "      <td>20</td>\n",
       "      <td>626.40</td>\n",
       "      <td>110.594500</td>\n",
       "      <td>50.24</td>\n",
       "    </tr>\n",
       "    <tr>\n",
       "      <th>4</th>\n",
       "      <td>3124</td>\n",
       "      <td>83</td>\n",
       "      <td>832.82</td>\n",
       "      <td>52.940964</td>\n",
       "      <td>6.27</td>\n",
       "    </tr>\n",
       "  </tbody>\n",
       "</table>\n",
       "</div>"
      ],
      "text/plain": [
       "     ID  TRANSACTION_AMOUNT_count_7  TRANSACTION_AMOUNT_max_7  \\\n",
       "0     3                           1                      2.67   \n",
       "1   183                         133                   3166.86   \n",
       "2  1666                           6                     30.60   \n",
       "3  2863                          20                    626.40   \n",
       "4  3124                          83                    832.82   \n",
       "\n",
       "   TRANSACTION_AMOUNT_mean_7  TRANSACTION_AMOUNT_median_7  \n",
       "0                   2.670000                         2.67  \n",
       "1                 101.673684                        17.49  \n",
       "2                  13.578333                        11.36  \n",
       "3                 110.594500                        50.24  \n",
       "4                  52.940964                         6.27  "
      ]
     },
     "execution_count": 309,
     "metadata": {},
     "output_type": "execute_result"
    }
   ],
   "source": [
    "# get basic trasaction statistics by transaction amount\n",
    "trans_amt_grouped = past_trans.groupby(['ID','month']).agg({'TRANSACTION_AMOUNT' : ['count', 'max','mean','median']})\\\n",
    "                        .unstack().reset_index().fillna(0)\n",
    "cols = [\"_\".join([str(b) for b in a]) for a in trans_amt_grouped.columns.tolist()]\n",
    "cols[0] = 'ID'\n",
    "trans_amt_grouped.columns = cols\n",
    "trans_amt_grouped.head()"
   ]
  },
  {
   "cell_type": "code",
   "execution_count": 310,
   "id": "386fe55a",
   "metadata": {},
   "outputs": [
    {
     "data": {
      "text/plain": [
       "((10270, 4), (19084, 4))"
      ]
     },
     "execution_count": 310,
     "metadata": {},
     "output_type": "execute_result"
    }
   ],
   "source": [
    "past_events = app_events[app_events['TIMESTAMP'] <=past]\n",
    "past_events.shape, app_events.shape"
   ]
  },
  {
   "cell_type": "code",
   "execution_count": 311,
   "id": "29490a8f",
   "metadata": {},
   "outputs": [
    {
     "data": {
      "text/html": [
       "<div>\n",
       "<style scoped>\n",
       "    .dataframe tbody tr th:only-of-type {\n",
       "        vertical-align: middle;\n",
       "    }\n",
       "\n",
       "    .dataframe tbody tr th {\n",
       "        vertical-align: top;\n",
       "    }\n",
       "\n",
       "    .dataframe thead th {\n",
       "        text-align: right;\n",
       "    }\n",
       "</style>\n",
       "<table border=\"1\" class=\"dataframe\">\n",
       "  <thead>\n",
       "    <tr style=\"text-align: right;\">\n",
       "      <th></th>\n",
       "      <th>ID</th>\n",
       "      <th>TIMESTAMP_count_Home</th>\n",
       "      <th>TIMESTAMP_count_Offers</th>\n",
       "      <th>TIMESTAMP_count_Settings</th>\n",
       "      <th>TIMESTAMP_max_Home</th>\n",
       "      <th>TIMESTAMP_max_Offers</th>\n",
       "      <th>TIMESTAMP_max_Settings</th>\n",
       "    </tr>\n",
       "  </thead>\n",
       "  <tbody>\n",
       "    <tr>\n",
       "      <th>0</th>\n",
       "      <td>3</td>\n",
       "      <td>6.0</td>\n",
       "      <td>NaN</td>\n",
       "      <td>2.0</td>\n",
       "      <td>2020-07-30 18:29:15</td>\n",
       "      <td>NaT</td>\n",
       "      <td>2020-07-26 06:43:51</td>\n",
       "    </tr>\n",
       "    <tr>\n",
       "      <th>1</th>\n",
       "      <td>183</td>\n",
       "      <td>51.0</td>\n",
       "      <td>NaN</td>\n",
       "      <td>6.0</td>\n",
       "      <td>2020-07-30 14:37:05</td>\n",
       "      <td>NaT</td>\n",
       "      <td>2020-07-22 13:11:44</td>\n",
       "    </tr>\n",
       "    <tr>\n",
       "      <th>2</th>\n",
       "      <td>1666</td>\n",
       "      <td>1.0</td>\n",
       "      <td>NaN</td>\n",
       "      <td>NaN</td>\n",
       "      <td>2020-07-27 15:39:17</td>\n",
       "      <td>NaT</td>\n",
       "      <td>NaT</td>\n",
       "    </tr>\n",
       "    <tr>\n",
       "      <th>3</th>\n",
       "      <td>1914</td>\n",
       "      <td>3.0</td>\n",
       "      <td>NaN</td>\n",
       "      <td>NaN</td>\n",
       "      <td>2020-07-30 16:14:40</td>\n",
       "      <td>NaT</td>\n",
       "      <td>NaT</td>\n",
       "    </tr>\n",
       "    <tr>\n",
       "      <th>4</th>\n",
       "      <td>2863</td>\n",
       "      <td>15.0</td>\n",
       "      <td>NaN</td>\n",
       "      <td>2.0</td>\n",
       "      <td>2020-07-30 22:19:47</td>\n",
       "      <td>NaT</td>\n",
       "      <td>2020-07-29 00:01:47</td>\n",
       "    </tr>\n",
       "    <tr>\n",
       "      <th>...</th>\n",
       "      <td>...</td>\n",
       "      <td>...</td>\n",
       "      <td>...</td>\n",
       "      <td>...</td>\n",
       "      <td>...</td>\n",
       "      <td>...</td>\n",
       "      <td>...</td>\n",
       "    </tr>\n",
       "    <tr>\n",
       "      <th>168</th>\n",
       "      <td>97177</td>\n",
       "      <td>21.0</td>\n",
       "      <td>NaN</td>\n",
       "      <td>4.0</td>\n",
       "      <td>2020-07-02 07:37:18</td>\n",
       "      <td>NaT</td>\n",
       "      <td>2020-07-01 16:06:45</td>\n",
       "    </tr>\n",
       "    <tr>\n",
       "      <th>169</th>\n",
       "      <td>99012</td>\n",
       "      <td>119.0</td>\n",
       "      <td>NaN</td>\n",
       "      <td>36.0</td>\n",
       "      <td>2020-07-30 06:21:04</td>\n",
       "      <td>NaT</td>\n",
       "      <td>2020-07-25 13:08:00</td>\n",
       "    </tr>\n",
       "    <tr>\n",
       "      <th>170</th>\n",
       "      <td>99022</td>\n",
       "      <td>17.0</td>\n",
       "      <td>NaN</td>\n",
       "      <td>5.0</td>\n",
       "      <td>2020-07-30 08:53:22</td>\n",
       "      <td>NaT</td>\n",
       "      <td>2020-07-30 09:50:33</td>\n",
       "    </tr>\n",
       "    <tr>\n",
       "      <th>171</th>\n",
       "      <td>99038</td>\n",
       "      <td>18.0</td>\n",
       "      <td>1.0</td>\n",
       "      <td>1.0</td>\n",
       "      <td>2020-07-28 17:28:57</td>\n",
       "      <td>2020-07-16 14:44:21</td>\n",
       "      <td>2020-07-16 14:46:34</td>\n",
       "    </tr>\n",
       "    <tr>\n",
       "      <th>172</th>\n",
       "      <td>99299</td>\n",
       "      <td>33.0</td>\n",
       "      <td>NaN</td>\n",
       "      <td>2.0</td>\n",
       "      <td>2020-07-18 12:50:14</td>\n",
       "      <td>NaT</td>\n",
       "      <td>2020-07-18 12:49:53</td>\n",
       "    </tr>\n",
       "  </tbody>\n",
       "</table>\n",
       "<p>173 rows × 7 columns</p>\n",
       "</div>"
      ],
      "text/plain": [
       "        ID  TIMESTAMP_count_Home  TIMESTAMP_count_Offers  \\\n",
       "0        3                   6.0                     NaN   \n",
       "1      183                  51.0                     NaN   \n",
       "2     1666                   1.0                     NaN   \n",
       "3     1914                   3.0                     NaN   \n",
       "4     2863                  15.0                     NaN   \n",
       "..     ...                   ...                     ...   \n",
       "168  97177                  21.0                     NaN   \n",
       "169  99012                 119.0                     NaN   \n",
       "170  99022                  17.0                     NaN   \n",
       "171  99038                  18.0                     1.0   \n",
       "172  99299                  33.0                     NaN   \n",
       "\n",
       "     TIMESTAMP_count_Settings  TIMESTAMP_max_Home TIMESTAMP_max_Offers  \\\n",
       "0                         2.0 2020-07-30 18:29:15                  NaT   \n",
       "1                         6.0 2020-07-30 14:37:05                  NaT   \n",
       "2                         NaN 2020-07-27 15:39:17                  NaT   \n",
       "3                         NaN 2020-07-30 16:14:40                  NaT   \n",
       "4                         2.0 2020-07-30 22:19:47                  NaT   \n",
       "..                        ...                 ...                  ...   \n",
       "168                       4.0 2020-07-02 07:37:18                  NaT   \n",
       "169                      36.0 2020-07-30 06:21:04                  NaT   \n",
       "170                       5.0 2020-07-30 08:53:22                  NaT   \n",
       "171                       1.0 2020-07-28 17:28:57  2020-07-16 14:44:21   \n",
       "172                       2.0 2020-07-18 12:50:14                  NaT   \n",
       "\n",
       "    TIMESTAMP_max_Settings  \n",
       "0      2020-07-26 06:43:51  \n",
       "1      2020-07-22 13:11:44  \n",
       "2                      NaT  \n",
       "3                      NaT  \n",
       "4      2020-07-29 00:01:47  \n",
       "..                     ...  \n",
       "168    2020-07-01 16:06:45  \n",
       "169    2020-07-25 13:08:00  \n",
       "170    2020-07-30 09:50:33  \n",
       "171    2020-07-16 14:46:34  \n",
       "172    2020-07-18 12:49:53  \n",
       "\n",
       "[173 rows x 7 columns]"
      ]
     },
     "execution_count": 311,
     "metadata": {},
     "output_type": "execute_result"
    }
   ],
   "source": [
    "grouped_events = past_events.groupby(['ID','SCREEN']).agg({'TIMESTAMP' : ['count', 'max']}).unstack().reset_index()\n",
    "cols = [\"_\".join([str(b) for b in a]) for a in grouped_events.columns.tolist()]\n",
    "cols[0] = 'ID'\n",
    "grouped_events.columns = cols\n",
    "grouped_events"
   ]
  },
  {
   "cell_type": "code",
   "execution_count": 312,
   "id": "32a6a91d",
   "metadata": {},
   "outputs": [],
   "source": [
    "# calculate time since last event\n",
    "today = pd.to_datetime(past)\n",
    "grouped_events['time_since_last_home_time'] = (today - grouped_events['TIMESTAMP_max_Home']).astype('timedelta64[h]')\n",
    "grouped_events['time_since_last_offers_time'] = (today - grouped_events['TIMESTAMP_max_Offers']).astype('timedelta64[h]')\n",
    "grouped_events['time_since_last_settings_time'] = (today - grouped_events['TIMESTAMP_max_Settings']).astype('timedelta64[h]')"
   ]
  },
  {
   "cell_type": "code",
   "execution_count": 313,
   "id": "f7beff3a",
   "metadata": {},
   "outputs": [],
   "source": [
    "usable_cols = ['ID', 'TIMESTAMP_count_Home', 'TIMESTAMP_count_Offers',\n",
    "       'TIMESTAMP_count_Settings','time_since_last_home_time', 'time_since_last_offers_time',\n",
    "       'time_since_last_settings_time']\n",
    "transaction_columns = trans_type_grouped.columns.tolist()[1:] + trans_amt_grouped.columns.tolist()[1:]"
   ]
  },
  {
   "cell_type": "markdown",
   "id": "0c16774f",
   "metadata": {},
   "source": [
    "# create training dataset\n",
    "- ambiguity about the data setup because most of the invites are given in august"
   ]
  },
  {
   "cell_type": "code",
   "execution_count": 339,
   "id": "6ad5e09e",
   "metadata": {},
   "outputs": [],
   "source": [
    "final = eligible_users.merge(trans_type_grouped,on=['ID'],how='left')\\\n",
    "              .merge(trans_amt_grouped,on=['ID'],how='left')\\\n",
    "              .merge(grouped_events[usable_cols],on=['ID'],how='left')\\\n",
    "#fill the nulls times with max` time\n",
    "final[['time_since_last_home_time', 'time_since_last_offers_time',\n",
    "       'time_since_last_settings_time']] = final[['time_since_last_home_time', 'time_since_last_offers_time',\n",
    "       'time_since_last_settings_time']].fillna(1500)\n",
    "\n",
    "final[['TIMESTAMP_count_Home', 'TIMESTAMP_count_Offers',\n",
    "       'TIMESTAMP_count_Settings']] = final[['TIMESTAMP_count_Home', 'TIMESTAMP_count_Offers',\n",
    "       'TIMESTAMP_count_Settings']].fillna(0)\n",
    "final[transaction_columns] = final[transaction_columns].fillna(0)\n"
   ]
  },
  {
   "cell_type": "markdown",
   "id": "3cf782f9",
   "metadata": {},
   "source": [
    "# get label"
   ]
  },
  {
   "cell_type": "code",
   "execution_count": 351,
   "id": "97e839f0",
   "metadata": {},
   "outputs": [],
   "source": [
    "\n",
    "end_future_date = pd.to_datetime(future) + relativedelta(months= 1)\n",
    "final['target'] = ((final['CREDIT_OPENED_DATE'] >= future) & (final['CREDIT_OPENED_DATE'] <= end_future_date)).astype('int')"
   ]
  },
  {
   "cell_type": "code",
   "execution_count": 323,
   "id": "ebdabb79",
   "metadata": {},
   "outputs": [
    {
     "data": {
      "text/plain": [
       "0    106\n",
       "1     64\n",
       "Name: target, dtype: int64"
      ]
     },
     "execution_count": 323,
     "metadata": {},
     "output_type": "execute_result"
    }
   ],
   "source": [
    "final['target'].value_counts()"
   ]
  },
  {
   "cell_type": "code",
   "execution_count": 356,
   "id": "797d4aae",
   "metadata": {},
   "outputs": [
    {
     "data": {
      "text/html": [
       "<div>\n",
       "<style scoped>\n",
       "    .dataframe tbody tr th:only-of-type {\n",
       "        vertical-align: middle;\n",
       "    }\n",
       "\n",
       "    .dataframe tbody tr th {\n",
       "        vertical-align: top;\n",
       "    }\n",
       "\n",
       "    .dataframe thead th {\n",
       "        text-align: right;\n",
       "    }\n",
       "</style>\n",
       "<table border=\"1\" class=\"dataframe\">\n",
       "  <thead>\n",
       "    <tr style=\"text-align: right;\">\n",
       "      <th></th>\n",
       "      <th>ID</th>\n",
       "      <th>HAS_SAVINGS_ACCOUNT</th>\n",
       "      <th>KYC_SCORE</th>\n",
       "      <th>DISPUTE_CLAIMS_COUNT</th>\n",
       "      <th>CREDIT_OPENED_DATE_month</th>\n",
       "      <th>open_credit</th>\n",
       "      <th>CREDIT_INELIGIBLE</th>\n",
       "      <th>invite_month</th>\n",
       "      <th>invite_date_within_window</th>\n",
       "      <th>TRANSACTION_AMOUNT_count_atm</th>\n",
       "      <th>...</th>\n",
       "      <th>TRANSACTION_AMOUNT_count_7</th>\n",
       "      <th>TRANSACTION_AMOUNT_max_7</th>\n",
       "      <th>TRANSACTION_AMOUNT_mean_7</th>\n",
       "      <th>TRANSACTION_AMOUNT_median_7</th>\n",
       "      <th>TIMESTAMP_count_Home</th>\n",
       "      <th>TIMESTAMP_count_Offers</th>\n",
       "      <th>TIMESTAMP_count_Settings</th>\n",
       "      <th>time_since_last_home_time</th>\n",
       "      <th>time_since_last_offers_time</th>\n",
       "      <th>time_since_last_settings_time</th>\n",
       "    </tr>\n",
       "    <tr>\n",
       "      <th>target</th>\n",
       "      <th></th>\n",
       "      <th></th>\n",
       "      <th></th>\n",
       "      <th></th>\n",
       "      <th></th>\n",
       "      <th></th>\n",
       "      <th></th>\n",
       "      <th></th>\n",
       "      <th></th>\n",
       "      <th></th>\n",
       "      <th></th>\n",
       "      <th></th>\n",
       "      <th></th>\n",
       "      <th></th>\n",
       "      <th></th>\n",
       "      <th></th>\n",
       "      <th></th>\n",
       "      <th></th>\n",
       "      <th></th>\n",
       "      <th></th>\n",
       "      <th></th>\n",
       "    </tr>\n",
       "  </thead>\n",
       "  <tbody>\n",
       "    <tr>\n",
       "      <th>0</th>\n",
       "      <td>51169.433962</td>\n",
       "      <td>0.764151</td>\n",
       "      <td>0.048191</td>\n",
       "      <td>0.028302</td>\n",
       "      <td>9.090909</td>\n",
       "      <td>0.207547</td>\n",
       "      <td>0.481132</td>\n",
       "      <td>8.150943</td>\n",
       "      <td>0.084906</td>\n",
       "      <td>1.830189</td>\n",
       "      <td>...</td>\n",
       "      <td>34.056604</td>\n",
       "      <td>647.539906</td>\n",
       "      <td>61.295556</td>\n",
       "      <td>16.377547</td>\n",
       "      <td>34.811321</td>\n",
       "      <td>0.273585</td>\n",
       "      <td>5.735849</td>\n",
       "      <td>194.962264</td>\n",
       "      <td>1332.245283</td>\n",
       "      <td>641.075472</td>\n",
       "    </tr>\n",
       "    <tr>\n",
       "      <th>1</th>\n",
       "      <td>52705.984375</td>\n",
       "      <td>0.890625</td>\n",
       "      <td>0.021042</td>\n",
       "      <td>0.078125</td>\n",
       "      <td>8.062500</td>\n",
       "      <td>1.000000</td>\n",
       "      <td>0.000000</td>\n",
       "      <td>7.906250</td>\n",
       "      <td>0.046875</td>\n",
       "      <td>2.781250</td>\n",
       "      <td>...</td>\n",
       "      <td>69.515625</td>\n",
       "      <td>1015.244531</td>\n",
       "      <td>86.722836</td>\n",
       "      <td>18.518750</td>\n",
       "      <td>48.468750</td>\n",
       "      <td>0.343750</td>\n",
       "      <td>10.578125</td>\n",
       "      <td>81.562500</td>\n",
       "      <td>1252.125000</td>\n",
       "      <td>278.703125</td>\n",
       "    </tr>\n",
       "  </tbody>\n",
       "</table>\n",
       "<p>2 rows × 31 columns</p>\n",
       "</div>"
      ],
      "text/plain": [
       "                  ID  HAS_SAVINGS_ACCOUNT  KYC_SCORE  DISPUTE_CLAIMS_COUNT  \\\n",
       "target                                                                       \n",
       "0       51169.433962             0.764151   0.048191              0.028302   \n",
       "1       52705.984375             0.890625   0.021042              0.078125   \n",
       "\n",
       "        CREDIT_OPENED_DATE_month  open_credit  CREDIT_INELIGIBLE  \\\n",
       "target                                                             \n",
       "0                       9.090909     0.207547           0.481132   \n",
       "1                       8.062500     1.000000           0.000000   \n",
       "\n",
       "        invite_month  invite_date_within_window  TRANSACTION_AMOUNT_count_atm  \\\n",
       "target                                                                          \n",
       "0           8.150943                   0.084906                      1.830189   \n",
       "1           7.906250                   0.046875                      2.781250   \n",
       "\n",
       "        ...  TRANSACTION_AMOUNT_count_7  TRANSACTION_AMOUNT_max_7  \\\n",
       "target  ...                                                         \n",
       "0       ...                   34.056604                647.539906   \n",
       "1       ...                   69.515625               1015.244531   \n",
       "\n",
       "        TRANSACTION_AMOUNT_mean_7  TRANSACTION_AMOUNT_median_7  \\\n",
       "target                                                           \n",
       "0                       61.295556                    16.377547   \n",
       "1                       86.722836                    18.518750   \n",
       "\n",
       "        TIMESTAMP_count_Home  TIMESTAMP_count_Offers  \\\n",
       "target                                                 \n",
       "0                  34.811321                0.273585   \n",
       "1                  48.468750                0.343750   \n",
       "\n",
       "        TIMESTAMP_count_Settings  time_since_last_home_time  \\\n",
       "target                                                        \n",
       "0                       5.735849                 194.962264   \n",
       "1                      10.578125                  81.562500   \n",
       "\n",
       "        time_since_last_offers_time  time_since_last_settings_time  \n",
       "target                                                              \n",
       "0                       1332.245283                     641.075472  \n",
       "1                       1252.125000                     278.703125  \n",
       "\n",
       "[2 rows x 31 columns]"
      ]
     },
     "execution_count": 356,
     "metadata": {},
     "output_type": "execute_result"
    }
   ],
   "source": [
    "final.groupby(['target']).mean()"
   ]
  },
  {
   "cell_type": "code",
   "execution_count": null,
   "id": "80eac032",
   "metadata": {},
   "outputs": [],
   "source": [
    "final.groupby(['target','invite_date_within_window']).size().unstack(level=1).plot.bar()"
   ]
  },
  {
   "cell_type": "code",
   "execution_count": null,
   "id": "2967a7ba",
   "metadata": {},
   "outputs": [],
   "source": [
    "from sklearn.preprocessing import StandardScaler, KBinsDiscretizer,FunctionTransformer, OneHotEncoder,LabelEncoder\n",
    "from sklearn.compose import ColumnTransformer\n",
    "from sklearn.pipeline import make_pipeline\n",
    "from sklearn.metrics import accuracy_score, precision_score, recall_score, roc_auc_score, f1_score,classification_report,confusion_matrix,precision_recall_curve\n",
    "from sklearn.linear_model import LogisticRegression\n",
    "from sklearn.model_selection import GridSearchCV,train_test_split, cross_val_score,RepeatedStratifiedKFold\n"
   ]
  },
  {
   "cell_type": "code",
   "execution_count": null,
   "id": "8458a551",
   "metadata": {},
   "outputs": [],
   "source": [
    "\n",
    "training_feats = ['KYC_SCORE','invite_date_within_window', 'time_since_open_spend',\n",
    "         'TRANSACTION_AMOUNT_count_7',\n",
    "       'TRANSACTION_AMOUNT_max_7', 'TRANSACTION_AMOUNT_mean_7',\n",
    "       'TRANSACTION_AMOUNT_median_7', 'TIMESTAMP_count_Home',\n",
    "       'TIMESTAMP_count_Offers', 'TIMESTAMP_count_Settings',\n",
    "       'time_since_last_home_time', 'time_since_last_offers_time',\n",
    "       'time_since_last_settings_time']\n",
    "\n",
    "X_train, X_test, y_train, y_test = train_test_split(final,final['target'],\n",
    "                                                    train_size=0.7, test_size=0.3, random_state=698)\n",
    "\n",
    "\n",
    "\n",
    "linear_model_preprocessor = ColumnTransformer(\n",
    "    [(\"whiten\",StandardScaler(),training_feats)],\n",
    "    remainder=\"drop\",)\n",
    "\n",
    "clf = LogisticRegression()\n",
    "lm_model_pipe = make_pipeline(linear_model_preprocessor,clf)\n"
   ]
  }
 ],
 "metadata": {
  "kernelspec": {
   "display_name": "Python 3",
   "language": "python",
   "name": "python3"
  },
  "language_info": {
   "codemirror_mode": {
    "name": "ipython",
    "version": 3
   },
   "file_extension": ".py",
   "mimetype": "text/x-python",
   "name": "python",
   "nbconvert_exporter": "python",
   "pygments_lexer": "ipython3",
   "version": "3.7.10"
  }
 },
 "nbformat": 4,
 "nbformat_minor": 5
}
