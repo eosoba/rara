{
 "cells": [
  {
   "cell_type": "code",
   "execution_count": 197,
   "metadata": {},
   "outputs": [],
   "source": [
    "import pandas as pd\n",
    "import numpy as np\n",
    "pd.set_option('display.max_columns', 70)\n",
    "import matplotlib.pyplot as plt\n",
    "import ast\n",
    "from sklearn.metrics import accuracy_score,confusion_matrix,precision_score,recall_score,roc_auc_score\n",
    "from sklearn.model_selection import train_test_split\n",
    "from sklearn.linear_model import LogisticRegression\n",
    "from sklearn.compose import ColumnTransformer\n",
    "from sklearn.pipeline import make_pipeline,Pipeline\n",
    "from sklearn.preprocessing import StandardScaler,OneHotEncoder\n",
    "import seaborn as sns"
   ]
  },
  {
   "cell_type": "code",
   "execution_count": 2,
   "metadata": {},
   "outputs": [],
   "source": [
    "fake = pd.read_csv('2021-09-03_fake_interview_data.csv')"
   ]
  },
  {
   "cell_type": "code",
   "execution_count": 3,
   "metadata": {},
   "outputs": [
    {
     "data": {
      "text/html": [
       "<div>\n",
       "<style scoped>\n",
       "    .dataframe tbody tr th:only-of-type {\n",
       "        vertical-align: middle;\n",
       "    }\n",
       "\n",
       "    .dataframe tbody tr th {\n",
       "        vertical-align: top;\n",
       "    }\n",
       "\n",
       "    .dataframe thead th {\n",
       "        text-align: right;\n",
       "    }\n",
       "</style>\n",
       "<table border=\"1\" class=\"dataframe\">\n",
       "  <thead>\n",
       "    <tr style=\"text-align: right;\">\n",
       "      <th></th>\n",
       "      <th>unique_id</th>\n",
       "      <th>sentilink_id_theft_score</th>\n",
       "      <th>sentilink_synthetic_score</th>\n",
       "      <th>label</th>\n",
       "      <th>is_id_theft</th>\n",
       "      <th>is_synthetic</th>\n",
       "      <th>charged_off</th>\n",
       "      <th>booked</th>\n",
       "    </tr>\n",
       "  </thead>\n",
       "  <tbody>\n",
       "    <tr>\n",
       "      <th>0</th>\n",
       "      <td>53e42eae795f8</td>\n",
       "      <td>NaN</td>\n",
       "      <td>20</td>\n",
       "      <td>NaN</td>\n",
       "      <td>NaN</td>\n",
       "      <td>NaN</td>\n",
       "      <td>False</td>\n",
       "      <td>False</td>\n",
       "    </tr>\n",
       "    <tr>\n",
       "      <th>1</th>\n",
       "      <td>c9d46c6858d21</td>\n",
       "      <td>42.0</td>\n",
       "      <td>52</td>\n",
       "      <td>NaN</td>\n",
       "      <td>NaN</td>\n",
       "      <td>NaN</td>\n",
       "      <td>NaN</td>\n",
       "      <td>False</td>\n",
       "    </tr>\n",
       "    <tr>\n",
       "      <th>2</th>\n",
       "      <td>5653fcd4c822f</td>\n",
       "      <td>16.0</td>\n",
       "      <td>7</td>\n",
       "      <td>NaN</td>\n",
       "      <td>NaN</td>\n",
       "      <td>NaN</td>\n",
       "      <td>False</td>\n",
       "      <td>False</td>\n",
       "    </tr>\n",
       "    <tr>\n",
       "      <th>3</th>\n",
       "      <td>d17b1dfa78970</td>\n",
       "      <td>20.0</td>\n",
       "      <td>125</td>\n",
       "      <td>NaN</td>\n",
       "      <td>NaN</td>\n",
       "      <td>NaN</td>\n",
       "      <td>False</td>\n",
       "      <td>False</td>\n",
       "    </tr>\n",
       "    <tr>\n",
       "      <th>4</th>\n",
       "      <td>cac934e3322af</td>\n",
       "      <td>111.0</td>\n",
       "      <td>48</td>\n",
       "      <td>NaN</td>\n",
       "      <td>NaN</td>\n",
       "      <td>NaN</td>\n",
       "      <td>False</td>\n",
       "      <td>True</td>\n",
       "    </tr>\n",
       "  </tbody>\n",
       "</table>\n",
       "</div>"
      ],
      "text/plain": [
       "       unique_id  sentilink_id_theft_score  sentilink_synthetic_score label  \\\n",
       "0  53e42eae795f8                       NaN                         20   NaN   \n",
       "1  c9d46c6858d21                      42.0                         52   NaN   \n",
       "2  5653fcd4c822f                      16.0                          7   NaN   \n",
       "3  d17b1dfa78970                      20.0                        125   NaN   \n",
       "4  cac934e3322af                     111.0                         48   NaN   \n",
       "\n",
       "   is_id_theft  is_synthetic charged_off  booked  \n",
       "0          NaN           NaN       False   False  \n",
       "1          NaN           NaN         NaN   False  \n",
       "2          NaN           NaN       False   False  \n",
       "3          NaN           NaN       False   False  \n",
       "4          NaN           NaN       False    True  "
      ]
     },
     "execution_count": 3,
     "metadata": {},
     "output_type": "execute_result"
    }
   ],
   "source": [
    "fake.head()"
   ]
  },
  {
   "cell_type": "code",
   "execution_count": 4,
   "metadata": {},
   "outputs": [
    {
     "name": "stdout",
     "output_type": "stream",
     "text": [
      "<class 'pandas.core.frame.DataFrame'>\n",
      "RangeIndex: 10000 entries, 0 to 9999\n",
      "Data columns (total 8 columns):\n",
      " #   Column                     Non-Null Count  Dtype  \n",
      "---  ------                     --------------  -----  \n",
      " 0   unique_id                  10000 non-null  object \n",
      " 1   sentilink_id_theft_score   9127 non-null   float64\n",
      " 2   sentilink_synthetic_score  10000 non-null  int64  \n",
      " 3   label                      256 non-null    object \n",
      " 4   is_id_theft                256 non-null    float64\n",
      " 5   is_synthetic               256 non-null    float64\n",
      " 6   charged_off                9014 non-null   object \n",
      " 7   booked                     10000 non-null  bool   \n",
      "dtypes: bool(1), float64(3), int64(1), object(3)\n",
      "memory usage: 556.8+ KB\n"
     ]
    }
   ],
   "source": [
    "fake.info()"
   ]
  },
  {
   "cell_type": "code",
   "execution_count": 12,
   "metadata": {},
   "outputs": [
    {
     "data": {
      "text/plain": [
       "count             10000\n",
       "unique            10000\n",
       "top       53e42eae795f8\n",
       "freq                  1\n",
       "Name: unique_id, dtype: object"
      ]
     },
     "execution_count": 12,
     "metadata": {},
     "output_type": "execute_result"
    }
   ],
   "source": [
    "fake['unique_id'].describe()"
   ]
  },
  {
   "cell_type": "code",
   "execution_count": 5,
   "metadata": {},
   "outputs": [
    {
     "data": {
      "text/plain": [
       "False    8298\n",
       "True      716\n",
       "Name: charged_off, dtype: int64"
      ]
     },
     "execution_count": 5,
     "metadata": {},
     "output_type": "execute_result"
    }
   ],
   "source": [
    "fake['charged_off'].value_counts()"
   ]
  },
  {
   "cell_type": "code",
   "execution_count": 6,
   "metadata": {},
   "outputs": [
    {
     "data": {
      "text/plain": [
       "False    6847\n",
       "True     3153\n",
       "Name: booked, dtype: int64"
      ]
     },
     "execution_count": 6,
     "metadata": {},
     "output_type": "execute_result"
    }
   ],
   "source": [
    "fake['booked'].value_counts()"
   ]
  },
  {
   "cell_type": "code",
   "execution_count": 8,
   "metadata": {},
   "outputs": [
    {
     "data": {
      "text/plain": [
       "0.0    181\n",
       "1.0     75\n",
       "Name: is_id_theft, dtype: int64"
      ]
     },
     "execution_count": 8,
     "metadata": {},
     "output_type": "execute_result"
    }
   ],
   "source": [
    "fake['is_id_theft'].value_counts()"
   ]
  },
  {
   "cell_type": "code",
   "execution_count": 9,
   "metadata": {},
   "outputs": [
    {
     "data": {
      "text/plain": [
       "0.0    134\n",
       "1.0    122\n",
       "Name: is_synthetic, dtype: int64"
      ]
     },
     "execution_count": 9,
     "metadata": {},
     "output_type": "execute_result"
    }
   ],
   "source": [
    "fake['is_synthetic'].value_counts()"
   ]
  },
  {
   "cell_type": "code",
   "execution_count": 10,
   "metadata": {},
   "outputs": [
    {
     "data": {
      "text/plain": [
       "first_party_synthetic    89\n",
       "id_theft                 75\n",
       "clear                    59\n",
       "third_party_synthetic    33\n",
       "Name: label, dtype: int64"
      ]
     },
     "execution_count": 10,
     "metadata": {},
     "output_type": "execute_result"
    }
   ],
   "source": [
    "fake['label'].value_counts()"
   ]
  },
  {
   "cell_type": "markdown",
   "metadata": {},
   "source": [
    "# How many applications have been scored?\n",
    "- how many scored for identity theft, and what\n",
    "- are these numbers on the booked population?"
   ]
  },
  {
   "cell_type": "code",
   "execution_count": 18,
   "metadata": {},
   "outputs": [
    {
     "data": {
      "text/plain": [
       "False    10000\n",
       "Name: sentilink_synthetic_score, dtype: int64"
      ]
     },
     "execution_count": 18,
     "metadata": {},
     "output_type": "execute_result"
    }
   ],
   "source": [
    "\n",
    "fake['sentilink_synthetic_score'].isnull().value_counts()"
   ]
  },
  {
   "cell_type": "markdown",
   "metadata": {},
   "source": [
    "## all customers have a synthetic score"
   ]
  },
  {
   "cell_type": "code",
   "execution_count": 198,
   "metadata": {},
   "outputs": [
    {
     "data": {
      "text/plain": [
       "0         NaN\n",
       "1        42.0\n",
       "2        16.0\n",
       "3        20.0\n",
       "4       111.0\n",
       "        ...  \n",
       "9995     15.0\n",
       "9996     29.0\n",
       "9997     51.0\n",
       "9998    266.0\n",
       "9999     17.0\n",
       "Name: sentilink_id_theft_score, Length: 10000, dtype: float64"
      ]
     },
     "execution_count": 198,
     "metadata": {},
     "output_type": "execute_result"
    }
   ],
   "source": [
    "fake['sentilink_id_theft_score']"
   ]
  },
  {
   "cell_type": "code",
   "execution_count": 199,
   "metadata": {},
   "outputs": [
    {
     "data": {
      "text/plain": [
       "True     9127\n",
       "False     873\n",
       "Name: sentilink_id_theft_score, dtype: int64"
      ]
     },
     "execution_count": 199,
     "metadata": {},
     "output_type": "execute_result"
    }
   ],
   "source": [
    "fake['sentilink_id_theft_score'].notna().value_counts()"
   ]
  },
  {
   "cell_type": "markdown",
   "metadata": {},
   "source": [
    "## 873 users have a id_theft score"
   ]
  },
  {
   "cell_type": "code",
   "execution_count": 24,
   "metadata": {},
   "outputs": [
    {
     "data": {
      "text/plain": [
       "False    2884\n",
       "True      269\n",
       "Name: sentilink_id_theft_score, dtype: int64"
      ]
     },
     "execution_count": 24,
     "metadata": {},
     "output_type": "execute_result"
    }
   ],
   "source": [
    "fake[fake['booked']]['sentilink_id_theft_score'].isnull().value_counts()"
   ]
  },
  {
   "cell_type": "code",
   "execution_count": 26,
   "metadata": {},
   "outputs": [
    {
     "data": {
      "text/plain": [
       "False    3153\n",
       "Name: sentilink_synthetic_score, dtype: int64"
      ]
     },
     "execution_count": 26,
     "metadata": {},
     "output_type": "execute_result"
    }
   ],
   "source": [
    "fake[fake['booked']]['sentilink_synthetic_score'].isnull().value_counts()"
   ]
  },
  {
   "cell_type": "markdown",
   "metadata": {},
   "source": [
    "## out of those who are booked, 269 have id_theft score\n",
    "- every one who is booked has a synthetic score"
   ]
  },
  {
   "cell_type": "markdown",
   "metadata": {},
   "source": [
    "## What is the charge-off rate amongst booked accounts?"
   ]
  },
  {
   "cell_type": "code",
   "execution_count": 201,
   "metadata": {},
   "outputs": [
    {
     "data": {
      "text/plain": [
       "False    9014\n",
       "True      986\n",
       "Name: charged_off, dtype: int64"
      ]
     },
     "execution_count": 201,
     "metadata": {},
     "output_type": "execute_result"
    }
   ],
   "source": [
    "fake['charged_off'].isnull().value_counts()"
   ]
  },
  {
   "cell_type": "code",
   "execution_count": 202,
   "metadata": {},
   "outputs": [],
   "source": [
    "fake['charged_null'] = fake['charged_off'].isnull()"
   ]
  },
  {
   "cell_type": "code",
   "execution_count": 29,
   "metadata": {},
   "outputs": [
    {
     "data": {
      "text/plain": [
       "booked  charged_off\n",
       "False   False          5861\n",
       "True    False          2437\n",
       "        True            716\n",
       "dtype: int64"
      ]
     },
     "execution_count": 29,
     "metadata": {},
     "output_type": "execute_result"
    }
   ],
   "source": [
    "fake.groupby(['booked','charged_off']).size()"
   ]
  },
  {
   "cell_type": "code",
   "execution_count": 206,
   "metadata": {},
   "outputs": [
    {
     "data": {
      "text/html": [
       "<div>\n",
       "<style scoped>\n",
       "    .dataframe tbody tr th:only-of-type {\n",
       "        vertical-align: middle;\n",
       "    }\n",
       "\n",
       "    .dataframe tbody tr th {\n",
       "        vertical-align: top;\n",
       "    }\n",
       "\n",
       "    .dataframe thead th {\n",
       "        text-align: right;\n",
       "    }\n",
       "</style>\n",
       "<table border=\"1\" class=\"dataframe\">\n",
       "  <thead>\n",
       "    <tr style=\"text-align: right;\">\n",
       "      <th></th>\n",
       "      <th>unique_id</th>\n",
       "      <th>sentilink_id_theft_score</th>\n",
       "      <th>sentilink_synthetic_score</th>\n",
       "      <th>label</th>\n",
       "      <th>is_id_theft</th>\n",
       "      <th>is_synthetic</th>\n",
       "      <th>charged_off</th>\n",
       "      <th>booked</th>\n",
       "      <th>syn_bins</th>\n",
       "      <th>theft_bins</th>\n",
       "      <th>has_label</th>\n",
       "      <th>charged_null</th>\n",
       "    </tr>\n",
       "  </thead>\n",
       "  <tbody>\n",
       "    <tr>\n",
       "      <th>0</th>\n",
       "      <td>53e42eae795f8</td>\n",
       "      <td>NaN</td>\n",
       "      <td>20</td>\n",
       "      <td>NaN</td>\n",
       "      <td>NaN</td>\n",
       "      <td>NaN</td>\n",
       "      <td>False</td>\n",
       "      <td>False</td>\n",
       "      <td>(19.0, 26.0]</td>\n",
       "      <td>NaN</td>\n",
       "      <td>False</td>\n",
       "      <td>False</td>\n",
       "    </tr>\n",
       "    <tr>\n",
       "      <th>2</th>\n",
       "      <td>5653fcd4c822f</td>\n",
       "      <td>16.0</td>\n",
       "      <td>7</td>\n",
       "      <td>NaN</td>\n",
       "      <td>NaN</td>\n",
       "      <td>NaN</td>\n",
       "      <td>False</td>\n",
       "      <td>False</td>\n",
       "      <td>(4.999, 19.0]</td>\n",
       "      <td>(8.999, 18.0]</td>\n",
       "      <td>False</td>\n",
       "      <td>False</td>\n",
       "    </tr>\n",
       "    <tr>\n",
       "      <th>3</th>\n",
       "      <td>d17b1dfa78970</td>\n",
       "      <td>20.0</td>\n",
       "      <td>125</td>\n",
       "      <td>NaN</td>\n",
       "      <td>NaN</td>\n",
       "      <td>NaN</td>\n",
       "      <td>False</td>\n",
       "      <td>False</td>\n",
       "      <td>(114.0, 997.0]</td>\n",
       "      <td>(18.0, 22.0]</td>\n",
       "      <td>False</td>\n",
       "      <td>False</td>\n",
       "    </tr>\n",
       "    <tr>\n",
       "      <th>5</th>\n",
       "      <td>1eb423789569e</td>\n",
       "      <td>NaN</td>\n",
       "      <td>92</td>\n",
       "      <td>NaN</td>\n",
       "      <td>NaN</td>\n",
       "      <td>NaN</td>\n",
       "      <td>False</td>\n",
       "      <td>False</td>\n",
       "      <td>(81.0, 114.0]</td>\n",
       "      <td>NaN</td>\n",
       "      <td>False</td>\n",
       "      <td>False</td>\n",
       "    </tr>\n",
       "    <tr>\n",
       "      <th>9</th>\n",
       "      <td>3c8964b5b41d9</td>\n",
       "      <td>27.0</td>\n",
       "      <td>310</td>\n",
       "      <td>NaN</td>\n",
       "      <td>NaN</td>\n",
       "      <td>NaN</td>\n",
       "      <td>False</td>\n",
       "      <td>False</td>\n",
       "      <td>(114.0, 997.0]</td>\n",
       "      <td>(26.0, 33.0]</td>\n",
       "      <td>False</td>\n",
       "      <td>False</td>\n",
       "    </tr>\n",
       "    <tr>\n",
       "      <th>...</th>\n",
       "      <td>...</td>\n",
       "      <td>...</td>\n",
       "      <td>...</td>\n",
       "      <td>...</td>\n",
       "      <td>...</td>\n",
       "      <td>...</td>\n",
       "      <td>...</td>\n",
       "      <td>...</td>\n",
       "      <td>...</td>\n",
       "      <td>...</td>\n",
       "      <td>...</td>\n",
       "      <td>...</td>\n",
       "    </tr>\n",
       "    <tr>\n",
       "      <th>9993</th>\n",
       "      <td>e08488272f39c</td>\n",
       "      <td>21.0</td>\n",
       "      <td>23</td>\n",
       "      <td>NaN</td>\n",
       "      <td>NaN</td>\n",
       "      <td>NaN</td>\n",
       "      <td>False</td>\n",
       "      <td>False</td>\n",
       "      <td>(19.0, 26.0]</td>\n",
       "      <td>(18.0, 22.0]</td>\n",
       "      <td>False</td>\n",
       "      <td>False</td>\n",
       "    </tr>\n",
       "    <tr>\n",
       "      <th>9994</th>\n",
       "      <td>93080c679b0a9</td>\n",
       "      <td>NaN</td>\n",
       "      <td>27</td>\n",
       "      <td>NaN</td>\n",
       "      <td>NaN</td>\n",
       "      <td>NaN</td>\n",
       "      <td>False</td>\n",
       "      <td>False</td>\n",
       "      <td>(26.0, 32.0]</td>\n",
       "      <td>NaN</td>\n",
       "      <td>False</td>\n",
       "      <td>False</td>\n",
       "    </tr>\n",
       "    <tr>\n",
       "      <th>9997</th>\n",
       "      <td>e91f830311f89</td>\n",
       "      <td>51.0</td>\n",
       "      <td>107</td>\n",
       "      <td>NaN</td>\n",
       "      <td>NaN</td>\n",
       "      <td>NaN</td>\n",
       "      <td>False</td>\n",
       "      <td>False</td>\n",
       "      <td>(81.0, 114.0]</td>\n",
       "      <td>(43.0, 60.0]</td>\n",
       "      <td>False</td>\n",
       "      <td>False</td>\n",
       "    </tr>\n",
       "    <tr>\n",
       "      <th>9998</th>\n",
       "      <td>c88b31db5f353</td>\n",
       "      <td>266.0</td>\n",
       "      <td>80</td>\n",
       "      <td>NaN</td>\n",
       "      <td>NaN</td>\n",
       "      <td>NaN</td>\n",
       "      <td>False</td>\n",
       "      <td>False</td>\n",
       "      <td>(70.0, 81.0]</td>\n",
       "      <td>(151.0, 337.0]</td>\n",
       "      <td>False</td>\n",
       "      <td>False</td>\n",
       "    </tr>\n",
       "    <tr>\n",
       "      <th>9999</th>\n",
       "      <td>b7c3f5418362f</td>\n",
       "      <td>17.0</td>\n",
       "      <td>74</td>\n",
       "      <td>NaN</td>\n",
       "      <td>NaN</td>\n",
       "      <td>NaN</td>\n",
       "      <td>False</td>\n",
       "      <td>False</td>\n",
       "      <td>(70.0, 81.0]</td>\n",
       "      <td>(8.999, 18.0]</td>\n",
       "      <td>False</td>\n",
       "      <td>False</td>\n",
       "    </tr>\n",
       "  </tbody>\n",
       "</table>\n",
       "<p>5861 rows × 12 columns</p>\n",
       "</div>"
      ],
      "text/plain": [
       "          unique_id  sentilink_id_theft_score  sentilink_synthetic_score  \\\n",
       "0     53e42eae795f8                       NaN                         20   \n",
       "2     5653fcd4c822f                      16.0                          7   \n",
       "3     d17b1dfa78970                      20.0                        125   \n",
       "5     1eb423789569e                       NaN                         92   \n",
       "9     3c8964b5b41d9                      27.0                        310   \n",
       "...             ...                       ...                        ...   \n",
       "9993  e08488272f39c                      21.0                         23   \n",
       "9994  93080c679b0a9                       NaN                         27   \n",
       "9997  e91f830311f89                      51.0                        107   \n",
       "9998  c88b31db5f353                     266.0                         80   \n",
       "9999  b7c3f5418362f                      17.0                         74   \n",
       "\n",
       "     label  is_id_theft  is_synthetic charged_off  booked        syn_bins  \\\n",
       "0      NaN          NaN           NaN       False   False    (19.0, 26.0]   \n",
       "2      NaN          NaN           NaN       False   False   (4.999, 19.0]   \n",
       "3      NaN          NaN           NaN       False   False  (114.0, 997.0]   \n",
       "5      NaN          NaN           NaN       False   False   (81.0, 114.0]   \n",
       "9      NaN          NaN           NaN       False   False  (114.0, 997.0]   \n",
       "...    ...          ...           ...         ...     ...             ...   \n",
       "9993   NaN          NaN           NaN       False   False    (19.0, 26.0]   \n",
       "9994   NaN          NaN           NaN       False   False    (26.0, 32.0]   \n",
       "9997   NaN          NaN           NaN       False   False   (81.0, 114.0]   \n",
       "9998   NaN          NaN           NaN       False   False    (70.0, 81.0]   \n",
       "9999   NaN          NaN           NaN       False   False    (70.0, 81.0]   \n",
       "\n",
       "          theft_bins  has_label  charged_null  \n",
       "0                NaN      False         False  \n",
       "2      (8.999, 18.0]      False         False  \n",
       "3       (18.0, 22.0]      False         False  \n",
       "5                NaN      False         False  \n",
       "9       (26.0, 33.0]      False         False  \n",
       "...              ...        ...           ...  \n",
       "9993    (18.0, 22.0]      False         False  \n",
       "9994             NaN      False         False  \n",
       "9997    (43.0, 60.0]      False         False  \n",
       "9998  (151.0, 337.0]      False         False  \n",
       "9999   (8.999, 18.0]      False         False  \n",
       "\n",
       "[5861 rows x 12 columns]"
      ]
     },
     "execution_count": 206,
     "metadata": {},
     "output_type": "execute_result"
    }
   ],
   "source": [
    "fake[~fake['charged_null'] & ~fake['booked']]"
   ]
  },
  {
   "cell_type": "code",
   "execution_count": 207,
   "metadata": {},
   "outputs": [],
   "source": [
    "fake2 = fake.copy()"
   ]
  },
  {
   "cell_type": "code",
   "execution_count": 209,
   "metadata": {},
   "outputs": [
    {
     "data": {
      "text/plain": [
       "0        None\n",
       "1        None\n",
       "2        None\n",
       "3        None\n",
       "4       False\n",
       "        ...  \n",
       "9995     None\n",
       "9996    False\n",
       "9997     None\n",
       "9998     None\n",
       "9999     None\n",
       "Length: 10000, dtype: object"
      ]
     },
     "execution_count": 209,
     "metadata": {},
     "output_type": "execute_result"
    }
   ],
   "source": [
    "fake.apply(lambda x: x['charged_off'] if x['booked'] else None,axis=1)"
   ]
  },
  {
   "cell_type": "code",
   "execution_count": null,
   "metadata": {},
   "outputs": [],
   "source": [
    "fake2['fixed_charged_off'] = fake.apply(lambda x: x['charged_off'] if x['booked'] else None,axis=2)"
   ]
  },
  {
   "cell_type": "code",
   "execution_count": 203,
   "metadata": {},
   "outputs": [
    {
     "data": {
      "text/plain": [
       "booked  charged_null\n",
       "False   False           5861\n",
       "        True             986\n",
       "True    False           3153\n",
       "dtype: int64"
      ]
     },
     "execution_count": 203,
     "metadata": {},
     "output_type": "execute_result"
    }
   ],
   "source": [
    "fake.groupby(['booked','charged_null']).size()"
   ]
  },
  {
   "cell_type": "code",
   "execution_count": 30,
   "metadata": {},
   "outputs": [
    {
     "data": {
      "text/plain": [
       "booked  charged_off\n",
       "False   False          0.855995\n",
       "True    False          0.772915\n",
       "        True           0.227085\n",
       "dtype: float64"
      ]
     },
     "execution_count": 30,
     "metadata": {},
     "output_type": "execute_result"
    }
   ],
   "source": [
    "fake.groupby(['booked','charged_off']).size()/fake.groupby(['booked']).size()"
   ]
  },
  {
   "cell_type": "markdown",
   "metadata": {},
   "source": [
    "## the charge off rate is 22.7%\n",
    "- fraction of the charge_off of those booked"
   ]
  },
  {
   "cell_type": "markdown",
   "metadata": {},
   "source": [
    "## Imagine that we are considering returning this file to a prospective customer. \n",
    "- Are there any potential issues with the data quality or format that you would want to check before returning?"
   ]
  },
  {
   "cell_type": "markdown",
   "metadata": {},
   "source": [
    "- why are there nulls in the theft score and charged_off?\n",
    "- presumably, we should know explicitly if someone's account is delinquent\n",
    "- manual labels are also such a small fraction of the data set."
   ]
  },
  {
   "cell_type": "markdown",
   "metadata": {},
   "source": [
    "## 4. How would you summarize the distribution of the fraud scores?"
   ]
  },
  {
   "cell_type": "code",
   "execution_count": 33,
   "metadata": {},
   "outputs": [
    {
     "data": {
      "text/plain": [
       "<AxesSubplot:>"
      ]
     },
     "execution_count": 33,
     "metadata": {},
     "output_type": "execute_result"
    },
    {
     "data": {
      "image/png": "[encoded data removed]",
      "text/plain": [
       "<Figure size 432x288 with 1 Axes>"
      ]
     },
     "metadata": {
      "needs_background": "light"
     },
     "output_type": "display_data"
    }
   ],
   "source": [
    "fake['sentilink_synthetic_score'].hist(bins=20)"
   ]
  },
  {
   "cell_type": "code",
   "execution_count": 38,
   "metadata": {},
   "outputs": [
    {
     "data": {
      "text/plain": [
       "0.90    114.00\n",
       "0.95    436.05\n",
       "0.99    795.00\n",
       "Name: sentilink_synthetic_score, dtype: float64"
      ]
     },
     "execution_count": 38,
     "metadata": {},
     "output_type": "execute_result"
    }
   ],
   "source": [
    "fake['sentilink_synthetic_score'].quantile([0.9,0.95,0.99])"
   ]
  },
  {
   "cell_type": "code",
   "execution_count": 34,
   "metadata": {},
   "outputs": [
    {
     "data": {
      "text/plain": [
       "count    10000.000000\n",
       "mean        89.882500\n",
       "std        150.149737\n",
       "min          5.000000\n",
       "25%         29.000000\n",
       "50%         48.000000\n",
       "75%         75.000000\n",
       "max        997.000000\n",
       "Name: sentilink_synthetic_score, dtype: float64"
      ]
     },
     "execution_count": 34,
     "metadata": {},
     "output_type": "execute_result"
    }
   ],
   "source": [
    "fake['sentilink_synthetic_score'].describe()"
   ]
  },
  {
   "cell_type": "markdown",
   "metadata": {},
   "source": [
    "## left skewed distribution\n",
    "- half of the users have score under 48, meaning there's low probability of fraud\n",
    "- 10% of users have scores above 114, and even that's low threshold for synthetic fraud"
   ]
  },
  {
   "cell_type": "code",
   "execution_count": 40,
   "metadata": {},
   "outputs": [
    {
     "data": {
      "text/plain": [
       "<AxesSubplot:>"
      ]
     },
     "execution_count": 40,
     "metadata": {},
     "output_type": "execute_result"
    },
    {
     "data": {
      "image/png": "[encoded data removed]",
      "text/plain": [
       "<Figure size 432x288 with 1 Axes>"
      ]
     },
     "metadata": {
      "needs_background": "light"
     },
     "output_type": "display_data"
    }
   ],
   "source": [
    "fake['sentilink_id_theft_score'].hist(bins=20)"
   ]
  },
  {
   "cell_type": "code",
   "execution_count": 41,
   "metadata": {},
   "outputs": [
    {
     "data": {
      "text/plain": [
       "0.90    337.00\n",
       "0.95    581.70\n",
       "0.99    815.74\n",
       "Name: sentilink_id_theft_score, dtype: float64"
      ]
     },
     "execution_count": 41,
     "metadata": {},
     "output_type": "execute_result"
    }
   ],
   "source": [
    "fake['sentilink_id_theft_score'].quantile([0.9,0.95,0.99])"
   ]
  },
  {
   "cell_type": "code",
   "execution_count": 39,
   "metadata": {},
   "outputs": [
    {
     "data": {
      "text/plain": [
       "count    9127.000000\n",
       "mean      118.239619\n",
       "std       178.775570\n",
       "min         9.000000\n",
       "25%        24.000000\n",
       "50%        43.000000\n",
       "75%       113.000000\n",
       "max       983.000000\n",
       "Name: sentilink_id_theft_score, dtype: float64"
      ]
     },
     "execution_count": 39,
     "metadata": {},
     "output_type": "execute_result"
    }
   ],
   "source": [
    "fake['sentilink_id_theft_score'].describe()"
   ]
  },
  {
   "cell_type": "markdown",
   "metadata": {},
   "source": [
    "## left skewed distribution\n",
    "- half of the users have score sunder 43, meaning there's low probability of id theft\n",
    "- 10% of users have scores above 337"
   ]
  },
  {
   "cell_type": "markdown",
   "metadata": {},
   "source": [
    "## 5. What is your best estimate of the rate of synthetic fraud in different bins of the synthetic score? Same question for the identity theft score and identity theft.\n",
    "- Bonus: estimate with uncertainty."
   ]
  },
  {
   "cell_type": "code",
   "execution_count": 87,
   "metadata": {},
   "outputs": [
    {
     "name": "stdout",
     "output_type": "stream",
     "text": [
      "<class 'pandas.core.frame.DataFrame'>\n",
      "RangeIndex: 10000 entries, 0 to 9999\n",
      "Data columns (total 10 columns):\n",
      " #   Column                     Non-Null Count  Dtype   \n",
      "---  ------                     --------------  -----   \n",
      " 0   unique_id                  10000 non-null  object  \n",
      " 1   sentilink_id_theft_score   9127 non-null   float64 \n",
      " 2   sentilink_synthetic_score  10000 non-null  int64   \n",
      " 3   label                      256 non-null    object  \n",
      " 4   is_id_theft                256 non-null    float64 \n",
      " 5   is_synthetic               256 non-null    float64 \n",
      " 6   charged_off                9014 non-null   object  \n",
      " 7   booked                     10000 non-null  bool    \n",
      " 8   syn_bins                   10000 non-null  category\n",
      " 9   theft_bins                 9127 non-null   float64 \n",
      "dtypes: bool(1), category(1), float64(4), int64(1), object(3)\n",
      "memory usage: 645.4+ KB\n"
     ]
    }
   ],
   "source": [
    "fake.info()"
   ]
  },
  {
   "cell_type": "code",
   "execution_count": 213,
   "metadata": {},
   "outputs": [
    {
     "data": {
      "text/plain": [
       "label                  is_synthetic\n",
       "clear                  0.0             59\n",
       "first_party_synthetic  1.0             89\n",
       "id_theft               0.0             75\n",
       "third_party_synthetic  1.0             33\n",
       "dtype: int64"
      ]
     },
     "execution_count": 213,
     "metadata": {},
     "output_type": "execute_result"
    }
   ],
   "source": [
    "fake.groupby(['label','is_synthetic']).size()"
   ]
  },
  {
   "cell_type": "code",
   "execution_count": 212,
   "metadata": {},
   "outputs": [
    {
     "data": {
      "text/plain": [
       "label                  is_id_theft\n",
       "clear                  0.0            59\n",
       "first_party_synthetic  0.0            89\n",
       "id_theft               1.0            75\n",
       "third_party_synthetic  0.0            33\n",
       "dtype: int64"
      ]
     },
     "execution_count": 212,
     "metadata": {},
     "output_type": "execute_result"
    }
   ],
   "source": [
    "fake.groupby(['label','is_id_theft']).size()"
   ]
  },
  {
   "cell_type": "code",
   "execution_count": 124,
   "metadata": {},
   "outputs": [],
   "source": [
    "fake['has_label'] = fake['label'].notna()"
   ]
  },
  {
   "cell_type": "code",
   "execution_count": 180,
   "metadata": {},
   "outputs": [],
   "source": [
    "fake['theft_bins'] =pd.qcut(fake['sentilink_id_theft_score'],10)"
   ]
  },
  {
   "cell_type": "code",
   "execution_count": 137,
   "metadata": {},
   "outputs": [
    {
     "data": {
      "text/plain": [
       "theft_bins\n",
       "(8.999, 18.0]     0.011788\n",
       "(18.0, 22.0]      0.009923\n",
       "(22.0, 26.0]      0.007335\n",
       "(26.0, 33.0]      0.010040\n",
       "(33.0, 43.0]      0.009050\n",
       "(43.0, 60.0]      0.017998\n",
       "(60.0, 89.0]      0.007910\n",
       "(89.0, 151.0]     0.016520\n",
       "(151.0, 337.0]    0.028571\n",
       "(337.0, 983.0]    0.145833\n",
       "dtype: float64"
      ]
     },
     "execution_count": 137,
     "metadata": {},
     "output_type": "execute_result"
    }
   ],
   "source": [
    "sampling_rate = fake[fake['has_label']].groupby('theft_bins').size()/fake.groupby('theft_bins').size()\n",
    "sampling_rate"
   ]
  },
  {
   "cell_type": "markdown",
   "metadata": {},
   "source": [
    "## the manuals labels are not uniformly sampled across the bins"
   ]
  },
  {
   "cell_type": "code",
   "execution_count": 190,
   "metadata": {},
   "outputs": [],
   "source": [
    "theft_bin_rate = fake.groupby(['theft_bins','is_id_theft']).size()/fake[fake['has_label']].groupby('theft_bins').size()"
   ]
  },
  {
   "cell_type": "code",
   "execution_count": 191,
   "metadata": {},
   "outputs": [
    {
     "data": {
      "text/html": [
       "<div>\n",
       "<style scoped>\n",
       "    .dataframe tbody tr th:only-of-type {\n",
       "        vertical-align: middle;\n",
       "    }\n",
       "\n",
       "    .dataframe tbody tr th {\n",
       "        vertical-align: top;\n",
       "    }\n",
       "\n",
       "    .dataframe thead th {\n",
       "        text-align: right;\n",
       "    }\n",
       "</style>\n",
       "<table border=\"1\" class=\"dataframe\">\n",
       "  <thead>\n",
       "    <tr style=\"text-align: right;\">\n",
       "      <th></th>\n",
       "      <th>theft_bins</th>\n",
       "      <th>is_id_theft</th>\n",
       "      <th>0</th>\n",
       "    </tr>\n",
       "  </thead>\n",
       "  <tbody>\n",
       "    <tr>\n",
       "      <th>0</th>\n",
       "      <td>(8.999, 18.0]</td>\n",
       "      <td>0.0</td>\n",
       "      <td>1.000000</td>\n",
       "    </tr>\n",
       "    <tr>\n",
       "      <th>1</th>\n",
       "      <td>(8.999, 18.0]</td>\n",
       "      <td>1.0</td>\n",
       "      <td>0.000000</td>\n",
       "    </tr>\n",
       "    <tr>\n",
       "      <th>2</th>\n",
       "      <td>(18.0, 22.0]</td>\n",
       "      <td>0.0</td>\n",
       "      <td>1.000000</td>\n",
       "    </tr>\n",
       "    <tr>\n",
       "      <th>3</th>\n",
       "      <td>(18.0, 22.0]</td>\n",
       "      <td>1.0</td>\n",
       "      <td>0.000000</td>\n",
       "    </tr>\n",
       "    <tr>\n",
       "      <th>4</th>\n",
       "      <td>(22.0, 26.0]</td>\n",
       "      <td>0.0</td>\n",
       "      <td>1.000000</td>\n",
       "    </tr>\n",
       "    <tr>\n",
       "      <th>5</th>\n",
       "      <td>(22.0, 26.0]</td>\n",
       "      <td>1.0</td>\n",
       "      <td>0.000000</td>\n",
       "    </tr>\n",
       "    <tr>\n",
       "      <th>6</th>\n",
       "      <td>(26.0, 33.0]</td>\n",
       "      <td>0.0</td>\n",
       "      <td>1.000000</td>\n",
       "    </tr>\n",
       "    <tr>\n",
       "      <th>7</th>\n",
       "      <td>(26.0, 33.0]</td>\n",
       "      <td>1.0</td>\n",
       "      <td>0.000000</td>\n",
       "    </tr>\n",
       "    <tr>\n",
       "      <th>8</th>\n",
       "      <td>(33.0, 43.0]</td>\n",
       "      <td>0.0</td>\n",
       "      <td>1.000000</td>\n",
       "    </tr>\n",
       "    <tr>\n",
       "      <th>9</th>\n",
       "      <td>(33.0, 43.0]</td>\n",
       "      <td>1.0</td>\n",
       "      <td>0.000000</td>\n",
       "    </tr>\n",
       "    <tr>\n",
       "      <th>10</th>\n",
       "      <td>(43.0, 60.0]</td>\n",
       "      <td>0.0</td>\n",
       "      <td>1.000000</td>\n",
       "    </tr>\n",
       "    <tr>\n",
       "      <th>11</th>\n",
       "      <td>(43.0, 60.0]</td>\n",
       "      <td>1.0</td>\n",
       "      <td>0.000000</td>\n",
       "    </tr>\n",
       "    <tr>\n",
       "      <th>12</th>\n",
       "      <td>(60.0, 89.0]</td>\n",
       "      <td>0.0</td>\n",
       "      <td>1.000000</td>\n",
       "    </tr>\n",
       "    <tr>\n",
       "      <th>13</th>\n",
       "      <td>(60.0, 89.0]</td>\n",
       "      <td>1.0</td>\n",
       "      <td>0.000000</td>\n",
       "    </tr>\n",
       "    <tr>\n",
       "      <th>14</th>\n",
       "      <td>(89.0, 151.0]</td>\n",
       "      <td>0.0</td>\n",
       "      <td>1.000000</td>\n",
       "    </tr>\n",
       "    <tr>\n",
       "      <th>15</th>\n",
       "      <td>(89.0, 151.0]</td>\n",
       "      <td>1.0</td>\n",
       "      <td>0.000000</td>\n",
       "    </tr>\n",
       "    <tr>\n",
       "      <th>16</th>\n",
       "      <td>(151.0, 337.0]</td>\n",
       "      <td>0.0</td>\n",
       "      <td>0.961538</td>\n",
       "    </tr>\n",
       "    <tr>\n",
       "      <th>17</th>\n",
       "      <td>(151.0, 337.0]</td>\n",
       "      <td>1.0</td>\n",
       "      <td>0.038462</td>\n",
       "    </tr>\n",
       "    <tr>\n",
       "      <th>18</th>\n",
       "      <td>(337.0, 983.0]</td>\n",
       "      <td>0.0</td>\n",
       "      <td>0.466165</td>\n",
       "    </tr>\n",
       "    <tr>\n",
       "      <th>19</th>\n",
       "      <td>(337.0, 983.0]</td>\n",
       "      <td>1.0</td>\n",
       "      <td>0.533835</td>\n",
       "    </tr>\n",
       "  </tbody>\n",
       "</table>\n",
       "</div>"
      ],
      "text/plain": [
       "        theft_bins  is_id_theft         0\n",
       "0    (8.999, 18.0]          0.0  1.000000\n",
       "1    (8.999, 18.0]          1.0  0.000000\n",
       "2     (18.0, 22.0]          0.0  1.000000\n",
       "3     (18.0, 22.0]          1.0  0.000000\n",
       "4     (22.0, 26.0]          0.0  1.000000\n",
       "5     (22.0, 26.0]          1.0  0.000000\n",
       "6     (26.0, 33.0]          0.0  1.000000\n",
       "7     (26.0, 33.0]          1.0  0.000000\n",
       "8     (33.0, 43.0]          0.0  1.000000\n",
       "9     (33.0, 43.0]          1.0  0.000000\n",
       "10    (43.0, 60.0]          0.0  1.000000\n",
       "11    (43.0, 60.0]          1.0  0.000000\n",
       "12    (60.0, 89.0]          0.0  1.000000\n",
       "13    (60.0, 89.0]          1.0  0.000000\n",
       "14   (89.0, 151.0]          0.0  1.000000\n",
       "15   (89.0, 151.0]          1.0  0.000000\n",
       "16  (151.0, 337.0]          0.0  0.961538\n",
       "17  (151.0, 337.0]          1.0  0.038462\n",
       "18  (337.0, 983.0]          0.0  0.466165\n",
       "19  (337.0, 983.0]          1.0  0.533835"
      ]
     },
     "execution_count": 191,
     "metadata": {},
     "output_type": "execute_result"
    }
   ],
   "source": [
    "theft_bin_rate.reset_index()"
   ]
  },
  {
   "cell_type": "markdown",
   "metadata": {},
   "source": [
    "# the fraction of actual fraud is \n",
    "- 0% in the lower quantiles but it is 3% and 53% in the 80th and 90th percentile\n",
    "- We are making an assumption that fraud rate in the sampled pop is equivalent to the fraud rate in the entire bin"
   ]
  },
  {
   "cell_type": "code",
   "execution_count": 215,
   "metadata": {},
   "outputs": [
    {
     "data": {
      "text/plain": [
       "count    10000.000000\n",
       "mean        89.882500\n",
       "std        150.149737\n",
       "min          5.000000\n",
       "25%         29.000000\n",
       "50%         48.000000\n",
       "75%         75.000000\n",
       "max        997.000000\n",
       "Name: sentilink_synthetic_score, dtype: float64"
      ]
     },
     "execution_count": 215,
     "metadata": {},
     "output_type": "execute_result"
    }
   ],
   "source": [
    "fake['sentilink_synthetic_score'].describe()"
   ]
  },
  {
   "cell_type": "code",
   "execution_count": 221,
   "metadata": {},
   "outputs": [],
   "source": [
    "fake['syn_cut'] = pd.cut(fake['sentilink_synthetic_score'],range(0,1100,100))"
   ]
  },
  {
   "cell_type": "code",
   "execution_count": 222,
   "metadata": {},
   "outputs": [],
   "source": [
    "rate = fake.groupby(['syn_cut','is_synthetic']).size()/fake[fake['has_label']].groupby('syn_cut').size()"
   ]
  },
  {
   "cell_type": "code",
   "execution_count": 223,
   "metadata": {},
   "outputs": [
    {
     "data": {
      "text/html": [
       "<div>\n",
       "<style scoped>\n",
       "    .dataframe tbody tr th:only-of-type {\n",
       "        vertical-align: middle;\n",
       "    }\n",
       "\n",
       "    .dataframe tbody tr th {\n",
       "        vertical-align: top;\n",
       "    }\n",
       "\n",
       "    .dataframe thead th {\n",
       "        text-align: right;\n",
       "    }\n",
       "</style>\n",
       "<table border=\"1\" class=\"dataframe\">\n",
       "  <thead>\n",
       "    <tr style=\"text-align: right;\">\n",
       "      <th></th>\n",
       "      <th>syn_cut</th>\n",
       "      <th>is_synthetic</th>\n",
       "      <th>0</th>\n",
       "    </tr>\n",
       "  </thead>\n",
       "  <tbody>\n",
       "    <tr>\n",
       "      <th>0</th>\n",
       "      <td>(0, 100]</td>\n",
       "      <td>0.0</td>\n",
       "      <td>1.000000</td>\n",
       "    </tr>\n",
       "    <tr>\n",
       "      <th>1</th>\n",
       "      <td>(0, 100]</td>\n",
       "      <td>1.0</td>\n",
       "      <td>0.000000</td>\n",
       "    </tr>\n",
       "    <tr>\n",
       "      <th>2</th>\n",
       "      <td>(100, 200]</td>\n",
       "      <td>0.0</td>\n",
       "      <td>1.000000</td>\n",
       "    </tr>\n",
       "    <tr>\n",
       "      <th>3</th>\n",
       "      <td>(100, 200]</td>\n",
       "      <td>1.0</td>\n",
       "      <td>0.000000</td>\n",
       "    </tr>\n",
       "    <tr>\n",
       "      <th>4</th>\n",
       "      <td>(200, 300]</td>\n",
       "      <td>0.0</td>\n",
       "      <td>1.000000</td>\n",
       "    </tr>\n",
       "    <tr>\n",
       "      <th>5</th>\n",
       "      <td>(200, 300]</td>\n",
       "      <td>1.0</td>\n",
       "      <td>0.000000</td>\n",
       "    </tr>\n",
       "    <tr>\n",
       "      <th>6</th>\n",
       "      <td>(300, 400]</td>\n",
       "      <td>0.0</td>\n",
       "      <td>1.000000</td>\n",
       "    </tr>\n",
       "    <tr>\n",
       "      <th>7</th>\n",
       "      <td>(300, 400]</td>\n",
       "      <td>1.0</td>\n",
       "      <td>0.000000</td>\n",
       "    </tr>\n",
       "    <tr>\n",
       "      <th>8</th>\n",
       "      <td>(400, 500]</td>\n",
       "      <td>0.0</td>\n",
       "      <td>0.875000</td>\n",
       "    </tr>\n",
       "    <tr>\n",
       "      <th>9</th>\n",
       "      <td>(400, 500]</td>\n",
       "      <td>1.0</td>\n",
       "      <td>0.125000</td>\n",
       "    </tr>\n",
       "    <tr>\n",
       "      <th>10</th>\n",
       "      <td>(500, 600]</td>\n",
       "      <td>0.0</td>\n",
       "      <td>1.000000</td>\n",
       "    </tr>\n",
       "    <tr>\n",
       "      <th>11</th>\n",
       "      <td>(500, 600]</td>\n",
       "      <td>1.0</td>\n",
       "      <td>0.000000</td>\n",
       "    </tr>\n",
       "    <tr>\n",
       "      <th>12</th>\n",
       "      <td>(600, 700]</td>\n",
       "      <td>0.0</td>\n",
       "      <td>0.272727</td>\n",
       "    </tr>\n",
       "    <tr>\n",
       "      <th>13</th>\n",
       "      <td>(600, 700]</td>\n",
       "      <td>1.0</td>\n",
       "      <td>0.727273</td>\n",
       "    </tr>\n",
       "    <tr>\n",
       "      <th>14</th>\n",
       "      <td>(700, 800]</td>\n",
       "      <td>0.0</td>\n",
       "      <td>0.019608</td>\n",
       "    </tr>\n",
       "    <tr>\n",
       "      <th>15</th>\n",
       "      <td>(700, 800]</td>\n",
       "      <td>1.0</td>\n",
       "      <td>0.980392</td>\n",
       "    </tr>\n",
       "    <tr>\n",
       "      <th>16</th>\n",
       "      <td>(800, 900]</td>\n",
       "      <td>0.0</td>\n",
       "      <td>0.000000</td>\n",
       "    </tr>\n",
       "    <tr>\n",
       "      <th>17</th>\n",
       "      <td>(800, 900]</td>\n",
       "      <td>1.0</td>\n",
       "      <td>1.000000</td>\n",
       "    </tr>\n",
       "    <tr>\n",
       "      <th>18</th>\n",
       "      <td>(900, 1000]</td>\n",
       "      <td>0.0</td>\n",
       "      <td>0.000000</td>\n",
       "    </tr>\n",
       "    <tr>\n",
       "      <th>19</th>\n",
       "      <td>(900, 1000]</td>\n",
       "      <td>1.0</td>\n",
       "      <td>1.000000</td>\n",
       "    </tr>\n",
       "  </tbody>\n",
       "</table>\n",
       "</div>"
      ],
      "text/plain": [
       "        syn_cut  is_synthetic         0\n",
       "0      (0, 100]           0.0  1.000000\n",
       "1      (0, 100]           1.0  0.000000\n",
       "2    (100, 200]           0.0  1.000000\n",
       "3    (100, 200]           1.0  0.000000\n",
       "4    (200, 300]           0.0  1.000000\n",
       "5    (200, 300]           1.0  0.000000\n",
       "6    (300, 400]           0.0  1.000000\n",
       "7    (300, 400]           1.0  0.000000\n",
       "8    (400, 500]           0.0  0.875000\n",
       "9    (400, 500]           1.0  0.125000\n",
       "10   (500, 600]           0.0  1.000000\n",
       "11   (500, 600]           1.0  0.000000\n",
       "12   (600, 700]           0.0  0.272727\n",
       "13   (600, 700]           1.0  0.727273\n",
       "14   (700, 800]           0.0  0.019608\n",
       "15   (700, 800]           1.0  0.980392\n",
       "16   (800, 900]           0.0  0.000000\n",
       "17   (800, 900]           1.0  1.000000\n",
       "18  (900, 1000]           0.0  0.000000\n",
       "19  (900, 1000]           1.0  1.000000"
      ]
     },
     "execution_count": 223,
     "metadata": {},
     "output_type": "execute_result"
    }
   ],
   "source": [
    "rate.reset_index()"
   ]
  },
  {
   "cell_type": "code",
   "execution_count": 181,
   "metadata": {},
   "outputs": [],
   "source": [
    "fake['syn_bins'] =pd.qcut(fake['sentilink_synthetic_score'],10)"
   ]
  },
  {
   "cell_type": "code",
   "execution_count": null,
   "metadata": {},
   "outputs": [],
   "source": []
  },
  {
   "cell_type": "code",
   "execution_count": 188,
   "metadata": {},
   "outputs": [],
   "source": [
    "syn_bin_rate = fake.groupby(['syn_bins','is_synthetic']).size()/fake[fake['has_label']].groupby('syn_bins').size()"
   ]
  },
  {
   "cell_type": "code",
   "execution_count": 189,
   "metadata": {},
   "outputs": [
    {
     "data": {
      "text/html": [
       "<div>\n",
       "<style scoped>\n",
       "    .dataframe tbody tr th:only-of-type {\n",
       "        vertical-align: middle;\n",
       "    }\n",
       "\n",
       "    .dataframe tbody tr th {\n",
       "        vertical-align: top;\n",
       "    }\n",
       "\n",
       "    .dataframe thead th {\n",
       "        text-align: right;\n",
       "    }\n",
       "</style>\n",
       "<table border=\"1\" class=\"dataframe\">\n",
       "  <thead>\n",
       "    <tr style=\"text-align: right;\">\n",
       "      <th></th>\n",
       "      <th>syn_bins</th>\n",
       "      <th>is_synthetic</th>\n",
       "      <th>0</th>\n",
       "    </tr>\n",
       "  </thead>\n",
       "  <tbody>\n",
       "    <tr>\n",
       "      <th>0</th>\n",
       "      <td>(4.999, 19.0]</td>\n",
       "      <td>0.0</td>\n",
       "      <td>1.000000</td>\n",
       "    </tr>\n",
       "    <tr>\n",
       "      <th>1</th>\n",
       "      <td>(4.999, 19.0]</td>\n",
       "      <td>1.0</td>\n",
       "      <td>0.000000</td>\n",
       "    </tr>\n",
       "    <tr>\n",
       "      <th>2</th>\n",
       "      <td>(19.0, 26.0]</td>\n",
       "      <td>0.0</td>\n",
       "      <td>1.000000</td>\n",
       "    </tr>\n",
       "    <tr>\n",
       "      <th>3</th>\n",
       "      <td>(19.0, 26.0]</td>\n",
       "      <td>1.0</td>\n",
       "      <td>0.000000</td>\n",
       "    </tr>\n",
       "    <tr>\n",
       "      <th>4</th>\n",
       "      <td>(26.0, 32.0]</td>\n",
       "      <td>0.0</td>\n",
       "      <td>1.000000</td>\n",
       "    </tr>\n",
       "    <tr>\n",
       "      <th>5</th>\n",
       "      <td>(26.0, 32.0]</td>\n",
       "      <td>1.0</td>\n",
       "      <td>0.000000</td>\n",
       "    </tr>\n",
       "    <tr>\n",
       "      <th>6</th>\n",
       "      <td>(32.0, 38.0]</td>\n",
       "      <td>0.0</td>\n",
       "      <td>1.000000</td>\n",
       "    </tr>\n",
       "    <tr>\n",
       "      <th>7</th>\n",
       "      <td>(32.0, 38.0]</td>\n",
       "      <td>1.0</td>\n",
       "      <td>0.000000</td>\n",
       "    </tr>\n",
       "    <tr>\n",
       "      <th>8</th>\n",
       "      <td>(38.0, 48.0]</td>\n",
       "      <td>0.0</td>\n",
       "      <td>1.000000</td>\n",
       "    </tr>\n",
       "    <tr>\n",
       "      <th>9</th>\n",
       "      <td>(38.0, 48.0]</td>\n",
       "      <td>1.0</td>\n",
       "      <td>0.000000</td>\n",
       "    </tr>\n",
       "    <tr>\n",
       "      <th>10</th>\n",
       "      <td>(48.0, 59.0]</td>\n",
       "      <td>0.0</td>\n",
       "      <td>1.000000</td>\n",
       "    </tr>\n",
       "    <tr>\n",
       "      <th>11</th>\n",
       "      <td>(48.0, 59.0]</td>\n",
       "      <td>1.0</td>\n",
       "      <td>0.000000</td>\n",
       "    </tr>\n",
       "    <tr>\n",
       "      <th>12</th>\n",
       "      <td>(59.0, 70.0]</td>\n",
       "      <td>0.0</td>\n",
       "      <td>1.000000</td>\n",
       "    </tr>\n",
       "    <tr>\n",
       "      <th>13</th>\n",
       "      <td>(59.0, 70.0]</td>\n",
       "      <td>1.0</td>\n",
       "      <td>0.000000</td>\n",
       "    </tr>\n",
       "    <tr>\n",
       "      <th>14</th>\n",
       "      <td>(70.0, 81.0]</td>\n",
       "      <td>0.0</td>\n",
       "      <td>1.000000</td>\n",
       "    </tr>\n",
       "    <tr>\n",
       "      <th>15</th>\n",
       "      <td>(70.0, 81.0]</td>\n",
       "      <td>1.0</td>\n",
       "      <td>0.000000</td>\n",
       "    </tr>\n",
       "    <tr>\n",
       "      <th>16</th>\n",
       "      <td>(81.0, 114.0]</td>\n",
       "      <td>0.0</td>\n",
       "      <td>1.000000</td>\n",
       "    </tr>\n",
       "    <tr>\n",
       "      <th>17</th>\n",
       "      <td>(81.0, 114.0]</td>\n",
       "      <td>1.0</td>\n",
       "      <td>0.000000</td>\n",
       "    </tr>\n",
       "    <tr>\n",
       "      <th>18</th>\n",
       "      <td>(114.0, 997.0]</td>\n",
       "      <td>0.0</td>\n",
       "      <td>0.212903</td>\n",
       "    </tr>\n",
       "    <tr>\n",
       "      <th>19</th>\n",
       "      <td>(114.0, 997.0]</td>\n",
       "      <td>1.0</td>\n",
       "      <td>0.787097</td>\n",
       "    </tr>\n",
       "  </tbody>\n",
       "</table>\n",
       "</div>"
      ],
      "text/plain": [
       "          syn_bins  is_synthetic         0\n",
       "0    (4.999, 19.0]           0.0  1.000000\n",
       "1    (4.999, 19.0]           1.0  0.000000\n",
       "2     (19.0, 26.0]           0.0  1.000000\n",
       "3     (19.0, 26.0]           1.0  0.000000\n",
       "4     (26.0, 32.0]           0.0  1.000000\n",
       "5     (26.0, 32.0]           1.0  0.000000\n",
       "6     (32.0, 38.0]           0.0  1.000000\n",
       "7     (32.0, 38.0]           1.0  0.000000\n",
       "8     (38.0, 48.0]           0.0  1.000000\n",
       "9     (38.0, 48.0]           1.0  0.000000\n",
       "10    (48.0, 59.0]           0.0  1.000000\n",
       "11    (48.0, 59.0]           1.0  0.000000\n",
       "12    (59.0, 70.0]           0.0  1.000000\n",
       "13    (59.0, 70.0]           1.0  0.000000\n",
       "14    (70.0, 81.0]           0.0  1.000000\n",
       "15    (70.0, 81.0]           1.0  0.000000\n",
       "16   (81.0, 114.0]           0.0  1.000000\n",
       "17   (81.0, 114.0]           1.0  0.000000\n",
       "18  (114.0, 997.0]           0.0  0.212903\n",
       "19  (114.0, 997.0]           1.0  0.787097"
      ]
     },
     "execution_count": 189,
     "metadata": {},
     "output_type": "execute_result"
    }
   ],
   "source": [
    "syn_bin_rate.reset_index()"
   ]
  },
  {
   "cell_type": "markdown",
   "metadata": {},
   "source": [
    "## Likewise for the synthetic fraud, 0% in all bins \n",
    "- except the 90th percentile where it is 78.7%\n",
    "- to calculate uncertainty, I would use the margin error calculation"
   ]
  },
  {
   "cell_type": "code",
   "execution_count": 183,
   "metadata": {},
   "outputs": [
    {
     "data": {
      "text/plain": [
       "syn_bins        has_label\n",
       "(4.999, 19.0]   False        1102\n",
       "                True           12\n",
       "(19.0, 26.0]    False         958\n",
       "                True            9\n",
       "(26.0, 32.0]    False        1021\n",
       "                True            6\n",
       "(32.0, 38.0]    False         897\n",
       "                True            6\n",
       "(38.0, 48.0]    False        1008\n",
       "                True           12\n",
       "(48.0, 59.0]    False         994\n",
       "                True           16\n",
       "(59.0, 70.0]    False        1023\n",
       "                True           13\n",
       "(70.0, 81.0]    False         935\n",
       "                True           19\n",
       "(81.0, 114.0]   False         974\n",
       "                True            8\n",
       "(114.0, 997.0]  False         832\n",
       "                True          155\n",
       "dtype: int64"
      ]
     },
     "execution_count": 183,
     "metadata": {},
     "output_type": "execute_result"
    }
   ],
   "source": [
    "fake.groupby(['syn_bins', 'has_label']).size()"
   ]
  },
  {
   "cell_type": "code",
   "execution_count": 184,
   "metadata": {},
   "outputs": [
    {
     "data": {
      "text/plain": [
       "0.06444589232634818"
      ]
     },
     "execution_count": 184,
     "metadata": {},
     "output_type": "execute_result"
    }
   ],
   "source": [
    "# uncertainty using the margin error formula\n",
    "1.96*np.sqrt(.787097*0.212903/(155))"
   ]
  },
  {
   "cell_type": "markdown",
   "metadata": {},
   "source": [
    "## 6. What is your best estimate of the rate of synthetic fraud overall? What is the rate of identity theft overall?"
   ]
  },
  {
   "cell_type": "code",
   "execution_count": 143,
   "metadata": {},
   "outputs": [
    {
     "data": {
      "text/plain": [
       "256"
      ]
     },
     "execution_count": 143,
     "metadata": {},
     "output_type": "execute_result"
    }
   ],
   "source": [
    "len(fake[fake['has_label']])"
   ]
  },
  {
   "cell_type": "code",
   "execution_count": 147,
   "metadata": {},
   "outputs": [
    {
     "data": {
      "text/plain": [
       "is_synthetic\n",
       "0.0    0.523438\n",
       "1.0    0.476562\n",
       "dtype: float64"
      ]
     },
     "execution_count": 147,
     "metadata": {},
     "output_type": "execute_result"
    }
   ],
   "source": [
    "# raw rates synthetic fraud rate\n",
    "fake.groupby(['is_synthetic']).size()/256\n"
   ]
  },
  {
   "cell_type": "markdown",
   "metadata": {},
   "source": [
    "## numbers are a little too high given the sample rate by bins\n",
    "- we can use weighted mean of bins"
   ]
  },
  {
   "cell_type": "code",
   "execution_count": 185,
   "metadata": {},
   "outputs": [
    {
     "data": {
      "text/plain": [
       "syn_bins\n",
       "(4.999, 19.0]     1114\n",
       "(19.0, 26.0]       967\n",
       "(26.0, 32.0]      1027\n",
       "(32.0, 38.0]       903\n",
       "(38.0, 48.0]      1020\n",
       "(48.0, 59.0]      1010\n",
       "(59.0, 70.0]      1036\n",
       "(70.0, 81.0]       954\n",
       "(81.0, 114.0]      982\n",
       "(114.0, 997.0]     987\n",
       "dtype: int64"
      ]
     },
     "execution_count": 185,
     "metadata": {},
     "output_type": "execute_result"
    }
   ],
   "source": [
    "fake.groupby('syn_bins').size()"
   ]
  },
  {
   "cell_type": "code",
   "execution_count": 192,
   "metadata": {},
   "outputs": [
    {
     "data": {
      "text/plain": [
       "0.07768647390000001"
      ]
     },
     "execution_count": 192,
     "metadata": {},
     "output_type": "execute_result"
    }
   ],
   "source": [
    "# calculate the overall synthetic fraud rate using weighted means\n",
    "# the rate for the other bins is zero\n",
    "(987*0.787097)/10000"
   ]
  },
  {
   "cell_type": "markdown",
   "metadata": {},
   "source": [
    "## naive theft fraud rate"
   ]
  },
  {
   "cell_type": "code",
   "execution_count": 148,
   "metadata": {},
   "outputs": [
    {
     "data": {
      "text/plain": [
       "is_id_theft\n",
       "0.0    0.707031\n",
       "1.0    0.292969\n",
       "dtype: float64"
      ]
     },
     "execution_count": 148,
     "metadata": {},
     "output_type": "execute_result"
    }
   ],
   "source": [
    "fake.groupby(['is_id_theft']).size()/256\n"
   ]
  },
  {
   "cell_type": "code",
   "execution_count": 153,
   "metadata": {},
   "outputs": [
    {
     "data": {
      "text/plain": [
       "False    9127\n",
       "True      873\n",
       "Name: theft_bins, dtype: int64"
      ]
     },
     "execution_count": 153,
     "metadata": {},
     "output_type": "execute_result"
    }
   ],
   "source": [
    "fake['theft_bins'].isnull().value_counts()"
   ]
  },
  {
   "cell_type": "code",
   "execution_count": 155,
   "metadata": {},
   "outputs": [
    {
     "data": {
      "text/plain": [
       "theft_bins\n",
       "(8.999, 18.0]     1018\n",
       "(18.0, 22.0]       907\n",
       "(22.0, 26.0]       818\n",
       "(26.0, 33.0]       996\n",
       "(33.0, 43.0]       884\n",
       "(43.0, 60.0]       889\n",
       "(60.0, 89.0]       885\n",
       "(89.0, 151.0]      908\n",
       "(151.0, 337.0]     910\n",
       "(337.0, 983.0]     912\n",
       "dtype: int64"
      ]
     },
     "execution_count": 155,
     "metadata": {},
     "output_type": "execute_result"
    }
   ],
   "source": [
    "fake.groupby('theft_bins').size()"
   ]
  },
  {
   "cell_type": "code",
   "execution_count": 193,
   "metadata": {},
   "outputs": [
    {
     "data": {
      "text/html": [
       "<div>\n",
       "<style scoped>\n",
       "    .dataframe tbody tr th:only-of-type {\n",
       "        vertical-align: middle;\n",
       "    }\n",
       "\n",
       "    .dataframe tbody tr th {\n",
       "        vertical-align: top;\n",
       "    }\n",
       "\n",
       "    .dataframe thead th {\n",
       "        text-align: right;\n",
       "    }\n",
       "</style>\n",
       "<table border=\"1\" class=\"dataframe\">\n",
       "  <thead>\n",
       "    <tr style=\"text-align: right;\">\n",
       "      <th></th>\n",
       "      <th>theft_bins</th>\n",
       "      <th>is_id_theft</th>\n",
       "      <th>0</th>\n",
       "    </tr>\n",
       "  </thead>\n",
       "  <tbody>\n",
       "    <tr>\n",
       "      <th>0</th>\n",
       "      <td>(8.999, 18.0]</td>\n",
       "      <td>0.0</td>\n",
       "      <td>1.000000</td>\n",
       "    </tr>\n",
       "    <tr>\n",
       "      <th>1</th>\n",
       "      <td>(8.999, 18.0]</td>\n",
       "      <td>1.0</td>\n",
       "      <td>0.000000</td>\n",
       "    </tr>\n",
       "    <tr>\n",
       "      <th>2</th>\n",
       "      <td>(18.0, 22.0]</td>\n",
       "      <td>0.0</td>\n",
       "      <td>1.000000</td>\n",
       "    </tr>\n",
       "    <tr>\n",
       "      <th>3</th>\n",
       "      <td>(18.0, 22.0]</td>\n",
       "      <td>1.0</td>\n",
       "      <td>0.000000</td>\n",
       "    </tr>\n",
       "    <tr>\n",
       "      <th>4</th>\n",
       "      <td>(22.0, 26.0]</td>\n",
       "      <td>0.0</td>\n",
       "      <td>1.000000</td>\n",
       "    </tr>\n",
       "    <tr>\n",
       "      <th>5</th>\n",
       "      <td>(22.0, 26.0]</td>\n",
       "      <td>1.0</td>\n",
       "      <td>0.000000</td>\n",
       "    </tr>\n",
       "    <tr>\n",
       "      <th>6</th>\n",
       "      <td>(26.0, 33.0]</td>\n",
       "      <td>0.0</td>\n",
       "      <td>1.000000</td>\n",
       "    </tr>\n",
       "    <tr>\n",
       "      <th>7</th>\n",
       "      <td>(26.0, 33.0]</td>\n",
       "      <td>1.0</td>\n",
       "      <td>0.000000</td>\n",
       "    </tr>\n",
       "    <tr>\n",
       "      <th>8</th>\n",
       "      <td>(33.0, 43.0]</td>\n",
       "      <td>0.0</td>\n",
       "      <td>1.000000</td>\n",
       "    </tr>\n",
       "    <tr>\n",
       "      <th>9</th>\n",
       "      <td>(33.0, 43.0]</td>\n",
       "      <td>1.0</td>\n",
       "      <td>0.000000</td>\n",
       "    </tr>\n",
       "    <tr>\n",
       "      <th>10</th>\n",
       "      <td>(43.0, 60.0]</td>\n",
       "      <td>0.0</td>\n",
       "      <td>1.000000</td>\n",
       "    </tr>\n",
       "    <tr>\n",
       "      <th>11</th>\n",
       "      <td>(43.0, 60.0]</td>\n",
       "      <td>1.0</td>\n",
       "      <td>0.000000</td>\n",
       "    </tr>\n",
       "    <tr>\n",
       "      <th>12</th>\n",
       "      <td>(60.0, 89.0]</td>\n",
       "      <td>0.0</td>\n",
       "      <td>1.000000</td>\n",
       "    </tr>\n",
       "    <tr>\n",
       "      <th>13</th>\n",
       "      <td>(60.0, 89.0]</td>\n",
       "      <td>1.0</td>\n",
       "      <td>0.000000</td>\n",
       "    </tr>\n",
       "    <tr>\n",
       "      <th>14</th>\n",
       "      <td>(89.0, 151.0]</td>\n",
       "      <td>0.0</td>\n",
       "      <td>1.000000</td>\n",
       "    </tr>\n",
       "    <tr>\n",
       "      <th>15</th>\n",
       "      <td>(89.0, 151.0]</td>\n",
       "      <td>1.0</td>\n",
       "      <td>0.000000</td>\n",
       "    </tr>\n",
       "    <tr>\n",
       "      <th>16</th>\n",
       "      <td>(151.0, 337.0]</td>\n",
       "      <td>0.0</td>\n",
       "      <td>0.961538</td>\n",
       "    </tr>\n",
       "    <tr>\n",
       "      <th>17</th>\n",
       "      <td>(151.0, 337.0]</td>\n",
       "      <td>1.0</td>\n",
       "      <td>0.038462</td>\n",
       "    </tr>\n",
       "    <tr>\n",
       "      <th>18</th>\n",
       "      <td>(337.0, 983.0]</td>\n",
       "      <td>0.0</td>\n",
       "      <td>0.466165</td>\n",
       "    </tr>\n",
       "    <tr>\n",
       "      <th>19</th>\n",
       "      <td>(337.0, 983.0]</td>\n",
       "      <td>1.0</td>\n",
       "      <td>0.533835</td>\n",
       "    </tr>\n",
       "  </tbody>\n",
       "</table>\n",
       "</div>"
      ],
      "text/plain": [
       "        theft_bins  is_id_theft         0\n",
       "0    (8.999, 18.0]          0.0  1.000000\n",
       "1    (8.999, 18.0]          1.0  0.000000\n",
       "2     (18.0, 22.0]          0.0  1.000000\n",
       "3     (18.0, 22.0]          1.0  0.000000\n",
       "4     (22.0, 26.0]          0.0  1.000000\n",
       "5     (22.0, 26.0]          1.0  0.000000\n",
       "6     (26.0, 33.0]          0.0  1.000000\n",
       "7     (26.0, 33.0]          1.0  0.000000\n",
       "8     (33.0, 43.0]          0.0  1.000000\n",
       "9     (33.0, 43.0]          1.0  0.000000\n",
       "10    (43.0, 60.0]          0.0  1.000000\n",
       "11    (43.0, 60.0]          1.0  0.000000\n",
       "12    (60.0, 89.0]          0.0  1.000000\n",
       "13    (60.0, 89.0]          1.0  0.000000\n",
       "14   (89.0, 151.0]          0.0  1.000000\n",
       "15   (89.0, 151.0]          1.0  0.000000\n",
       "16  (151.0, 337.0]          0.0  0.961538\n",
       "17  (151.0, 337.0]          1.0  0.038462\n",
       "18  (337.0, 983.0]          0.0  0.466165\n",
       "19  (337.0, 983.0]          1.0  0.533835"
      ]
     },
     "execution_count": 193,
     "metadata": {},
     "output_type": "execute_result"
    }
   ],
   "source": [
    "theft_bin_rate.reset_index()"
   ]
  },
  {
   "cell_type": "code",
   "execution_count": null,
   "metadata": {},
   "outputs": [],
   "source": []
  },
  {
   "cell_type": "markdown",
   "metadata": {},
   "source": [
    "# theft fraud rate using weighted average"
   ]
  },
  {
   "cell_type": "code",
   "execution_count": 156,
   "metadata": {},
   "outputs": [
    {
     "data": {
      "text/plain": [
       "0.057177379204557906"
      ]
     },
     "execution_count": 156,
     "metadata": {},
     "output_type": "execute_result"
    }
   ],
   "source": [
    "(910*0.038462 + 912*0.533835)/ (9127)"
   ]
  },
  {
   "cell_type": "markdown",
   "metadata": {},
   "source": [
    "## 7. What fraction of charge-offs are due to either synthetic fraud or identity theft?\n"
   ]
  },
  {
   "cell_type": "code",
   "execution_count": 176,
   "metadata": {},
   "outputs": [
    {
     "data": {
      "text/plain": [
       "False    8298\n",
       "True      716\n",
       "Name: charged_off, dtype: int64"
      ]
     },
     "execution_count": 176,
     "metadata": {},
     "output_type": "execute_result"
    }
   ],
   "source": [
    "fake['charged_off'].value_counts()"
   ]
  },
  {
   "cell_type": "code",
   "execution_count": 194,
   "metadata": {},
   "outputs": [
    {
     "name": "stdout",
     "output_type": "stream",
     "text": [
      "<class 'pandas.core.frame.DataFrame'>\n",
      "RangeIndex: 10000 entries, 0 to 9999\n",
      "Data columns (total 11 columns):\n",
      " #   Column                     Non-Null Count  Dtype   \n",
      "---  ------                     --------------  -----   \n",
      " 0   unique_id                  10000 non-null  object  \n",
      " 1   sentilink_id_theft_score   9127 non-null   float64 \n",
      " 2   sentilink_synthetic_score  10000 non-null  int64   \n",
      " 3   label                      256 non-null    object  \n",
      " 4   is_id_theft                256 non-null    float64 \n",
      " 5   is_synthetic               256 non-null    float64 \n",
      " 6   charged_off                9014 non-null   object  \n",
      " 7   booked                     10000 non-null  bool    \n",
      " 8   syn_bins                   10000 non-null  category\n",
      " 9   theft_bins                 9127 non-null   category\n",
      " 10  has_label                  10000 non-null  bool    \n",
      "dtypes: bool(2), category(2), float64(3), int64(1), object(3)\n",
      "memory usage: 587.5+ KB\n"
     ]
    }
   ],
   "source": [
    "fake.info()"
   ]
  },
  {
   "cell_type": "code",
   "execution_count": 224,
   "metadata": {},
   "outputs": [
    {
     "data": {
      "text/plain": [
       "count             10000\n",
       "unique            10000\n",
       "top       53e42eae795f8\n",
       "freq                  1\n",
       "Name: unique_id, dtype: object"
      ]
     },
     "execution_count": 224,
     "metadata": {},
     "output_type": "execute_result"
    }
   ],
   "source": [
    "fake['unique_id'].describe()"
   ]
  },
  {
   "cell_type": "code",
   "execution_count": 225,
   "metadata": {},
   "outputs": [
    {
     "data": {
      "text/html": [
       "<div>\n",
       "<style scoped>\n",
       "    .dataframe tbody tr th:only-of-type {\n",
       "        vertical-align: middle;\n",
       "    }\n",
       "\n",
       "    .dataframe tbody tr th {\n",
       "        vertical-align: top;\n",
       "    }\n",
       "\n",
       "    .dataframe thead th {\n",
       "        text-align: right;\n",
       "    }\n",
       "</style>\n",
       "<table border=\"1\" class=\"dataframe\">\n",
       "  <thead>\n",
       "    <tr style=\"text-align: right;\">\n",
       "      <th></th>\n",
       "      <th>unique_id</th>\n",
       "      <th>sentilink_id_theft_score</th>\n",
       "      <th>sentilink_synthetic_score</th>\n",
       "      <th>label</th>\n",
       "      <th>is_id_theft</th>\n",
       "      <th>is_synthetic</th>\n",
       "      <th>charged_off</th>\n",
       "      <th>booked</th>\n",
       "      <th>syn_bins</th>\n",
       "      <th>theft_bins</th>\n",
       "      <th>has_label</th>\n",
       "      <th>charged_null</th>\n",
       "      <th>syn_cut</th>\n",
       "    </tr>\n",
       "  </thead>\n",
       "  <tbody>\n",
       "    <tr>\n",
       "      <th>115</th>\n",
       "      <td>1bce13fa6e9d2</td>\n",
       "      <td>162.0</td>\n",
       "      <td>992</td>\n",
       "      <td>third_party_synthetic</td>\n",
       "      <td>0.0</td>\n",
       "      <td>1.0</td>\n",
       "      <td>NaN</td>\n",
       "      <td>False</td>\n",
       "      <td>(114.0, 997.0]</td>\n",
       "      <td>(151.0, 337.0]</td>\n",
       "      <td>True</td>\n",
       "      <td>True</td>\n",
       "      <td>(900, 1000]</td>\n",
       "    </tr>\n",
       "    <tr>\n",
       "      <th>425</th>\n",
       "      <td>1e56ceb7e2ab3</td>\n",
       "      <td>30.0</td>\n",
       "      <td>953</td>\n",
       "      <td>first_party_synthetic</td>\n",
       "      <td>0.0</td>\n",
       "      <td>1.0</td>\n",
       "      <td>False</td>\n",
       "      <td>False</td>\n",
       "      <td>(114.0, 997.0]</td>\n",
       "      <td>(26.0, 33.0]</td>\n",
       "      <td>True</td>\n",
       "      <td>False</td>\n",
       "      <td>(900, 1000]</td>\n",
       "    </tr>\n",
       "    <tr>\n",
       "      <th>1143</th>\n",
       "      <td>d92c6c2a4f54d</td>\n",
       "      <td>65.0</td>\n",
       "      <td>968</td>\n",
       "      <td>NaN</td>\n",
       "      <td>NaN</td>\n",
       "      <td>NaN</td>\n",
       "      <td>False</td>\n",
       "      <td>False</td>\n",
       "      <td>(114.0, 997.0]</td>\n",
       "      <td>(60.0, 89.0]</td>\n",
       "      <td>False</td>\n",
       "      <td>False</td>\n",
       "      <td>(900, 1000]</td>\n",
       "    </tr>\n",
       "    <tr>\n",
       "      <th>1654</th>\n",
       "      <td>9e41cfff7be16</td>\n",
       "      <td>70.0</td>\n",
       "      <td>997</td>\n",
       "      <td>first_party_synthetic</td>\n",
       "      <td>0.0</td>\n",
       "      <td>1.0</td>\n",
       "      <td>False</td>\n",
       "      <td>False</td>\n",
       "      <td>(114.0, 997.0]</td>\n",
       "      <td>(60.0, 89.0]</td>\n",
       "      <td>True</td>\n",
       "      <td>False</td>\n",
       "      <td>(900, 1000]</td>\n",
       "    </tr>\n",
       "    <tr>\n",
       "      <th>2147</th>\n",
       "      <td>f2c27ca161961</td>\n",
       "      <td>26.0</td>\n",
       "      <td>982</td>\n",
       "      <td>first_party_synthetic</td>\n",
       "      <td>0.0</td>\n",
       "      <td>1.0</td>\n",
       "      <td>False</td>\n",
       "      <td>False</td>\n",
       "      <td>(114.0, 997.0]</td>\n",
       "      <td>(22.0, 26.0]</td>\n",
       "      <td>True</td>\n",
       "      <td>False</td>\n",
       "      <td>(900, 1000]</td>\n",
       "    </tr>\n",
       "    <tr>\n",
       "      <th>2596</th>\n",
       "      <td>875f982b05d16</td>\n",
       "      <td>27.0</td>\n",
       "      <td>965</td>\n",
       "      <td>first_party_synthetic</td>\n",
       "      <td>0.0</td>\n",
       "      <td>1.0</td>\n",
       "      <td>False</td>\n",
       "      <td>False</td>\n",
       "      <td>(114.0, 997.0]</td>\n",
       "      <td>(26.0, 33.0]</td>\n",
       "      <td>True</td>\n",
       "      <td>False</td>\n",
       "      <td>(900, 1000]</td>\n",
       "    </tr>\n",
       "    <tr>\n",
       "      <th>2973</th>\n",
       "      <td>1c20df39e6601</td>\n",
       "      <td>45.0</td>\n",
       "      <td>946</td>\n",
       "      <td>first_party_synthetic</td>\n",
       "      <td>0.0</td>\n",
       "      <td>1.0</td>\n",
       "      <td>False</td>\n",
       "      <td>False</td>\n",
       "      <td>(114.0, 997.0]</td>\n",
       "      <td>(43.0, 60.0]</td>\n",
       "      <td>True</td>\n",
       "      <td>False</td>\n",
       "      <td>(900, 1000]</td>\n",
       "    </tr>\n",
       "    <tr>\n",
       "      <th>3279</th>\n",
       "      <td>64155f44ff7ad</td>\n",
       "      <td>18.0</td>\n",
       "      <td>973</td>\n",
       "      <td>first_party_synthetic</td>\n",
       "      <td>0.0</td>\n",
       "      <td>1.0</td>\n",
       "      <td>False</td>\n",
       "      <td>False</td>\n",
       "      <td>(114.0, 997.0]</td>\n",
       "      <td>(8.999, 18.0]</td>\n",
       "      <td>True</td>\n",
       "      <td>False</td>\n",
       "      <td>(900, 1000]</td>\n",
       "    </tr>\n",
       "    <tr>\n",
       "      <th>3299</th>\n",
       "      <td>7135439d52d7f</td>\n",
       "      <td>22.0</td>\n",
       "      <td>932</td>\n",
       "      <td>first_party_synthetic</td>\n",
       "      <td>0.0</td>\n",
       "      <td>1.0</td>\n",
       "      <td>False</td>\n",
       "      <td>False</td>\n",
       "      <td>(114.0, 997.0]</td>\n",
       "      <td>(18.0, 22.0]</td>\n",
       "      <td>True</td>\n",
       "      <td>False</td>\n",
       "      <td>(900, 1000]</td>\n",
       "    </tr>\n",
       "    <tr>\n",
       "      <th>3402</th>\n",
       "      <td>c22b2f907364f</td>\n",
       "      <td>NaN</td>\n",
       "      <td>972</td>\n",
       "      <td>NaN</td>\n",
       "      <td>NaN</td>\n",
       "      <td>NaN</td>\n",
       "      <td>False</td>\n",
       "      <td>True</td>\n",
       "      <td>(114.0, 997.0]</td>\n",
       "      <td>NaN</td>\n",
       "      <td>False</td>\n",
       "      <td>False</td>\n",
       "      <td>(900, 1000]</td>\n",
       "    </tr>\n",
       "    <tr>\n",
       "      <th>3452</th>\n",
       "      <td>eb2d409141e88</td>\n",
       "      <td>25.0</td>\n",
       "      <td>933</td>\n",
       "      <td>NaN</td>\n",
       "      <td>NaN</td>\n",
       "      <td>NaN</td>\n",
       "      <td>True</td>\n",
       "      <td>True</td>\n",
       "      <td>(114.0, 997.0]</td>\n",
       "      <td>(22.0, 26.0]</td>\n",
       "      <td>False</td>\n",
       "      <td>False</td>\n",
       "      <td>(900, 1000]</td>\n",
       "    </tr>\n",
       "    <tr>\n",
       "      <th>3571</th>\n",
       "      <td>364bc96ce8af0</td>\n",
       "      <td>11.0</td>\n",
       "      <td>973</td>\n",
       "      <td>first_party_synthetic</td>\n",
       "      <td>0.0</td>\n",
       "      <td>1.0</td>\n",
       "      <td>False</td>\n",
       "      <td>False</td>\n",
       "      <td>(114.0, 997.0]</td>\n",
       "      <td>(8.999, 18.0]</td>\n",
       "      <td>True</td>\n",
       "      <td>False</td>\n",
       "      <td>(900, 1000]</td>\n",
       "    </tr>\n",
       "    <tr>\n",
       "      <th>3658</th>\n",
       "      <td>f086f97c3fda5</td>\n",
       "      <td>52.0</td>\n",
       "      <td>951</td>\n",
       "      <td>first_party_synthetic</td>\n",
       "      <td>0.0</td>\n",
       "      <td>1.0</td>\n",
       "      <td>False</td>\n",
       "      <td>False</td>\n",
       "      <td>(114.0, 997.0]</td>\n",
       "      <td>(43.0, 60.0]</td>\n",
       "      <td>True</td>\n",
       "      <td>False</td>\n",
       "      <td>(900, 1000]</td>\n",
       "    </tr>\n",
       "    <tr>\n",
       "      <th>3677</th>\n",
       "      <td>a9599f099315b</td>\n",
       "      <td>NaN</td>\n",
       "      <td>943</td>\n",
       "      <td>third_party_synthetic</td>\n",
       "      <td>0.0</td>\n",
       "      <td>1.0</td>\n",
       "      <td>False</td>\n",
       "      <td>False</td>\n",
       "      <td>(114.0, 997.0]</td>\n",
       "      <td>NaN</td>\n",
       "      <td>True</td>\n",
       "      <td>False</td>\n",
       "      <td>(900, 1000]</td>\n",
       "    </tr>\n",
       "    <tr>\n",
       "      <th>3689</th>\n",
       "      <td>fe5c5115fbd31</td>\n",
       "      <td>34.0</td>\n",
       "      <td>969</td>\n",
       "      <td>first_party_synthetic</td>\n",
       "      <td>0.0</td>\n",
       "      <td>1.0</td>\n",
       "      <td>False</td>\n",
       "      <td>False</td>\n",
       "      <td>(114.0, 997.0]</td>\n",
       "      <td>(33.0, 43.0]</td>\n",
       "      <td>True</td>\n",
       "      <td>False</td>\n",
       "      <td>(900, 1000]</td>\n",
       "    </tr>\n",
       "    <tr>\n",
       "      <th>3737</th>\n",
       "      <td>f45b7aa8a2175</td>\n",
       "      <td>159.0</td>\n",
       "      <td>959</td>\n",
       "      <td>first_party_synthetic</td>\n",
       "      <td>0.0</td>\n",
       "      <td>1.0</td>\n",
       "      <td>False</td>\n",
       "      <td>False</td>\n",
       "      <td>(114.0, 997.0]</td>\n",
       "      <td>(151.0, 337.0]</td>\n",
       "      <td>True</td>\n",
       "      <td>False</td>\n",
       "      <td>(900, 1000]</td>\n",
       "    </tr>\n",
       "    <tr>\n",
       "      <th>4229</th>\n",
       "      <td>41159b1f13228</td>\n",
       "      <td>20.0</td>\n",
       "      <td>961</td>\n",
       "      <td>NaN</td>\n",
       "      <td>NaN</td>\n",
       "      <td>NaN</td>\n",
       "      <td>False</td>\n",
       "      <td>False</td>\n",
       "      <td>(114.0, 997.0]</td>\n",
       "      <td>(18.0, 22.0]</td>\n",
       "      <td>False</td>\n",
       "      <td>False</td>\n",
       "      <td>(900, 1000]</td>\n",
       "    </tr>\n",
       "    <tr>\n",
       "      <th>4403</th>\n",
       "      <td>b94c18f4e795b</td>\n",
       "      <td>52.0</td>\n",
       "      <td>930</td>\n",
       "      <td>NaN</td>\n",
       "      <td>NaN</td>\n",
       "      <td>NaN</td>\n",
       "      <td>False</td>\n",
       "      <td>False</td>\n",
       "      <td>(114.0, 997.0]</td>\n",
       "      <td>(43.0, 60.0]</td>\n",
       "      <td>False</td>\n",
       "      <td>False</td>\n",
       "      <td>(900, 1000]</td>\n",
       "    </tr>\n",
       "    <tr>\n",
       "      <th>4541</th>\n",
       "      <td>0877103f28fc3</td>\n",
       "      <td>213.0</td>\n",
       "      <td>974</td>\n",
       "      <td>first_party_synthetic</td>\n",
       "      <td>0.0</td>\n",
       "      <td>1.0</td>\n",
       "      <td>False</td>\n",
       "      <td>False</td>\n",
       "      <td>(114.0, 997.0]</td>\n",
       "      <td>(151.0, 337.0]</td>\n",
       "      <td>True</td>\n",
       "      <td>False</td>\n",
       "      <td>(900, 1000]</td>\n",
       "    </tr>\n",
       "    <tr>\n",
       "      <th>4687</th>\n",
       "      <td>052f3ba752b61</td>\n",
       "      <td>NaN</td>\n",
       "      <td>973</td>\n",
       "      <td>first_party_synthetic</td>\n",
       "      <td>0.0</td>\n",
       "      <td>1.0</td>\n",
       "      <td>False</td>\n",
       "      <td>True</td>\n",
       "      <td>(114.0, 997.0]</td>\n",
       "      <td>NaN</td>\n",
       "      <td>True</td>\n",
       "      <td>False</td>\n",
       "      <td>(900, 1000]</td>\n",
       "    </tr>\n",
       "    <tr>\n",
       "      <th>4859</th>\n",
       "      <td>354fde65653ba</td>\n",
       "      <td>43.0</td>\n",
       "      <td>971</td>\n",
       "      <td>NaN</td>\n",
       "      <td>NaN</td>\n",
       "      <td>NaN</td>\n",
       "      <td>True</td>\n",
       "      <td>True</td>\n",
       "      <td>(114.0, 997.0]</td>\n",
       "      <td>(33.0, 43.0]</td>\n",
       "      <td>False</td>\n",
       "      <td>False</td>\n",
       "      <td>(900, 1000]</td>\n",
       "    </tr>\n",
       "    <tr>\n",
       "      <th>4915</th>\n",
       "      <td>40419460e6c68</td>\n",
       "      <td>140.0</td>\n",
       "      <td>966</td>\n",
       "      <td>first_party_synthetic</td>\n",
       "      <td>0.0</td>\n",
       "      <td>1.0</td>\n",
       "      <td>False</td>\n",
       "      <td>True</td>\n",
       "      <td>(114.0, 997.0]</td>\n",
       "      <td>(89.0, 151.0]</td>\n",
       "      <td>True</td>\n",
       "      <td>False</td>\n",
       "      <td>(900, 1000]</td>\n",
       "    </tr>\n",
       "    <tr>\n",
       "      <th>5260</th>\n",
       "      <td>d553546cfa54b</td>\n",
       "      <td>12.0</td>\n",
       "      <td>936</td>\n",
       "      <td>first_party_synthetic</td>\n",
       "      <td>0.0</td>\n",
       "      <td>1.0</td>\n",
       "      <td>False</td>\n",
       "      <td>False</td>\n",
       "      <td>(114.0, 997.0]</td>\n",
       "      <td>(8.999, 18.0]</td>\n",
       "      <td>True</td>\n",
       "      <td>False</td>\n",
       "      <td>(900, 1000]</td>\n",
       "    </tr>\n",
       "    <tr>\n",
       "      <th>5337</th>\n",
       "      <td>fc31ab9edf3ea</td>\n",
       "      <td>226.0</td>\n",
       "      <td>987</td>\n",
       "      <td>first_party_synthetic</td>\n",
       "      <td>0.0</td>\n",
       "      <td>1.0</td>\n",
       "      <td>True</td>\n",
       "      <td>True</td>\n",
       "      <td>(114.0, 997.0]</td>\n",
       "      <td>(151.0, 337.0]</td>\n",
       "      <td>True</td>\n",
       "      <td>False</td>\n",
       "      <td>(900, 1000]</td>\n",
       "    </tr>\n",
       "    <tr>\n",
       "      <th>5397</th>\n",
       "      <td>b73bd107e60d2</td>\n",
       "      <td>18.0</td>\n",
       "      <td>976</td>\n",
       "      <td>first_party_synthetic</td>\n",
       "      <td>0.0</td>\n",
       "      <td>1.0</td>\n",
       "      <td>False</td>\n",
       "      <td>True</td>\n",
       "      <td>(114.0, 997.0]</td>\n",
       "      <td>(8.999, 18.0]</td>\n",
       "      <td>True</td>\n",
       "      <td>False</td>\n",
       "      <td>(900, 1000]</td>\n",
       "    </tr>\n",
       "    <tr>\n",
       "      <th>5717</th>\n",
       "      <td>3d42e288aa7fa</td>\n",
       "      <td>23.0</td>\n",
       "      <td>975</td>\n",
       "      <td>first_party_synthetic</td>\n",
       "      <td>0.0</td>\n",
       "      <td>1.0</td>\n",
       "      <td>False</td>\n",
       "      <td>False</td>\n",
       "      <td>(114.0, 997.0]</td>\n",
       "      <td>(22.0, 26.0]</td>\n",
       "      <td>True</td>\n",
       "      <td>False</td>\n",
       "      <td>(900, 1000]</td>\n",
       "    </tr>\n",
       "    <tr>\n",
       "      <th>5890</th>\n",
       "      <td>85d4f57d45f49</td>\n",
       "      <td>22.0</td>\n",
       "      <td>964</td>\n",
       "      <td>first_party_synthetic</td>\n",
       "      <td>0.0</td>\n",
       "      <td>1.0</td>\n",
       "      <td>False</td>\n",
       "      <td>False</td>\n",
       "      <td>(114.0, 997.0]</td>\n",
       "      <td>(18.0, 22.0]</td>\n",
       "      <td>True</td>\n",
       "      <td>False</td>\n",
       "      <td>(900, 1000]</td>\n",
       "    </tr>\n",
       "    <tr>\n",
       "      <th>5927</th>\n",
       "      <td>0ed1b41b1cb75</td>\n",
       "      <td>26.0</td>\n",
       "      <td>934</td>\n",
       "      <td>first_party_synthetic</td>\n",
       "      <td>0.0</td>\n",
       "      <td>1.0</td>\n",
       "      <td>False</td>\n",
       "      <td>False</td>\n",
       "      <td>(114.0, 997.0]</td>\n",
       "      <td>(22.0, 26.0]</td>\n",
       "      <td>True</td>\n",
       "      <td>False</td>\n",
       "      <td>(900, 1000]</td>\n",
       "    </tr>\n",
       "    <tr>\n",
       "      <th>6561</th>\n",
       "      <td>9a0eb69bbaa20</td>\n",
       "      <td>18.0</td>\n",
       "      <td>983</td>\n",
       "      <td>first_party_synthetic</td>\n",
       "      <td>0.0</td>\n",
       "      <td>1.0</td>\n",
       "      <td>False</td>\n",
       "      <td>True</td>\n",
       "      <td>(114.0, 997.0]</td>\n",
       "      <td>(8.999, 18.0]</td>\n",
       "      <td>True</td>\n",
       "      <td>False</td>\n",
       "      <td>(900, 1000]</td>\n",
       "    </tr>\n",
       "    <tr>\n",
       "      <th>7349</th>\n",
       "      <td>4ba852e0bc564</td>\n",
       "      <td>29.0</td>\n",
       "      <td>963</td>\n",
       "      <td>first_party_synthetic</td>\n",
       "      <td>0.0</td>\n",
       "      <td>1.0</td>\n",
       "      <td>False</td>\n",
       "      <td>False</td>\n",
       "      <td>(114.0, 997.0]</td>\n",
       "      <td>(26.0, 33.0]</td>\n",
       "      <td>True</td>\n",
       "      <td>False</td>\n",
       "      <td>(900, 1000]</td>\n",
       "    </tr>\n",
       "    <tr>\n",
       "      <th>7700</th>\n",
       "      <td>0d55435eed4f7</td>\n",
       "      <td>35.0</td>\n",
       "      <td>971</td>\n",
       "      <td>first_party_synthetic</td>\n",
       "      <td>0.0</td>\n",
       "      <td>1.0</td>\n",
       "      <td>False</td>\n",
       "      <td>False</td>\n",
       "      <td>(114.0, 997.0]</td>\n",
       "      <td>(33.0, 43.0]</td>\n",
       "      <td>True</td>\n",
       "      <td>False</td>\n",
       "      <td>(900, 1000]</td>\n",
       "    </tr>\n",
       "    <tr>\n",
       "      <th>7773</th>\n",
       "      <td>69dbc3ac52fe1</td>\n",
       "      <td>19.0</td>\n",
       "      <td>982</td>\n",
       "      <td>first_party_synthetic</td>\n",
       "      <td>0.0</td>\n",
       "      <td>1.0</td>\n",
       "      <td>False</td>\n",
       "      <td>True</td>\n",
       "      <td>(114.0, 997.0]</td>\n",
       "      <td>(18.0, 22.0]</td>\n",
       "      <td>True</td>\n",
       "      <td>False</td>\n",
       "      <td>(900, 1000]</td>\n",
       "    </tr>\n",
       "    <tr>\n",
       "      <th>7927</th>\n",
       "      <td>682e9c583c3ee</td>\n",
       "      <td>62.0</td>\n",
       "      <td>957</td>\n",
       "      <td>NaN</td>\n",
       "      <td>NaN</td>\n",
       "      <td>NaN</td>\n",
       "      <td>False</td>\n",
       "      <td>False</td>\n",
       "      <td>(114.0, 997.0]</td>\n",
       "      <td>(60.0, 89.0]</td>\n",
       "      <td>False</td>\n",
       "      <td>False</td>\n",
       "      <td>(900, 1000]</td>\n",
       "    </tr>\n",
       "    <tr>\n",
       "      <th>7928</th>\n",
       "      <td>1e043b9ad9563</td>\n",
       "      <td>15.0</td>\n",
       "      <td>938</td>\n",
       "      <td>first_party_synthetic</td>\n",
       "      <td>0.0</td>\n",
       "      <td>1.0</td>\n",
       "      <td>False</td>\n",
       "      <td>False</td>\n",
       "      <td>(114.0, 997.0]</td>\n",
       "      <td>(8.999, 18.0]</td>\n",
       "      <td>True</td>\n",
       "      <td>False</td>\n",
       "      <td>(900, 1000]</td>\n",
       "    </tr>\n",
       "    <tr>\n",
       "      <th>8050</th>\n",
       "      <td>cca16e32c5148</td>\n",
       "      <td>15.0</td>\n",
       "      <td>980</td>\n",
       "      <td>first_party_synthetic</td>\n",
       "      <td>0.0</td>\n",
       "      <td>1.0</td>\n",
       "      <td>False</td>\n",
       "      <td>True</td>\n",
       "      <td>(114.0, 997.0]</td>\n",
       "      <td>(8.999, 18.0]</td>\n",
       "      <td>True</td>\n",
       "      <td>False</td>\n",
       "      <td>(900, 1000]</td>\n",
       "    </tr>\n",
       "    <tr>\n",
       "      <th>8727</th>\n",
       "      <td>5e3185f170b3a</td>\n",
       "      <td>368.0</td>\n",
       "      <td>935</td>\n",
       "      <td>first_party_synthetic</td>\n",
       "      <td>0.0</td>\n",
       "      <td>1.0</td>\n",
       "      <td>False</td>\n",
       "      <td>False</td>\n",
       "      <td>(114.0, 997.0]</td>\n",
       "      <td>(337.0, 983.0]</td>\n",
       "      <td>True</td>\n",
       "      <td>False</td>\n",
       "      <td>(900, 1000]</td>\n",
       "    </tr>\n",
       "    <tr>\n",
       "      <th>8870</th>\n",
       "      <td>27a6fec9fe6bd</td>\n",
       "      <td>18.0</td>\n",
       "      <td>977</td>\n",
       "      <td>first_party_synthetic</td>\n",
       "      <td>0.0</td>\n",
       "      <td>1.0</td>\n",
       "      <td>False</td>\n",
       "      <td>True</td>\n",
       "      <td>(114.0, 997.0]</td>\n",
       "      <td>(8.999, 18.0]</td>\n",
       "      <td>True</td>\n",
       "      <td>False</td>\n",
       "      <td>(900, 1000]</td>\n",
       "    </tr>\n",
       "    <tr>\n",
       "      <th>9672</th>\n",
       "      <td>6b68b1fc3e15d</td>\n",
       "      <td>21.0</td>\n",
       "      <td>903</td>\n",
       "      <td>NaN</td>\n",
       "      <td>NaN</td>\n",
       "      <td>NaN</td>\n",
       "      <td>False</td>\n",
       "      <td>False</td>\n",
       "      <td>(114.0, 997.0]</td>\n",
       "      <td>(18.0, 22.0]</td>\n",
       "      <td>False</td>\n",
       "      <td>False</td>\n",
       "      <td>(900, 1000]</td>\n",
       "    </tr>\n",
       "  </tbody>\n",
       "</table>\n",
       "</div>"
      ],
      "text/plain": [
       "          unique_id  sentilink_id_theft_score  sentilink_synthetic_score  \\\n",
       "115   1bce13fa6e9d2                     162.0                        992   \n",
       "425   1e56ceb7e2ab3                      30.0                        953   \n",
       "1143  d92c6c2a4f54d                      65.0                        968   \n",
       "1654  9e41cfff7be16                      70.0                        997   \n",
       "2147  f2c27ca161961                      26.0                        982   \n",
       "2596  875f982b05d16                      27.0                        965   \n",
       "2973  1c20df39e6601                      45.0                        946   \n",
       "3279  64155f44ff7ad                      18.0                        973   \n",
       "3299  7135439d52d7f                      22.0                        932   \n",
       "3402  c22b2f907364f                       NaN                        972   \n",
       "3452  eb2d409141e88                      25.0                        933   \n",
       "3571  364bc96ce8af0                      11.0                        973   \n",
       "3658  f086f97c3fda5                      52.0                        951   \n",
       "3677  a9599f099315b                       NaN                        943   \n",
       "3689  fe5c5115fbd31                      34.0                        969   \n",
       "3737  f45b7aa8a2175                     159.0                        959   \n",
       "4229  41159b1f13228                      20.0                        961   \n",
       "4403  b94c18f4e795b                      52.0                        930   \n",
       "4541  0877103f28fc3                     213.0                        974   \n",
       "4687  052f3ba752b61                       NaN                        973   \n",
       "4859  354fde65653ba                      43.0                        971   \n",
       "4915  40419460e6c68                     140.0                        966   \n",
       "5260  d553546cfa54b                      12.0                        936   \n",
       "5337  fc31ab9edf3ea                     226.0                        987   \n",
       "5397  b73bd107e60d2                      18.0                        976   \n",
       "5717  3d42e288aa7fa                      23.0                        975   \n",
       "5890  85d4f57d45f49                      22.0                        964   \n",
       "5927  0ed1b41b1cb75                      26.0                        934   \n",
       "6561  9a0eb69bbaa20                      18.0                        983   \n",
       "7349  4ba852e0bc564                      29.0                        963   \n",
       "7700  0d55435eed4f7                      35.0                        971   \n",
       "7773  69dbc3ac52fe1                      19.0                        982   \n",
       "7927  682e9c583c3ee                      62.0                        957   \n",
       "7928  1e043b9ad9563                      15.0                        938   \n",
       "8050  cca16e32c5148                      15.0                        980   \n",
       "8727  5e3185f170b3a                     368.0                        935   \n",
       "8870  27a6fec9fe6bd                      18.0                        977   \n",
       "9672  6b68b1fc3e15d                      21.0                        903   \n",
       "\n",
       "                      label  is_id_theft  is_synthetic charged_off  booked  \\\n",
       "115   third_party_synthetic          0.0           1.0         NaN   False   \n",
       "425   first_party_synthetic          0.0           1.0       False   False   \n",
       "1143                    NaN          NaN           NaN       False   False   \n",
       "1654  first_party_synthetic          0.0           1.0       False   False   \n",
       "2147  first_party_synthetic          0.0           1.0       False   False   \n",
       "2596  first_party_synthetic          0.0           1.0       False   False   \n",
       "2973  first_party_synthetic          0.0           1.0       False   False   \n",
       "3279  first_party_synthetic          0.0           1.0       False   False   \n",
       "3299  first_party_synthetic          0.0           1.0       False   False   \n",
       "3402                    NaN          NaN           NaN       False    True   \n",
       "3452                    NaN          NaN           NaN        True    True   \n",
       "3571  first_party_synthetic          0.0           1.0       False   False   \n",
       "3658  first_party_synthetic          0.0           1.0       False   False   \n",
       "3677  third_party_synthetic          0.0           1.0       False   False   \n",
       "3689  first_party_synthetic          0.0           1.0       False   False   \n",
       "3737  first_party_synthetic          0.0           1.0       False   False   \n",
       "4229                    NaN          NaN           NaN       False   False   \n",
       "4403                    NaN          NaN           NaN       False   False   \n",
       "4541  first_party_synthetic          0.0           1.0       False   False   \n",
       "4687  first_party_synthetic          0.0           1.0       False    True   \n",
       "4859                    NaN          NaN           NaN        True    True   \n",
       "4915  first_party_synthetic          0.0           1.0       False    True   \n",
       "5260  first_party_synthetic          0.0           1.0       False   False   \n",
       "5337  first_party_synthetic          0.0           1.0        True    True   \n",
       "5397  first_party_synthetic          0.0           1.0       False    True   \n",
       "5717  first_party_synthetic          0.0           1.0       False   False   \n",
       "5890  first_party_synthetic          0.0           1.0       False   False   \n",
       "5927  first_party_synthetic          0.0           1.0       False   False   \n",
       "6561  first_party_synthetic          0.0           1.0       False    True   \n",
       "7349  first_party_synthetic          0.0           1.0       False   False   \n",
       "7700  first_party_synthetic          0.0           1.0       False   False   \n",
       "7773  first_party_synthetic          0.0           1.0       False    True   \n",
       "7927                    NaN          NaN           NaN       False   False   \n",
       "7928  first_party_synthetic          0.0           1.0       False   False   \n",
       "8050  first_party_synthetic          0.0           1.0       False    True   \n",
       "8727  first_party_synthetic          0.0           1.0       False   False   \n",
       "8870  first_party_synthetic          0.0           1.0       False    True   \n",
       "9672                    NaN          NaN           NaN       False   False   \n",
       "\n",
       "            syn_bins      theft_bins  has_label  charged_null      syn_cut  \n",
       "115   (114.0, 997.0]  (151.0, 337.0]       True          True  (900, 1000]  \n",
       "425   (114.0, 997.0]    (26.0, 33.0]       True         False  (900, 1000]  \n",
       "1143  (114.0, 997.0]    (60.0, 89.0]      False         False  (900, 1000]  \n",
       "1654  (114.0, 997.0]    (60.0, 89.0]       True         False  (900, 1000]  \n",
       "2147  (114.0, 997.0]    (22.0, 26.0]       True         False  (900, 1000]  \n",
       "2596  (114.0, 997.0]    (26.0, 33.0]       True         False  (900, 1000]  \n",
       "2973  (114.0, 997.0]    (43.0, 60.0]       True         False  (900, 1000]  \n",
       "3279  (114.0, 997.0]   (8.999, 18.0]       True         False  (900, 1000]  \n",
       "3299  (114.0, 997.0]    (18.0, 22.0]       True         False  (900, 1000]  \n",
       "3402  (114.0, 997.0]             NaN      False         False  (900, 1000]  \n",
       "3452  (114.0, 997.0]    (22.0, 26.0]      False         False  (900, 1000]  \n",
       "3571  (114.0, 997.0]   (8.999, 18.0]       True         False  (900, 1000]  \n",
       "3658  (114.0, 997.0]    (43.0, 60.0]       True         False  (900, 1000]  \n",
       "3677  (114.0, 997.0]             NaN       True         False  (900, 1000]  \n",
       "3689  (114.0, 997.0]    (33.0, 43.0]       True         False  (900, 1000]  \n",
       "3737  (114.0, 997.0]  (151.0, 337.0]       True         False  (900, 1000]  \n",
       "4229  (114.0, 997.0]    (18.0, 22.0]      False         False  (900, 1000]  \n",
       "4403  (114.0, 997.0]    (43.0, 60.0]      False         False  (900, 1000]  \n",
       "4541  (114.0, 997.0]  (151.0, 337.0]       True         False  (900, 1000]  \n",
       "4687  (114.0, 997.0]             NaN       True         False  (900, 1000]  \n",
       "4859  (114.0, 997.0]    (33.0, 43.0]      False         False  (900, 1000]  \n",
       "4915  (114.0, 997.0]   (89.0, 151.0]       True         False  (900, 1000]  \n",
       "5260  (114.0, 997.0]   (8.999, 18.0]       True         False  (900, 1000]  \n",
       "5337  (114.0, 997.0]  (151.0, 337.0]       True         False  (900, 1000]  \n",
       "5397  (114.0, 997.0]   (8.999, 18.0]       True         False  (900, 1000]  \n",
       "5717  (114.0, 997.0]    (22.0, 26.0]       True         False  (900, 1000]  \n",
       "5890  (114.0, 997.0]    (18.0, 22.0]       True         False  (900, 1000]  \n",
       "5927  (114.0, 997.0]    (22.0, 26.0]       True         False  (900, 1000]  \n",
       "6561  (114.0, 997.0]   (8.999, 18.0]       True         False  (900, 1000]  \n",
       "7349  (114.0, 997.0]    (26.0, 33.0]       True         False  (900, 1000]  \n",
       "7700  (114.0, 997.0]    (33.0, 43.0]       True         False  (900, 1000]  \n",
       "7773  (114.0, 997.0]    (18.0, 22.0]       True         False  (900, 1000]  \n",
       "7927  (114.0, 997.0]    (60.0, 89.0]      False         False  (900, 1000]  \n",
       "7928  (114.0, 997.0]   (8.999, 18.0]       True         False  (900, 1000]  \n",
       "8050  (114.0, 997.0]   (8.999, 18.0]       True         False  (900, 1000]  \n",
       "8727  (114.0, 997.0]  (337.0, 983.0]       True         False  (900, 1000]  \n",
       "8870  (114.0, 997.0]   (8.999, 18.0]       True         False  (900, 1000]  \n",
       "9672  (114.0, 997.0]    (18.0, 22.0]      False         False  (900, 1000]  "
      ]
     },
     "execution_count": 225,
     "metadata": {},
     "output_type": "execute_result"
    }
   ],
   "source": [
    "fake[fake['sentilink_synthetic_score'] > 900]"
   ]
  },
  {
   "cell_type": "code",
   "execution_count": 196,
   "metadata": {},
   "outputs": [
    {
     "data": {
      "text/plain": [
       "count               197\n",
       "unique              197\n",
       "top       a8eec1460e8d5\n",
       "freq                  1\n",
       "Name: unique_id, dtype: object"
      ]
     },
     "execution_count": 196,
     "metadata": {},
     "output_type": "execute_result"
    }
   ],
   "source": [
    "# we don't have duplicate ids\n",
    "fake[(fake['is_id_theft'] == 1) | (fake['is_synthetic'] == 1)]['unique_id'].describe()"
   ]
  },
  {
   "cell_type": "code",
   "execution_count": 177,
   "metadata": {},
   "outputs": [
    {
     "data": {
      "text/plain": [
       "False    167\n",
       "True      19\n",
       "Name: charged_off, dtype: int64"
      ]
     },
     "execution_count": 177,
     "metadata": {},
     "output_type": "execute_result"
    }
   ],
   "source": [
    "fake[(fake['is_id_theft'] == 1) | (fake['is_synthetic'] == 1)]['charged_off'].value_counts()"
   ]
  },
  {
   "cell_type": "code",
   "execution_count": 178,
   "metadata": {},
   "outputs": [
    {
     "data": {
      "text/plain": [
       "0.02653631284916201"
      ]
     },
     "execution_count": 178,
     "metadata": {},
     "output_type": "execute_result"
    }
   ],
   "source": [
    "# fraction of charged_off due to either fraud\n",
    "19/716"
   ]
  },
  {
   "cell_type": "markdown",
   "metadata": {},
   "source": [
    "## 8. If you were creating a quality assurance process to check files like this before returning\n",
    "- to prospective customers, what would be some checks you would want to include in this\n",
    "process? Assume that you would be able to run queries against database tables to\n",
    "access other information we may have about these, such as raw application information\n",
    "(name, DOB, SSN, address, phone, email). You can write sentences or bullet points to\n",
    "describe the checks you would consider."
   ]
  },
  {
   "cell_type": "markdown",
   "metadata": {},
   "source": [
    "- check the id's make sure they are valid. no duplicates, correspond to real persons\n",
    "- check the scores, make sure the distribution of the scores make sense. \n",
    "- Check the manual scores is consistent with the raw information DOB and ssn and the like. \n",
    "- Are nulls expected?\n",
    "- Do the median scores make sense given the data?"
   ]
  },
  {
   "cell_type": "code",
   "execution_count": null,
   "metadata": {},
   "outputs": [],
   "source": []
  }
 ],
 "metadata": {
  "kernelspec": {
   "display_name": "tf_latest",
   "language": "python",
   "name": "tf_latest"
  },
  "language_info": {
   "codemirror_mode": {
    "name": "ipython",
    "version": 3
   },
   "file_extension": ".py",
   "mimetype": "text/x-python",
   "name": "python",
   "nbconvert_exporter": "python",
   "pygments_lexer": "ipython3",
   "version": "3.8.12"
  }
 },
 "nbformat": 4,
 "nbformat_minor": 4
}
