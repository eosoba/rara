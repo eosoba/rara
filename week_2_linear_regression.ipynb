{
 "metadata": {
  "name": "week_2_linear_regression"
 }, 
 "nbformat": 2, 
 "worksheets": [
  {
   "cells": [
    {
     "cell_type": "code", 
     "collapsed": false, 
     "input": [
      "cd static-chiller-551/"
     ], 
     "language": "python", 
     "outputs": [
      {
       "output_type": "stream", 
       "stream": "stdout", 
       "text": [
        "/home/armadillo/static-chiller-551"
       ]
      }
     ], 
     "prompt_number": 1
    }, 
    {
     "cell_type": "code", 
     "collapsed": true, 
     "input": [
      "import pandas as pd", 
      "import numpy as np", 
      "import statsmodels.formula.api as sm", 
      "import matplotlib.pyplot as plt"
     ], 
     "language": "python", 
     "outputs": [], 
     "prompt_number": 3
    }, 
    {
     "cell_type": "code", 
     "collapsed": false, 
     "input": [
      "nba = pd.read_csv(\"NBA_train.csv\")"
     ], 
     "language": "python", 
     "outputs": [], 
     "prompt_number": 4
    }, 
    {
     "cell_type": "code", 
     "collapsed": false, 
     "input": [
      "nba.head()"
     ], 
     "language": "python", 
     "outputs": [
      {
       "html": [
        "<div style=\"max-height:1000px;max-width:1500px;overflow:auto;\">", 
        "<table border=\"1\" class=\"dataframe\">", 
        "  <thead>", 
        "    <tr style=\"text-align: right;\">", 
        "      <th></th>", 
        "      <th>SeasonEnd</th>", 
        "      <th>Team</th>", 
        "      <th>Playoffs</th>", 
        "      <th>W</th>", 
        "      <th>PTS</th>", 
        "      <th>oppPTS</th>", 
        "      <th>FG</th>", 
        "      <th>FGA</th>", 
        "      <th>2P</th>", 
        "      <th>2PA</th>", 
        "      <th>3P</th>", 
        "      <th>3PA</th>", 
        "      <th>FT</th>", 
        "      <th>FTA</th>", 
        "      <th>ORB</th>", 
        "      <th>DRB</th>", 
        "      <th>AST</th>", 
        "      <th>STL</th>", 
        "      <th>BLK</th>", 
        "      <th>TOV</th>", 
        "    </tr>", 
        "  </thead>", 
        "  <tbody>", 
        "    <tr>", 
        "      <th>0</th>", 
        "      <td> 1980</td>", 
        "      <td>       Atlanta Hawks</td>", 
        "      <td> 1</td>", 
        "      <td> 50</td>", 
        "      <td> 8573</td>", 
        "      <td> 8334</td>", 
        "      <td> 3261</td>", 
        "      <td> 7027</td>", 
        "      <td> 3248</td>", 
        "      <td> 6952</td>", 
        "      <td>  13</td>", 
        "      <td>  75</td>", 
        "      <td> 2038</td>", 
        "      <td> 2645</td>", 
        "      <td> 1369</td>", 
        "      <td> 2406</td>", 
        "      <td> 1913</td>", 
        "      <td> 782</td>", 
        "      <td> 539</td>", 
        "      <td> 1495</td>", 
        "    </tr>", 
        "    <tr>", 
        "      <th>1</th>", 
        "      <td> 1980</td>", 
        "      <td>      Boston Celtics</td>", 
        "      <td> 1</td>", 
        "      <td> 61</td>", 
        "      <td> 9303</td>", 
        "      <td> 8664</td>", 
        "      <td> 3617</td>", 
        "      <td> 7387</td>", 
        "      <td> 3455</td>", 
        "      <td> 6965</td>", 
        "      <td> 162</td>", 
        "      <td> 422</td>", 
        "      <td> 1907</td>", 
        "      <td> 2449</td>", 
        "      <td> 1227</td>", 
        "      <td> 2457</td>", 
        "      <td> 2198</td>", 
        "      <td> 809</td>", 
        "      <td> 308</td>", 
        "      <td> 1539</td>", 
        "    </tr>", 
        "    <tr>", 
        "      <th>2</th>", 
        "      <td> 1980</td>", 
        "      <td>       Chicago Bulls</td>", 
        "      <td> 0</td>", 
        "      <td> 30</td>", 
        "      <td> 8813</td>", 
        "      <td> 9035</td>", 
        "      <td> 3362</td>", 
        "      <td> 6943</td>", 
        "      <td> 3292</td>", 
        "      <td> 6668</td>", 
        "      <td>  70</td>", 
        "      <td> 275</td>", 
        "      <td> 2019</td>", 
        "      <td> 2592</td>", 
        "      <td> 1115</td>", 
        "      <td> 2465</td>", 
        "      <td> 2152</td>", 
        "      <td> 704</td>", 
        "      <td> 392</td>", 
        "      <td> 1684</td>", 
        "    </tr>", 
        "    <tr>", 
        "      <th>3</th>", 
        "      <td> 1980</td>", 
        "      <td> Cleveland Cavaliers</td>", 
        "      <td> 0</td>", 
        "      <td> 37</td>", 
        "      <td> 9360</td>", 
        "      <td> 9332</td>", 
        "      <td> 3811</td>", 
        "      <td> 8041</td>", 
        "      <td> 3775</td>", 
        "      <td> 7854</td>", 
        "      <td>  36</td>", 
        "      <td> 187</td>", 
        "      <td> 1702</td>", 
        "      <td> 2205</td>", 
        "      <td> 1307</td>", 
        "      <td> 2381</td>", 
        "      <td> 2108</td>", 
        "      <td> 764</td>", 
        "      <td> 342</td>", 
        "      <td> 1370</td>", 
        "    </tr>", 
        "    <tr>", 
        "      <th>4</th>", 
        "      <td> 1980</td>", 
        "      <td>      Denver Nuggets</td>", 
        "      <td> 0</td>", 
        "      <td> 30</td>", 
        "      <td> 8878</td>", 
        "      <td> 9240</td>", 
        "      <td> 3462</td>", 
        "      <td> 7470</td>", 
        "      <td> 3379</td>", 
        "      <td> 7215</td>", 
        "      <td>  83</td>", 
        "      <td> 255</td>", 
        "      <td> 1871</td>", 
        "      <td> 2539</td>", 
        "      <td> 1311</td>", 
        "      <td> 2524</td>", 
        "      <td> 2079</td>", 
        "      <td> 746</td>", 
        "      <td> 404</td>", 
        "      <td> 1533</td>", 
        "    </tr>", 
        "  </tbody>", 
        "</table>", 
        "</div>"
       ], 
       "output_type": "pyout", 
       "prompt_number": 5, 
       "text": [
        "   SeasonEnd                 Team  Playoffs   W   PTS  oppPTS    FG   FGA  \\", 
        "0       1980        Atlanta Hawks         1  50  8573    8334  3261  7027   ", 
        "1       1980       Boston Celtics         1  61  9303    8664  3617  7387   ", 
        "2       1980        Chicago Bulls         0  30  8813    9035  3362  6943   ", 
        "3       1980  Cleveland Cavaliers         0  37  9360    9332  3811  8041   ", 
        "4       1980       Denver Nuggets         0  30  8878    9240  3462  7470   ", 
        "", 
        "     2P   2PA   3P  3PA    FT   FTA   ORB   DRB   AST  STL  BLK   TOV  ", 
        "0  3248  6952   13   75  2038  2645  1369  2406  1913  782  539  1495  ", 
        "1  3455  6965  162  422  1907  2449  1227  2457  2198  809  308  1539  ", 
        "2  3292  6668   70  275  2019  2592  1115  2465  2152  704  392  1684  ", 
        "3  3775  7854   36  187  1702  2205  1307  2381  2108  764  342  1370  ", 
        "4  3379  7215   83  255  1871  2539  1311  2524  2079  746  404  1533  "
       ]
      }
     ], 
     "prompt_number": 5
    }, 
    {
     "cell_type": "code", 
     "collapsed": false, 
     "input": [
      "len(nba)"
     ], 
     "language": "python", 
     "outputs": [
      {
       "output_type": "pyout", 
       "prompt_number": 8, 
       "text": [
        "835"
       ]
      }
     ], 
     "prompt_number": 8
    }, 
    {
     "cell_type": "code", 
     "collapsed": false, 
     "input": [
      "nba.W.head()"
     ], 
     "language": "python", 
     "outputs": [
      {
       "output_type": "pyout", 
       "prompt_number": 9, 
       "text": [
        "0    50", 
        "1    61", 
        "2    30", 
        "3    37", 
        "4    30", 
        "Name: W, dtype: int64"
       ]
      }
     ], 
     "prompt_number": 9
    }, 
    {
     "cell_type": "code", 
     "collapsed": false, 
     "input": [
      "nba.Playoffs.head()"
     ], 
     "language": "python", 
     "outputs": [
      {
       "output_type": "pyout", 
       "prompt_number": 11, 
       "text": [
        "0    1", 
        "1    1", 
        "2    0", 
        "3    0", 
        "4    0", 
        "Name: Playoffs, dtype: int64"
       ]
      }
     ], 
     "prompt_number": 11
    }, 
    {
     "cell_type": "code", 
     "collapsed": true, 
     "input": [
      "winplay=nba.groupby(['Team','Playoffs'])['W']"
     ], 
     "language": "python", 
     "outputs": [], 
     "prompt_number": 25
    }, 
    {
     "cell_type": "code", 
     "collapsed": false, 
     "input": [
      "winplay.count()"
     ], 
     "language": "python", 
     "outputs": [
      {
       "output_type": "pyout", 
       "prompt_number": 26, 
       "text": [
        "Team                 Playoffs", 
        "Atlanta Hawks        0           12", 
        "                     1           19", 
        "Boston Celtics       0            8", 
        "                     1           23", 
        "Charlotte Bobcats    0            6", 
        "                     1            1", 
        "Charlotte Hornets    0            6", 
        "                     1            7", 
        "Chicago Bulls        0           10", 
        "                     1           21", 
        "Cleveland Cavaliers  0           16", 
        "                     1           15", 
        "Dallas Mavericks     0           13", 
        "                     1           17", 
        "Denver Nuggets       0           12", 
        "...", 
        "Sacramento Kings     1            9", 
        "San Antonio Spurs    0            4", 
        "                     1           27", 
        "San Diego Clippers   0            5", 
        "Seattle SuperSonics  0           10", 
        "                     1           18", 
        "Toronto Raptors      0           10", 
        "                     1            5", 
        "Utah Jazz            0            8", 
        "                     1           23", 
        "Vancouver Grizzlies  0            5", 
        "Washington Bullets   0           10", 
        "                     1            8", 
        "Washington Wizards   0            9", 
        "                     1            4", 
        "Name: W, Length: 71, dtype: int64"
       ]
      }
     ], 
     "prompt_number": 26
    }, 
    {
     "cell_type": "code", 
     "collapsed": true, 
     "input": [
      "nba['ptsdiff']=nba['PTS']-nba['oppPTS']"
     ], 
     "language": "python", 
     "outputs": [], 
     "prompt_number": 7
    }, 
    {
     "cell_type": "code", 
     "collapsed": false, 
     "input": [
      "nba.plot(x='ptsdiff',y='W',kind='scatter')"
     ], 
     "language": "python", 
     "outputs": [
      {
       "output_type": "pyout", 
       "prompt_number": 8, 
       "text": [
        "<matplotlib.axes.AxesSubplot at 0x4365750>"
       ]
      }
     ], 
     "prompt_number": 8
    }, 
    {
     "cell_type": "code", 
     "collapsed": false, 
     "input": [
      "model = sm.ols(formula='W ~ ptsdiff', data=nba)"
     ], 
     "language": "python", 
     "outputs": [], 
     "prompt_number": 9
    }, 
    {
     "cell_type": "code", 
     "collapsed": true, 
     "input": [
      "fitted=model.fit()"
     ], 
     "language": "python", 
     "outputs": [], 
     "prompt_number": 10
    }, 
    {
     "cell_type": "code", 
     "collapsed": false, 
     "input": [
      "fitted.summary()"
     ], 
     "language": "python", 
     "outputs": [
      {
       "html": [
        "<table class=\"simpletable\">", 
        "<caption>OLS Regression Results</caption>", 
        "<tr>", 
        "  <th>Dep. Variable:</th>            <td>W</td>        <th>  R-squared:         </th> <td>   0.942</td> ", 
        "</tr>", 
        "<tr>", 
        "  <th>Model:</th>                   <td>OLS</td>       <th>  Adj. R-squared:    </th> <td>   0.942</td> ", 
        "</tr>", 
        "<tr>", 
        "  <th>Method:</th>             <td>Least Squares</td>  <th>  F-statistic:       </th> <td>1.361e+04</td>", 
        "</tr>", 
        "<tr>", 
        "  <th>Date:</th>             <td>Mon, 15 Sep 2014</td> <th>  Prob (F-statistic):</th>  <td>  0.00</td>  ", 
        "</tr>", 
        "<tr>", 
        "  <th>Time:</th>                 <td>01:45:27</td>     <th>  Log-Likelihood:    </th> <td> -2118.0</td> ", 
        "</tr>", 
        "<tr>", 
        "  <th>No. Observations:</th>      <td>   835</td>      <th>  AIC:               </th> <td>   4240.</td> ", 
        "</tr>", 
        "<tr>", 
        "  <th>Df Residuals:</th>          <td>   833</td>      <th>  BIC:               </th> <td>   4249.</td> ", 
        "</tr>", 
        "<tr>", 
        "  <th>Df Model:</th>              <td>     1</td>      <th>                     </th>     <td> </td>    ", 
        "</tr>", 
        "</table>", 
        "<table class=\"simpletable\">", 
        "<tr>", 
        "      <td></td>         <th>coef</th>     <th>std err</th>      <th>t</th>      <th>P>|t|</th> <th>[95.0% Conf. Int.]</th> ", 
        "</tr>", 
        "<tr>", 
        "  <th>Intercept</th> <td>   41.0000</td> <td>    0.106</td> <td>  387.027</td> <td> 0.000</td> <td>   40.792    41.208</td>", 
        "</tr>", 
        "<tr>", 
        "  <th>ptsdiff</th>   <td>    0.0326</td> <td>    0.000</td> <td>  116.681</td> <td> 0.000</td> <td>    0.032     0.033</td>", 
        "</tr>", 
        "</table>", 
        "<table class=\"simpletable\">", 
        "<tr>", 
        "  <th>Omnibus:</th>       <td> 0.985</td> <th>  Durbin-Watson:     </th> <td>   2.238</td>", 
        "</tr>", 
        "<tr>", 
        "  <th>Prob(Omnibus):</th> <td> 0.611</td> <th>  Jarque-Bera (JB):  </th> <td>   0.946</td>", 
        "</tr>", 
        "<tr>", 
        "  <th>Skew:</th>          <td> 0.082</td> <th>  Prob(JB):          </th> <td>   0.623</td>", 
        "</tr>", 
        "<tr>", 
        "  <th>Kurtosis:</th>      <td> 3.006</td> <th>  Cond. No.          </th> <td>    379.</td>", 
        "</tr>", 
        "</table>"
       ], 
       "output_type": "pyout", 
       "prompt_number": 14, 
       "text": [
        "<class 'statsmodels.iolib.summary.Summary'>", 
        "\"\"\"", 
        "                            OLS Regression Results                            ", 
        "==============================================================================", 
        "Dep. Variable:                      W   R-squared:                       0.942", 
        "Model:                            OLS   Adj. R-squared:                  0.942", 
        "Method:                 Least Squares   F-statistic:                 1.361e+04", 
        "Date:                Mon, 15 Sep 2014   Prob (F-statistic):               0.00", 
        "Time:                        01:45:27   Log-Likelihood:                -2118.0", 
        "No. Observations:                 835   AIC:                             4240.", 
        "Df Residuals:                     833   BIC:                             4249.", 
        "Df Model:                           1                                         ", 
        "==============================================================================", 
        "                 coef    std err          t      P>|t|      [95.0% Conf. Int.]", 
        "------------------------------------------------------------------------------", 
        "Intercept     41.0000      0.106    387.027      0.000        40.792    41.208", 
        "ptsdiff        0.0326      0.000    116.681      0.000         0.032     0.033", 
        "==============================================================================", 
        "Omnibus:                        0.985   Durbin-Watson:                   2.238", 
        "Prob(Omnibus):                  0.611   Jarque-Bera (JB):                0.946", 
        "Skew:                           0.082   Prob(JB):                        0.623", 
        "Kurtosis:                       3.006   Cond. No.                         379.", 
        "==============================================================================", 
        "\"\"\""
       ]
      }
     ], 
     "prompt_number": 14
    }, 
    {
     "cell_type": "code", 
     "collapsed": true, 
     "input": [], 
     "language": "python", 
     "outputs": []
    }, 
    {
     "cell_type": "code", 
     "collapsed": false, 
     "input": [
      "nba.columns"
     ], 
     "language": "python", 
     "outputs": [
      {
       "output_type": "pyout", 
       "prompt_number": 18, 
       "text": [
        "Index([u'SeasonEnd', u'Team', u'Playoffs', u'W', u'PTS', u'oppPTS', u'FG', u'FGA', u'2P', u'2PA', u'3P', u'3PA', u'FT', u'FTA', u'ORB', u'DRB', u'AST', u'STL', u'BLK', u'TOV', u'ptsdiff'], dtype='object')"
       ]
      }
     ], 
     "prompt_number": 18
    }, 
    {
     "cell_type": "code", 
     "collapsed": true, 
     "input": [
      "nba.rename(columns={'2PA':'X2PA','3PA':'X3PA','2P':'X2P','3P':'X3P'},inplace=True)"
     ], 
     "language": "python", 
     "outputs": [], 
     "prompt_number": 22
    }, 
    {
     "cell_type": "code", 
     "collapsed": false, 
     "input": [
      "model2 = sm.ols(formula='PTS ~ X2PA + X3PA + FTA + AST + ORB + DRB + BLK + TOV + STL', data=nba)", 
      "jerk=model2.fit()", 
      "jerk.summary()"
     ], 
     "language": "python", 
     "outputs": [
      {
       "html": [
        "<table class=\"simpletable\">", 
        "<caption>OLS Regression Results</caption>", 
        "<tr>", 
        "  <th>Dep. Variable:</th>           <td>PTS</td>       <th>  R-squared:         </th> <td>   0.899</td> ", 
        "</tr>", 
        "<tr>", 
        "  <th>Model:</th>                   <td>OLS</td>       <th>  Adj. R-squared:    </th> <td>   0.898</td> ", 
        "</tr>", 
        "<tr>", 
        "  <th>Method:</th>             <td>Least Squares</td>  <th>  F-statistic:       </th> <td>   817.3</td> ", 
        "</tr>", 
        "<tr>", 
        "  <th>Date:</th>             <td>Mon, 15 Sep 2014</td> <th>  Prob (F-statistic):</th>  <td>  0.00</td>  ", 
        "</tr>", 
        "<tr>", 
        "  <th>Time:</th>                 <td>02:25:33</td>     <th>  Log-Likelihood:    </th> <td> -5541.1</td> ", 
        "</tr>", 
        "<tr>", 
        "  <th>No. Observations:</th>      <td>   835</td>      <th>  AIC:               </th> <td>1.110e+04</td>", 
        "</tr>", 
        "<tr>", 
        "  <th>Df Residuals:</th>          <td>   825</td>      <th>  BIC:               </th> <td>1.115e+04</td>", 
        "</tr>", 
        "<tr>", 
        "  <th>Df Model:</th>              <td>     9</td>      <th>                     </th>     <td> </td>    ", 
        "</tr>", 
        "</table>", 
        "<table class=\"simpletable\">", 
        "<tr>", 
        "      <td></td>         <th>coef</th>     <th>std err</th>      <th>t</th>      <th>P>|t|</th> <th>[95.0% Conf. Int.]</th> ", 
        "</tr>", 
        "<tr>", 
        "  <th>Intercept</th> <td>-2050.8108</td> <td>  203.487</td> <td>  -10.078</td> <td> 0.000</td> <td>-2450.223 -1651.398</td>", 
        "</tr>", 
        "<tr>", 
        "  <th>X2PA</th>      <td>    1.0429</td> <td>    0.030</td> <td>   35.274</td> <td> 0.000</td> <td>    0.985     1.101</td>", 
        "</tr>", 
        "<tr>", 
        "  <th>X3PA</th>      <td>    1.2586</td> <td>    0.038</td> <td>   32.747</td> <td> 0.000</td> <td>    1.183     1.334</td>", 
        "</tr>", 
        "<tr>", 
        "  <th>FTA</th>       <td>    1.1280</td> <td>    0.034</td> <td>   33.440</td> <td> 0.000</td> <td>    1.062     1.194</td>", 
        "</tr>", 
        "<tr>", 
        "  <th>AST</th>       <td>    0.8858</td> <td>    0.044</td> <td>   20.150</td> <td> 0.000</td> <td>    0.799     0.972</td>", 
        "</tr>", 
        "<tr>", 
        "  <th>ORB</th>       <td>   -0.9554</td> <td>    0.078</td> <td>  -12.261</td> <td> 0.000</td> <td>   -1.108    -0.802</td>", 
        "</tr>", 
        "<tr>", 
        "  <th>DRB</th>       <td>    0.0388</td> <td>    0.062</td> <td>    0.631</td> <td> 0.528</td> <td>   -0.082     0.160</td>", 
        "</tr>", 
        "<tr>", 
        "  <th>BLK</th>       <td>   -0.0558</td> <td>    0.088</td> <td>   -0.635</td> <td> 0.526</td> <td>   -0.228     0.117</td>", 
        "</tr>", 
        "<tr>", 
        "  <th>TOV</th>       <td>   -0.0248</td> <td>    0.061</td> <td>   -0.405</td> <td> 0.686</td> <td>   -0.145     0.095</td>", 
        "</tr>", 
        "<tr>", 
        "  <th>STL</th>       <td>   -0.1992</td> <td>    0.092</td> <td>   -2.169</td> <td> 0.030</td> <td>   -0.379    -0.019</td>", 
        "</tr>", 
        "</table>", 
        "<table class=\"simpletable\">", 
        "<tr>", 
        "  <th>Omnibus:</th>       <td> 1.265</td> <th>  Durbin-Watson:     </th> <td>   1.820</td>", 
        "</tr>", 
        "<tr>", 
        "  <th>Prob(Omnibus):</th> <td> 0.531</td> <th>  Jarque-Bera (JB):  </th> <td>   1.301</td>", 
        "</tr>", 
        "<tr>", 
        "  <th>Skew:</th>          <td>-0.094</td> <th>  Prob(JB):          </th> <td>   0.522</td>", 
        "</tr>", 
        "<tr>", 
        "  <th>Kurtosis:</th>      <td> 2.951</td> <th>  Cond. No.          </th> <td>2.34e+05</td>", 
        "</tr>", 
        "</table>"
       ], 
       "output_type": "pyout", 
       "prompt_number": 29, 
       "text": [
        "<class 'statsmodels.iolib.summary.Summary'>", 
        "\"\"\"", 
        "                            OLS Regression Results                            ", 
        "==============================================================================", 
        "Dep. Variable:                    PTS   R-squared:                       0.899", 
        "Model:                            OLS   Adj. R-squared:                  0.898", 
        "Method:                 Least Squares   F-statistic:                     817.3", 
        "Date:                Mon, 15 Sep 2014   Prob (F-statistic):               0.00", 
        "Time:                        02:25:33   Log-Likelihood:                -5541.1", 
        "No. Observations:                 835   AIC:                         1.110e+04", 
        "Df Residuals:                     825   BIC:                         1.115e+04", 
        "Df Model:                           9                                         ", 
        "==============================================================================", 
        "                 coef    std err          t      P>|t|      [95.0% Conf. Int.]", 
        "------------------------------------------------------------------------------", 
        "Intercept  -2050.8108    203.487    -10.078      0.000     -2450.223 -1651.398", 
        "X2PA           1.0429      0.030     35.274      0.000         0.985     1.101", 
        "X3PA           1.2586      0.038     32.747      0.000         1.183     1.334", 
        "FTA            1.1280      0.034     33.440      0.000         1.062     1.194", 
        "AST            0.8858      0.044     20.150      0.000         0.799     0.972", 
        "ORB           -0.9554      0.078    -12.261      0.000        -1.108    -0.802", 
        "DRB            0.0388      0.062      0.631      0.528        -0.082     0.160", 
        "BLK           -0.0558      0.088     -0.635      0.526        -0.228     0.117", 
        "TOV           -0.0248      0.061     -0.405      0.686        -0.145     0.095", 
        "STL           -0.1992      0.092     -2.169      0.030        -0.379    -0.019", 
        "==============================================================================", 
        "Omnibus:                        1.265   Durbin-Watson:                   1.820", 
        "Prob(Omnibus):                  0.531   Jarque-Bera (JB):                1.301", 
        "Skew:                          -0.094   Prob(JB):                        0.522", 
        "Kurtosis:                       2.951   Cond. No.                     2.34e+05", 
        "==============================================================================", 
        "", 
        "Warnings:", 
        "[1] The condition number is large, 2.34e+05. This might indicate that there are", 
        "strong multicollinearity or other numerical problems.", 
        "\"\"\""
       ]
      }
     ], 
     "prompt_number": 29
    }, 
    {
     "cell_type": "code", 
     "collapsed": false, 
     "input": [
      "sse=(jerk.resid*jerk.resid).sum()", 
      "print 'sse=',sse", 
      "rmse= sqrt(sse/len(nba))", 
      "print 'rmse=',rmse", 
      ""
     ], 
     "language": "python", 
     "outputs": [
      {
       "output_type": "stream", 
       "stream": "stdout", 
       "text": [
        "sse= 28394313.9948", 
        "rmse= 184.404898147"
       ]
      }
     ], 
     "prompt_number": 43
    }, 
    {
     "cell_type": "code", 
     "collapsed": false, 
     "input": [
      "regvar = nba[['X2PA', 'X3PA', 'FTA', 'AST', 'ORB', 'STL']]"
     ], 
     "language": "python", 
     "outputs": [], 
     "prompt_number": 46
    }, 
    {
     "cell_type": "code", 
     "collapsed": false, 
     "input": [
      "regvar.corr()"
     ], 
     "language": "python", 
     "outputs": [
      {
       "html": [
        "<div style=\"max-height:1000px;max-width:1500px;overflow:auto;\">", 
        "<table border=\"1\" class=\"dataframe\">", 
        "  <thead>", 
        "    <tr style=\"text-align: right;\">", 
        "      <th></th>", 
        "      <th>X2PA</th>", 
        "      <th>X3PA</th>", 
        "      <th>FTA</th>", 
        "      <th>AST</th>", 
        "      <th>ORB</th>", 
        "      <th>STL</th>", 
        "    </tr>", 
        "  </thead>", 
        "  <tbody>", 
        "    <tr>", 
        "      <th>X2PA</th>", 
        "      <td> 1.000000</td>", 
        "      <td>-0.923244</td>", 
        "      <td> 0.523757</td>", 
        "      <td> 0.677708</td>", 
        "      <td> 0.765615</td>", 
        "      <td> 0.490086</td>", 
        "    </tr>", 
        "    <tr>", 
        "      <th>X3PA</th>", 
        "      <td>-0.923244</td>", 
        "      <td> 1.000000</td>", 
        "      <td>-0.537783</td>", 
        "      <td>-0.592783</td>", 
        "      <td>-0.649173</td>", 
        "      <td>-0.409092</td>", 
        "    </tr>", 
        "    <tr>", 
        "      <th>FTA</th>", 
        "      <td> 0.523757</td>", 
        "      <td>-0.537783</td>", 
        "      <td> 1.000000</td>", 
        "      <td> 0.427972</td>", 
        "      <td> 0.474558</td>", 
        "      <td> 0.370055</td>", 
        "    </tr>", 
        "    <tr>", 
        "      <th>AST</th>", 
        "      <td> 0.677708</td>", 
        "      <td>-0.592783</td>", 
        "      <td> 0.427972</td>", 
        "      <td> 1.000000</td>", 
        "      <td> 0.406766</td>", 
        "      <td> 0.443138</td>", 
        "    </tr>", 
        "    <tr>", 
        "      <th>ORB</th>", 
        "      <td> 0.765615</td>", 
        "      <td>-0.649173</td>", 
        "      <td> 0.474558</td>", 
        "      <td> 0.406766</td>", 
        "      <td> 1.000000</td>", 
        "      <td> 0.492941</td>", 
        "    </tr>", 
        "    <tr>", 
        "      <th>STL</th>", 
        "      <td> 0.490086</td>", 
        "      <td>-0.409092</td>", 
        "      <td> 0.370055</td>", 
        "      <td> 0.443138</td>", 
        "      <td> 0.492941</td>", 
        "      <td> 1.000000</td>", 
        "    </tr>", 
        "  </tbody>", 
        "</table>", 
        "</div>"
       ], 
       "output_type": "pyout", 
       "prompt_number": 59, 
       "text": [
        "          X2PA      X3PA       FTA       AST       ORB       STL", 
        "X2PA  1.000000 -0.923244  0.523757  0.677708  0.765615  0.490086", 
        "X3PA -0.923244  1.000000 -0.537783 -0.592783 -0.649173 -0.409092", 
        "FTA   0.523757 -0.537783  1.000000  0.427972  0.474558  0.370055", 
        "AST   0.677708 -0.592783  0.427972  1.000000  0.406766  0.443138", 
        "ORB   0.765615 -0.649173  0.474558  0.406766  1.000000  0.492941", 
        "STL   0.490086 -0.409092  0.370055  0.443138  0.492941  1.000000"
       ]
      }
     ], 
     "prompt_number": 59
    }, 
    {
     "cell_type": "code", 
     "collapsed": false, 
     "input": [
      "nbatest=pd.read_csv(\"NBA_test.csv\")"
     ], 
     "language": "python", 
     "outputs": [], 
     "prompt_number": 61
    }, 
    {
     "cell_type": "code", 
     "collapsed": true, 
     "input": [
      "nbatest.rename(columns={'2PA':'X2PA','3PA':'X3PA','2P':'X2P','3P':'X3P'},inplace=True)"
     ], 
     "language": "python", 
     "outputs": [], 
     "prompt_number": 62
    }, 
    {
     "cell_type": "code", 
     "collapsed": false, 
     "input": [
      "ynewpred =  jerk.predict(nbatest)", 
      "sse=sum((ynewpred-nbatest.PTS)**2)", 
      "sst=sum((nba['PTS'].mean()-nbatest['PTS'])**2)", 
      "r2=1-sse/sst", 
      "print r2"
     ], 
     "language": "python", 
     "outputs": [
      {
       "output_type": "stream", 
       "stream": "stdout", 
       "text": [
        "0.812301901818"
       ]
      }
     ], 
     "prompt_number": 69
    }, 
    {
     "cell_type": "code", 
     "collapsed": false, 
     "input": [
      "rmse=sqrt(sse/len(nbatest))", 
      "print rmse"
     ], 
     "language": "python", 
     "outputs": [
      {
       "output_type": "stream", 
       "stream": "stdout", 
       "text": [
        "196.588368233"
       ]
      }
     ], 
     "prompt_number": 71
    }, 
    {
     "cell_type": "code", 
     "collapsed": true, 
     "input": [], 
     "language": "python", 
     "outputs": []
    }
   ]
  }
 ]
}