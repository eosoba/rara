{
 "cells": [
  {
   "cell_type": "code",
   "execution_count": 1,
   "metadata": {},
   "outputs": [],
   "source": [
    "import seaborn as sns\n",
    "import pandas as pd\n",
    "import numpy as np\n",
    "import pprint\n",
    "from sklearn.metrics import accuracy_score,confusion_matrix,precision_score,recall_score\n",
    "from sklearn.model_selection import train_test_split\n",
    "from sklearn.tree import DecisionTreeClassifier\n",
    "from sklearn.ensemble import RandomForestClassifier\n",
    "from sklearn.compose import ColumnTransformer\n",
    "from sklearn.pipeline import make_pipeline,Pipeline\n",
    "from sklearn.preprocessing import StandardScaler,OneHotEncoder\n",
    "from sklearn.model_selection import cross_val_score,cross_validate\n",
    "import matplotlib.pyplot as plt\n",
    "from sklearn.impute import SimpleImputer\n",
    "from sklearn import set_config\n",
    "\n"
   ]
  },
  {
   "cell_type": "code",
   "execution_count": 2,
   "metadata": {},
   "outputs": [],
   "source": [
    "df = pd.read_csv(\"healthcare-dataset-stroke-data.csv\") "
   ]
  },
  {
   "cell_type": "code",
   "execution_count": 3,
   "metadata": {},
   "outputs": [],
   "source": [
    "# get glucose median for the target variable\n",
    "p50 = df['avg_glucose_level'].median()\n",
    "df['median_glucose'] = df['avg_glucose_level'].apply(lambda x: 1 if x< p50 else 0 )"
   ]
  },
  {
   "cell_type": "code",
   "execution_count": 4,
   "metadata": {},
   "outputs": [
    {
     "data": {
      "text/html": [
       "<div>\n",
       "<style scoped>\n",
       "    .dataframe tbody tr th:only-of-type {\n",
       "        vertical-align: middle;\n",
       "    }\n",
       "\n",
       "    .dataframe tbody tr th {\n",
       "        vertical-align: top;\n",
       "    }\n",
       "\n",
       "    .dataframe thead th {\n",
       "        text-align: right;\n",
       "    }\n",
       "</style>\n",
       "<table border=\"1\" class=\"dataframe\">\n",
       "  <thead>\n",
       "    <tr style=\"text-align: right;\">\n",
       "      <th></th>\n",
       "      <th>id</th>\n",
       "      <th>gender</th>\n",
       "      <th>age</th>\n",
       "      <th>hypertension</th>\n",
       "      <th>heart_disease</th>\n",
       "      <th>ever_married</th>\n",
       "      <th>work_type</th>\n",
       "      <th>Residence_type</th>\n",
       "      <th>avg_glucose_level</th>\n",
       "      <th>bmi</th>\n",
       "      <th>smoking_status</th>\n",
       "      <th>stroke</th>\n",
       "      <th>median_glucose</th>\n",
       "    </tr>\n",
       "  </thead>\n",
       "  <tbody>\n",
       "    <tr>\n",
       "      <th>0</th>\n",
       "      <td>9046</td>\n",
       "      <td>Male</td>\n",
       "      <td>67.0</td>\n",
       "      <td>0</td>\n",
       "      <td>1</td>\n",
       "      <td>Yes</td>\n",
       "      <td>Private</td>\n",
       "      <td>Urban</td>\n",
       "      <td>228.69</td>\n",
       "      <td>36.6</td>\n",
       "      <td>formerly smoked</td>\n",
       "      <td>1</td>\n",
       "      <td>0</td>\n",
       "    </tr>\n",
       "    <tr>\n",
       "      <th>1</th>\n",
       "      <td>51676</td>\n",
       "      <td>Female</td>\n",
       "      <td>61.0</td>\n",
       "      <td>0</td>\n",
       "      <td>0</td>\n",
       "      <td>Yes</td>\n",
       "      <td>Self-employed</td>\n",
       "      <td>Rural</td>\n",
       "      <td>202.21</td>\n",
       "      <td>NaN</td>\n",
       "      <td>never smoked</td>\n",
       "      <td>1</td>\n",
       "      <td>0</td>\n",
       "    </tr>\n",
       "    <tr>\n",
       "      <th>2</th>\n",
       "      <td>31112</td>\n",
       "      <td>Male</td>\n",
       "      <td>80.0</td>\n",
       "      <td>0</td>\n",
       "      <td>1</td>\n",
       "      <td>Yes</td>\n",
       "      <td>Private</td>\n",
       "      <td>Rural</td>\n",
       "      <td>105.92</td>\n",
       "      <td>32.5</td>\n",
       "      <td>never smoked</td>\n",
       "      <td>1</td>\n",
       "      <td>0</td>\n",
       "    </tr>\n",
       "    <tr>\n",
       "      <th>3</th>\n",
       "      <td>60182</td>\n",
       "      <td>Female</td>\n",
       "      <td>49.0</td>\n",
       "      <td>0</td>\n",
       "      <td>0</td>\n",
       "      <td>Yes</td>\n",
       "      <td>Private</td>\n",
       "      <td>Urban</td>\n",
       "      <td>171.23</td>\n",
       "      <td>34.4</td>\n",
       "      <td>smokes</td>\n",
       "      <td>1</td>\n",
       "      <td>0</td>\n",
       "    </tr>\n",
       "    <tr>\n",
       "      <th>4</th>\n",
       "      <td>1665</td>\n",
       "      <td>Female</td>\n",
       "      <td>79.0</td>\n",
       "      <td>1</td>\n",
       "      <td>0</td>\n",
       "      <td>Yes</td>\n",
       "      <td>Self-employed</td>\n",
       "      <td>Rural</td>\n",
       "      <td>174.12</td>\n",
       "      <td>24.0</td>\n",
       "      <td>never smoked</td>\n",
       "      <td>1</td>\n",
       "      <td>0</td>\n",
       "    </tr>\n",
       "  </tbody>\n",
       "</table>\n",
       "</div>"
      ],
      "text/plain": [
       "      id  gender   age  hypertension  heart_disease ever_married  \\\n",
       "0   9046    Male  67.0             0              1          Yes   \n",
       "1  51676  Female  61.0             0              0          Yes   \n",
       "2  31112    Male  80.0             0              1          Yes   \n",
       "3  60182  Female  49.0             0              0          Yes   \n",
       "4   1665  Female  79.0             1              0          Yes   \n",
       "\n",
       "       work_type Residence_type  avg_glucose_level   bmi   smoking_status  \\\n",
       "0        Private          Urban             228.69  36.6  formerly smoked   \n",
       "1  Self-employed          Rural             202.21   NaN     never smoked   \n",
       "2        Private          Rural             105.92  32.5     never smoked   \n",
       "3        Private          Urban             171.23  34.4           smokes   \n",
       "4  Self-employed          Rural             174.12  24.0     never smoked   \n",
       "\n",
       "   stroke  median_glucose  \n",
       "0       1               0  \n",
       "1       1               0  \n",
       "2       1               0  \n",
       "3       1               0  \n",
       "4       1               0  "
      ]
     },
     "execution_count": 4,
     "metadata": {},
     "output_type": "execute_result"
    }
   ],
   "source": [
    "df.head()"
   ]
  },
  {
   "cell_type": "markdown",
   "metadata": {},
   "source": [
    "#  Missing values \n",
    "- In the last workbook we removed rows with missing values\n",
    "- Let's try to impute the values instead. Generally we want to keep as much as the training rows as possible\n",
    "- We will have correct each columns with missing data individually"
   ]
  },
  {
   "cell_type": "code",
   "execution_count": 5,
   "metadata": {},
   "outputs": [
    {
     "name": "stdout",
     "output_type": "stream",
     "text": [
      "False    4909\n",
      "True      201\n",
      "Name: bmi, dtype: int64\n"
     ]
    },
    {
     "data": {
      "text/plain": [
       "28.1"
      ]
     },
     "execution_count": 5,
     "metadata": {},
     "output_type": "execute_result"
    }
   ],
   "source": [
    "print(df['bmi'].isnull().value_counts())\n",
    "df['bmi'].median()"
   ]
  },
  {
   "cell_type": "markdown",
   "metadata": {},
   "source": [
    "## A simple strategy is to replace the missing bmi values with median/mean value\n",
    "- use `fillna` to fill in a value simply. https://pandas.pydata.org/pandas-docs/version/0.22/generated/pandas.DataFrame.fillna.html \n",
    "- But this assumes that those missing represent the typical patient.\n",
    "- We could be more careful to try to see if there's a pattern to missing values\n",
    "- Are the values missing at random? Is it more females or males? Is it age restricted?\n",
    "- Model building requires a lot of data preparation prep work\n",
    "- https://www.analyticsvidhya.com/blog/2021/10/handling-missing-value/\n",
    "- for now, we will do simple fill with the median bmi"
   ]
  },
  {
   "cell_type": "code",
   "execution_count": 7,
   "metadata": {},
   "outputs": [],
   "source": [
    "# Create dummy variables for the categorical variables\n",
    "categorical_columns = ['ever_married','gender']\n",
    "df_dummies = pd.get_dummies(df,columns=categorical_columns,drop_first=True,)"
   ]
  },
  {
   "cell_type": "markdown",
   "metadata": {},
   "source": [
    "# Train decision tree model\n",
    "- We'll omit scaling features, tree models don't quite require them\n"
   ]
  },
  {
   "cell_type": "code",
   "execution_count": 8,
   "metadata": {},
   "outputs": [],
   "source": [
    "train_cols = ['age','hypertension','heart_disease','bmi'] +['ever_married_Yes','gender_Male','gender_Other']\n",
    "target = ['median_glucose']\n",
    "\n",
    "X = df_dummies[train_cols].fillna(value={'bmi':28.1})\n",
    "y = df_dummies[target]\n",
    "\n",
    "X_train, X_test, y_train, y_test = train_test_split(X,y, test_size=0.30, random_state=42)"
   ]
  },
  {
   "cell_type": "code",
   "execution_count": 16,
   "metadata": {},
   "outputs": [
    {
     "data": {
      "text/plain": [
       "DecisionTreeClassifier(max_leaf_nodes=10)"
      ]
     },
     "execution_count": 16,
     "metadata": {},
     "output_type": "execute_result"
    }
   ],
   "source": [
    "clf = DecisionTreeClassifier(max_leaf_nodes=10)\n",
    "clf.fit(X_train,y_train.values.ravel())"
   ]
  },
  {
   "cell_type": "code",
   "execution_count": 17,
   "metadata": {},
   "outputs": [
    {
     "name": "stdout",
     "output_type": "stream",
     "text": [
      "accuracy 0.5518590998043053 precision 0.5417218543046357 recall 0.5453333333333333\n",
      "confusion matrix\n"
     ]
    },
    {
     "data": {
      "text/plain": [
       "array([[437, 346],\n",
       "       [341, 409]])"
      ]
     },
     "execution_count": 17,
     "metadata": {},
     "output_type": "execute_result"
    }
   ],
   "source": [
    "y_true = y_test\n",
    "y_preds = clf.predict(X_test)\n",
    "\n",
    "accuracy = accuracy_score(y_true,y_preds)\n",
    "precision = precision_score(y_true,y_preds)\n",
    "recall = recall_score(y_true,y_preds)\n",
    "\n",
    "print('accuracy',accuracy,'precision',precision,'recall',recall)\n",
    "\n",
    "print(\"confusion matrix\")\n",
    "confusion_matrix(y_true,y_preds)"
   ]
  },
  {
   "cell_type": "markdown",
   "metadata": {},
   "source": [
    "# Visualize Tree"
   ]
  },
  {
   "cell_type": "code",
   "execution_count": 18,
   "metadata": {},
   "outputs": [
    {
     "data": {
      "image/png": "[encoded data removed]",
      "text/plain": [
       "<Figure size 432x288 with 1 Axes>"
      ]
     },
     "metadata": {
      "needs_background": "light"
     },
     "output_type": "display_data"
    }
   ],
   "source": [
    "from sklearn import tree\n",
    "tree.plot_tree(clf)\n",
    "plt.show()"
   ]
  },
  {
   "cell_type": "markdown",
   "metadata": {},
   "source": [
    "## Hyperparameter tuning.\n",
    "- We have used the generic parameters to train decision tree, we can get better results by tuning the hyperparameters\n",
    "- However we must be careful on how we cut the data.\n",
    "- Data used for hyperparameter tuning should not be the same data used for reporting test results, or the results will be biased\n",
    "- The data is split 3 ways, train, test and validation. We would use train and validation to determine best hyperparameters and then test set is used to report on the final result.  \n",
    "- https://www.jeremyjordan.me/hyperparameter-tuning/\n",
    "- Grid search is one method to find the best hyperparameters\n",
    "- In the Decision tree example, we want to find the best tree depth.  Set up a 1-d grid of possible depth parameters. \n",
    "- Train on for the tree for each value in the grid, test on the validation.  Get the best results based on the validation set\n",
    "- retrain the final model on the train+test, and report results on the validation"
   ]
  },
  {
   "cell_type": "code",
   "execution_count": 26,
   "metadata": {},
   "outputs": [],
   "source": [
    "X_train_test, X_val, y_train_test, y_val = train_test_split(X,y, test_size=0.20, random_state=42)\n",
    "X_train, X_test, y_train, y_test = train_test_split(X_train_test,y_train_test, test_size=0.10, random_state=42)"
   ]
  },
  {
   "cell_type": "code",
   "execution_count": 27,
   "metadata": {},
   "outputs": [
    {
     "name": "stdout",
     "output_type": "stream",
     "text": [
      "{2: 0.5745721271393643, 3: 0.5501222493887531, 4: 0.5501222493887531, 5: 0.5721271393643031, 6: 0.5721271393643031, 7: 0.5647921760391198, 8: 0.5696821515892421, 9: 0.5794621026894865}\n"
     ]
    }
   ],
   "source": [
    "n_depth_grid = range(2,10)\n",
    "results = {}\n",
    "results_validation = {}\n",
    "\n",
    "for i in n_depth_grid:\n",
    "    model = DecisionTreeClassifier(max_depth=i)\n",
    "    model.fit(X_train,y_train) #train on train set\n",
    "    results[i] = accuracy_score(model.predict(X_test),y_test) #score on the test set\n",
    "    \n",
    "    model_validation = DecisionTreeClassifier(max_depth=i)\n",
    "    model_validation.fit(X_train_test,y_train_test) # train on the combined train_test\n",
    "    results_validation[i] = accuracy_score(model_validation.predict(X_val),y_val)\n",
    " \n",
    "print(results)"
   ]
  },
  {
   "cell_type": "code",
   "execution_count": 28,
   "metadata": {},
   "outputs": [
    {
     "name": "stdout",
     "output_type": "stream",
     "text": [
      "[(2, 0.5745721271393643), (3, 0.5501222493887531), (4, 0.5501222493887531), (5, 0.5721271393643031), (6, 0.5721271393643031), (7, 0.5647921760391198), (8, 0.5696821515892421), (9, 0.5794621026894865)] \n",
      "\n",
      "best model (9, 0.5794621026894865)\n"
     ]
    }
   ],
   "source": [
    "result_list = list(results.items())\n",
    "print(result_list,\"\\n\")\n",
    "result_list.sort(key=lambda x: x[1],reverse=True)\n",
    "print(\"best model\",result_list[0])"
   ]
  },
  {
   "cell_type": "code",
   "execution_count": 29,
   "metadata": {},
   "outputs": [
    {
     "data": {
      "text/plain": [
       "[<matplotlib.lines.Line2D at 0x7fb001788580>]"
      ]
     },
     "execution_count": 29,
     "metadata": {},
     "output_type": "execute_result"
    },
    {
     "data": {
      "image/png": "[encoded data removed]",
      "text/plain": [
       "<Figure size 432x288 with 1 Axes>"
      ]
     },
     "metadata": {
      "needs_background": "light"
     },
     "output_type": "display_data"
    }
   ],
   "source": [
    "plt.plot(results.keys(),results.values())"
   ]
  },
  {
   "cell_type": "markdown",
   "metadata": {},
   "source": [
    "## According to this plot depth =2 is the best parameter"
   ]
  },
  {
   "cell_type": "code",
   "execution_count": 30,
   "metadata": {},
   "outputs": [
    {
     "name": "stdout",
     "output_type": "stream",
     "text": [
      "{2: 0.5450097847358122, 3: 0.5459882583170255, 4: 0.5371819960861057, 5: 0.5459882583170255, 6: 0.5547945205479452, 7: 0.5371819960861057, 8: 0.525440313111546, 9: 0.525440313111546}\n"
     ]
    },
    {
     "data": {
      "text/plain": [
       "[<matplotlib.lines.Line2D at 0x7fb001c22f70>]"
      ]
     },
     "execution_count": 30,
     "metadata": {},
     "output_type": "execute_result"
    },
    {
     "data": {
      "image/png": "[encoded data removed]",
      "text/plain": [
       "<Figure size 432x288 with 1 Axes>"
      ]
     },
     "metadata": {
      "needs_background": "light"
     },
     "output_type": "display_data"
    }
   ],
   "source": [
    "# validation results\n",
    "print(results_validation)\n",
    "plt.plot(results_validation.keys(),results_validation.values())"
   ]
  },
  {
   "cell_type": "markdown",
   "metadata": {},
   "source": [
    "## Even though the validation results show depth = 2 is worse\n",
    "- We should not be tempted to change which is the best model.\n",
    "- Besides we could get more robust results by cross validating our results\n",
    "- the numbers could easily change if we have different cut of the data"
   ]
  },
  {
   "cell_type": "markdown",
   "metadata": {},
   "source": [
    "# Cross Validation\n",
    "- In the last homework, you noticed that you can cheat the model metrics by cutting the data in the right way to report the best metrics.\n",
    "- We can mitigate that by using cross-validation,\n",
    "- See more k-fold cv here at https://scikit-learn.org/stable/modules/cross_validation.html\n",
    "- https://scikit-learn.org/stable/modules/generated/sklearn.model_selection.cross_validate.html#sklearn.model_selection.cross_validate\n",
    "- We will start with a simple 3-fold cross validation"
   ]
  },
  {
   "cell_type": "code",
   "execution_count": 31,
   "metadata": {},
   "outputs": [
    {
     "name": "stdout",
     "output_type": "stream",
     "text": [
      "{'fit_time': array([0.00857401, 0.00900197, 0.00943899]),\n",
      " 'score_time': array([0.00448084, 0.00467396, 0.00397611]),\n",
      " 'test_accuracy': array([0.54952311, 0.52604549, 0.530837  ]),\n",
      " 'test_precision': array([0.54933726, 0.5257732 , 0.53139357]),\n",
      " 'test_recall': array([0.54772394, 0.52422907, 0.51029412])}\n",
      "\n",
      "\n",
      "mean accuracy: 0.5354685343615567 mean precision: 0.5355013415669232 mean recall: 0.5274157093086868\n"
     ]
    }
   ],
   "source": [
    "clf = DecisionTreeClassifier()\n",
    "n_folds = 3\n",
    "scores = cross_validate(clf, X_train_test, y_train_test, cv=n_folds,scoring=('accuracy','precision','recall'))\n",
    "pprint.pprint(scores)\n",
    "print(\"\\n\")\n",
    "print(\"mean accuracy:\",scores['test_accuracy'].mean(),\n",
    "      \"mean precision:\",scores['test_precision'].mean(),\n",
    "      \"mean recall:\", scores['test_recall'].mean())\n"
   ]
  },
  {
   "cell_type": "markdown",
   "metadata": {},
   "source": [
    "## 3-fold cross validation\n",
    "- The scores have 3 elements representing the model metrics on 3 mutually exclusive cuts of the data\n",
    "- see the list possible classification metrics to track, https://scikit-learn.org/stable/modules/classes.html?highlight=metrics#module-sklearn.metrics\n",
    "\n"
   ]
  },
  {
   "cell_type": "markdown",
   "metadata": {},
   "source": [
    "## Cross Validation with hyperparameter tuning.  \n",
    "- As mentioned before, data used hyperparameter tuning should not be the same data used for reporting test results\n",
    "- In previous example we trained on a single slice of the data. Now we apply to the CV to the train-test combined slice\n",
    "- Cutting the data gets complicated when we have multiple folds, luckily sklearn has handy methods for this easily\n",
    "- Gridsearch lets us manage multiple hyperparameters quite easily. `tuned_parameters` can have multiple parameters"
   ]
  },
  {
   "cell_type": "code",
   "execution_count": 25,
   "metadata": {},
   "outputs": [],
   "source": [
    "from sklearn.model_selection import KFold\n",
    "from sklearn.model_selection import GridSearchCV"
   ]
  },
  {
   "cell_type": "code",
   "execution_count": 46,
   "metadata": {},
   "outputs": [
    {
     "data": {
      "text/plain": [
       "{'mean_fit_time': array([0.00541504, 0.00573659, 0.00483171, 0.00491563, 0.00515469,\n",
       "        0.00496038, 0.00510772, 0.005548  ]),\n",
       " 'std_fit_time': array([2.03133034e-04, 6.01385365e-05, 8.97647973e-05, 4.20488790e-05,\n",
       "        7.46556894e-05, 1.65183799e-04, 1.24317451e-04, 4.58311500e-04]),\n",
       " 'mean_score_time': array([0.00207496, 0.00190337, 0.00155791, 0.00153009, 0.00153335,\n",
       "        0.00134865, 0.00140325, 0.00143774]),\n",
       " 'std_score_time': array([1.23890057e-04, 1.41481468e-04, 4.34333538e-05, 3.96818740e-05,\n",
       "        4.49730727e-05, 7.18251771e-06, 3.38796818e-05, 1.48852433e-04]),\n",
       " 'param_max_depth': masked_array(data=[2, 3, 4, 5, 6, 7, 8, 9],\n",
       "              mask=[False, False, False, False, False, False, False, False],\n",
       "        fill_value='?',\n",
       "             dtype=object),\n",
       " 'params': [{'max_depth': 2},\n",
       "  {'max_depth': 3},\n",
       "  {'max_depth': 4},\n",
       "  {'max_depth': 5},\n",
       "  {'max_depth': 6},\n",
       "  {'max_depth': 7},\n",
       "  {'max_depth': 8},\n",
       "  {'max_depth': 9}],\n",
       " 'split0_test_score': array([0.54292003, 0.55025679, 0.53705062, 0.52824652, 0.52017608,\n",
       "        0.53558327, 0.54878944, 0.53264857]),\n",
       " 'split1_test_score': array([0.54438738, 0.54145268, 0.54218635, 0.53851798, 0.53851798,\n",
       "        0.52384446, 0.53411592, 0.52824652]),\n",
       " 'split2_test_score': array([0.53817915, 0.53524229, 0.53230543, 0.53303965, 0.54111601,\n",
       "        0.54625551, 0.54185022, 0.53524229]),\n",
       " 'mean_test_score': array([0.54182885, 0.54231725, 0.5371808 , 0.53326805, 0.53327002,\n",
       "        0.53522775, 0.54158519, 0.53204579]),\n",
       " 'std_test_score': array([0.00264934, 0.00616005, 0.00403492, 0.00419641, 0.00931937,\n",
       "        0.00915272, 0.00599337, 0.00288764]),\n",
       " 'rank_test_score': array([2, 1, 4, 7, 6, 5, 3, 8], dtype=int32)}"
      ]
     },
     "execution_count": 46,
     "metadata": {},
     "output_type": "execute_result"
    }
   ],
   "source": [
    "n_depth_grid = range(2,10)\n",
    "tuned_parameters = [{\"max_depth\": n_depth_grid}]\n",
    "clf = GridSearchCV(DecisionTreeClassifier(random_state=0), tuned_parameters, cv=n_folds , refit=True)\n",
    "clf.fit(X_train_test, y_train_test)\n",
    "clf.cv_results_"
   ]
  },
  {
   "cell_type": "code",
   "execution_count": 47,
   "metadata": {},
   "outputs": [
    {
     "data": {
      "text/plain": [
       "[<matplotlib.lines.Line2D at 0x7fafd0604d90>]"
      ]
     },
     "execution_count": 47,
     "metadata": {},
     "output_type": "execute_result"
    },
    {
     "data": {
      "image/png": "[encoded data removed]",
      "text/plain": [
       "<Figure size 576x432 with 1 Axes>"
      ]
     },
     "metadata": {
      "needs_background": "light"
     },
     "output_type": "display_data"
    }
   ],
   "source": [
    "scores = clf.cv_results_[\"mean_test_score\"]\n",
    "scores_std = clf.cv_results_[\"std_test_score\"]\n",
    "plt.figure().set_size_inches(8, 6)\n",
    "plt.plot(n_depth_grid, scores)\n"
   ]
  },
  {
   "cell_type": "code",
   "execution_count": 48,
   "metadata": {},
   "outputs": [
    {
     "data": {
      "text/plain": [
       "DecisionTreeClassifier(max_depth=3, random_state=0)"
      ]
     },
     "execution_count": 48,
     "metadata": {},
     "output_type": "execute_result"
    }
   ],
   "source": [
    "clf.best_estimator_"
   ]
  },
  {
   "cell_type": "code",
   "execution_count": 49,
   "metadata": {},
   "outputs": [
    {
     "data": {
      "text/plain": [
       "{'max_depth': 3}"
      ]
     },
     "execution_count": 49,
     "metadata": {},
     "output_type": "execute_result"
    }
   ],
   "source": [
    "# the parameters for the best model\n",
    "clf.best_params_"
   ]
  },
  {
   "cell_type": "code",
   "execution_count": 50,
   "metadata": {},
   "outputs": [
    {
     "name": "stdout",
     "output_type": "stream",
     "text": [
      "0.5459882583170255\n"
     ]
    }
   ],
   "source": [
    "# the best model on the validation set\n",
    "# Compare with the value above with the simpe train-test-val split\n",
    "print(accuracy_score(clf.best_estimator_.predict(X_val),y_val))"
   ]
  },
  {
   "cell_type": "code",
   "execution_count": 56,
   "metadata": {},
   "outputs": [
    {
     "data": {
      "text/html": [
       "<div>\n",
       "<style scoped>\n",
       "    .dataframe tbody tr th:only-of-type {\n",
       "        vertical-align: middle;\n",
       "    }\n",
       "\n",
       "    .dataframe tbody tr th {\n",
       "        vertical-align: top;\n",
       "    }\n",
       "\n",
       "    .dataframe thead th {\n",
       "        text-align: right;\n",
       "    }\n",
       "</style>\n",
       "<table border=\"1\" class=\"dataframe\">\n",
       "  <thead>\n",
       "    <tr style=\"text-align: right;\">\n",
       "      <th></th>\n",
       "      <th>id</th>\n",
       "      <th>gender</th>\n",
       "      <th>age</th>\n",
       "      <th>hypertension</th>\n",
       "      <th>heart_disease</th>\n",
       "      <th>ever_married</th>\n",
       "      <th>work_type</th>\n",
       "      <th>Residence_type</th>\n",
       "      <th>avg_glucose_level</th>\n",
       "      <th>bmi</th>\n",
       "      <th>smoking_status</th>\n",
       "      <th>stroke</th>\n",
       "      <th>median_glucose</th>\n",
       "    </tr>\n",
       "  </thead>\n",
       "  <tbody>\n",
       "    <tr>\n",
       "      <th>802</th>\n",
       "      <td>4970</td>\n",
       "      <td>Male</td>\n",
       "      <td>79.00</td>\n",
       "      <td>0</td>\n",
       "      <td>0</td>\n",
       "      <td>Yes</td>\n",
       "      <td>Self-employed</td>\n",
       "      <td>Rural</td>\n",
       "      <td>112.64</td>\n",
       "      <td>28.5</td>\n",
       "      <td>formerly smoked</td>\n",
       "      <td>0</td>\n",
       "      <td>0</td>\n",
       "    </tr>\n",
       "    <tr>\n",
       "      <th>3927</th>\n",
       "      <td>56137</td>\n",
       "      <td>Female</td>\n",
       "      <td>62.00</td>\n",
       "      <td>0</td>\n",
       "      <td>0</td>\n",
       "      <td>Yes</td>\n",
       "      <td>Private</td>\n",
       "      <td>Urban</td>\n",
       "      <td>88.32</td>\n",
       "      <td>36.3</td>\n",
       "      <td>Unknown</td>\n",
       "      <td>0</td>\n",
       "      <td>1</td>\n",
       "    </tr>\n",
       "    <tr>\n",
       "      <th>2337</th>\n",
       "      <td>54590</td>\n",
       "      <td>Female</td>\n",
       "      <td>21.00</td>\n",
       "      <td>0</td>\n",
       "      <td>0</td>\n",
       "      <td>No</td>\n",
       "      <td>Private</td>\n",
       "      <td>Rural</td>\n",
       "      <td>59.52</td>\n",
       "      <td>33.7</td>\n",
       "      <td>never smoked</td>\n",
       "      <td>0</td>\n",
       "      <td>1</td>\n",
       "    </tr>\n",
       "    <tr>\n",
       "      <th>3910</th>\n",
       "      <td>36548</td>\n",
       "      <td>Male</td>\n",
       "      <td>31.00</td>\n",
       "      <td>0</td>\n",
       "      <td>0</td>\n",
       "      <td>Yes</td>\n",
       "      <td>Govt_job</td>\n",
       "      <td>Urban</td>\n",
       "      <td>65.70</td>\n",
       "      <td>30.4</td>\n",
       "      <td>formerly smoked</td>\n",
       "      <td>0</td>\n",
       "      <td>1</td>\n",
       "    </tr>\n",
       "    <tr>\n",
       "      <th>1886</th>\n",
       "      <td>61171</td>\n",
       "      <td>Female</td>\n",
       "      <td>31.00</td>\n",
       "      <td>0</td>\n",
       "      <td>0</td>\n",
       "      <td>No</td>\n",
       "      <td>Private</td>\n",
       "      <td>Rural</td>\n",
       "      <td>59.63</td>\n",
       "      <td>19.9</td>\n",
       "      <td>never smoked</td>\n",
       "      <td>0</td>\n",
       "      <td>1</td>\n",
       "    </tr>\n",
       "    <tr>\n",
       "      <th>...</th>\n",
       "      <td>...</td>\n",
       "      <td>...</td>\n",
       "      <td>...</td>\n",
       "      <td>...</td>\n",
       "      <td>...</td>\n",
       "      <td>...</td>\n",
       "      <td>...</td>\n",
       "      <td>...</td>\n",
       "      <td>...</td>\n",
       "      <td>...</td>\n",
       "      <td>...</td>\n",
       "      <td>...</td>\n",
       "      <td>...</td>\n",
       "    </tr>\n",
       "    <tr>\n",
       "      <th>4426</th>\n",
       "      <td>13846</td>\n",
       "      <td>Male</td>\n",
       "      <td>43.00</td>\n",
       "      <td>0</td>\n",
       "      <td>0</td>\n",
       "      <td>Yes</td>\n",
       "      <td>Govt_job</td>\n",
       "      <td>Rural</td>\n",
       "      <td>88.00</td>\n",
       "      <td>30.6</td>\n",
       "      <td>never smoked</td>\n",
       "      <td>0</td>\n",
       "      <td>1</td>\n",
       "    </tr>\n",
       "    <tr>\n",
       "      <th>466</th>\n",
       "      <td>1307</td>\n",
       "      <td>Female</td>\n",
       "      <td>61.00</td>\n",
       "      <td>1</td>\n",
       "      <td>0</td>\n",
       "      <td>Yes</td>\n",
       "      <td>Private</td>\n",
       "      <td>Rural</td>\n",
       "      <td>170.05</td>\n",
       "      <td>60.2</td>\n",
       "      <td>smokes</td>\n",
       "      <td>0</td>\n",
       "      <td>0</td>\n",
       "    </tr>\n",
       "    <tr>\n",
       "      <th>3092</th>\n",
       "      <td>31481</td>\n",
       "      <td>Female</td>\n",
       "      <td>1.16</td>\n",
       "      <td>0</td>\n",
       "      <td>0</td>\n",
       "      <td>No</td>\n",
       "      <td>children</td>\n",
       "      <td>Urban</td>\n",
       "      <td>97.28</td>\n",
       "      <td>17.8</td>\n",
       "      <td>Unknown</td>\n",
       "      <td>0</td>\n",
       "      <td>0</td>\n",
       "    </tr>\n",
       "    <tr>\n",
       "      <th>3772</th>\n",
       "      <td>61827</td>\n",
       "      <td>Male</td>\n",
       "      <td>80.00</td>\n",
       "      <td>0</td>\n",
       "      <td>0</td>\n",
       "      <td>Yes</td>\n",
       "      <td>Self-employed</td>\n",
       "      <td>Rural</td>\n",
       "      <td>196.08</td>\n",
       "      <td>31.0</td>\n",
       "      <td>formerly smoked</td>\n",
       "      <td>0</td>\n",
       "      <td>0</td>\n",
       "    </tr>\n",
       "    <tr>\n",
       "      <th>860</th>\n",
       "      <td>28933</td>\n",
       "      <td>Female</td>\n",
       "      <td>46.00</td>\n",
       "      <td>0</td>\n",
       "      <td>0</td>\n",
       "      <td>Yes</td>\n",
       "      <td>Private</td>\n",
       "      <td>Rural</td>\n",
       "      <td>100.15</td>\n",
       "      <td>50.3</td>\n",
       "      <td>smokes</td>\n",
       "      <td>0</td>\n",
       "      <td>0</td>\n",
       "    </tr>\n",
       "  </tbody>\n",
       "</table>\n",
       "<p>4088 rows × 13 columns</p>\n",
       "</div>"
      ],
      "text/plain": [
       "         id  gender    age  hypertension  heart_disease ever_married  \\\n",
       "802    4970    Male  79.00             0              0          Yes   \n",
       "3927  56137  Female  62.00             0              0          Yes   \n",
       "2337  54590  Female  21.00             0              0           No   \n",
       "3910  36548    Male  31.00             0              0          Yes   \n",
       "1886  61171  Female  31.00             0              0           No   \n",
       "...     ...     ...    ...           ...            ...          ...   \n",
       "4426  13846    Male  43.00             0              0          Yes   \n",
       "466    1307  Female  61.00             1              0          Yes   \n",
       "3092  31481  Female   1.16             0              0           No   \n",
       "3772  61827    Male  80.00             0              0          Yes   \n",
       "860   28933  Female  46.00             0              0          Yes   \n",
       "\n",
       "          work_type Residence_type  avg_glucose_level   bmi   smoking_status  \\\n",
       "802   Self-employed          Rural             112.64  28.5  formerly smoked   \n",
       "3927        Private          Urban              88.32  36.3          Unknown   \n",
       "2337        Private          Rural              59.52  33.7     never smoked   \n",
       "3910       Govt_job          Urban              65.70  30.4  formerly smoked   \n",
       "1886        Private          Rural              59.63  19.9     never smoked   \n",
       "...             ...            ...                ...   ...              ...   \n",
       "4426       Govt_job          Rural              88.00  30.6     never smoked   \n",
       "466         Private          Rural             170.05  60.2           smokes   \n",
       "3092       children          Urban              97.28  17.8          Unknown   \n",
       "3772  Self-employed          Rural             196.08  31.0  formerly smoked   \n",
       "860         Private          Rural             100.15  50.3           smokes   \n",
       "\n",
       "      stroke  median_glucose  \n",
       "802        0               0  \n",
       "3927       0               1  \n",
       "2337       0               1  \n",
       "3910       0               1  \n",
       "1886       0               1  \n",
       "...      ...             ...  \n",
       "4426       0               1  \n",
       "466        0               0  \n",
       "3092       0               0  \n",
       "3772       0               0  \n",
       "860        0               0  \n",
       "\n",
       "[4088 rows x 13 columns]"
      ]
     },
     "execution_count": 56,
     "metadata": {},
     "output_type": "execute_result"
    }
   ],
   "source": []
  },
  {
   "cell_type": "markdown",
   "metadata": {},
   "source": [
    "# Finally Let's use sklearn pipeline to put everything in one script\n",
    "- used sklearn simple imputer to add median values to the null values.\n",
    "- I added more columns to the categorical columns\n",
    "- Also added more parameters to be tuned, `max_features`, `criterion`\n",
    "- https://scikit-learn.org/stable/modules/generated/sklearn.tree.DecisionTreeClassifier.html?highlight=decision%20tree#sklearn.tree.DecisionTreeClassifier\n",
    "- be careful with gridsearch, it can take hours/days to train, if you specify too many parameters and the size of the data gets large, and too many folds"
   ]
  },
  {
   "cell_type": "code",
   "execution_count": 64,
   "metadata": {},
   "outputs": [
    {
     "data": {
      "text/html": [
       "<style>div.sk-top-container {color: black;background-color: white;}div.sk-toggleable {background-color: white;}label.sk-toggleable__label {cursor: pointer;display: block;width: 100%;margin-bottom: 0;padding: 0.2em 0.3em;box-sizing: border-box;text-align: center;}div.sk-toggleable__content {max-height: 0;max-width: 0;overflow: hidden;text-align: left;background-color: #f0f8ff;}div.sk-toggleable__content pre {margin: 0.2em;color: black;border-radius: 0.25em;background-color: #f0f8ff;}input.sk-toggleable__control:checked~div.sk-toggleable__content {max-height: 200px;max-width: 100%;overflow: auto;}div.sk-estimator input.sk-toggleable__control:checked~label.sk-toggleable__label {background-color: #d4ebff;}div.sk-label input.sk-toggleable__control:checked~label.sk-toggleable__label {background-color: #d4ebff;}input.sk-hidden--visually {border: 0;clip: rect(1px 1px 1px 1px);clip: rect(1px, 1px, 1px, 1px);height: 1px;margin: -1px;overflow: hidden;padding: 0;position: absolute;width: 1px;}div.sk-estimator {font-family: monospace;background-color: #f0f8ff;margin: 0.25em 0.25em;border: 1px dotted black;border-radius: 0.25em;box-sizing: border-box;}div.sk-estimator:hover {background-color: #d4ebff;}div.sk-parallel-item::after {content: \"\";width: 100%;border-bottom: 1px solid gray;flex-grow: 1;}div.sk-label:hover label.sk-toggleable__label {background-color: #d4ebff;}div.sk-serial::before {content: \"\";position: absolute;border-left: 1px solid gray;box-sizing: border-box;top: 2em;bottom: 0;left: 50%;}div.sk-serial {display: flex;flex-direction: column;align-items: center;background-color: white;}div.sk-item {z-index: 1;}div.sk-parallel {display: flex;align-items: stretch;justify-content: center;background-color: white;}div.sk-parallel-item {display: flex;flex-direction: column;position: relative;background-color: white;}div.sk-parallel-item:first-child::after {align-self: flex-end;width: 50%;}div.sk-parallel-item:last-child::after {align-self: flex-start;width: 50%;}div.sk-parallel-item:only-child::after {width: 0;}div.sk-dashed-wrapped {border: 1px dashed gray;margin: 0.2em;box-sizing: border-box;padding-bottom: 0.1em;background-color: white;position: relative;}div.sk-label label {font-family: monospace;font-weight: bold;background-color: white;display: inline-block;line-height: 1.2em;}div.sk-label-container {position: relative;z-index: 2;text-align: center;}div.sk-container {display: inline-block;position: relative;}</style><div class=\"sk-top-container\"><div class=\"sk-container\"><div class=\"sk-item sk-dashed-wrapped\"><div class=\"sk-label-container\"><div class=\"sk-label sk-toggleable\"><input class=\"sk-toggleable__control sk-hidden--visually\" id=\"e7158ec6-9957-494d-a453-8517f23a547b\" type=\"checkbox\" ><label class=\"sk-toggleable__label\" for=\"e7158ec6-9957-494d-a453-8517f23a547b\">GridSearchCV</label><div class=\"sk-toggleable__content\"><pre>GridSearchCV(cv=3,\n",
       "             estimator=Pipeline(steps=[('preprocessor',\n",
       "                                        ColumnTransformer(transformers=[('categorical',\n",
       "                                                                         Pipeline(steps=[('onehot',\n",
       "                                                                                          OneHotEncoder(handle_unknown='ignore'))]),\n",
       "                                                                         ['gender',\n",
       "                                                                          'ever_married',\n",
       "                                                                          'Residence_type',\n",
       "                                                                          'work_type',\n",
       "                                                                          'smoking_status']),\n",
       "                                                                        ('numerical',\n",
       "                                                                         Pipeline(steps=[('imputation_mean',\n",
       "                                                                                          SimpleImputer(strategy='median'))]),\n",
       "                                                                         ['age',\n",
       "                                                                          'hypertension',\n",
       "                                                                          'heart_disease',\n",
       "                                                                          'bmi'])])),\n",
       "                                       ('classifier',\n",
       "                                        DecisionTreeClassifier())]),\n",
       "             n_jobs=1,\n",
       "             param_grid={'classifier__criterion': ['gini', 'entropy'],\n",
       "                         'classifier__max_depth': range(2, 10),\n",
       "                         'classifier__max_features': ['auto', 'sqrt', 'log2']})</pre></div></div></div><div class=\"sk-parallel\"><div class=\"sk-parallel-item\"><div class=\"sk-item\"><div class=\"sk-serial\"><div class=\"sk-item\"><div class=\"sk-serial\"><div class=\"sk-item sk-dashed-wrapped\"><div class=\"sk-label-container\"><div class=\"sk-label sk-toggleable\"><input class=\"sk-toggleable__control sk-hidden--visually\" id=\"7872cff3-25e0-4c5f-8cf3-8cf3a499b57a\" type=\"checkbox\" ><label class=\"sk-toggleable__label\" for=\"7872cff3-25e0-4c5f-8cf3-8cf3a499b57a\">preprocessor: ColumnTransformer</label><div class=\"sk-toggleable__content\"><pre>ColumnTransformer(transformers=[('categorical',\n",
       "                                 Pipeline(steps=[('onehot',\n",
       "                                                  OneHotEncoder(handle_unknown='ignore'))]),\n",
       "                                 ['gender', 'ever_married', 'Residence_type',\n",
       "                                  'work_type', 'smoking_status']),\n",
       "                                ('numerical',\n",
       "                                 Pipeline(steps=[('imputation_mean',\n",
       "                                                  SimpleImputer(strategy='median'))]),\n",
       "                                 ['age', 'hypertension', 'heart_disease',\n",
       "                                  'bmi'])])</pre></div></div></div><div class=\"sk-parallel\"><div class=\"sk-parallel-item\"><div class=\"sk-item\"><div class=\"sk-label-container\"><div class=\"sk-label sk-toggleable\"><input class=\"sk-toggleable__control sk-hidden--visually\" id=\"0817cc5f-ad83-4bd5-a172-3906337a4cfa\" type=\"checkbox\" ><label class=\"sk-toggleable__label\" for=\"0817cc5f-ad83-4bd5-a172-3906337a4cfa\">categorical</label><div class=\"sk-toggleable__content\"><pre>['gender', 'ever_married', 'Residence_type', 'work_type', 'smoking_status']</pre></div></div></div><div class=\"sk-serial\"><div class=\"sk-item\"><div class=\"sk-serial\"><div class=\"sk-item\"><div class=\"sk-estimator sk-toggleable\"><input class=\"sk-toggleable__control sk-hidden--visually\" id=\"151f7010-49ae-4440-bb27-c6f0cb5596c9\" type=\"checkbox\" ><label class=\"sk-toggleable__label\" for=\"151f7010-49ae-4440-bb27-c6f0cb5596c9\">OneHotEncoder</label><div class=\"sk-toggleable__content\"><pre>OneHotEncoder(handle_unknown='ignore')</pre></div></div></div></div></div></div></div></div><div class=\"sk-parallel-item\"><div class=\"sk-item\"><div class=\"sk-label-container\"><div class=\"sk-label sk-toggleable\"><input class=\"sk-toggleable__control sk-hidden--visually\" id=\"a61919b9-e5cb-4a62-b6c7-000e68a58a57\" type=\"checkbox\" ><label class=\"sk-toggleable__label\" for=\"a61919b9-e5cb-4a62-b6c7-000e68a58a57\">numerical</label><div class=\"sk-toggleable__content\"><pre>['age', 'hypertension', 'heart_disease', 'bmi']</pre></div></div></div><div class=\"sk-serial\"><div class=\"sk-item\"><div class=\"sk-serial\"><div class=\"sk-item\"><div class=\"sk-estimator sk-toggleable\"><input class=\"sk-toggleable__control sk-hidden--visually\" id=\"31042395-b26b-444f-b3e5-0ef36bfa3f6b\" type=\"checkbox\" ><label class=\"sk-toggleable__label\" for=\"31042395-b26b-444f-b3e5-0ef36bfa3f6b\">SimpleImputer</label><div class=\"sk-toggleable__content\"><pre>SimpleImputer(strategy='median')</pre></div></div></div></div></div></div></div></div></div></div><div class=\"sk-item\"><div class=\"sk-estimator sk-toggleable\"><input class=\"sk-toggleable__control sk-hidden--visually\" id=\"04dce5d9-64a9-46b6-9ef0-340388c85ec4\" type=\"checkbox\" ><label class=\"sk-toggleable__label\" for=\"04dce5d9-64a9-46b6-9ef0-340388c85ec4\">DecisionTreeClassifier</label><div class=\"sk-toggleable__content\"><pre>DecisionTreeClassifier()</pre></div></div></div></div></div></div></div></div></div></div></div></div>"
      ],
      "text/plain": [
       "GridSearchCV(cv=3,\n",
       "             estimator=Pipeline(steps=[('preprocessor',\n",
       "                                        ColumnTransformer(transformers=[('categorical',\n",
       "                                                                         Pipeline(steps=[('onehot',\n",
       "                                                                                          OneHotEncoder(handle_unknown='ignore'))]),\n",
       "                                                                         ['gender',\n",
       "                                                                          'ever_married',\n",
       "                                                                          'Residence_type',\n",
       "                                                                          'work_type',\n",
       "                                                                          'smoking_status']),\n",
       "                                                                        ('numerical',\n",
       "                                                                         Pipeline(steps=[('imputation_mean',\n",
       "                                                                                          SimpleImputer(strategy='median'))]),\n",
       "                                                                         ['age',\n",
       "                                                                          'hypertension',\n",
       "                                                                          'heart_disease',\n",
       "                                                                          'bmi'])])),\n",
       "                                       ('classifier',\n",
       "                                        DecisionTreeClassifier())]),\n",
       "             n_jobs=1,\n",
       "             param_grid={'classifier__criterion': ['gini', 'entropy'],\n",
       "                         'classifier__max_depth': range(2, 10),\n",
       "                         'classifier__max_features': ['auto', 'sqrt', 'log2']})"
      ]
     },
     "execution_count": 64,
     "metadata": {},
     "output_type": "execute_result"
    }
   ],
   "source": [
    "\n",
    "\n",
    "numerical_cols =['age','hypertension','heart_disease','bmi']\n",
    "categorical_cols = ['gender','ever_married','Residence_type','work_type','smoking_status']\n",
    "\n",
    "X_pip = df.loc[X_train_test.index].copy()\n",
    "y_pip = df.loc[X_train_test.index][target]\n",
    "\n",
    "X_pip_val = df.loc[X_val.index].copy()\n",
    "y_pip_val = df.loc[X_val.index][target]\n",
    "\n",
    "numeric_preprocessor = Pipeline(\n",
    "    steps=[\n",
    "        (\"imputation_mean\", SimpleImputer(missing_values=np.nan, strategy=\"median\")),\n",
    "    ]\n",
    ")\n",
    "\n",
    "categorical_preprocessor = Pipeline(\n",
    "    steps=[(\"onehot\", OneHotEncoder(handle_unknown=\"ignore\"))]\n",
    ")\n",
    "\n",
    "preprocessor = ColumnTransformer(\n",
    "    [\n",
    "        (\"categorical\", categorical_preprocessor, categorical_cols),\n",
    "        (\"numerical\", numeric_preprocessor, numerical_cols),\n",
    "    ]\n",
    ")\n",
    "\n",
    "pipe = Pipeline(\n",
    "    steps=[(\"preprocessor\", preprocessor), (\"classifier\", DecisionTreeClassifier())]\n",
    ")\n",
    "\n",
    "param_grid = {\n",
    "    \"classifier__max_features\": [\"auto\", \"sqrt\", \"log2\"],\n",
    "    \"classifier__max_depth\": n_depth_grid,\n",
    "    \"classifier__criterion\": [\"gini\", \"entropy\"],\n",
    "}\n",
    "\n",
    "grid_search = GridSearchCV(pipe, param_grid=param_grid,cv=n_folds, n_jobs=1)\n",
    "set_config(display=\"diagram\")\n",
    "grid_search  # click on the diagram below to see the details of each step\n",
    "grid_search.fit(X_pip,y_pip)"
   ]
  },
  {
   "cell_type": "code",
   "execution_count": 65,
   "metadata": {},
   "outputs": [
    {
     "data": {
      "text/plain": [
       "{'mean_fit_time': array([0.01813475, 0.01227466, 0.01166908, 0.01094898, 0.01101526,\n",
       "        0.01012627, 0.01026797, 0.0100836 , 0.01007167, 0.01021441,\n",
       "        0.0113399 , 0.01189129, 0.01295733, 0.01292658, 0.01286038,\n",
       "        0.01275102, 0.01297959, 0.01265327, 0.01317096, 0.01384163,\n",
       "        0.01308211, 0.01231098, 0.01324836, 0.01311398, 0.01139704,\n",
       "        0.01001366, 0.00977818, 0.01053238, 0.01078947, 0.01231845,\n",
       "        0.0122714 , 0.0118889 , 0.01233768, 0.01217524, 0.01045044,\n",
       "        0.01050798, 0.01063601, 0.01017245, 0.01013072, 0.01037327,\n",
       "        0.0110929 , 0.01192037, 0.01315395, 0.0130926 , 0.01332601,\n",
       "        0.01331949, 0.01351643, 0.01362038]),\n",
       " 'std_fit_time': array([5.75086973e-03, 2.80686440e-04, 3.45310792e-04, 2.42488170e-04,\n",
       "        8.56734561e-04, 2.03565383e-04, 1.18209942e-04, 2.91546140e-04,\n",
       "        3.00856936e-04, 1.11570781e-04, 5.31309478e-04, 5.33261384e-04,\n",
       "        1.60572509e-04, 8.20915019e-05, 8.69820193e-05, 1.55558861e-04,\n",
       "        2.93492744e-05, 1.85333742e-04, 1.15559168e-04, 9.92139263e-04,\n",
       "        3.46828283e-04, 5.72518852e-04, 1.87718495e-04, 6.21951168e-05,\n",
       "        1.05214124e-03, 1.40814964e-04, 4.92634302e-05, 1.93449315e-04,\n",
       "        2.18387803e-04, 2.55932939e-04, 2.20458257e-04, 1.19685546e-04,\n",
       "        7.87289292e-05, 4.59868231e-04, 9.25048383e-05, 3.22995868e-04,\n",
       "        1.28205710e-04, 1.00802355e-04, 6.89004485e-05, 2.31770111e-04,\n",
       "        6.06186759e-05, 8.21588310e-04, 1.72851807e-04, 3.22759488e-04,\n",
       "        1.28047179e-04, 1.35354716e-04, 2.36964880e-04, 1.62580611e-04]),\n",
       " 'mean_score_time': array([0.00596603, 0.00518751, 0.00475057, 0.00455968, 0.0044984 ,\n",
       "        0.00422637, 0.00421699, 0.00417542, 0.00419641, 0.0042119 ,\n",
       "        0.0044899 , 0.00505431, 0.00527938, 0.00531197, 0.00542665,\n",
       "        0.00523297, 0.0052371 , 0.00518131, 0.00543952, 0.00528264,\n",
       "        0.00527604, 0.00534368, 0.00537213, 0.00532532, 0.00462405,\n",
       "        0.00414848, 0.00410795, 0.00457096, 0.00486851, 0.00515493,\n",
       "        0.0051473 , 0.00519848, 0.00498335, 0.00480636, 0.00438372,\n",
       "        0.00436767, 0.0046339 , 0.00443602, 0.00407664, 0.00415285,\n",
       "        0.00421699, 0.00469907, 0.00509842, 0.00529202, 0.00543547,\n",
       "        0.00541854, 0.00542323, 0.0053916 ]),\n",
       " 'std_score_time': array([4.74672224e-04, 6.56088770e-05, 1.39758080e-04, 2.78718106e-04,\n",
       "        3.49205355e-04, 8.20458651e-06, 5.62591512e-05, 6.89737436e-05,\n",
       "        2.64031757e-05, 1.69039389e-04, 1.66682042e-04, 1.07154115e-04,\n",
       "        1.50943043e-04, 5.35718996e-05, 1.32243459e-04, 1.42812574e-04,\n",
       "        2.62830577e-05, 5.47470528e-05, 3.43670272e-05, 1.03702124e-04,\n",
       "        1.90364193e-04, 4.53304553e-04, 1.62137762e-04, 1.24624442e-04,\n",
       "        3.81356676e-04, 6.11926570e-05, 3.75966268e-06, 9.76302005e-05,\n",
       "        3.90337793e-04, 7.76079230e-05, 3.70919512e-05, 6.28108155e-05,\n",
       "        8.47665137e-05, 3.65588146e-04, 1.84548130e-04, 6.89183214e-05,\n",
       "        1.15144244e-04, 8.92248418e-05, 5.73601387e-05, 1.16668053e-04,\n",
       "        2.13623875e-05, 2.50139333e-04, 8.26661391e-05, 1.24740445e-04,\n",
       "        1.49509678e-04, 1.04337121e-04, 2.09274148e-04, 1.32984290e-04]),\n",
       " 'param_classifier__criterion': masked_array(data=['gini', 'gini', 'gini', 'gini', 'gini', 'gini', 'gini',\n",
       "                    'gini', 'gini', 'gini', 'gini', 'gini', 'gini', 'gini',\n",
       "                    'gini', 'gini', 'gini', 'gini', 'gini', 'gini', 'gini',\n",
       "                    'gini', 'gini', 'gini', 'entropy', 'entropy',\n",
       "                    'entropy', 'entropy', 'entropy', 'entropy', 'entropy',\n",
       "                    'entropy', 'entropy', 'entropy', 'entropy', 'entropy',\n",
       "                    'entropy', 'entropy', 'entropy', 'entropy', 'entropy',\n",
       "                    'entropy', 'entropy', 'entropy', 'entropy', 'entropy',\n",
       "                    'entropy', 'entropy'],\n",
       "              mask=[False, False, False, False, False, False, False, False,\n",
       "                    False, False, False, False, False, False, False, False,\n",
       "                    False, False, False, False, False, False, False, False,\n",
       "                    False, False, False, False, False, False, False, False,\n",
       "                    False, False, False, False, False, False, False, False,\n",
       "                    False, False, False, False, False, False, False, False],\n",
       "        fill_value='?',\n",
       "             dtype=object),\n",
       " 'param_classifier__max_depth': masked_array(data=[2, 2, 2, 3, 3, 3, 4, 4, 4, 5, 5, 5, 6, 6, 6, 7, 7, 7,\n",
       "                    8, 8, 8, 9, 9, 9, 2, 2, 2, 3, 3, 3, 4, 4, 4, 5, 5, 5,\n",
       "                    6, 6, 6, 7, 7, 7, 8, 8, 8, 9, 9, 9],\n",
       "              mask=[False, False, False, False, False, False, False, False,\n",
       "                    False, False, False, False, False, False, False, False,\n",
       "                    False, False, False, False, False, False, False, False,\n",
       "                    False, False, False, False, False, False, False, False,\n",
       "                    False, False, False, False, False, False, False, False,\n",
       "                    False, False, False, False, False, False, False, False],\n",
       "        fill_value='?',\n",
       "             dtype=object),\n",
       " 'param_classifier__max_features': masked_array(data=['auto', 'sqrt', 'log2', 'auto', 'sqrt', 'log2', 'auto',\n",
       "                    'sqrt', 'log2', 'auto', 'sqrt', 'log2', 'auto', 'sqrt',\n",
       "                    'log2', 'auto', 'sqrt', 'log2', 'auto', 'sqrt', 'log2',\n",
       "                    'auto', 'sqrt', 'log2', 'auto', 'sqrt', 'log2', 'auto',\n",
       "                    'sqrt', 'log2', 'auto', 'sqrt', 'log2', 'auto', 'sqrt',\n",
       "                    'log2', 'auto', 'sqrt', 'log2', 'auto', 'sqrt', 'log2',\n",
       "                    'auto', 'sqrt', 'log2', 'auto', 'sqrt', 'log2'],\n",
       "              mask=[False, False, False, False, False, False, False, False,\n",
       "                    False, False, False, False, False, False, False, False,\n",
       "                    False, False, False, False, False, False, False, False,\n",
       "                    False, False, False, False, False, False, False, False,\n",
       "                    False, False, False, False, False, False, False, False,\n",
       "                    False, False, False, False, False, False, False, False],\n",
       "        fill_value='?',\n",
       "             dtype=object),\n",
       " 'params': [{'classifier__criterion': 'gini',\n",
       "   'classifier__max_depth': 2,\n",
       "   'classifier__max_features': 'auto'},\n",
       "  {'classifier__criterion': 'gini',\n",
       "   'classifier__max_depth': 2,\n",
       "   'classifier__max_features': 'sqrt'},\n",
       "  {'classifier__criterion': 'gini',\n",
       "   'classifier__max_depth': 2,\n",
       "   'classifier__max_features': 'log2'},\n",
       "  {'classifier__criterion': 'gini',\n",
       "   'classifier__max_depth': 3,\n",
       "   'classifier__max_features': 'auto'},\n",
       "  {'classifier__criterion': 'gini',\n",
       "   'classifier__max_depth': 3,\n",
       "   'classifier__max_features': 'sqrt'},\n",
       "  {'classifier__criterion': 'gini',\n",
       "   'classifier__max_depth': 3,\n",
       "   'classifier__max_features': 'log2'},\n",
       "  {'classifier__criterion': 'gini',\n",
       "   'classifier__max_depth': 4,\n",
       "   'classifier__max_features': 'auto'},\n",
       "  {'classifier__criterion': 'gini',\n",
       "   'classifier__max_depth': 4,\n",
       "   'classifier__max_features': 'sqrt'},\n",
       "  {'classifier__criterion': 'gini',\n",
       "   'classifier__max_depth': 4,\n",
       "   'classifier__max_features': 'log2'},\n",
       "  {'classifier__criterion': 'gini',\n",
       "   'classifier__max_depth': 5,\n",
       "   'classifier__max_features': 'auto'},\n",
       "  {'classifier__criterion': 'gini',\n",
       "   'classifier__max_depth': 5,\n",
       "   'classifier__max_features': 'sqrt'},\n",
       "  {'classifier__criterion': 'gini',\n",
       "   'classifier__max_depth': 5,\n",
       "   'classifier__max_features': 'log2'},\n",
       "  {'classifier__criterion': 'gini',\n",
       "   'classifier__max_depth': 6,\n",
       "   'classifier__max_features': 'auto'},\n",
       "  {'classifier__criterion': 'gini',\n",
       "   'classifier__max_depth': 6,\n",
       "   'classifier__max_features': 'sqrt'},\n",
       "  {'classifier__criterion': 'gini',\n",
       "   'classifier__max_depth': 6,\n",
       "   'classifier__max_features': 'log2'},\n",
       "  {'classifier__criterion': 'gini',\n",
       "   'classifier__max_depth': 7,\n",
       "   'classifier__max_features': 'auto'},\n",
       "  {'classifier__criterion': 'gini',\n",
       "   'classifier__max_depth': 7,\n",
       "   'classifier__max_features': 'sqrt'},\n",
       "  {'classifier__criterion': 'gini',\n",
       "   'classifier__max_depth': 7,\n",
       "   'classifier__max_features': 'log2'},\n",
       "  {'classifier__criterion': 'gini',\n",
       "   'classifier__max_depth': 8,\n",
       "   'classifier__max_features': 'auto'},\n",
       "  {'classifier__criterion': 'gini',\n",
       "   'classifier__max_depth': 8,\n",
       "   'classifier__max_features': 'sqrt'},\n",
       "  {'classifier__criterion': 'gini',\n",
       "   'classifier__max_depth': 8,\n",
       "   'classifier__max_features': 'log2'},\n",
       "  {'classifier__criterion': 'gini',\n",
       "   'classifier__max_depth': 9,\n",
       "   'classifier__max_features': 'auto'},\n",
       "  {'classifier__criterion': 'gini',\n",
       "   'classifier__max_depth': 9,\n",
       "   'classifier__max_features': 'sqrt'},\n",
       "  {'classifier__criterion': 'gini',\n",
       "   'classifier__max_depth': 9,\n",
       "   'classifier__max_features': 'log2'},\n",
       "  {'classifier__criterion': 'entropy',\n",
       "   'classifier__max_depth': 2,\n",
       "   'classifier__max_features': 'auto'},\n",
       "  {'classifier__criterion': 'entropy',\n",
       "   'classifier__max_depth': 2,\n",
       "   'classifier__max_features': 'sqrt'},\n",
       "  {'classifier__criterion': 'entropy',\n",
       "   'classifier__max_depth': 2,\n",
       "   'classifier__max_features': 'log2'},\n",
       "  {'classifier__criterion': 'entropy',\n",
       "   'classifier__max_depth': 3,\n",
       "   'classifier__max_features': 'auto'},\n",
       "  {'classifier__criterion': 'entropy',\n",
       "   'classifier__max_depth': 3,\n",
       "   'classifier__max_features': 'sqrt'},\n",
       "  {'classifier__criterion': 'entropy',\n",
       "   'classifier__max_depth': 3,\n",
       "   'classifier__max_features': 'log2'},\n",
       "  {'classifier__criterion': 'entropy',\n",
       "   'classifier__max_depth': 4,\n",
       "   'classifier__max_features': 'auto'},\n",
       "  {'classifier__criterion': 'entropy',\n",
       "   'classifier__max_depth': 4,\n",
       "   'classifier__max_features': 'sqrt'},\n",
       "  {'classifier__criterion': 'entropy',\n",
       "   'classifier__max_depth': 4,\n",
       "   'classifier__max_features': 'log2'},\n",
       "  {'classifier__criterion': 'entropy',\n",
       "   'classifier__max_depth': 5,\n",
       "   'classifier__max_features': 'auto'},\n",
       "  {'classifier__criterion': 'entropy',\n",
       "   'classifier__max_depth': 5,\n",
       "   'classifier__max_features': 'sqrt'},\n",
       "  {'classifier__criterion': 'entropy',\n",
       "   'classifier__max_depth': 5,\n",
       "   'classifier__max_features': 'log2'},\n",
       "  {'classifier__criterion': 'entropy',\n",
       "   'classifier__max_depth': 6,\n",
       "   'classifier__max_features': 'auto'},\n",
       "  {'classifier__criterion': 'entropy',\n",
       "   'classifier__max_depth': 6,\n",
       "   'classifier__max_features': 'sqrt'},\n",
       "  {'classifier__criterion': 'entropy',\n",
       "   'classifier__max_depth': 6,\n",
       "   'classifier__max_features': 'log2'},\n",
       "  {'classifier__criterion': 'entropy',\n",
       "   'classifier__max_depth': 7,\n",
       "   'classifier__max_features': 'auto'},\n",
       "  {'classifier__criterion': 'entropy',\n",
       "   'classifier__max_depth': 7,\n",
       "   'classifier__max_features': 'sqrt'},\n",
       "  {'classifier__criterion': 'entropy',\n",
       "   'classifier__max_depth': 7,\n",
       "   'classifier__max_features': 'log2'},\n",
       "  {'classifier__criterion': 'entropy',\n",
       "   'classifier__max_depth': 8,\n",
       "   'classifier__max_features': 'auto'},\n",
       "  {'classifier__criterion': 'entropy',\n",
       "   'classifier__max_depth': 8,\n",
       "   'classifier__max_features': 'sqrt'},\n",
       "  {'classifier__criterion': 'entropy',\n",
       "   'classifier__max_depth': 8,\n",
       "   'classifier__max_features': 'log2'},\n",
       "  {'classifier__criterion': 'entropy',\n",
       "   'classifier__max_depth': 9,\n",
       "   'classifier__max_features': 'auto'},\n",
       "  {'classifier__criterion': 'entropy',\n",
       "   'classifier__max_depth': 9,\n",
       "   'classifier__max_features': 'sqrt'},\n",
       "  {'classifier__criterion': 'entropy',\n",
       "   'classifier__max_depth': 9,\n",
       "   'classifier__max_features': 'log2'}],\n",
       " 'split0_test_score': array([0.54512106, 0.54512106, 0.54292003, 0.540719  , 0.57666911,\n",
       "        0.54292003, 0.52237711, 0.55245781, 0.55685987, 0.55245781,\n",
       "        0.53411592, 0.54145268, 0.52824652, 0.55392517, 0.52457814,\n",
       "        0.54145268, 0.52311079, 0.54365371, 0.54365371, 0.52311079,\n",
       "        0.52531181, 0.51944241, 0.53411592, 0.50403522, 0.57666911,\n",
       "        0.51724138, 0.51504035, 0.54658841, 0.54512106, 0.52237711,\n",
       "        0.5619956 , 0.5348496 , 0.50843727, 0.5377843 , 0.52311079,\n",
       "        0.540719  , 0.53631695, 0.54585473, 0.53411592, 0.53411592,\n",
       "        0.52604549, 0.52164343, 0.53631695, 0.53411592, 0.53264857,\n",
       "        0.51724138, 0.52824652, 0.53925165]),\n",
       " 'split1_test_score': array([0.51870873, 0.51870873, 0.50843727, 0.5077036 , 0.540719  ,\n",
       "        0.50990462, 0.54878944, 0.52090976, 0.50990462, 0.54512106,\n",
       "        0.53118122, 0.52971387, 0.54438738, 0.53338225, 0.53998533,\n",
       "        0.53264857, 0.54145268, 0.51504035, 0.50843727, 0.52677916,\n",
       "        0.52384446, 0.50917095, 0.52531181, 0.5377843 , 0.50623624,\n",
       "        0.53044754, 0.55392517, 0.54732208, 0.540719  , 0.55025679,\n",
       "        0.52677916, 0.54512106, 0.55539252, 0.52457814, 0.52311079,\n",
       "        0.53191489, 0.52677916, 0.5348496 , 0.53631695, 0.51944241,\n",
       "        0.52824652, 0.53851798, 0.54732208, 0.53851798, 0.54365371,\n",
       "        0.52164343, 0.50330154, 0.53631695]),\n",
       " 'split2_test_score': array([0.530837  , 0.530837  , 0.52496329, 0.53157122, 0.53377386,\n",
       "        0.51835536, 0.54698972, 0.54111601, 0.53524229, 0.51468429,\n",
       "        0.53891336, 0.52496329, 0.52496329, 0.53377386, 0.52790015,\n",
       "        0.53744493, 0.53524229, 0.530837  , 0.52496329, 0.52790015,\n",
       "        0.510279  , 0.52790015, 0.53597651, 0.53744493, 0.53744493,\n",
       "        0.53817915, 0.54111601, 0.53377386, 0.53377386, 0.53817915,\n",
       "        0.53230543, 0.54992658, 0.51835536, 0.53597651, 0.53817915,\n",
       "        0.55066079, 0.53744493, 0.53817915, 0.54038179, 0.49926579,\n",
       "        0.5154185 , 0.51468429, 0.52863436, 0.53377386, 0.51615272,\n",
       "        0.520558  , 0.50881057, 0.51908957]),\n",
       " 'mean_test_score': array([0.5315556 , 0.5315556 , 0.5254402 , 0.52666461, 0.55038733,\n",
       "        0.52372667, 0.53938542, 0.53816119, 0.53400226, 0.53742105,\n",
       "        0.53473683, 0.53204328, 0.5325324 , 0.54036042, 0.5308212 ,\n",
       "        0.53718206, 0.53326858, 0.52984369, 0.52568476, 0.52593003,\n",
       "        0.51981176, 0.51883783, 0.53180141, 0.52642148, 0.54011676,\n",
       "        0.52862269, 0.53669384, 0.54256145, 0.53987131, 0.53693768,\n",
       "        0.54036006, 0.54329908, 0.52739505, 0.53277965, 0.52813357,\n",
       "        0.54109823, 0.53351368, 0.53962783, 0.53693822, 0.51760804,\n",
       "        0.52323684, 0.52494857, 0.53742446, 0.53546925, 0.53081833,\n",
       "        0.51981427, 0.51345288, 0.53155272]),\n",
       " 'std_test_score': array([0.01079475, 0.01079475, 0.01408157, 0.01391786, 0.01879908,\n",
       "        0.01400339, 0.01204912, 0.01304781, 0.01918944, 0.01635395,\n",
       "        0.00318702, 0.00693035, 0.00848922, 0.00959305, 0.00662041,\n",
       "        0.00359907, 0.00761699, 0.01170245, 0.0143861 , 0.00204536,\n",
       "        0.00676724, 0.00765811, 0.00465128, 0.01583009, 0.0288161 ,\n",
       "        0.00864466, 0.0161797 , 0.00622098, 0.00467109, 0.01141563,\n",
       "        0.01546409, 0.00628854, 0.02020702, 0.00584612, 0.00710329,\n",
       "        0.00765768, 0.00478424, 0.00460813, 0.00259548, 0.01428651,\n",
       "        0.00560094, 0.0100068 , 0.00766932, 0.00216029, 0.01130158,\n",
       "        0.0018725 , 0.01069972, 0.00889384]),\n",
       " 'rank_test_score': array([27, 27, 40, 36,  1, 42, 10, 11, 20, 13, 19, 25, 24,  5, 30, 14, 22,\n",
       "        32, 39, 38, 45, 46, 26, 37,  7, 33, 17,  3,  8, 16,  6,  2, 35, 23,\n",
       "        34,  4, 21,  9, 15, 47, 43, 41, 12, 18, 31, 44, 48, 29],\n",
       "       dtype=int32)}"
      ]
     },
     "execution_count": 65,
     "metadata": {},
     "output_type": "execute_result"
    }
   ],
   "source": [
    "grid_search.cv_results_"
   ]
  },
  {
   "cell_type": "code",
   "execution_count": 66,
   "metadata": {},
   "outputs": [
    {
     "data": {
      "text/html": [
       "<style>div.sk-top-container {color: black;background-color: white;}div.sk-toggleable {background-color: white;}label.sk-toggleable__label {cursor: pointer;display: block;width: 100%;margin-bottom: 0;padding: 0.2em 0.3em;box-sizing: border-box;text-align: center;}div.sk-toggleable__content {max-height: 0;max-width: 0;overflow: hidden;text-align: left;background-color: #f0f8ff;}div.sk-toggleable__content pre {margin: 0.2em;color: black;border-radius: 0.25em;background-color: #f0f8ff;}input.sk-toggleable__control:checked~div.sk-toggleable__content {max-height: 200px;max-width: 100%;overflow: auto;}div.sk-estimator input.sk-toggleable__control:checked~label.sk-toggleable__label {background-color: #d4ebff;}div.sk-label input.sk-toggleable__control:checked~label.sk-toggleable__label {background-color: #d4ebff;}input.sk-hidden--visually {border: 0;clip: rect(1px 1px 1px 1px);clip: rect(1px, 1px, 1px, 1px);height: 1px;margin: -1px;overflow: hidden;padding: 0;position: absolute;width: 1px;}div.sk-estimator {font-family: monospace;background-color: #f0f8ff;margin: 0.25em 0.25em;border: 1px dotted black;border-radius: 0.25em;box-sizing: border-box;}div.sk-estimator:hover {background-color: #d4ebff;}div.sk-parallel-item::after {content: \"\";width: 100%;border-bottom: 1px solid gray;flex-grow: 1;}div.sk-label:hover label.sk-toggleable__label {background-color: #d4ebff;}div.sk-serial::before {content: \"\";position: absolute;border-left: 1px solid gray;box-sizing: border-box;top: 2em;bottom: 0;left: 50%;}div.sk-serial {display: flex;flex-direction: column;align-items: center;background-color: white;}div.sk-item {z-index: 1;}div.sk-parallel {display: flex;align-items: stretch;justify-content: center;background-color: white;}div.sk-parallel-item {display: flex;flex-direction: column;position: relative;background-color: white;}div.sk-parallel-item:first-child::after {align-self: flex-end;width: 50%;}div.sk-parallel-item:last-child::after {align-self: flex-start;width: 50%;}div.sk-parallel-item:only-child::after {width: 0;}div.sk-dashed-wrapped {border: 1px dashed gray;margin: 0.2em;box-sizing: border-box;padding-bottom: 0.1em;background-color: white;position: relative;}div.sk-label label {font-family: monospace;font-weight: bold;background-color: white;display: inline-block;line-height: 1.2em;}div.sk-label-container {position: relative;z-index: 2;text-align: center;}div.sk-container {display: inline-block;position: relative;}</style><div class=\"sk-top-container\"><div class=\"sk-container\"><div class=\"sk-item sk-dashed-wrapped\"><div class=\"sk-label-container\"><div class=\"sk-label sk-toggleable\"><input class=\"sk-toggleable__control sk-hidden--visually\" id=\"d5ec9d87-bc45-40cf-9638-d6d62039ee7c\" type=\"checkbox\" ><label class=\"sk-toggleable__label\" for=\"d5ec9d87-bc45-40cf-9638-d6d62039ee7c\">Pipeline</label><div class=\"sk-toggleable__content\"><pre>Pipeline(steps=[('preprocessor',\n",
       "                 ColumnTransformer(transformers=[('categorical',\n",
       "                                                  Pipeline(steps=[('onehot',\n",
       "                                                                   OneHotEncoder(handle_unknown='ignore'))]),\n",
       "                                                  ['gender', 'ever_married',\n",
       "                                                   'Residence_type',\n",
       "                                                   'work_type',\n",
       "                                                   'smoking_status']),\n",
       "                                                 ('numerical',\n",
       "                                                  Pipeline(steps=[('imputation_mean',\n",
       "                                                                   SimpleImputer(strategy='median'))]),\n",
       "                                                  ['age', 'hypertension',\n",
       "                                                   'heart_disease', 'bmi'])])),\n",
       "                ('classifier',\n",
       "                 DecisionTreeClassifier(max_depth=3, max_features='sqrt'))])</pre></div></div></div><div class=\"sk-serial\"><div class=\"sk-item sk-dashed-wrapped\"><div class=\"sk-label-container\"><div class=\"sk-label sk-toggleable\"><input class=\"sk-toggleable__control sk-hidden--visually\" id=\"1bbc0ff1-2508-499c-8110-2993c8fbd32b\" type=\"checkbox\" ><label class=\"sk-toggleable__label\" for=\"1bbc0ff1-2508-499c-8110-2993c8fbd32b\">preprocessor: ColumnTransformer</label><div class=\"sk-toggleable__content\"><pre>ColumnTransformer(transformers=[('categorical',\n",
       "                                 Pipeline(steps=[('onehot',\n",
       "                                                  OneHotEncoder(handle_unknown='ignore'))]),\n",
       "                                 ['gender', 'ever_married', 'Residence_type',\n",
       "                                  'work_type', 'smoking_status']),\n",
       "                                ('numerical',\n",
       "                                 Pipeline(steps=[('imputation_mean',\n",
       "                                                  SimpleImputer(strategy='median'))]),\n",
       "                                 ['age', 'hypertension', 'heart_disease',\n",
       "                                  'bmi'])])</pre></div></div></div><div class=\"sk-parallel\"><div class=\"sk-parallel-item\"><div class=\"sk-item\"><div class=\"sk-label-container\"><div class=\"sk-label sk-toggleable\"><input class=\"sk-toggleable__control sk-hidden--visually\" id=\"9ac341b5-c33f-48e4-a35e-02b87c02d2f3\" type=\"checkbox\" ><label class=\"sk-toggleable__label\" for=\"9ac341b5-c33f-48e4-a35e-02b87c02d2f3\">categorical</label><div class=\"sk-toggleable__content\"><pre>['gender', 'ever_married', 'Residence_type', 'work_type', 'smoking_status']</pre></div></div></div><div class=\"sk-serial\"><div class=\"sk-item\"><div class=\"sk-serial\"><div class=\"sk-item\"><div class=\"sk-estimator sk-toggleable\"><input class=\"sk-toggleable__control sk-hidden--visually\" id=\"e10f297d-b660-4701-b6fe-3b111397a8f0\" type=\"checkbox\" ><label class=\"sk-toggleable__label\" for=\"e10f297d-b660-4701-b6fe-3b111397a8f0\">OneHotEncoder</label><div class=\"sk-toggleable__content\"><pre>OneHotEncoder(handle_unknown='ignore')</pre></div></div></div></div></div></div></div></div><div class=\"sk-parallel-item\"><div class=\"sk-item\"><div class=\"sk-label-container\"><div class=\"sk-label sk-toggleable\"><input class=\"sk-toggleable__control sk-hidden--visually\" id=\"932243d9-603e-4200-8285-aaeb52ebd113\" type=\"checkbox\" ><label class=\"sk-toggleable__label\" for=\"932243d9-603e-4200-8285-aaeb52ebd113\">numerical</label><div class=\"sk-toggleable__content\"><pre>['age', 'hypertension', 'heart_disease', 'bmi']</pre></div></div></div><div class=\"sk-serial\"><div class=\"sk-item\"><div class=\"sk-serial\"><div class=\"sk-item\"><div class=\"sk-estimator sk-toggleable\"><input class=\"sk-toggleable__control sk-hidden--visually\" id=\"1ba3a279-a742-4c72-9905-ea4d80bd39bf\" type=\"checkbox\" ><label class=\"sk-toggleable__label\" for=\"1ba3a279-a742-4c72-9905-ea4d80bd39bf\">SimpleImputer</label><div class=\"sk-toggleable__content\"><pre>SimpleImputer(strategy='median')</pre></div></div></div></div></div></div></div></div></div></div><div class=\"sk-item\"><div class=\"sk-estimator sk-toggleable\"><input class=\"sk-toggleable__control sk-hidden--visually\" id=\"54924638-80cf-4e11-b31c-6586f04f2d1d\" type=\"checkbox\" ><label class=\"sk-toggleable__label\" for=\"54924638-80cf-4e11-b31c-6586f04f2d1d\">DecisionTreeClassifier</label><div class=\"sk-toggleable__content\"><pre>DecisionTreeClassifier(max_depth=3, max_features='sqrt')</pre></div></div></div></div></div></div></div>"
      ],
      "text/plain": [
       "Pipeline(steps=[('preprocessor',\n",
       "                 ColumnTransformer(transformers=[('categorical',\n",
       "                                                  Pipeline(steps=[('onehot',\n",
       "                                                                   OneHotEncoder(handle_unknown='ignore'))]),\n",
       "                                                  ['gender', 'ever_married',\n",
       "                                                   'Residence_type',\n",
       "                                                   'work_type',\n",
       "                                                   'smoking_status']),\n",
       "                                                 ('numerical',\n",
       "                                                  Pipeline(steps=[('imputation_mean',\n",
       "                                                                   SimpleImputer(strategy='median'))]),\n",
       "                                                  ['age', 'hypertension',\n",
       "                                                   'heart_disease', 'bmi'])])),\n",
       "                ('classifier',\n",
       "                 DecisionTreeClassifier(max_depth=3, max_features='sqrt'))])"
      ]
     },
     "execution_count": 66,
     "metadata": {},
     "output_type": "execute_result"
    }
   ],
   "source": [
    "grid_search.best_estimator_ # click on the diagram to see results"
   ]
  },
  {
   "cell_type": "code",
   "execution_count": 67,
   "metadata": {},
   "outputs": [
    {
     "name": "stdout",
     "output_type": "stream",
     "text": [
      "0.5503873254737021\n",
      "validation results: 0.541095890410959\n"
     ]
    }
   ],
   "source": [
    "print(grid_search.best_score_)\n",
    "print('validation results:', accuracy_score(grid_search.best_estimator_.predict(X_pip_val),y_pip_val))\n"
   ]
  },
  {
   "cell_type": "code",
   "execution_count": 68,
   "metadata": {},
   "outputs": [],
   "source": [
    "import numpy as np"
   ]
  },
  {
   "cell_type": "code",
   "execution_count": 84,
   "metadata": {},
   "outputs": [],
   "source": [
    "n = np.eye(3)*3\n",
    "m = np.ones((3,2))"
   ]
  },
  {
   "cell_type": "code",
   "execution_count": 94,
   "metadata": {},
   "outputs": [],
   "source": [
    "er =np.zeros((3,4))"
   ]
  },
  {
   "cell_type": "code",
   "execution_count": 83,
   "metadata": {},
   "outputs": [],
   "source": [
    "nrow = 3\n",
    "mrow = 3\n",
    "ncol = 2"
   ]
  },
  {
   "cell_type": "code",
   "execution_count": 80,
   "metadata": {},
   "outputs": [
    {
     "data": {
      "text/plain": [
       "array([[1., 1.],\n",
       "       [1., 1.],\n",
       "       [1., 1.]])"
      ]
     },
     "execution_count": 80,
     "metadata": {},
     "output_type": "execute_result"
    }
   ],
   "source": [
    "lo"
   ]
  },
  {
   "cell_type": "code",
   "execution_count": 87,
   "metadata": {},
   "outputs": [
    {
     "data": {
      "text/plain": [
       "2"
      ]
     },
     "execution_count": 87,
     "metadata": {},
     "output_type": "execute_result"
    }
   ],
   "source": [
    "len(m[0])"
   ]
  },
  {
   "cell_type": "code",
   "execution_count": 82,
   "metadata": {},
   "outputs": [
    {
     "data": {
      "text/plain": [
       "(array([[3., 0., 0.],\n",
       "        [0., 3., 0.],\n",
       "        [0., 0., 3.]]),\n",
       " array([[1., 1.],\n",
       "        [1., 1.],\n",
       "        [1., 1.]]))"
      ]
     },
     "execution_count": 82,
     "metadata": {},
     "output_type": "execute_result"
    }
   ],
   "source": [
    "jk,lo"
   ]
  },
  {
   "cell_type": "code",
   "execution_count": 95,
   "metadata": {},
   "outputs": [],
   "source": [
    "for i in range(len(n)):\n",
    "    for j in range(len(m)):\n",
    "        for k in range(len(m[0])):\n",
    "            er[i][k] += n[i][j]*m[j][k]\n",
    "        "
   ]
  },
  {
   "cell_type": "code",
   "execution_count": 96,
   "metadata": {},
   "outputs": [
    {
     "data": {
      "text/plain": [
       "array([[114., 160.,  60.,  27.],\n",
       "       [ 74.,  97.,  73.,  14.],\n",
       "       [119., 157., 112.,  23.]])"
      ]
     },
     "execution_count": 96,
     "metadata": {},
     "output_type": "execute_result"
    }
   ],
   "source": [
    "er"
   ]
  },
  {
   "cell_type": "code",
   "execution_count": 93,
   "metadata": {},
   "outputs": [],
   "source": [
    "n = np.asarray([[12,7,3],\n",
    "    [4 ,5,6],\n",
    "    [7 ,8,9]])\n",
    "\n",
    "m = np.asarray([[5,8,1,2],\n",
    "    [6,7,3,0],\n",
    "    [4,5,9,1]])\n"
   ]
  },
  {
   "cell_type": "code",
   "execution_count": 186,
   "metadata": {},
   "outputs": [],
   "source": [
    "dat = np.random.rand(100,3)\n",
    "clusters = np.random.rand(3,3)\n",
    "diff = (dat.reshape(100,3,1) - clusters.T)\n",
    "eucl = np.linalg.norm(diff,axis=1)\n",
    "assigns = np.argmin(eucl,axis=1)"
   ]
  },
  {
   "cell_type": "code",
   "execution_count": 187,
   "metadata": {},
   "outputs": [
    {
     "data": {
      "text/plain": [
       "array([1, 2, 2, 0, 2, 1, 1, 1, 1, 0, 2, 2, 1, 2, 1, 1, 2, 2, 2, 2, 2, 2,\n",
       "       1, 1, 1, 2, 1, 2, 1, 1, 2, 2, 0, 2, 1, 1, 1, 1, 0, 2, 2, 1, 2, 0,\n",
       "       1, 2, 2, 0, 2, 0, 1, 1, 2, 0, 2, 2, 1, 2, 2, 2, 2, 2, 2, 2, 2, 1,\n",
       "       2, 2, 2, 0, 2, 1, 1, 2, 2, 2, 2, 2, 1, 1, 2, 2, 1, 1, 2, 2, 2, 2,\n",
       "       2, 2, 0, 1, 2, 0, 2, 2, 2, 2, 2, 0])"
      ]
     },
     "execution_count": 187,
     "metadata": {},
     "output_type": "execute_result"
    }
   ],
   "source": [
    "assigns"
   ]
  },
  {
   "cell_type": "code",
   "execution_count": 192,
   "metadata": {},
   "outputs": [
    {
     "data": {
      "text/plain": [
       "array([3.1220767 , 4.48264016, 4.36302134])"
      ]
     },
     "execution_count": 192,
     "metadata": {},
     "output_type": "execute_result"
    }
   ],
   "source": [
    "np.linalg.norm(dat[assigns == 1],axis=0)"
   ]
  },
  {
   "cell_type": "code",
   "execution_count": 198,
   "metadata": {},
   "outputs": [
    {
     "data": {
      "text/plain": [
       "array([3.1220767 , 4.48264016, 4.36302134])"
      ]
     },
     "execution_count": 198,
     "metadata": {},
     "output_type": "execute_result"
    }
   ],
   "source": [
    "np.sqrt(np.sum(np.square(dat[assigns == 1]),axis=0))"
   ]
  },
  {
   "cell_type": "code",
   "execution_count": 144,
   "metadata": {},
   "outputs": [],
   "source": [
    "clusters = np.random.rand(3,3)"
   ]
  },
  {
   "cell_type": "code",
   "execution_count": 102,
   "metadata": {},
   "outputs": [
    {
     "data": {
      "text/plain": [
       "array([[0.16507959, 0.52344671, 0.41489509],\n",
       "       [0.15743497, 0.33172746, 0.15299506],\n",
       "       [0.53755928, 0.02499706, 0.33480961]])"
      ]
     },
     "execution_count": 102,
     "metadata": {},
     "output_type": "execute_result"
    }
   ],
   "source": [
    "clusters"
   ]
  },
  {
   "cell_type": "code",
   "execution_count": 100,
   "metadata": {},
   "outputs": [
    {
     "data": {
      "text/plain": [
       "array([[0.33204479, 0.43516397, 0.44369455],\n",
       "       [0.9042919 , 0.75628974, 0.53458421],\n",
       "       [0.33966381, 0.97433211, 0.84496194],\n",
       "       [0.17795323, 0.98832103, 0.21305626],\n",
       "       [0.9948793 , 0.77460125, 0.44929669],\n",
       "       [0.28674143, 0.86186387, 0.97963637],\n",
       "       [0.95804884, 0.82007487, 0.53293375],\n",
       "       [0.99669825, 0.42863609, 0.03368287],\n",
       "       [0.92107805, 0.14692111, 0.59484646],\n",
       "       [0.54088712, 0.46380297, 0.71289165]])"
      ]
     },
     "execution_count": 100,
     "metadata": {},
     "output_type": "execute_result"
    }
   ],
   "source": [
    "dat"
   ]
  },
  {
   "cell_type": "code",
   "execution_count": 145,
   "metadata": {},
   "outputs": [
    {
     "data": {
      "text/plain": [
       "array([0.33599801, 0.93255979, 0.75280543, 0.83545389, 0.77833421,\n",
       "       0.29506926, 0.48473343, 0.80607469, 0.82118765, 0.74917436])"
      ]
     },
     "execution_count": 145,
     "metadata": {},
     "output_type": "execute_result"
    }
   ],
   "source": [
    "np.linalg.norm(dat-clusters[0],axis=1)"
   ]
  },
  {
   "cell_type": "code",
   "execution_count": 116,
   "metadata": {},
   "outputs": [
    {
     "data": {
      "text/plain": [
       "array([[0.16507959, 0.52344671, 0.41489509],\n",
       "       [0.15743497, 0.33172746, 0.15299506],\n",
       "       [0.53755928, 0.02499706, 0.33480961]])"
      ]
     },
     "execution_count": 116,
     "metadata": {},
     "output_type": "execute_result"
    }
   ],
   "source": [
    "clusters"
   ]
  },
  {
   "cell_type": "code",
   "execution_count": 130,
   "metadata": {},
   "outputs": [
    {
     "data": {
      "text/plain": [
       "-0.08828273000000003"
      ]
     },
     "execution_count": 130,
     "metadata": {},
     "output_type": "execute_result"
    }
   ],
   "source": [
    "0.43516397 - 0.5234467"
   ]
  },
  {
   "cell_type": "code",
   "execution_count": 147,
   "metadata": {},
   "outputs": [
    {
     "data": {
      "text/plain": [
       "array([0.05502861, 0.19279696, 0.811361  ])"
      ]
     },
     "execution_count": 147,
     "metadata": {},
     "output_type": "execute_result"
    }
   ],
   "source": [
    "dat[0]"
   ]
  },
  {
   "cell_type": "code",
   "execution_count": 152,
   "metadata": {},
   "outputs": [
    {
     "data": {
      "text/plain": [
       "array([-0.03373735, -0.16642827,  0.23105338])"
      ]
     },
     "execution_count": 152,
     "metadata": {},
     "output_type": "execute_result"
    }
   ],
   "source": [
    "dat[0]-clusters[1]"
   ]
  },
  {
   "cell_type": "code",
   "execution_count": 150,
   "metadata": {},
   "outputs": [],
   "source": [
    "lop = (dat.reshape(10,3,1) - clusters.T)"
   ]
  },
  {
   "cell_type": "code",
   "execution_count": 125,
   "metadata": {},
   "outputs": [
    {
     "data": {
      "text/plain": [
       "array([ 0.1669652 , -0.19140192, -0.0828503 ])"
      ]
     },
     "execution_count": 125,
     "metadata": {},
     "output_type": "execute_result"
    }
   ],
   "source": [
    "lop[0,0]"
   ]
  },
  {
   "cell_type": "code",
   "execution_count": 167,
   "metadata": {},
   "outputs": [],
   "source": [
    "ki = np.linalg.norm(lop,axis=1)"
   ]
  },
  {
   "cell_type": "code",
   "execution_count": 168,
   "metadata": {},
   "outputs": [
    {
     "data": {
      "text/plain": [
       "array([[0.33599801, 0.28674421, 0.92149506],\n",
       "       [0.93255979, 0.84149731, 0.02713703],\n",
       "       [0.75280543, 0.81316689, 0.42447791],\n",
       "       [0.83545389, 0.63720958, 0.3479381 ],\n",
       "       [0.77833421, 0.59917872, 0.32494252],\n",
       "       [0.29506926, 0.34576373, 0.9841572 ],\n",
       "       [0.48473343, 0.15431198, 0.88937177],\n",
       "       [0.80607469, 0.60143985, 0.47102397],\n",
       "       [0.82118765, 0.4973728 , 0.97809944],\n",
       "       [0.74917436, 0.70004912, 0.27242211]])"
      ]
     },
     "execution_count": 168,
     "metadata": {},
     "output_type": "execute_result"
    }
   ],
   "source": [
    "ki"
   ]
  },
  {
   "cell_type": "code",
   "execution_count": 172,
   "metadata": {},
   "outputs": [
    {
     "data": {
      "text/plain": [
       "array([1, 2, 2, 2, 2, 0, 1, 2, 1, 2])"
      ]
     },
     "execution_count": 172,
     "metadata": {},
     "output_type": "execute_result"
    }
   ],
   "source": [
    "np.argmin(ki,axis=1)"
   ]
  },
  {
   "cell_type": "code",
   "execution_count": 151,
   "metadata": {},
   "outputs": [
    {
     "data": {
      "text/plain": [
       "array([[[-8.65455420e-02, -3.37373494e-02, -8.50770346e-01],\n",
       "        [-3.19104786e-01, -1.66428270e-01,  1.02550022e-01],\n",
       "        [-5.98052515e-02,  2.31053377e-01,  3.38860519e-01]],\n",
       "\n",
       "       [[ 7.43106712e-01,  7.95914904e-01, -2.11180926e-02],\n",
       "        [-4.07662801e-01, -2.54986285e-01,  1.39920069e-02],\n",
       "        [-3.88936019e-01, -9.80773905e-02,  9.72975222e-03]],\n",
       "\n",
       "       [[ 6.94034916e-01,  7.46843109e-01, -7.01898882e-02],\n",
       "        [-2.91600735e-01, -1.38924219e-01,  1.30054073e-01],\n",
       "        [-7.45160958e-04,  2.90113467e-01,  3.97920610e-01]],\n",
       "\n",
       "       [[ 4.43704439e-01,  4.96512632e-01, -3.20520365e-01],\n",
       "        [-4.78819436e-01, -3.26142920e-01, -5.71646280e-02],\n",
       "        [-5.21384234e-01, -2.30525606e-01, -1.22718463e-01]],\n",
       "\n",
       "       [[ 4.64669457e-01,  5.17477649e-01, -2.99555347e-01],\n",
       "        [-3.61372781e-01, -2.08696265e-01,  6.02820272e-02],\n",
       "        [-5.09211304e-01, -2.18352675e-01, -1.10545533e-01]],\n",
       "\n",
       "       [[ 5.82471991e-03,  5.86329125e-02, -7.58400084e-01],\n",
       "        [ 1.82869191e-01,  3.35545708e-01,  6.04524000e-01],\n",
       "        [-2.31496870e-01,  5.93617580e-02,  1.67168901e-01]],\n",
       "\n",
       "       [[-9.59345592e-02, -4.31263666e-02, -8.60159363e-01],\n",
       "        [-1.98041088e-01, -4.53645715e-02,  2.23613721e-01],\n",
       "        [-4.31905998e-01, -1.41047370e-01, -3.32402270e-02]],\n",
       "\n",
       "       [[ 4.25277047e-01,  4.78085240e-01, -3.38947757e-01],\n",
       "        [-2.13214956e-01, -6.05384402e-02,  2.08439852e-01],\n",
       "        [-6.50719001e-01, -3.59860373e-01, -2.52053230e-01]],\n",
       "\n",
       "       [[-1.20268741e-01, -6.74605485e-02, -8.84493545e-01],\n",
       "        [-2.41817508e-01, -8.91409914e-02,  1.79837301e-01],\n",
       "        [-7.75505567e-01, -4.84646939e-01, -3.76839796e-01]],\n",
       "\n",
       "       [[ 6.45228797e-01,  6.98036990e-01, -1.18996007e-01],\n",
       "        [-1.85746509e-01, -3.30699930e-02,  2.35908299e-01],\n",
       "        [-3.32325516e-01, -4.14668878e-02,  6.63402549e-02]]])"
      ]
     },
     "execution_count": 151,
     "metadata": {},
     "output_type": "execute_result"
    }
   ],
   "source": [
    "lop"
   ]
  },
  {
   "cell_type": "code",
   "execution_count": 119,
   "metadata": {},
   "outputs": [
    {
     "data": {
      "text/plain": [
       "array([[0.33737422, 0.47184891, 0.31359113],\n",
       "       [0.95135205, 0.76483675, 0.80211197],\n",
       "       [0.89011065, 1.05785599, 0.96979879],\n",
       "       [0.89209842, 0.7654065 , 0.87677523],\n",
       "       [1.03790754, 0.77357356, 0.85783637],\n",
       "       [0.84050808, 1.11732279, 0.96680913],\n",
       "       [1.03339888, 0.82786586, 0.88275967],\n",
       "       [1.0094707 , 0.48314982, 0.71073921],\n",
       "       [0.75823877, 0.71902184, 0.56910214],\n",
       "       [0.51559101, 0.70067616, 0.5053925 ]])"
      ]
     },
     "execution_count": 119,
     "metadata": {},
     "output_type": "execute_result"
    }
   ],
   "source": [
    "np.linalg.norm(lop,axis=1)"
   ]
  },
  {
   "cell_type": "code",
   "execution_count": 136,
   "metadata": {},
   "outputs": [],
   "source": [
    "clusters = np.ones((4,3))\n",
    "dat = np.ones((10,3))"
   ]
  },
  {
   "cell_type": "code",
   "execution_count": 142,
   "metadata": {},
   "outputs": [
    {
     "data": {
      "text/plain": [
       "array([[[0., 0., 0., 0.],\n",
       "        [0., 0., 0., 0.],\n",
       "        [0., 0., 0., 0.]],\n",
       "\n",
       "       [[0., 0., 0., 0.],\n",
       "        [0., 0., 0., 0.],\n",
       "        [0., 0., 0., 0.]],\n",
       "\n",
       "       [[0., 0., 0., 0.],\n",
       "        [0., 0., 0., 0.],\n",
       "        [0., 0., 0., 0.]],\n",
       "\n",
       "       [[0., 0., 0., 0.],\n",
       "        [0., 0., 0., 0.],\n",
       "        [0., 0., 0., 0.]],\n",
       "\n",
       "       [[0., 0., 0., 0.],\n",
       "        [0., 0., 0., 0.],\n",
       "        [0., 0., 0., 0.]],\n",
       "\n",
       "       [[0., 0., 0., 0.],\n",
       "        [0., 0., 0., 0.],\n",
       "        [0., 0., 0., 0.]],\n",
       "\n",
       "       [[0., 0., 0., 0.],\n",
       "        [0., 0., 0., 0.],\n",
       "        [0., 0., 0., 0.]],\n",
       "\n",
       "       [[0., 0., 0., 0.],\n",
       "        [0., 0., 0., 0.],\n",
       "        [0., 0., 0., 0.]],\n",
       "\n",
       "       [[0., 0., 0., 0.],\n",
       "        [0., 0., 0., 0.],\n",
       "        [0., 0., 0., 0.]],\n",
       "\n",
       "       [[0., 0., 0., 0.],\n",
       "        [0., 0., 0., 0.],\n",
       "        [0., 0., 0., 0.]]])"
      ]
     },
     "execution_count": 142,
     "metadata": {},
     "output_type": "execute_result"
    }
   ],
   "source": [
    "dat.reshape(10,3,1) - clusters.reshape(3,4)"
   ]
  },
  {
   "cell_type": "code",
   "execution_count": 205,
   "metadata": {},
   "outputs": [],
   "source": [
    "S = np.cov(dat)"
   ]
  },
  {
   "cell_type": "code",
   "execution_count": 206,
   "metadata": {},
   "outputs": [],
   "source": [
    "w,v = np.linalg.eig(np.)"
   ]
  },
  {
   "cell_type": "code",
   "execution_count": 208,
   "metadata": {},
   "outputs": [
    {
     "data": {
      "text/plain": [
       "array([[-0.1393136 +0.00000000e+00j,  0.02141712+0.00000000e+00j,\n",
       "        -0.07140093+3.01546462e-02j, ...,  0.0468518 +1.35543759e-02j,\n",
       "         0.03935417-2.25831555e-02j,  0.03935417+2.25831555e-02j],\n",
       "       [-0.00622812+0.00000000e+00j, -0.13263868+0.00000000e+00j,\n",
       "        -0.03196438+6.07319269e-02j, ..., -0.00886156-3.31775809e-03j,\n",
       "        -0.01274851+6.60590098e-03j, -0.01274851-6.60590098e-03j],\n",
       "       [ 0.03171438+0.00000000e+00j,  0.06147779+0.00000000e+00j,\n",
       "         0.06362846+3.73626733e-03j, ..., -0.00648118-1.48093726e-03j,\n",
       "        -0.00500743-1.48433201e-04j, -0.00500743+1.48433201e-04j],\n",
       "       ...,\n",
       "       [ 0.01151056+0.00000000e+00j, -0.04059069+0.00000000e+00j,\n",
       "         0.00704758-1.19896160e-02j, ...,  0.4067054 -0.00000000e+00j,\n",
       "         0.07273234-1.86517861e-01j,  0.07273234+1.86517861e-01j],\n",
       "       [ 0.01498492+0.00000000e+00j, -0.07324392+0.00000000e+00j,\n",
       "         0.0275317 +1.91317660e-02j, ...,  0.1631674 +2.20411431e-02j,\n",
       "         0.08140651-2.66655568e-02j,  0.08140651+2.66655568e-02j],\n",
       "       [-0.10763612+0.00000000e+00j, -0.17835336+0.00000000e+00j,\n",
       "         0.10272848-7.80185708e-02j, ...,  0.0010111 -4.12128855e-02j,\n",
       "        -0.06598983+6.29798690e-03j, -0.06598983-6.29798690e-03j]])"
      ]
     },
     "execution_count": 208,
     "metadata": {},
     "output_type": "execute_result"
    }
   ],
   "source": [
    "v"
   ]
  },
  {
   "cell_type": "code",
   "execution_count": 209,
   "metadata": {},
   "outputs": [
    {
     "data": {
      "text/plain": [
       "array([[1.01197199e-02, 3.32089790e-05, 3.17009794e-04, ...,\n",
       "        1.27533083e-04, 2.64665626e-04, 3.93816310e-03],\n",
       "       [3.32089790e-05, 4.00481628e-03, 9.14894742e-04, ...,\n",
       "        3.58735487e-04, 1.18064950e-03, 7.78746216e-03],\n",
       "       [3.17009794e-04, 9.14894742e-04, 3.48972021e-04, ...,\n",
       "        5.02258869e-05, 1.88338310e-04, 3.21739464e-03],\n",
       "       ...,\n",
       "       [1.27533083e-04, 3.58735487e-04, 5.02258869e-05, ...,\n",
       "        4.33432834e-05, 1.33176190e-04, 3.85845447e-04],\n",
       "       [2.64665626e-04, 1.18064950e-03, 1.88338310e-04, ...,\n",
       "        1.33176190e-04, 4.15414894e-04, 1.49147361e-03],\n",
       "       [3.93816310e-03, 7.78746216e-03, 3.21739464e-03, ...,\n",
       "        3.85845447e-04, 1.49147361e-03, 2.99752616e-02]])"
      ]
     },
     "execution_count": 209,
     "metadata": {},
     "output_type": "execute_result"
    }
   ],
   "source": [
    "np.square(S)"
   ]
  },
  {
   "cell_type": "code",
   "execution_count": 243,
   "metadata": {},
   "outputs": [
    {
     "data": {
      "text/plain": [
       "array([0., 0., 0., 0.])"
      ]
     },
     "execution_count": 243,
     "metadata": {},
     "output_type": "execute_result"
    }
   ],
   "source": [
    "dist"
   ]
  },
  {
   "cell_type": "code",
   "execution_count": 244,
   "metadata": {},
   "outputs": [],
   "source": [
    "dist = np.zeros((4,4))\n",
    "dat = np.random.rand(4,3)"
   ]
  },
  {
   "cell_type": "code",
   "execution_count": 238,
   "metadata": {},
   "outputs": [
    {
     "data": {
      "text/plain": [
       "array([100.        ,   1.11385891,   0.96594164,   0.81880585])"
      ]
     },
     "execution_count": 238,
     "metadata": {},
     "output_type": "execute_result"
    }
   ],
   "source": [
    "ack = np.linalg.norm(dat[0] - dat,axis=1)\n",
    "np.where(ack==0,100,ack)"
   ]
  },
  {
   "cell_type": "code",
   "execution_count": 247,
   "metadata": {},
   "outputs": [],
   "source": [
    "for i in range(4):\n",
    "    dist[i] = np.linalg.norm(dat[i]-dat,axis=1)"
   ]
  },
  {
   "cell_type": "code",
   "execution_count": 254,
   "metadata": {},
   "outputs": [],
   "source": [
    "yuck = np.where(dist ==0 ,np.inf,dist)"
   ]
  },
  {
   "cell_type": "code",
   "execution_count": 253,
   "metadata": {},
   "outputs": [
    {
     "data": {
      "text/plain": [
       "array([[0.        , 0.87436771, 0.61564332, 0.66985081],\n",
       "       [0.87436771, 0.        , 1.0867372 , 0.88252131],\n",
       "       [0.61564332, 1.0867372 , 0.        , 0.65490257],\n",
       "       [0.66985081, 0.88252131, 0.65490257, 0.        ]])"
      ]
     },
     "execution_count": 253,
     "metadata": {},
     "output_type": "execute_result"
    }
   ],
   "source": [
    "dist"
   ]
  },
  {
   "cell_type": "code",
   "execution_count": 257,
   "metadata": {},
   "outputs": [
    {
     "data": {
      "text/plain": [
       "array([[       inf, 0.87436771, 0.61564332, 0.66985081],\n",
       "       [0.87436771,        inf, 1.0867372 , 0.88252131],\n",
       "       [0.61564332, 1.0867372 ,        inf, 0.65490257],\n",
       "       [0.66985081, 0.88252131, 0.65490257,        inf]])"
      ]
     },
     "execution_count": 257,
     "metadata": {},
     "output_type": "execute_result"
    }
   ],
   "source": [
    "yuck"
   ]
  },
  {
   "cell_type": "code",
   "execution_count": 258,
   "metadata": {},
   "outputs": [],
   "source": [
    "uu = np.argsort(yuck,axis=1)"
   ]
  },
  {
   "cell_type": "code",
   "execution_count": 260,
   "metadata": {},
   "outputs": [
    {
     "data": {
      "text/plain": [
       "array([[2, 3, 1, 0],\n",
       "       [0, 3, 2, 1],\n",
       "       [0, 3, 1, 2],\n",
       "       [2, 0, 1, 3]])"
      ]
     },
     "execution_count": 260,
     "metadata": {},
     "output_type": "execute_result"
    }
   ],
   "source": [
    "uu"
   ]
  },
  {
   "cell_type": "code",
   "execution_count": 259,
   "metadata": {},
   "outputs": [
    {
     "data": {
      "text/plain": [
       "array([[2, 3],\n",
       "       [0, 3],\n",
       "       [0, 3],\n",
       "       [2, 0]])"
      ]
     },
     "execution_count": 259,
     "metadata": {},
     "output_type": "execute_result"
    }
   ],
   "source": [
    "uu[:,:2]"
   ]
  },
  {
   "cell_type": "code",
   "execution_count": 228,
   "metadata": {},
   "outputs": [],
   "source": [
    "hah = np.linalg.norm(jk,axis=1)"
   ]
  },
  {
   "cell_type": "code",
   "execution_count": 229,
   "metadata": {},
   "outputs": [
    {
     "data": {
      "text/plain": [
       "array([[0.        , 1.11385891, 0.96594164, 0.81880585],\n",
       "       [1.11385891, 0.        , 0.27682387, 0.8461219 ],\n",
       "       [0.96594164, 0.27682387, 0.        , 0.77918893],\n",
       "       [0.81880585, 0.8461219 , 0.77918893, 0.        ]])"
      ]
     },
     "execution_count": 229,
     "metadata": {},
     "output_type": "execute_result"
    }
   ],
   "source": [
    "hah"
   ]
  },
  {
   "cell_type": "code",
   "execution_count": 261,
   "metadata": {},
   "outputs": [],
   "source": [
    "bike = pd.read_csv('2017-capitalbikeshare-tripdata/2017Q1-capitalbikeshare-tripdata.csv')"
   ]
  },
  {
   "cell_type": "code",
   "execution_count": 263,
   "metadata": {},
   "outputs": [
    {
     "name": "stdout",
     "output_type": "stream",
     "text": [
      "<class 'pandas.core.frame.DataFrame'>\n",
      "RangeIndex: 646510 entries, 0 to 646509\n",
      "Data columns (total 9 columns):\n",
      " #   Column                Non-Null Count   Dtype \n",
      "---  ------                --------------   ----- \n",
      " 0   Duration              646510 non-null  int64 \n",
      " 1   Start date            646510 non-null  object\n",
      " 2   End date              646510 non-null  object\n",
      " 3   Start station number  646510 non-null  int64 \n",
      " 4   Start station         646510 non-null  object\n",
      " 5   End station number    646510 non-null  int64 \n",
      " 6   End station           646510 non-null  object\n",
      " 7   Bike number           646510 non-null  object\n",
      " 8   Member type           646510 non-null  object\n",
      "dtypes: int64(3), object(6)\n",
      "memory usage: 44.4+ MB\n"
     ]
    }
   ],
   "source": [
    "bike.info()"
   ]
  },
  {
   "cell_type": "code",
   "execution_count": 270,
   "metadata": {},
   "outputs": [],
   "source": [
    "bike['state_date'] = pd.to_datetime(bike['Start date'])\n",
    "bike['end_date'] = pd.to_datetime(bike['End date'])"
   ]
  },
  {
   "cell_type": "code",
   "execution_count": 273,
   "metadata": {},
   "outputs": [
    {
     "data": {
      "text/plain": [
       "0               221\n",
       "1              1897\n",
       "2              3253\n",
       "3              4580\n",
       "4              6216\n",
       "            ...    \n",
       "646505    653260813\n",
       "646506    653261070\n",
       "646507    653261493\n",
       "646508    653262541\n",
       "646509    653262764\n",
       "Name: Duration, Length: 646510, dtype: int64"
      ]
     },
     "execution_count": 273,
     "metadata": {},
     "output_type": "execute_result"
    }
   ],
   "source": [
    "bike['Duration'].cumsum()"
   ]
  },
  {
   "cell_type": "code",
   "execution_count": 274,
   "metadata": {},
   "outputs": [
    {
     "data": {
      "text/plain": [
       "0             221\n",
       "1            1676\n",
       "2            1356\n",
       "3            2683\n",
       "4            3312\n",
       "           ...   \n",
       "646505    1617983\n",
       "646506    2527835\n",
       "646507    3032972\n",
       "646508    3522575\n",
       "646509    3496678\n",
       "Name: Duration, Length: 646510, dtype: int64"
      ]
     },
     "execution_count": 274,
     "metadata": {},
     "output_type": "execute_result"
    }
   ],
   "source": [
    "bike.sort_values(['state_date']).groupby('Start station number')['Duration'].cumsum()"
   ]
  },
  {
   "cell_type": "code",
   "execution_count": 284,
   "metadata": {},
   "outputs": [],
   "source": [
    "bike['rank'] = bike.groupby('Start station')['Duration'].transform('rank')"
   ]
  },
  {
   "cell_type": "code",
   "execution_count": 285,
   "metadata": {},
   "outputs": [
    {
     "data": {
      "text/html": [
       "<div>\n",
       "<style scoped>\n",
       "    .dataframe tbody tr th:only-of-type {\n",
       "        vertical-align: middle;\n",
       "    }\n",
       "\n",
       "    .dataframe tbody tr th {\n",
       "        vertical-align: top;\n",
       "    }\n",
       "\n",
       "    .dataframe thead th {\n",
       "        text-align: right;\n",
       "    }\n",
       "</style>\n",
       "<table border=\"1\" class=\"dataframe\">\n",
       "  <thead>\n",
       "    <tr style=\"text-align: right;\">\n",
       "      <th></th>\n",
       "      <th>Duration</th>\n",
       "      <th>Start date</th>\n",
       "      <th>End date</th>\n",
       "      <th>Start station number</th>\n",
       "      <th>Start station</th>\n",
       "      <th>End station number</th>\n",
       "      <th>End station</th>\n",
       "      <th>Bike number</th>\n",
       "      <th>Member type</th>\n",
       "      <th>state_date</th>\n",
       "      <th>end_date</th>\n",
       "      <th>rank</th>\n",
       "    </tr>\n",
       "  </thead>\n",
       "  <tbody>\n",
       "    <tr>\n",
       "      <th>0</th>\n",
       "      <td>221</td>\n",
       "      <td>2017-01-01 00:00:41</td>\n",
       "      <td>2017-01-01 00:04:23</td>\n",
       "      <td>31634</td>\n",
       "      <td>3rd &amp; Tingey St SE</td>\n",
       "      <td>31208</td>\n",
       "      <td>M St &amp; New Jersey Ave SE</td>\n",
       "      <td>W00869</td>\n",
       "      <td>Member</td>\n",
       "      <td>2017-01-01 00:00:41</td>\n",
       "      <td>2017-01-01 00:04:23</td>\n",
       "      <td>170.5</td>\n",
       "    </tr>\n",
       "    <tr>\n",
       "      <th>1</th>\n",
       "      <td>1676</td>\n",
       "      <td>2017-01-01 00:06:53</td>\n",
       "      <td>2017-01-01 00:34:49</td>\n",
       "      <td>31258</td>\n",
       "      <td>Lincoln Memorial</td>\n",
       "      <td>31270</td>\n",
       "      <td>8th &amp; D St NW</td>\n",
       "      <td>W00894</td>\n",
       "      <td>Casual</td>\n",
       "      <td>2017-01-01 00:06:53</td>\n",
       "      <td>2017-01-01 00:34:49</td>\n",
       "      <td>4354.0</td>\n",
       "    </tr>\n",
       "    <tr>\n",
       "      <th>2</th>\n",
       "      <td>1356</td>\n",
       "      <td>2017-01-01 00:07:10</td>\n",
       "      <td>2017-01-01 00:29:47</td>\n",
       "      <td>31289</td>\n",
       "      <td>Henry Bacon Dr &amp; Lincoln Memorial Circle NW</td>\n",
       "      <td>31222</td>\n",
       "      <td>New York Ave &amp; 15th St NW</td>\n",
       "      <td>W21945</td>\n",
       "      <td>Casual</td>\n",
       "      <td>2017-01-01 00:07:10</td>\n",
       "      <td>2017-01-01 00:29:47</td>\n",
       "      <td>1706.0</td>\n",
       "    </tr>\n",
       "    <tr>\n",
       "      <th>3</th>\n",
       "      <td>1327</td>\n",
       "      <td>2017-01-01 00:07:22</td>\n",
       "      <td>2017-01-01 00:29:30</td>\n",
       "      <td>31289</td>\n",
       "      <td>Henry Bacon Dr &amp; Lincoln Memorial Circle NW</td>\n",
       "      <td>31222</td>\n",
       "      <td>New York Ave &amp; 15th St NW</td>\n",
       "      <td>W20012</td>\n",
       "      <td>Casual</td>\n",
       "      <td>2017-01-01 00:07:22</td>\n",
       "      <td>2017-01-01 00:29:30</td>\n",
       "      <td>1659.0</td>\n",
       "    </tr>\n",
       "    <tr>\n",
       "      <th>4</th>\n",
       "      <td>1636</td>\n",
       "      <td>2017-01-01 00:07:36</td>\n",
       "      <td>2017-01-01 00:34:52</td>\n",
       "      <td>31258</td>\n",
       "      <td>Lincoln Memorial</td>\n",
       "      <td>31270</td>\n",
       "      <td>8th &amp; D St NW</td>\n",
       "      <td>W22786</td>\n",
       "      <td>Casual</td>\n",
       "      <td>2017-01-01 00:07:36</td>\n",
       "      <td>2017-01-01 00:34:52</td>\n",
       "      <td>4207.0</td>\n",
       "    </tr>\n",
       "    <tr>\n",
       "      <th>...</th>\n",
       "      <td>...</td>\n",
       "      <td>...</td>\n",
       "      <td>...</td>\n",
       "      <td>...</td>\n",
       "      <td>...</td>\n",
       "      <td>...</td>\n",
       "      <td>...</td>\n",
       "      <td>...</td>\n",
       "      <td>...</td>\n",
       "      <td>...</td>\n",
       "      <td>...</td>\n",
       "      <td>...</td>\n",
       "    </tr>\n",
       "    <tr>\n",
       "      <th>646505</th>\n",
       "      <td>687</td>\n",
       "      <td>2017-03-31 23:57:10</td>\n",
       "      <td>2017-04-01 00:08:37</td>\n",
       "      <td>31404</td>\n",
       "      <td>9th &amp; Upshur St NW</td>\n",
       "      <td>31281</td>\n",
       "      <td>8th &amp; O St NW</td>\n",
       "      <td>W01307</td>\n",
       "      <td>Member</td>\n",
       "      <td>2017-03-31 23:57:10</td>\n",
       "      <td>2017-04-01 00:08:37</td>\n",
       "      <td>554.5</td>\n",
       "    </tr>\n",
       "    <tr>\n",
       "      <th>646506</th>\n",
       "      <td>257</td>\n",
       "      <td>2017-03-31 23:57:55</td>\n",
       "      <td>2017-04-01 00:02:13</td>\n",
       "      <td>31602</td>\n",
       "      <td>Park Rd &amp; Holmead Pl NW</td>\n",
       "      <td>31400</td>\n",
       "      <td>Georgia &amp; New Hampshire Ave NW</td>\n",
       "      <td>W21760</td>\n",
       "      <td>Member</td>\n",
       "      <td>2017-03-31 23:57:55</td>\n",
       "      <td>2017-04-01 00:02:13</td>\n",
       "      <td>405.0</td>\n",
       "    </tr>\n",
       "    <tr>\n",
       "      <th>646507</th>\n",
       "      <td>423</td>\n",
       "      <td>2017-03-31 23:58:34</td>\n",
       "      <td>2017-04-01 00:05:38</td>\n",
       "      <td>31627</td>\n",
       "      <td>3rd &amp; M St NE</td>\n",
       "      <td>31614</td>\n",
       "      <td>11th &amp; H St NE</td>\n",
       "      <td>W20773</td>\n",
       "      <td>Member</td>\n",
       "      <td>2017-03-31 23:58:34</td>\n",
       "      <td>2017-04-01 00:05:38</td>\n",
       "      <td>1354.5</td>\n",
       "    </tr>\n",
       "    <tr>\n",
       "      <th>646508</th>\n",
       "      <td>1048</td>\n",
       "      <td>2017-03-31 23:59:33</td>\n",
       "      <td>2017-04-01 00:17:02</td>\n",
       "      <td>31213</td>\n",
       "      <td>17th &amp; K St NW</td>\n",
       "      <td>31606</td>\n",
       "      <td>Potomac &amp; Pennsylvania Ave SE</td>\n",
       "      <td>W20784</td>\n",
       "      <td>Member</td>\n",
       "      <td>2017-03-31 23:59:33</td>\n",
       "      <td>2017-04-01 00:17:02</td>\n",
       "      <td>3478.5</td>\n",
       "    </tr>\n",
       "    <tr>\n",
       "      <th>646509</th>\n",
       "      <td>223</td>\n",
       "      <td>2017-03-31 23:59:43</td>\n",
       "      <td>2017-04-01 00:03:26</td>\n",
       "      <td>31104</td>\n",
       "      <td>Adams Mill &amp; Columbia Rd NW</td>\n",
       "      <td>31103</td>\n",
       "      <td>16th &amp; Harvard St NW</td>\n",
       "      <td>W20825</td>\n",
       "      <td>Member</td>\n",
       "      <td>2017-03-31 23:59:43</td>\n",
       "      <td>2017-04-01 00:03:26</td>\n",
       "      <td>887.5</td>\n",
       "    </tr>\n",
       "  </tbody>\n",
       "</table>\n",
       "<p>646510 rows × 12 columns</p>\n",
       "</div>"
      ],
      "text/plain": [
       "        Duration           Start date             End date  \\\n",
       "0            221  2017-01-01 00:00:41  2017-01-01 00:04:23   \n",
       "1           1676  2017-01-01 00:06:53  2017-01-01 00:34:49   \n",
       "2           1356  2017-01-01 00:07:10  2017-01-01 00:29:47   \n",
       "3           1327  2017-01-01 00:07:22  2017-01-01 00:29:30   \n",
       "4           1636  2017-01-01 00:07:36  2017-01-01 00:34:52   \n",
       "...          ...                  ...                  ...   \n",
       "646505       687  2017-03-31 23:57:10  2017-04-01 00:08:37   \n",
       "646506       257  2017-03-31 23:57:55  2017-04-01 00:02:13   \n",
       "646507       423  2017-03-31 23:58:34  2017-04-01 00:05:38   \n",
       "646508      1048  2017-03-31 23:59:33  2017-04-01 00:17:02   \n",
       "646509       223  2017-03-31 23:59:43  2017-04-01 00:03:26   \n",
       "\n",
       "        Start station number                                Start station  \\\n",
       "0                      31634                           3rd & Tingey St SE   \n",
       "1                      31258                             Lincoln Memorial   \n",
       "2                      31289  Henry Bacon Dr & Lincoln Memorial Circle NW   \n",
       "3                      31289  Henry Bacon Dr & Lincoln Memorial Circle NW   \n",
       "4                      31258                             Lincoln Memorial   \n",
       "...                      ...                                          ...   \n",
       "646505                 31404                           9th & Upshur St NW   \n",
       "646506                 31602                      Park Rd & Holmead Pl NW   \n",
       "646507                 31627                                3rd & M St NE   \n",
       "646508                 31213                               17th & K St NW   \n",
       "646509                 31104                  Adams Mill & Columbia Rd NW   \n",
       "\n",
       "        End station number                     End station Bike number  \\\n",
       "0                    31208        M St & New Jersey Ave SE      W00869   \n",
       "1                    31270                   8th & D St NW      W00894   \n",
       "2                    31222       New York Ave & 15th St NW      W21945   \n",
       "3                    31222       New York Ave & 15th St NW      W20012   \n",
       "4                    31270                   8th & D St NW      W22786   \n",
       "...                    ...                             ...         ...   \n",
       "646505               31281                   8th & O St NW      W01307   \n",
       "646506               31400  Georgia & New Hampshire Ave NW      W21760   \n",
       "646507               31614                  11th & H St NE      W20773   \n",
       "646508               31606   Potomac & Pennsylvania Ave SE      W20784   \n",
       "646509               31103            16th & Harvard St NW      W20825   \n",
       "\n",
       "       Member type          state_date            end_date    rank  \n",
       "0           Member 2017-01-01 00:00:41 2017-01-01 00:04:23   170.5  \n",
       "1           Casual 2017-01-01 00:06:53 2017-01-01 00:34:49  4354.0  \n",
       "2           Casual 2017-01-01 00:07:10 2017-01-01 00:29:47  1706.0  \n",
       "3           Casual 2017-01-01 00:07:22 2017-01-01 00:29:30  1659.0  \n",
       "4           Casual 2017-01-01 00:07:36 2017-01-01 00:34:52  4207.0  \n",
       "...            ...                 ...                 ...     ...  \n",
       "646505      Member 2017-03-31 23:57:10 2017-04-01 00:08:37   554.5  \n",
       "646506      Member 2017-03-31 23:57:55 2017-04-01 00:02:13   405.0  \n",
       "646507      Member 2017-03-31 23:58:34 2017-04-01 00:05:38  1354.5  \n",
       "646508      Member 2017-03-31 23:59:33 2017-04-01 00:17:02  3478.5  \n",
       "646509      Member 2017-03-31 23:59:43 2017-04-01 00:03:26   887.5  \n",
       "\n",
       "[646510 rows x 12 columns]"
      ]
     },
     "execution_count": 285,
     "metadata": {},
     "output_type": "execute_result"
    }
   ],
   "source": [
    "bike."
   ]
  },
  {
   "cell_type": "code",
   "execution_count": 297,
   "metadata": {},
   "outputs": [],
   "source": [
    "hmm = bike.groupby('Start station')['Duration'].nlargest(5).reset_index().drop(columns=[\"level_1\"])"
   ]
  },
  {
   "cell_type": "code",
   "execution_count": 301,
   "metadata": {},
   "outputs": [
    {
     "data": {
      "text/html": [
       "<div>\n",
       "<style scoped>\n",
       "    .dataframe tbody tr th:only-of-type {\n",
       "        vertical-align: middle;\n",
       "    }\n",
       "\n",
       "    .dataframe tbody tr th {\n",
       "        vertical-align: top;\n",
       "    }\n",
       "\n",
       "    .dataframe thead th {\n",
       "        text-align: right;\n",
       "    }\n",
       "</style>\n",
       "<table border=\"1\" class=\"dataframe\">\n",
       "  <thead>\n",
       "    <tr style=\"text-align: right;\">\n",
       "      <th></th>\n",
       "      <th>Duration_x</th>\n",
       "      <th>Start date</th>\n",
       "      <th>End date</th>\n",
       "      <th>Start station number</th>\n",
       "      <th>Start station</th>\n",
       "      <th>End station number</th>\n",
       "      <th>End station</th>\n",
       "      <th>Bike number</th>\n",
       "      <th>Member type</th>\n",
       "      <th>state_date</th>\n",
       "      <th>end_date</th>\n",
       "      <th>rank</th>\n",
       "      <th>Duration_y</th>\n",
       "    </tr>\n",
       "  </thead>\n",
       "  <tbody>\n",
       "    <tr>\n",
       "      <th>0</th>\n",
       "      <td>221</td>\n",
       "      <td>2017-01-01 00:00:41</td>\n",
       "      <td>2017-01-01 00:04:23</td>\n",
       "      <td>31634</td>\n",
       "      <td>3rd &amp; Tingey St SE</td>\n",
       "      <td>31208</td>\n",
       "      <td>M St &amp; New Jersey Ave SE</td>\n",
       "      <td>W00869</td>\n",
       "      <td>Member</td>\n",
       "      <td>2017-01-01 00:00:41</td>\n",
       "      <td>2017-01-01 00:04:23</td>\n",
       "      <td>170.5</td>\n",
       "      <td>32630</td>\n",
       "    </tr>\n",
       "    <tr>\n",
       "      <th>1</th>\n",
       "      <td>221</td>\n",
       "      <td>2017-01-01 00:00:41</td>\n",
       "      <td>2017-01-01 00:04:23</td>\n",
       "      <td>31634</td>\n",
       "      <td>3rd &amp; Tingey St SE</td>\n",
       "      <td>31208</td>\n",
       "      <td>M St &amp; New Jersey Ave SE</td>\n",
       "      <td>W00869</td>\n",
       "      <td>Member</td>\n",
       "      <td>2017-01-01 00:00:41</td>\n",
       "      <td>2017-01-01 00:04:23</td>\n",
       "      <td>170.5</td>\n",
       "      <td>13360</td>\n",
       "    </tr>\n",
       "    <tr>\n",
       "      <th>2</th>\n",
       "      <td>221</td>\n",
       "      <td>2017-01-01 00:00:41</td>\n",
       "      <td>2017-01-01 00:04:23</td>\n",
       "      <td>31634</td>\n",
       "      <td>3rd &amp; Tingey St SE</td>\n",
       "      <td>31208</td>\n",
       "      <td>M St &amp; New Jersey Ave SE</td>\n",
       "      <td>W00869</td>\n",
       "      <td>Member</td>\n",
       "      <td>2017-01-01 00:00:41</td>\n",
       "      <td>2017-01-01 00:04:23</td>\n",
       "      <td>170.5</td>\n",
       "      <td>13301</td>\n",
       "    </tr>\n",
       "    <tr>\n",
       "      <th>3</th>\n",
       "      <td>221</td>\n",
       "      <td>2017-01-01 00:00:41</td>\n",
       "      <td>2017-01-01 00:04:23</td>\n",
       "      <td>31634</td>\n",
       "      <td>3rd &amp; Tingey St SE</td>\n",
       "      <td>31208</td>\n",
       "      <td>M St &amp; New Jersey Ave SE</td>\n",
       "      <td>W00869</td>\n",
       "      <td>Member</td>\n",
       "      <td>2017-01-01 00:00:41</td>\n",
       "      <td>2017-01-01 00:04:23</td>\n",
       "      <td>170.5</td>\n",
       "      <td>11764</td>\n",
       "    </tr>\n",
       "    <tr>\n",
       "      <th>4</th>\n",
       "      <td>221</td>\n",
       "      <td>2017-01-01 00:00:41</td>\n",
       "      <td>2017-01-01 00:04:23</td>\n",
       "      <td>31634</td>\n",
       "      <td>3rd &amp; Tingey St SE</td>\n",
       "      <td>31208</td>\n",
       "      <td>M St &amp; New Jersey Ave SE</td>\n",
       "      <td>W00869</td>\n",
       "      <td>Member</td>\n",
       "      <td>2017-01-01 00:00:41</td>\n",
       "      <td>2017-01-01 00:04:23</td>\n",
       "      <td>170.5</td>\n",
       "      <td>10758</td>\n",
       "    </tr>\n",
       "    <tr>\n",
       "      <th>...</th>\n",
       "      <td>...</td>\n",
       "      <td>...</td>\n",
       "      <td>...</td>\n",
       "      <td>...</td>\n",
       "      <td>...</td>\n",
       "      <td>...</td>\n",
       "      <td>...</td>\n",
       "      <td>...</td>\n",
       "      <td>...</td>\n",
       "      <td>...</td>\n",
       "      <td>...</td>\n",
       "      <td>...</td>\n",
       "      <td>...</td>\n",
       "    </tr>\n",
       "    <tr>\n",
       "      <th>3232527</th>\n",
       "      <td>223</td>\n",
       "      <td>2017-03-31 23:59:43</td>\n",
       "      <td>2017-04-01 00:03:26</td>\n",
       "      <td>31104</td>\n",
       "      <td>Adams Mill &amp; Columbia Rd NW</td>\n",
       "      <td>31103</td>\n",
       "      <td>16th &amp; Harvard St NW</td>\n",
       "      <td>W20825</td>\n",
       "      <td>Member</td>\n",
       "      <td>2017-03-31 23:59:43</td>\n",
       "      <td>2017-04-01 00:03:26</td>\n",
       "      <td>887.5</td>\n",
       "      <td>69626</td>\n",
       "    </tr>\n",
       "    <tr>\n",
       "      <th>3232528</th>\n",
       "      <td>223</td>\n",
       "      <td>2017-03-31 23:59:43</td>\n",
       "      <td>2017-04-01 00:03:26</td>\n",
       "      <td>31104</td>\n",
       "      <td>Adams Mill &amp; Columbia Rd NW</td>\n",
       "      <td>31103</td>\n",
       "      <td>16th &amp; Harvard St NW</td>\n",
       "      <td>W20825</td>\n",
       "      <td>Member</td>\n",
       "      <td>2017-03-31 23:59:43</td>\n",
       "      <td>2017-04-01 00:03:26</td>\n",
       "      <td>887.5</td>\n",
       "      <td>54022</td>\n",
       "    </tr>\n",
       "    <tr>\n",
       "      <th>3232529</th>\n",
       "      <td>223</td>\n",
       "      <td>2017-03-31 23:59:43</td>\n",
       "      <td>2017-04-01 00:03:26</td>\n",
       "      <td>31104</td>\n",
       "      <td>Adams Mill &amp; Columbia Rd NW</td>\n",
       "      <td>31103</td>\n",
       "      <td>16th &amp; Harvard St NW</td>\n",
       "      <td>W20825</td>\n",
       "      <td>Member</td>\n",
       "      <td>2017-03-31 23:59:43</td>\n",
       "      <td>2017-04-01 00:03:26</td>\n",
       "      <td>887.5</td>\n",
       "      <td>53974</td>\n",
       "    </tr>\n",
       "    <tr>\n",
       "      <th>3232530</th>\n",
       "      <td>223</td>\n",
       "      <td>2017-03-31 23:59:43</td>\n",
       "      <td>2017-04-01 00:03:26</td>\n",
       "      <td>31104</td>\n",
       "      <td>Adams Mill &amp; Columbia Rd NW</td>\n",
       "      <td>31103</td>\n",
       "      <td>16th &amp; Harvard St NW</td>\n",
       "      <td>W20825</td>\n",
       "      <td>Member</td>\n",
       "      <td>2017-03-31 23:59:43</td>\n",
       "      <td>2017-04-01 00:03:26</td>\n",
       "      <td>887.5</td>\n",
       "      <td>52448</td>\n",
       "    </tr>\n",
       "    <tr>\n",
       "      <th>3232531</th>\n",
       "      <td>223</td>\n",
       "      <td>2017-03-31 23:59:43</td>\n",
       "      <td>2017-04-01 00:03:26</td>\n",
       "      <td>31104</td>\n",
       "      <td>Adams Mill &amp; Columbia Rd NW</td>\n",
       "      <td>31103</td>\n",
       "      <td>16th &amp; Harvard St NW</td>\n",
       "      <td>W20825</td>\n",
       "      <td>Member</td>\n",
       "      <td>2017-03-31 23:59:43</td>\n",
       "      <td>2017-04-01 00:03:26</td>\n",
       "      <td>887.5</td>\n",
       "      <td>21181</td>\n",
       "    </tr>\n",
       "  </tbody>\n",
       "</table>\n",
       "<p>3232532 rows × 13 columns</p>\n",
       "</div>"
      ],
      "text/plain": [
       "         Duration_x           Start date             End date  \\\n",
       "0               221  2017-01-01 00:00:41  2017-01-01 00:04:23   \n",
       "1               221  2017-01-01 00:00:41  2017-01-01 00:04:23   \n",
       "2               221  2017-01-01 00:00:41  2017-01-01 00:04:23   \n",
       "3               221  2017-01-01 00:00:41  2017-01-01 00:04:23   \n",
       "4               221  2017-01-01 00:00:41  2017-01-01 00:04:23   \n",
       "...             ...                  ...                  ...   \n",
       "3232527         223  2017-03-31 23:59:43  2017-04-01 00:03:26   \n",
       "3232528         223  2017-03-31 23:59:43  2017-04-01 00:03:26   \n",
       "3232529         223  2017-03-31 23:59:43  2017-04-01 00:03:26   \n",
       "3232530         223  2017-03-31 23:59:43  2017-04-01 00:03:26   \n",
       "3232531         223  2017-03-31 23:59:43  2017-04-01 00:03:26   \n",
       "\n",
       "         Start station number                Start station  \\\n",
       "0                       31634           3rd & Tingey St SE   \n",
       "1                       31634           3rd & Tingey St SE   \n",
       "2                       31634           3rd & Tingey St SE   \n",
       "3                       31634           3rd & Tingey St SE   \n",
       "4                       31634           3rd & Tingey St SE   \n",
       "...                       ...                          ...   \n",
       "3232527                 31104  Adams Mill & Columbia Rd NW   \n",
       "3232528                 31104  Adams Mill & Columbia Rd NW   \n",
       "3232529                 31104  Adams Mill & Columbia Rd NW   \n",
       "3232530                 31104  Adams Mill & Columbia Rd NW   \n",
       "3232531                 31104  Adams Mill & Columbia Rd NW   \n",
       "\n",
       "         End station number               End station Bike number Member type  \\\n",
       "0                     31208  M St & New Jersey Ave SE      W00869      Member   \n",
       "1                     31208  M St & New Jersey Ave SE      W00869      Member   \n",
       "2                     31208  M St & New Jersey Ave SE      W00869      Member   \n",
       "3                     31208  M St & New Jersey Ave SE      W00869      Member   \n",
       "4                     31208  M St & New Jersey Ave SE      W00869      Member   \n",
       "...                     ...                       ...         ...         ...   \n",
       "3232527               31103      16th & Harvard St NW      W20825      Member   \n",
       "3232528               31103      16th & Harvard St NW      W20825      Member   \n",
       "3232529               31103      16th & Harvard St NW      W20825      Member   \n",
       "3232530               31103      16th & Harvard St NW      W20825      Member   \n",
       "3232531               31103      16th & Harvard St NW      W20825      Member   \n",
       "\n",
       "                 state_date            end_date   rank  Duration_y  \n",
       "0       2017-01-01 00:00:41 2017-01-01 00:04:23  170.5       32630  \n",
       "1       2017-01-01 00:00:41 2017-01-01 00:04:23  170.5       13360  \n",
       "2       2017-01-01 00:00:41 2017-01-01 00:04:23  170.5       13301  \n",
       "3       2017-01-01 00:00:41 2017-01-01 00:04:23  170.5       11764  \n",
       "4       2017-01-01 00:00:41 2017-01-01 00:04:23  170.5       10758  \n",
       "...                     ...                 ...    ...         ...  \n",
       "3232527 2017-03-31 23:59:43 2017-04-01 00:03:26  887.5       69626  \n",
       "3232528 2017-03-31 23:59:43 2017-04-01 00:03:26  887.5       54022  \n",
       "3232529 2017-03-31 23:59:43 2017-04-01 00:03:26  887.5       53974  \n",
       "3232530 2017-03-31 23:59:43 2017-04-01 00:03:26  887.5       52448  \n",
       "3232531 2017-03-31 23:59:43 2017-04-01 00:03:26  887.5       21181  \n",
       "\n",
       "[3232532 rows x 13 columns]"
      ]
     },
     "execution_count": 301,
     "metadata": {},
     "output_type": "execute_result"
    }
   ],
   "source": [
    "bike.merge(hmm,on=['Start station'],how='left')"
   ]
  },
  {
   "cell_type": "code",
   "execution_count": 298,
   "metadata": {},
   "outputs": [
    {
     "data": {
      "text/html": [
       "<div>\n",
       "<style scoped>\n",
       "    .dataframe tbody tr th:only-of-type {\n",
       "        vertical-align: middle;\n",
       "    }\n",
       "\n",
       "    .dataframe tbody tr th {\n",
       "        vertical-align: top;\n",
       "    }\n",
       "\n",
       "    .dataframe thead th {\n",
       "        text-align: right;\n",
       "    }\n",
       "</style>\n",
       "<table border=\"1\" class=\"dataframe\">\n",
       "  <thead>\n",
       "    <tr style=\"text-align: right;\">\n",
       "      <th></th>\n",
       "      <th>Duration</th>\n",
       "      <th>Start date</th>\n",
       "      <th>End date</th>\n",
       "      <th>Start station number</th>\n",
       "      <th>Start station</th>\n",
       "      <th>End station number</th>\n",
       "      <th>End station</th>\n",
       "      <th>Bike number</th>\n",
       "      <th>Member type</th>\n",
       "      <th>state_date</th>\n",
       "      <th>end_date</th>\n",
       "      <th>rank</th>\n",
       "    </tr>\n",
       "  </thead>\n",
       "  <tbody>\n",
       "    <tr>\n",
       "      <th>0</th>\n",
       "      <td>221</td>\n",
       "      <td>2017-01-01 00:00:41</td>\n",
       "      <td>2017-01-01 00:04:23</td>\n",
       "      <td>31634</td>\n",
       "      <td>3rd &amp; Tingey St SE</td>\n",
       "      <td>31208</td>\n",
       "      <td>M St &amp; New Jersey Ave SE</td>\n",
       "      <td>W00869</td>\n",
       "      <td>Member</td>\n",
       "      <td>2017-01-01 00:00:41</td>\n",
       "      <td>2017-01-01 00:04:23</td>\n",
       "      <td>170.5</td>\n",
       "    </tr>\n",
       "    <tr>\n",
       "      <th>1</th>\n",
       "      <td>1676</td>\n",
       "      <td>2017-01-01 00:06:53</td>\n",
       "      <td>2017-01-01 00:34:49</td>\n",
       "      <td>31258</td>\n",
       "      <td>Lincoln Memorial</td>\n",
       "      <td>31270</td>\n",
       "      <td>8th &amp; D St NW</td>\n",
       "      <td>W00894</td>\n",
       "      <td>Casual</td>\n",
       "      <td>2017-01-01 00:06:53</td>\n",
       "      <td>2017-01-01 00:34:49</td>\n",
       "      <td>4354.0</td>\n",
       "    </tr>\n",
       "    <tr>\n",
       "      <th>2</th>\n",
       "      <td>1356</td>\n",
       "      <td>2017-01-01 00:07:10</td>\n",
       "      <td>2017-01-01 00:29:47</td>\n",
       "      <td>31289</td>\n",
       "      <td>Henry Bacon Dr &amp; Lincoln Memorial Circle NW</td>\n",
       "      <td>31222</td>\n",
       "      <td>New York Ave &amp; 15th St NW</td>\n",
       "      <td>W21945</td>\n",
       "      <td>Casual</td>\n",
       "      <td>2017-01-01 00:07:10</td>\n",
       "      <td>2017-01-01 00:29:47</td>\n",
       "      <td>1706.0</td>\n",
       "    </tr>\n",
       "    <tr>\n",
       "      <th>3</th>\n",
       "      <td>1327</td>\n",
       "      <td>2017-01-01 00:07:22</td>\n",
       "      <td>2017-01-01 00:29:30</td>\n",
       "      <td>31289</td>\n",
       "      <td>Henry Bacon Dr &amp; Lincoln Memorial Circle NW</td>\n",
       "      <td>31222</td>\n",
       "      <td>New York Ave &amp; 15th St NW</td>\n",
       "      <td>W20012</td>\n",
       "      <td>Casual</td>\n",
       "      <td>2017-01-01 00:07:22</td>\n",
       "      <td>2017-01-01 00:29:30</td>\n",
       "      <td>1659.0</td>\n",
       "    </tr>\n",
       "    <tr>\n",
       "      <th>4</th>\n",
       "      <td>1636</td>\n",
       "      <td>2017-01-01 00:07:36</td>\n",
       "      <td>2017-01-01 00:34:52</td>\n",
       "      <td>31258</td>\n",
       "      <td>Lincoln Memorial</td>\n",
       "      <td>31270</td>\n",
       "      <td>8th &amp; D St NW</td>\n",
       "      <td>W22786</td>\n",
       "      <td>Casual</td>\n",
       "      <td>2017-01-01 00:07:36</td>\n",
       "      <td>2017-01-01 00:34:52</td>\n",
       "      <td>4207.0</td>\n",
       "    </tr>\n",
       "    <tr>\n",
       "      <th>...</th>\n",
       "      <td>...</td>\n",
       "      <td>...</td>\n",
       "      <td>...</td>\n",
       "      <td>...</td>\n",
       "      <td>...</td>\n",
       "      <td>...</td>\n",
       "      <td>...</td>\n",
       "      <td>...</td>\n",
       "      <td>...</td>\n",
       "      <td>...</td>\n",
       "      <td>...</td>\n",
       "      <td>...</td>\n",
       "    </tr>\n",
       "    <tr>\n",
       "      <th>646505</th>\n",
       "      <td>687</td>\n",
       "      <td>2017-03-31 23:57:10</td>\n",
       "      <td>2017-04-01 00:08:37</td>\n",
       "      <td>31404</td>\n",
       "      <td>9th &amp; Upshur St NW</td>\n",
       "      <td>31281</td>\n",
       "      <td>8th &amp; O St NW</td>\n",
       "      <td>W01307</td>\n",
       "      <td>Member</td>\n",
       "      <td>2017-03-31 23:57:10</td>\n",
       "      <td>2017-04-01 00:08:37</td>\n",
       "      <td>554.5</td>\n",
       "    </tr>\n",
       "    <tr>\n",
       "      <th>646506</th>\n",
       "      <td>257</td>\n",
       "      <td>2017-03-31 23:57:55</td>\n",
       "      <td>2017-04-01 00:02:13</td>\n",
       "      <td>31602</td>\n",
       "      <td>Park Rd &amp; Holmead Pl NW</td>\n",
       "      <td>31400</td>\n",
       "      <td>Georgia &amp; New Hampshire Ave NW</td>\n",
       "      <td>W21760</td>\n",
       "      <td>Member</td>\n",
       "      <td>2017-03-31 23:57:55</td>\n",
       "      <td>2017-04-01 00:02:13</td>\n",
       "      <td>405.0</td>\n",
       "    </tr>\n",
       "    <tr>\n",
       "      <th>646507</th>\n",
       "      <td>423</td>\n",
       "      <td>2017-03-31 23:58:34</td>\n",
       "      <td>2017-04-01 00:05:38</td>\n",
       "      <td>31627</td>\n",
       "      <td>3rd &amp; M St NE</td>\n",
       "      <td>31614</td>\n",
       "      <td>11th &amp; H St NE</td>\n",
       "      <td>W20773</td>\n",
       "      <td>Member</td>\n",
       "      <td>2017-03-31 23:58:34</td>\n",
       "      <td>2017-04-01 00:05:38</td>\n",
       "      <td>1354.5</td>\n",
       "    </tr>\n",
       "    <tr>\n",
       "      <th>646508</th>\n",
       "      <td>1048</td>\n",
       "      <td>2017-03-31 23:59:33</td>\n",
       "      <td>2017-04-01 00:17:02</td>\n",
       "      <td>31213</td>\n",
       "      <td>17th &amp; K St NW</td>\n",
       "      <td>31606</td>\n",
       "      <td>Potomac &amp; Pennsylvania Ave SE</td>\n",
       "      <td>W20784</td>\n",
       "      <td>Member</td>\n",
       "      <td>2017-03-31 23:59:33</td>\n",
       "      <td>2017-04-01 00:17:02</td>\n",
       "      <td>3478.5</td>\n",
       "    </tr>\n",
       "    <tr>\n",
       "      <th>646509</th>\n",
       "      <td>223</td>\n",
       "      <td>2017-03-31 23:59:43</td>\n",
       "      <td>2017-04-01 00:03:26</td>\n",
       "      <td>31104</td>\n",
       "      <td>Adams Mill &amp; Columbia Rd NW</td>\n",
       "      <td>31103</td>\n",
       "      <td>16th &amp; Harvard St NW</td>\n",
       "      <td>W20825</td>\n",
       "      <td>Member</td>\n",
       "      <td>2017-03-31 23:59:43</td>\n",
       "      <td>2017-04-01 00:03:26</td>\n",
       "      <td>887.5</td>\n",
       "    </tr>\n",
       "  </tbody>\n",
       "</table>\n",
       "<p>646510 rows × 12 columns</p>\n",
       "</div>"
      ],
      "text/plain": [
       "        Duration           Start date             End date  \\\n",
       "0            221  2017-01-01 00:00:41  2017-01-01 00:04:23   \n",
       "1           1676  2017-01-01 00:06:53  2017-01-01 00:34:49   \n",
       "2           1356  2017-01-01 00:07:10  2017-01-01 00:29:47   \n",
       "3           1327  2017-01-01 00:07:22  2017-01-01 00:29:30   \n",
       "4           1636  2017-01-01 00:07:36  2017-01-01 00:34:52   \n",
       "...          ...                  ...                  ...   \n",
       "646505       687  2017-03-31 23:57:10  2017-04-01 00:08:37   \n",
       "646506       257  2017-03-31 23:57:55  2017-04-01 00:02:13   \n",
       "646507       423  2017-03-31 23:58:34  2017-04-01 00:05:38   \n",
       "646508      1048  2017-03-31 23:59:33  2017-04-01 00:17:02   \n",
       "646509       223  2017-03-31 23:59:43  2017-04-01 00:03:26   \n",
       "\n",
       "        Start station number                                Start station  \\\n",
       "0                      31634                           3rd & Tingey St SE   \n",
       "1                      31258                             Lincoln Memorial   \n",
       "2                      31289  Henry Bacon Dr & Lincoln Memorial Circle NW   \n",
       "3                      31289  Henry Bacon Dr & Lincoln Memorial Circle NW   \n",
       "4                      31258                             Lincoln Memorial   \n",
       "...                      ...                                          ...   \n",
       "646505                 31404                           9th & Upshur St NW   \n",
       "646506                 31602                      Park Rd & Holmead Pl NW   \n",
       "646507                 31627                                3rd & M St NE   \n",
       "646508                 31213                               17th & K St NW   \n",
       "646509                 31104                  Adams Mill & Columbia Rd NW   \n",
       "\n",
       "        End station number                     End station Bike number  \\\n",
       "0                    31208        M St & New Jersey Ave SE      W00869   \n",
       "1                    31270                   8th & D St NW      W00894   \n",
       "2                    31222       New York Ave & 15th St NW      W21945   \n",
       "3                    31222       New York Ave & 15th St NW      W20012   \n",
       "4                    31270                   8th & D St NW      W22786   \n",
       "...                    ...                             ...         ...   \n",
       "646505               31281                   8th & O St NW      W01307   \n",
       "646506               31400  Georgia & New Hampshire Ave NW      W21760   \n",
       "646507               31614                  11th & H St NE      W20773   \n",
       "646508               31606   Potomac & Pennsylvania Ave SE      W20784   \n",
       "646509               31103            16th & Harvard St NW      W20825   \n",
       "\n",
       "       Member type          state_date            end_date    rank  \n",
       "0           Member 2017-01-01 00:00:41 2017-01-01 00:04:23   170.5  \n",
       "1           Casual 2017-01-01 00:06:53 2017-01-01 00:34:49  4354.0  \n",
       "2           Casual 2017-01-01 00:07:10 2017-01-01 00:29:47  1706.0  \n",
       "3           Casual 2017-01-01 00:07:22 2017-01-01 00:29:30  1659.0  \n",
       "4           Casual 2017-01-01 00:07:36 2017-01-01 00:34:52  4207.0  \n",
       "...            ...                 ...                 ...     ...  \n",
       "646505      Member 2017-03-31 23:57:10 2017-04-01 00:08:37   554.5  \n",
       "646506      Member 2017-03-31 23:57:55 2017-04-01 00:02:13   405.0  \n",
       "646507      Member 2017-03-31 23:58:34 2017-04-01 00:05:38  1354.5  \n",
       "646508      Member 2017-03-31 23:59:33 2017-04-01 00:17:02  3478.5  \n",
       "646509      Member 2017-03-31 23:59:43 2017-04-01 00:03:26   887.5  \n",
       "\n",
       "[646510 rows x 12 columns]"
      ]
     },
     "execution_count": 298,
     "metadata": {},
     "output_type": "execute_result"
    }
   ],
   "source": [
    "bike"
   ]
  },
  {
   "cell_type": "code",
   "execution_count": 317,
   "metadata": {},
   "outputs": [],
   "source": [
    "weight = np.eye(4)"
   ]
  },
  {
   "cell_type": "code",
   "execution_count": 315,
   "metadata": {},
   "outputs": [
    {
     "data": {
      "text/plain": [
       "array([[1., 0., 0.],\n",
       "       [0., 1., 0.],\n",
       "       [0., 0., 1.]])"
      ]
     },
     "execution_count": 315,
     "metadata": {},
     "output_type": "execute_result"
    }
   ],
   "source": [
    "weight"
   ]
  },
  {
   "cell_type": "code",
   "execution_count": 302,
   "metadata": {},
   "outputs": [
    {
     "data": {
      "text/plain": [
       "array([[0.4191041 , 0.0737923 , 0.33286573],\n",
       "       [0.98857013, 0.30873436, 0.95337324],\n",
       "       [0.3779926 , 0.65072216, 0.1219665 ],\n",
       "       [0.9643742 , 0.36324441, 0.07286937]])"
      ]
     },
     "execution_count": 302,
     "metadata": {},
     "output_type": "execute_result"
    }
   ],
   "source": [
    "dat"
   ]
  },
  {
   "cell_type": "code",
   "execution_count": 318,
   "metadata": {},
   "outputs": [
    {
     "data": {
      "text/plain": [
       "array([[0.4191041 , 0.0737923 , 0.33286573],\n",
       "       [0.98857013, 0.30873436, 0.95337324],\n",
       "       [0.3779926 , 0.65072216, 0.1219665 ],\n",
       "       [0.9643742 , 0.36324441, 0.07286937]])"
      ]
     },
     "execution_count": 318,
     "metadata": {},
     "output_type": "execute_result"
    }
   ],
   "source": [
    "weight.T.dot(dat)"
   ]
  },
  {
   "cell_type": "code",
   "execution_count": null,
   "metadata": {},
   "outputs": [],
   "source": []
  }
 ],
 "metadata": {
  "kernelspec": {
   "display_name": "Python 3",
   "language": "python",
   "name": "python3"
  },
  "language_info": {
   "codemirror_mode": {
    "name": "ipython",
    "version": 3
   },
   "file_extension": ".py",
   "mimetype": "text/x-python",
   "name": "python",
   "nbconvert_exporter": "python",
   "pygments_lexer": "ipython3",
   "version": "3.8.5"
  }
 },
 "nbformat": 4,
 "nbformat_minor": 5
}
