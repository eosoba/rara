{
 "cells": [
  {
   "cell_type": "code",
   "execution_count": 1,
   "metadata": {},
   "outputs": [],
   "source": [
    "import pandas as pd\n",
    "import numpy as np\n",
    "import matplotlib.pyplot as plt\n",
    "import os\n",
    "from sklearn.feature_extraction.text import CountVectorizer\n",
    "from sklearn.feature_extraction.text import TfidfTransformer\n",
    "from sklearn.model_selection import train_test_split\n",
    "from sklearn.tree import DecisionTreeClassifier\n",
    "from sklearn.linear_model import LogisticRegression\n",
    "from sklearn.ensemble import RandomForestClassifier,GradientBoostingClassifier\n",
    "from sklearn.metrics import confusion_matrix\n",
    "import nltk\n",
    "from collections import Counter\n",
    "import string\n"
   ]
  },
  {
   "cell_type": "markdown",
   "metadata": {},
   "source": [
    "## The date is a collection of wikipedia articles on medical subjects\n",
    "- We are going to look a couple folders\n",
    "- each folder has a collection of texts"
   ]
  },
  {
   "cell_type": "code",
   "execution_count": 2,
   "metadata": {},
   "outputs": [
    {
     "name": "stdout",
     "output_type": "stream",
     "text": [
      "['Ciliospinal_center.txt', 'Brain.txt', 'Serous_demilune.txt', 'Bulbourethral_gland.txt', 'Pharynx.txt', 'Parental_brain.txt', 'Spinal_cord.txt', 'Sex_organ.txt', 'Heart_nanotechnology.txt', 'Gastric_acid.txt', 'Cardiac_plexus.txt', 'Human_brain.txt', 'Sebaceous_gland.txt', 'Nucleus_reuniens.txt', 'Ceruminous_gland.txt', 'Human_leg.txt', 'Large_intestine.txt', 'Alveolar_gland.txt', 'Endocrine_system.txt', 'Thoracic_skeleton.txt', 'Sphincter_of_Oddi.txt', 'Gland.txt', 'Sensory_system.txt', 'Planum_temporale.txt', 'Nidopallium.txt', 'Consciousness_after_death.txt', 'Tubular_fluid.txt', 'Interactive_specialization.txt', 'Vallecula_of_cerebellum.txt', 'Human_musculoskeletal_system.txt', 'Cholecystocyte.txt', 'Brain_injury.txt', 'Venous_hum.txt', 'Liver.txt', 'Excerebration.txt', 'Lateral_ventricles.txt', 'Central_nervous_system.txt', 'Placenta.txt', 'Nervous_system.txt', 'Spleen.txt', 'Anterior_horn.txt', 'Preorbital_gland.txt', 'Gastroduodenal_artery.txt', 'Evolution_of_the_brain.txt', 'Human_body 3.22.44 PM.txt', 'Pig_bladder.txt', 'Human_skin.txt', 'Nucleus_basalis_of_Meynert.txt', 'Granular_layer_(cerebral_cortex).txt', '.DS_Store', 'Sensory_organs_of_gastropods.txt', 'Right_gastric_artery.txt', 'Phonetotopy.txt', 'Supraorbital_gland.txt', 'BRAIN_Initiative.txt', 'Inferior_olivary_nucleus.txt', 'Gastric_mucosa.txt', 'Cystogastrostomy.txt', 'Anterior_lingual_glands.txt', 'Genu_of_the_corpus_callosum.txt', 'Memory_erasure.txt', 'Nephrotome.txt', 'Human_eye.txt', 'Urinary_bladder.txt', 'Anterior_median_fissure_of_the_medulla_oblongata.txt', 'Auditory_cortex.txt', 'Flocculus_(cerebellar).txt', 'Decellularized_homografts.txt', 'Gastric_chief_cell.txt', 'Substantia_innominata.txt', 'Gastric_glands.txt', 'Cleavage_(breasts).txt', 'Calcium_oxalate.txt', 'Shoulder.txt', 'Nasal_glands.txt', 'Anterior_gastric_branches_of_anterior_vagal_trunk.txt', 'Rosenthal_fiber.txt', 'Tegmentum.txt', 'Apocrine_sweat_gland.txt', 'Anal_canal.txt', 'Association_fiber.txt', 'G_cell.txt', 'Nodule_of_vermis.txt', 'Stomach.txt', 'Ovary_(botany).txt', 'Visual_system.txt', 'Pepsin.txt', 'Posterior_horn.txt', 'Renal_branches_of_vagus_nerve.txt', 'Duct_(anatomy).txt', 'Ampullary_cupula.txt', 'Cyphopod.txt', 'Human_mouth.txt', 'Submucosal_glands.txt', 'Axial_skeleton.txt', 'Anteroventral_periventricular_nucleus.txt', 'Artificial_urinary_bladder.txt', 'Hair.txt', 'Human_digestive_system.txt', 'Hydrochloric_acid.txt', 'Branchiostegal_lung.txt', 'Gill.txt', 'Interlobar_duct.txt', 'Modern_studies_on_the_brain.txt', 'Limbic_lobe.txt', 'Penis.txt', 'Cardiac_notch_of_stomach.txt', 'Pylorus.txt', 'Organ_(anatomy).txt', 'Tongue.txt', 'Biventer_lobule.txt', 'Postcentral_gyrus.txt', 'Knee.txt', 'Breast_shell.txt', 'Semicircular_canal.txt', 'Prostate.txt', 'Ovary.txt', 'Thyroid.txt', 'Integument.txt', 'Folium_(brain).txt', 'Left_gastroepiploic_vein.txt', 'Mesonephros.txt', 'The_Teenage_Brain_and_Risk_Taking.txt', 'Visual_prosthesis.txt', 'Mucous_gland.txt', 'Subependymal_zone.txt', 'Parietal_eye.txt', 'Visual_cortex.txt', 'Left_gastric_artery.txt', 'Violet_gland.txt', 'Capsular_contracture.txt', 'Artery_of_Percheron.txt', 'Right_gastric_vein.txt', 'Interbeat_interval.txt', 'Breast.txt', 'Aedeagus.txt', 'Foramen_cecum_(medulla_oblongata).txt', 'Delta_cell.txt', 'Kidney.txt', 'Ampulla_of_Vater.txt', 'Lobulation.txt', 'Lower_respiratory_tract.txt', 'External_granular_layer_(cerebral_cortex).txt', 'Tentorial_incisure.txt', 'Hemipenis.txt', 'Cardiovascular_physiology.txt', 'Ten_percent_of_the_brain_myth.txt', 'Gastric_lymph_nodes.txt', 'PANACREAS.txt', 'Pronephros.txt', 'Segmental_arteries_of_kidney.txt', 'Fish_gill.txt', 'Palatine_glands.txt', 'Sugiura_procedure.txt', 'Tympanum_(anatomy).txt', 'Tongue_disease.txt', 'Rib.txt', 'Larynx.txt', 'Left_gastric_vein.txt', 'Small_intestine.txt', 'Center_for_BrainHealth.txt', 'Grid_cell.txt', 'Joint.txt', 'Modality_effect.txt', 'Cardiac_physiology.txt', 'Neuromodulation.txt', 'Medial_eminence_of_floor_of_fourth_ventricle.txt', 'Orbital_part_of_inferior_frontal_gyrus.txt', 'Nerve_of_Latarjet.txt', 'Mammary_gland.txt', 'Renal_plexus.txt', 'Esophagus.txt', 'Enterochromaffin-like_cell.txt', 'Prothoracic_gland.txt', 'Splanchnology.txt', 'Vertical_occipital_fasciculus.txt', 'List_of_glands_of_the_human_body.txt', 'Organ_of_Bojanus.txt', 'Right_gastroepiploic_artery.txt', 'Hyperintensity.txt', 'Intestine.txt', 'Tissue_(biology).txt', 'Vertebral_column.txt', 'Brain_asymmetry.txt', 'Curvatures_of_the_stomach.txt', 'Retinal_implant.txt', 'Interlobular_duct.txt', 'Tympanal_organ.txt', 'Crista_terminalis.txt', 'Pyloroplasty.txt', 'Ductal_cells.txt', 'Ovipore.txt', 'Areolar_glands.txt', 'Left_gastroepiploic_artery.txt', 'Activity-dependent_plasticity.txt', 'Gastric_pits.txt', 'Rostral_organ.txt', 'Sweat_gland.txt', 'Testicle.txt', 'Male_lactation.txt', 'Coccyx.txt', 'Task-positive_network.txt', 'List_of_terms_of_lung_size_and_activity.txt', 'Liver_support_systems.txt', 'Heart_(symbol).txt', 'Emeran_Mayer.txt', 'Prati_criteria.txt', 'Nipple.txt', 'Heslington_Brain.txt', 'Tuber_of_vermis.txt', 'Cerebral_organoid.txt', 'Nuchal_organ.txt', 'Foveolar_cell.txt', 'Rostrum_of_corpus_callosum.txt', 'Serous_gland.txt', 'Lowa_Khatsa.txt', 'Projection_areas.txt', 'Digestion.txt', 'Right_gastroepiploic_vein.txt', 'Respiratory_system.txt', 'Clavicle.txt', 'Salt_gland.txt', 'Thymus.txt', 'Splanchnic.txt', 'Extrastriate_body_area.txt', 'Roux-en-Y_anastomosis.txt', 'Language_center.txt', 'P3_peptide.txt', 'Scent_gland.txt', 'Lateral_line.txt', 'Posterior_gastric_branches_of_posterior_vagal_trunk.txt', 'Thalamus.txt', 'Outline_of_the_human_brain.txt', 'Orbitofrontal_cortex.txt', 'Fractional_sodium_excretion.txt', 'Calcar_avis.txt', 'Liver_injury.txt', 'Sternum.txt', 'Chordotonal_organ.txt', 'Gastroileal_reflex.txt', 'Synaptic_fatigue.txt', 'Flank_gland.txt', 'Gastrocolic_reflex.txt', 'Folium_vermis.txt', 'Heart.txt', 'Preputial_gland.txt', 'Human_body.txt', 'Genital_trauma.txt', 'Renal_circulation.txt', 'Talairach_coordinates.txt', 'Pacchionian_foramen.txt', 'Visual_word_form_area.txt', 'Swim_bladder.txt', 'Parathyroid_gland.txt', 'Enteroendocrine_cell.txt', 'Ureter.txt', 'Gonopod.txt', 'Premotor_cortex.txt', 'Drosophila_connectome.txt', 'Postrhinal_cortex.txt', 'Human_nose.txt', 'Esophageal_gland.txt', 'Enchanted_loom.txt', 'Paleoneurology.txt', 'Regional_function_of_the_heart.txt', 'Reflex_bradycardia.txt', 'Outline_of_brain_mapping.txt', 'Wilder_Brain_Collection.txt', 'Pancreas.txt', 'Short_gastric_arteries.txt', 'Optic_cup_(anatomical).txt', 'Ear.txt', 'Intermammary_cleft.txt', 'Hip.txt', 'Crista_acustica.txt', 'Cardiovascular_centre.txt', 'Selfish_brain_theory.txt', 'Opiliones_penis.txt', 'Embryonic_and_prenatal_development_of_the_male_reproductive_system_in_humans.txt', 'Gallbladder.txt', 'Suprapedal_gland.txt', 'Spermatophore.txt', 'Gonad.txt', 'Adrenal_gland.txt', 'Anatomy_of_the_human_nose.txt', 'Cloaca.txt', 'Pilifer.txt', 'Wisdom_tooth.txt', 'Splenium.txt', 'Rectum.txt', 'Corpus_allatum.txt', 'Paratenial_nucleus.txt', 'Scrotum.txt', 'Common_bile_duct.txt', 'Lung_receptor.txt', 'Cystic_duct.txt', 'Basilar_papilla.txt', 'Parietal_cell.txt', 'Pituitary_gland.txt', 'Tubular_gland.txt', 'Skin.txt', 'Upper_respiratory_tract.txt', 'Pancreatic_mucinous_cystadenoma.txt', 'Islands_of_Calleja.txt', 'Pineal_gland.txt', 'Operculum_(brain).txt', 'Opisthonephros.txt', 'Neurobiological_origins_of_language.txt', 'Uterus.txt', 'Callosal_sulcus.txt', 'Natalid_organ.txt', 'Bronchus.txt', 'Udder.txt', 'Lung.txt', 'Eye.txt', 'Lactation.txt', 'Hectocotylus.txt', 'Brain_morphometry.txt'] ['Epidermolysis_bullosa.txt', 'Thymoma.txt', 'Dysferlinopathy.txt', 'Cholesteryl_ester_storage_disease.txt', 'EAST_syndrome.txt', 'Congenital_insensitivity_to_pain.txt', 'Gigantiform_cementoma.txt', 'Nesidioblastoma.txt', 'CAMFAK_syndrome.txt', 'Atelosteogenesis,_type_II.txt', 'Carnitine_palmitoyltransferase_I_deficiency.txt', 'Peritoneal_mesothelioma.txt', 'Epidermolysis_bullosa_simplex.txt', 'Primitive_neuroectodermal_tumor.txt', 'Blepharophimosis,_Ptosis,_Epicanthus_Inversus_Syndrome.txt', 'Diphallia.txt', 'Amyotrophic_lateral_sclerosis.txt', 'Congenital_bilateral_perisylvian_syndrome.txt', 'Congenital_disorder_of_glycosylation_type_IIc.txt', 'Cerebroretinal_microangiopathy_with_calcifications_and_cysts.txt', 'Cyclic_vomiting_syndrome.txt', 'ATR-16_syndrome.txt', 'Cornelia_de_Lange_Syndrome.txt', 'Adrenocortical_carcinoma.txt', 'Apert_syndrome.txt', '5-alpha-reductase_deficiency.txt', 'Immunoreactive_trypsinogen.txt', 'Imposex.txt', 'Carpenter_syndrome.txt', '3q29_microdeletion_syndrome.txt', 'Capillary_leak_syndrome.txt', 'Leydig_cell_tumour.txt', 'Trichothiodystrophy.txt', 'Kuru_(disease).txt', 'Ureteral_cancer.txt', 'Adenosine_deaminase_deficiency.txt', 'Congenital_absence_of_the_vas_deferens.txt', 'XY_gonadal_dysgenesis.txt', 'Behr_syndrome.txt', 'Acanthoma.txt', '.DS_Store', 'Dipygus.txt', 'Little_Yellow_Duck_Project.txt', 'Cogan_syndrome.txt', 'Adrenoleukodystrophy.txt', 'Epithelial-myoepithelial_carcinoma_of_the_lung.txt', 'CFTR_inhibitory_factor.txt', 'Autosomal_dominant_hypophosphatemic_rickets.txt', 'Aspartylglucosaminuria.txt', 'Turner_syndrome.txt', 'Compulsory_sterilization.txt', 'Metsovo_Lung.txt', 'Autosomal_recessive_polycystic_kidney_disease.txt', 'Boomerang_dysplasia.txt', 'XX_male_syndrome.txt', 'Clitoromegaly.txt', 'Catamenial_pneumothorax.txt', 'Inborn_errors_of_steroid_metabolism.txt', 'Chorea_acanthocytosis.txt', 'Progressive_vaccinia.txt', 'Lumacaftor.txt', 'Transepithelial_potential_difference.txt', 'Abetalipoproteinemia.txt', 'Diffuse_panbronchiolitis.txt', 'Sacrococcygeal_teratoma.txt', 'Achromatopsia.txt', 'Gonadal_dysgenesis.txt', 'Adenoid_cystic_carcinoma.txt', 'Barakat_syndrome.txt', 'Atypical_teratoid_rhabdoid_tumor.txt', '3C_syndrome.txt', 'Fallopian_tube_cancer.txt', 'Dermatopathia_pigmentosa_reticularis.txt', 'Sertoli_cell_tumour.txt', 'Chronic_eosinophilic_leukemia.txt', 'In_re_Garlock_Sealing_Technologies,_LLC.txt', 'Sealpox.txt', 'Amyoplasia.txt', 'Congenital_stromal_corneal_dystrophy.txt', 'Brunner_syndrome.txt', 'Neuroblastoma.txt', 'Prader_scale.txt', 'Hypopharyngeal_cancer.txt', 'Pheochromocytoma.txt', 'Progestin-induced_virilisation.txt', 'Beta-mannosidosis.txt', 'Adermatoglyphia.txt', 'Congenital_ichthyosiform_erythroderma.txt', 'Donohue_syndrome.txt', 'Polydactyly.txt', 'Supernumerary_nipple.txt', 'Adiposis_dolorosa.txt', 'Antithrombin_III_deficiency.txt', 'Fairchild_v_Glenhaven_Funeral_Services_Ltd.txt', 'Mast_cell_leukemia.txt', 'Malignant_acrospiroma.txt', 'Apparent_mineralocorticoid_excess_syndrome.txt', 'Cryopyrin-associated_periodic_syndrome.txt', 'Uterus_didelphys.txt', 'Polymelia.txt', 'Mild_androgen_insensitivity_syndrome.txt', 'Acanthamoeba_keratitis.txt', '2-Hydroxyglutaric_aciduria.txt', 'Cerebrotendineous_xanthomatosis.txt', 'Acromicric_dysplasia.txt', 'Restrictive_dermopathy.txt', 'List_of_cystic_fibrosis_organizations.txt', 'Aphallia.txt', 'Fabry_disease.txt', 'Adamantinoma.txt', 'Myelofibrosis.txt', 'Mature_teratoma.txt', 'Germinoma.txt', 'Adenosine_monophosphate_deaminase_deficiency_type_1.txt', 'Dyskeratosis_congenita.txt', 'Cerebral_salt-wasting_syndrome.txt', 'Cutis_marmorata_telangiectatica_congenita.txt', 'Urethral_cancer.txt', 'Partial_androgen_insensitivity_syndrome.txt', 'Choroid_plexus_tumor.txt', 'De_Barsy_syndrome.txt', 'Carcinosarcoma.txt', 'Canavan_disease.txt', 'Mesothelioma.txt', 'Caudal_regression_syndrome.txt', '8p23.1_duplication_syndrome.txt', 'Familial_male-limited_precocious_puberty.txt', 'Fibrolamellar_hepatocellular_carcinoma.txt', 'Danon_disease.txt', 'Acrofrontofacionasal_dysostosis.txt', 'Histoplasmosis.txt', '48,_XXXX.txt', 'Acheiropodia.txt', 'Alagille_syndrome.txt', 'Accessory_breast.txt', 'Epithelial-myoepithelial_carcinoma.txt', 'Androgen-induced_hermaphroditism.txt', 'Minimally_invasive_adenocarcinoma_of_the_lung.txt', 'Werner_syndrome.txt', 'Ablepharon_macrostomia_syndrome.txt', 'Congenital_adrenal_hyperplasia.txt', 'Polycephaly.txt', 'Bare_lymphocyte_syndrome_2.txt', 'Androgen_insensitivity_syndrome.txt', 'Non-Klinefelter_XXY.txt', 'Carnitine-acylcarnitine_translocase_deficiency.txt', 'Ameloblastic_carcinoma.txt', 'Bloom_syndrome.txt', 'Biliary_atresia.txt', 'Endocardial_fibroelastosis.txt', 'Dahlberg_Borer_Newcomer_syndrome.txt', 'Birdshot_chorioretinopathy.txt', 'Ectopia_cordis.txt', 'Dubowitz_syndrome.txt', 'Clostridium_sordellii.txt', 'Thymic_carcinoma.txt', 'Endocrine_oncology.txt', 'Esthesioneuroblastoma.txt', 'Aquagenic_urticaria.txt', 'Febrile_neutrophilic_dermatosis.txt', 'Dermatofibrosarcoma_protuberans.txt', 'Canadian_Organization_for_Rare_Disorders.txt', 'Ependymoma.txt', 'Acrodysostosis.txt', 'Congenital_chloride_diarrhea.txt', 'Cloacal_exstrophy.txt', 'Cystic_fibrosis.txt', 'Auto-brewery_syndrome.txt', 'Alpha-mannosidosis.txt', 'FACES_syndrome.txt', 'Diplopodia.txt', 'Ataluren.txt', 'Klinefelter_syndrome.txt', 'Orchidometer.txt', 'Hemangiosarcoma.txt', 'Epidermolytic_hyperkeratosis.txt', 'Chromosome_5q_deletion_syndrome.txt', 'Salivary_gland_neoplasm.txt', 'Scarlet_fever.txt', 'Somatostatinoma.txt', 'Familial_isolated_vitamin_E_deficiency.txt', 'Eiken_syndrome.txt', 'Angelman_syndrome.txt', 'Absent_adrenal_gland.txt', 'Farber_disease.txt', 'Polysyndactyly.txt', 'Hyalinizing_clear_cell_carcinoma.txt', 'Vaginal_septum.txt', 'Craniopagus_parasiticus.txt', 'Alien_hand_syndrome.txt', 'Adipsia.txt', 'Caroli_disease.txt', 'Daentl_Townsend_Siegel_syndrome.txt', 'Aposthia.txt', 'Supernumerary_kidney.txt', 'AIDS_dysmorphic_syndrome.txt', 'Sarcoma_botryoides.txt', 'Mucormycosis.txt', 'Congenital_disorder.txt', 'Argininosuccinic_aciduria.txt', 'Abdominal_epilepsy.txt', 'Sinonasal_undifferentiated_carcinoma.txt', 'Disorders_of_sex_development.txt', 'Alexander_disease.txt', 'Carnosinemia.txt', '49,_XXXXX.txt', 'Currarino_syndrome.txt', 'Teratoma.txt', 'Aromatase_excess_syndrome.txt', 'Fibrosing_colonopathy.txt', 'List_of_people_diagnosed_with_cystic_fibrosis.txt', 'Autosomal_dominant_polycystic_kidney_disease.txt', 'Desmoplastic_small-round-cell_tumor.txt', 'Aromatase_deficiency.txt', 'Supernumerary_body_part.txt', 'Follicular_dendritic_cell_sarcoma.txt', 'Corticobasal_degeneration.txt', 'Atransferrinemia.txt', 'Copenhagen_disease.txt', 'Citrullinemia_type_I.txt', 'Diabetes_insipidus.txt', 'Chronic_neutrophilic_leukemia.txt', 'Cri_du_chat.txt', 'Arterial_tortuosity_syndrome.txt', 'Male_breast_cancer.txt', 'Clear-cell_sarcoma_of_the_kidney.txt', 'Clear-cell_adenocarcinoma_of_the_vagina.txt', 'Micropenis.txt', 'Chondrosarcoma.txt', 'Cooks_syndrome.txt', 'ABCD_syndrome.txt', 'Hyperdontia.txt', 'Bladder_exstrophy.txt', 'Endodermal_sinus_tumor.txt', 'Degos_disease.txt', 'Dysfibrinogenemia.txt', 'Dravet_syndrome.txt', 'Beta-ketothiolase_deficiency.txt', 'Facial_Onset_Sensory_Motor_Neuropathy_syndrome.txt', 'Cystic_fibrosis_transmembrane_conductance_regulator.txt', 'Cystic_fibrosis-related_diabetes.txt', 'Hepatosplenic_T-cell_lymphoma.txt', 'Cyclopia.txt', 'Merkel-cell_carcinoma.txt', 'Genital_reconstructive_surgery.txt', 'Cholangiocarcinoma.txt', 'Fatal_familial_insomnia.txt', 'Angiosarcoma.txt', 'Plasma_cell_leukemia.txt', 'Edwards_syndrome.txt', 'Acromesomelic_dysplasia.txt', 'Gliosarcoma.txt', 'Preimplantation_genetic_diagnosis.txt', 'Leydig_cell_hypoplasia.txt', 'Congenital_adrenal_hyperplasia_due_to_3_beta-hydroxysteroid_dehydrogenase_deficiency.txt', 'CLOVES_syndrome.txt', 'Craniodiaphyseal_dysplasia.txt', 'Epithelioid_hemangioendothelioma.txt', 'Adenocarcinoma_in_situ_of_the_lung.txt', 'History_of_intersex_surgery.txt', 'Rare_disease.txt', 'Uterine_serous_carcinoma.txt', 'Arrhinia.txt', 'Atypical_trigeminal_neuralgia.txt', 'Cervical_rib.txt', 'Lipoid_congenital_adrenal_hyperplasia.txt', 'Heart_cancer.txt', 'Gonochorism.txt', 'Cockayne_syndrome.txt', 'Isolated_17,20-lyase_deficiency.txt', 'VIPoma.txt', 'Benign_symmetric_lipomatosis.txt', 'Alopecia_universalis.txt', 'Alveolar_capillary_dysplasia.txt', 'Congenital_lactic_acidosis.txt', 'Progeria.txt', 'True_hermaphroditism.txt', 'Asplenia_with_cardiovascular_anomalies.txt', 'Cleidocranial_dysostosis.txt', 'Adducted_thumb_syndrome.txt', '13q_deletion_syndrome.txt', 'Penile_cancer.txt', 'Acute_eosinophilic_pneumonia.txt', 'Facioscapulohumeral_muscular_dystrophy.txt', 'Supernumerary_phantom_limb.txt', 'Kidney_cancer.txt', '65_Redroses.txt', 'Blue_diaper_syndrome.txt', 'NUT_midline_carcinoma.txt', 'Splenic_lymphoma_with_villous_lymphocytes.txt', 'Batten_disease.txt', 'Granulosa_cell_tumour.txt', 'Confluent_and_reticulated_papillomatosis.txt', 'Dorothy_Hansine_Andersen.txt', 'Pseudohermaphroditism.txt', 'EEM_syndrome.txt', 'Juxtaglomerular_cell_tumor.txt', 'Rat-bite_fever.txt', 'Complete_androgen_insensitivity_syndrome.txt', 'Hypospadias.txt', 'Acrocallosal_syndrome.txt', 'Collecting_duct_carcinoma.txt', '17-beta-hydroxysteroid_dehydrogenase_deficiency.txt', 'Benedikt_syndrome.txt', 'Autoimmune_polyendocrine_syndrome.txt', 'Pleuropulmonary_blastoma.txt', 'Cowden_syndrome.txt', 'Aggressive_NK-cell_leukemia.txt', 'Crouzon_syndrome.txt', 'Antisynthetase_syndrome.txt', 'Polyorchidism.txt', 'Pelvic_digit.txt', 'Wassel_classification.txt', 'Reninoma.txt', 'Xeroderma_pigmentosum.txt', 'Malignant_rhabdoid_tumour.txt', 'Hermaphrodite.txt', 'Ovotestis.txt', 'Crome_syndrome.txt', 'Distal_intestinal_obstruction_syndrome.txt', 'Arthrogryposis.txt', 'Leiomyosarcoma.txt', 'Aldolase_A_deficiency.txt', 'Adenylosuccinate_lyase_deficiency.txt', 'Tetra-amelia_syndrome.txt', 'Fetus_in_fetu.txt', 'Enterolith.txt', 'Autosomal_dominant_porencephaly_type_I.txt', 'AREDYLD_syndrome.txt', 'Parechovirus_B.txt', 'Mesothelioma_Applied_Research_Foundation.txt', 'Alveolar_soft_part_sarcoma.txt', 'Epidermodysplasia_verruciformis.txt', 'Ectrodactyly.txt', 'Congenital_insensitivity_to_pain_with_anhidrosis.txt', 'Ivacaftor.txt', 'Ganglioglioma.txt', 'Conjoined_twins.txt']\n"
     ]
    }
   ],
   "source": [
    "organ = os.listdir(\"wikipedia_project/Organs_(anatomy)/\")\n",
    "rare = os.listdir(\"wikipedia_project/Rare_diseases/\")\n",
    "print(organ,rare)"
   ]
  },
  {
   "cell_type": "markdown",
   "metadata": {},
   "source": [
    "## Look at the one file in anatomy"
   ]
  },
  {
   "cell_type": "code",
   "execution_count": 4,
   "metadata": {},
   "outputs": [
    {
     "data": {
      "text/plain": [
       "['The ciliospinal center (in Latin: centrum ciliospinale) is a structure which receives input from the pretectum, and has output to the superior cervical ganglion.\\n',\n",
       " 'It is located in the intermediolateral cell columns of the spinal cord between C8 and T2.\\n',\n",
       " 'It plays a role in the control of the iris dilator muscle. It is also known as \"Budge\\'s center\", or \"centre\".\\n',\n",
       " 'It is associated with a reflex identified by Augustus Volney Waller and Ludwig Julius Budge in 1852.\\n',\n",
       " '\\n',\n",
       " '\\n',\n",
       " '== See alsoEdit ==\\n',\n",
       " \"Horner's syndrome\\n\",\n",
       " '\\n',\n",
       " '\\n']"
      ]
     },
     "execution_count": 4,
     "metadata": {},
     "output_type": "execute_result"
    }
   ],
   "source": [
    "fname = f\"wikipedia_project/Organs_(anatomy)/{organ[0]}\"\n",
    "with open(fname) as f:\n",
    "    text = f.readlines()\n",
    "text[:10]"
   ]
  },
  {
   "cell_type": "code",
   "execution_count": 9,
   "metadata": {},
   "outputs": [],
   "source": [
    "# get all the text files in organ and rare\n",
    "organ_text = [open(\"wikipedia_project/Organs_(anatomy)/\"+f).read() for f in organ if f.endswith('txt')]\n",
    "rare_text = [open(\"wikipedia_project/Rare_diseases/\"+f).read() for f in rare if f.endswith('txt')]"
   ]
  },
  {
   "cell_type": "code",
   "execution_count": 3,
   "metadata": {},
   "outputs": [
    {
     "name": "stderr",
     "output_type": "stream",
     "text": [
      "[nltk_data] Downloading package stopwords to\n",
      "[nltk_data]     /Users/dami.osoba/nltk_data...\n",
      "[nltk_data]   Package stopwords is already up-to-date!\n"
     ]
    }
   ],
   "source": [
    "nltk.download('stopwords') # you need download the stopwords before referencing\n",
    "from nltk.corpus import stopwords"
   ]
  },
  {
   "cell_type": "code",
   "execution_count": 4,
   "metadata": {},
   "outputs": [
    {
     "data": {
      "text/plain": [
       "['i',\n",
       " 'me',\n",
       " 'my',\n",
       " 'myself',\n",
       " 'we',\n",
       " 'our',\n",
       " 'ours',\n",
       " 'ourselves',\n",
       " 'you',\n",
       " \"you're\",\n",
       " \"you've\",\n",
       " \"you'll\",\n",
       " \"you'd\",\n",
       " 'your',\n",
       " 'yours',\n",
       " 'yourself',\n",
       " 'yourselves',\n",
       " 'he',\n",
       " 'him',\n",
       " 'his',\n",
       " 'himself',\n",
       " 'she',\n",
       " \"she's\",\n",
       " 'her',\n",
       " 'hers',\n",
       " 'herself',\n",
       " 'it',\n",
       " \"it's\",\n",
       " 'its',\n",
       " 'itself',\n",
       " 'they',\n",
       " 'them',\n",
       " 'their',\n",
       " 'theirs',\n",
       " 'themselves',\n",
       " 'what',\n",
       " 'which',\n",
       " 'who',\n",
       " 'whom',\n",
       " 'this',\n",
       " 'that',\n",
       " \"that'll\",\n",
       " 'these',\n",
       " 'those',\n",
       " 'am',\n",
       " 'is',\n",
       " 'are',\n",
       " 'was',\n",
       " 'were',\n",
       " 'be',\n",
       " 'been',\n",
       " 'being',\n",
       " 'have',\n",
       " 'has',\n",
       " 'had',\n",
       " 'having',\n",
       " 'do',\n",
       " 'does',\n",
       " 'did',\n",
       " 'doing',\n",
       " 'a',\n",
       " 'an',\n",
       " 'the',\n",
       " 'and',\n",
       " 'but',\n",
       " 'if',\n",
       " 'or',\n",
       " 'because',\n",
       " 'as',\n",
       " 'until',\n",
       " 'while',\n",
       " 'of',\n",
       " 'at',\n",
       " 'by',\n",
       " 'for',\n",
       " 'with',\n",
       " 'about',\n",
       " 'against',\n",
       " 'between',\n",
       " 'into',\n",
       " 'through',\n",
       " 'during',\n",
       " 'before',\n",
       " 'after',\n",
       " 'above',\n",
       " 'below',\n",
       " 'to',\n",
       " 'from',\n",
       " 'up',\n",
       " 'down',\n",
       " 'in',\n",
       " 'out',\n",
       " 'on',\n",
       " 'off',\n",
       " 'over',\n",
       " 'under',\n",
       " 'again',\n",
       " 'further',\n",
       " 'then',\n",
       " 'once',\n",
       " 'here',\n",
       " 'there',\n",
       " 'when',\n",
       " 'where',\n",
       " 'why',\n",
       " 'how',\n",
       " 'all',\n",
       " 'any',\n",
       " 'both',\n",
       " 'each',\n",
       " 'few',\n",
       " 'more',\n",
       " 'most',\n",
       " 'other',\n",
       " 'some',\n",
       " 'such',\n",
       " 'no',\n",
       " 'nor',\n",
       " 'not',\n",
       " 'only',\n",
       " 'own',\n",
       " 'same',\n",
       " 'so',\n",
       " 'than',\n",
       " 'too',\n",
       " 'very',\n",
       " 's',\n",
       " 't',\n",
       " 'can',\n",
       " 'will',\n",
       " 'just',\n",
       " 'don',\n",
       " \"don't\",\n",
       " 'should',\n",
       " \"should've\",\n",
       " 'now',\n",
       " 'd',\n",
       " 'll',\n",
       " 'm',\n",
       " 'o',\n",
       " 're',\n",
       " 've',\n",
       " 'y',\n",
       " 'ain',\n",
       " 'aren',\n",
       " \"aren't\",\n",
       " 'couldn',\n",
       " \"couldn't\",\n",
       " 'didn',\n",
       " \"didn't\",\n",
       " 'doesn',\n",
       " \"doesn't\",\n",
       " 'hadn',\n",
       " \"hadn't\",\n",
       " 'hasn',\n",
       " \"hasn't\",\n",
       " 'haven',\n",
       " \"haven't\",\n",
       " 'isn',\n",
       " \"isn't\",\n",
       " 'ma',\n",
       " 'mightn',\n",
       " \"mightn't\",\n",
       " 'mustn',\n",
       " \"mustn't\",\n",
       " 'needn',\n",
       " \"needn't\",\n",
       " 'shan',\n",
       " \"shan't\",\n",
       " 'shouldn',\n",
       " \"shouldn't\",\n",
       " 'wasn',\n",
       " \"wasn't\",\n",
       " 'weren',\n",
       " \"weren't\",\n",
       " 'won',\n",
       " \"won't\",\n",
       " 'wouldn',\n",
       " \"wouldn't\"]"
      ]
     },
     "execution_count": 4,
     "metadata": {},
     "output_type": "execute_result"
    }
   ],
   "source": [
    "# take a look at the stop words\n",
    "stopwords.words('english')"
   ]
  },
  {
   "cell_type": "markdown",
   "metadata": {},
   "source": [
    "## Unfortunately the nltk stopword list isn't comprehsive enough.\n",
    "- I am augmenting with a list from sklearn"
   ]
  },
  {
   "cell_type": "code",
   "execution_count": 5,
   "metadata": {},
   "outputs": [],
   "source": [
    "#combine stopwords\n",
    "stopwords_ = ['next', 'within', 'yet', 'might', 'found', 'please', 'hereupon', 'most', 'either',\n",
    "              'done', 'eg', 'forty', 'co', 'former', 'hereby', 'beyond', 'four', 'being', 'herself',\n",
    "              'besides', 'thin', 'thru', 'become', 'fire', 'another', 'front', 'wherein', 'herein', 'of', \n",
    "              'which', 're', 'those', 'here', 'top', 'take', 'on', 'me', 'among', 'after', 'same', 'ten',\n",
    "              'mill', 'whom', 'no', 'part', 'thence', 'not', 'see', 'give', 'seems', 'cry', 'cannot', 'be', \n",
    "              'because', 'also', 'are', 'yourselves', 'our', 'detail', 'seem', 'wherever', 'each', 'a', 'some',\n",
    "              'were', 'un', 'empty', 'across', 'namely','a', 'move', 'without', 'bill', 'could', 'sixty', 'anyone', \n",
    "              'in', 'otherwise', 'third', 'ours', 'since', 'out', 'back', 'serious', 'thick', 'itself', 'would', \n",
    "              'often', 'mine', 'however', 'between', 'must', 'latter', 'how', 'their', 'made', 'all', 'nine', \n",
    "              'onto', 'or', 'indeed', 'together', 'whenever', 'had', 'towards', 'yourself', 'more', 'what', \n",
    "              'afterwards', 'its', 'fifteen', 'so', 'via', 'sometimes', 'became', 'nevertheless', 'that', 'off',\n",
    "              'latterly', 'as', 'last', 'hereafter', 'thereupon', 'every', 'many', 'myself', 'during', \n",
    "              'everywhere', 'almost', 'yours', 'too', 'is', 'few', 'de', 'still', 'sometime', 'once', 'two',\n",
    "              'whole', 'others', 'very', 'him', 'except', 'for', 'toward', 'through', 'perhaps', 'describe', \n",
    "              'from', 'con', 'below', 'again', 'behind', 'something', 'against', 'there', 'thereby', 'throughout', \n",
    "              'upon', 'never', 'well', 'into', 'five', 'already', 'whatever', 'was', 'someone', 'show', 'only',\n",
    "              'noone', 'cant', 'neither', 'has', 'other', 'thus', 'whereupon', 'twelve', 'do', 'less', 'any', \n",
    "              'therefore', 'least', 'if', 'where', 'keep', 'such', 'rather', 'hers', 'his', 'you', 'when', 'becoming',\n",
    "              'inc', 'bottom', 'them', 'while', 'one', 'full', 'etc', 'elsewhere', 'due', 'the', 'have', 'although',\n",
    "              'an', 'whence', 'should', 'nor', 'than', 'they', 'alone', 'will', 'whether', 'whereas', 'even', 'first',\n",
    "              'own', 'eleven', 'amount', 'and', 'anything', 'by', 'ltd', 'mostly', 'about', 'hence', 'these', 'with', 'ever','both', \n",
    "              'enough', 'call', 'whereby', 'much', 'themselves', 'three', 'why', 'per', 'anywhere', 'side', 'whither', 'i',\n",
    "              'eight', 'may', 'else', 'amongst', 'nowhere', 'who', 'ie', 'always', 'under', 'several', 'sincere', 'anyway', \n",
    "              'name', 'interest', 'but', 'beforehand', 'fifty', 'get', 'somehow', 'now', 'nothing', 'it', 'fill', 'couldnt', \n",
    "              'at', 'everyone', 'ourselves', 'anyhow', 'further', 'your', 'meanwhile', 'then', 'go', 'though', 'six', 'us', \n",
    "              'therein', 'seemed', 'around', 'hundred', 'seeming', 'amoungst', 'beside', 'find', 'nobody', 'himself', 'we',\n",
    "              'been', 'whoever', 'up', 'hasnt', 'whereafter', 'he', 'she', 'until', 'everything', 'moreover', 'over', 'somewhere', \n",
    "              'above', 'along', 'before', 'twenty', 'formerly', 'becomes', 'to', 'her', 'none', 'whose', 'down', 'put', 'system',\n",
    "              'this', 'can', 'thereafter', 'am', 'my','within','also','into']\n",
    "\n",
    "combined_stop = list(set(stopwords_ +stopwords.words('english')))"
   ]
  },
  {
   "cell_type": "markdown",
   "metadata": {},
   "source": [
    "## Let's look at the most common words in the these two folders\n",
    "- concancenate the individual text files into one giant string\n",
    "- change to lower case\n",
    "- remove punctuation marks\n",
    "- split giant string into a list\n",
    "- remove stopwords"
   ]
  },
  {
   "cell_type": "code",
   "execution_count": 7,
   "metadata": {},
   "outputs": [],
   "source": [
    "\n",
    "def process_text(text):\n",
    "    giant_text = \"\".join([word.lower() for word in text])\n",
    "    text_no_punctuation = giant_text.translate(str.maketrans('', '', string.punctuation))\n",
    "    word_list = [a for a in text_no_punctuation.split() if a not in combined_stop]\n",
    "    return word_list"
   ]
  },
  {
   "cell_type": "code",
   "execution_count": 10,
   "metadata": {},
   "outputs": [],
   "source": [
    "organ_tx = process_text(organ_text)\n",
    "rare_tx = process_text(rare_text)"
   ]
  },
  {
   "cell_type": "code",
   "execution_count": 11,
   "metadata": {},
   "outputs": [
    {
     "data": {
      "image/png": "[encoded data removed]",
      "text/plain": [
       "<Figure size 1440x216 with 1 Axes>"
      ]
     },
     "metadata": {
      "needs_background": "light"
     },
     "output_type": "display_data"
    }
   ],
   "source": [
    "mscm = Counter(organ_tx).most_common(100)\n",
    "top_count = [a[1] for a in mscm]\n",
    "top_words = [a[0] for a in mscm]\n",
    "plt.figure(figsize=(20, 3))\n",
    "plt.bar(top_words,top_count)\n",
    "plt.xticks(rotation=90)\n",
    "plt.title(\"most common words in organ\")\n",
    "plt.show()\n"
   ]
  },
  {
   "cell_type": "code",
   "execution_count": 14,
   "metadata": {},
   "outputs": [
    {
     "data": {
      "image/png": "[encoded data removed]",
      "text/plain": [
       "<Figure size 1440x216 with 1 Axes>"
      ]
     },
     "metadata": {
      "needs_background": "light"
     },
     "output_type": "display_data"
    }
   ],
   "source": [
    "mscm = Counter(rare_tx).most_common(100)\n",
    "top_count = [a[1] for a in mscm]\n",
    "top_words = [a[0] for a in mscm]\n",
    "plt.figure(figsize=(20, 3))\n",
    "plt.bar(top_words,top_count)\n",
    "plt.xticks(rotation=90)\n",
    "plt.title(\"most common words in rare\")\n",
    "plt.show()"
   ]
  },
  {
   "cell_type": "markdown",
   "metadata": {},
   "source": [
    "## Now let's try a classification task\n",
    "- classify each text to the correct folder\n",
    "- first we combine the data for organ and rare together\n",
    "- create a list for labels\n",
    "- use numpy arrays for easy indexing\n"
   ]
  },
  {
   "cell_type": "code",
   "execution_count": 12,
   "metadata": {},
   "outputs": [
    {
     "name": "stdout",
     "output_type": "stream",
     "text": [
      "654\n"
     ]
    }
   ],
   "source": [
    "combined = np.asarray(organ_text + rare_text)\n",
    "labels =  np.asarray(['organ' for i in range(len(organ_text))] + ['rare' for i in range(len(rare_text))])\n",
    "print(len(labels))"
   ]
  },
  {
   "cell_type": "code",
   "execution_count": 13,
   "metadata": {},
   "outputs": [
    {
     "data": {
      "text/plain": [
       "array(['organ', 'organ', 'organ', 'organ', 'organ', 'organ', 'organ',\n",
       "       'organ', 'organ', 'organ', 'organ', 'organ', 'organ', 'organ',\n",
       "       'organ', 'organ', 'organ', 'organ', 'organ', 'organ', 'organ',\n",
       "       'organ', 'organ', 'organ', 'organ', 'organ', 'organ', 'organ',\n",
       "       'organ', 'organ', 'organ', 'organ', 'organ', 'organ', 'organ',\n",
       "       'organ', 'organ', 'organ', 'organ', 'organ', 'organ', 'organ',\n",
       "       'organ', 'organ', 'organ', 'organ', 'organ', 'organ', 'organ',\n",
       "       'organ', 'organ', 'organ', 'organ', 'organ', 'organ', 'organ',\n",
       "       'organ', 'organ', 'organ', 'organ', 'organ', 'organ', 'organ',\n",
       "       'organ', 'organ', 'organ', 'organ', 'organ', 'organ', 'organ',\n",
       "       'organ', 'organ', 'organ', 'organ', 'organ', 'organ', 'organ',\n",
       "       'organ', 'organ', 'organ', 'organ', 'organ', 'organ', 'organ',\n",
       "       'organ', 'organ', 'organ', 'organ', 'organ', 'organ', 'organ',\n",
       "       'organ', 'organ', 'organ', 'organ', 'organ', 'organ', 'organ',\n",
       "       'organ', 'organ', 'organ', 'organ', 'organ', 'organ', 'organ',\n",
       "       'organ', 'organ', 'organ', 'organ', 'organ', 'organ', 'organ',\n",
       "       'organ', 'organ', 'organ', 'organ', 'organ', 'organ', 'organ',\n",
       "       'organ', 'organ', 'organ', 'organ', 'organ', 'organ', 'organ',\n",
       "       'organ', 'organ', 'organ', 'organ', 'organ', 'organ', 'organ',\n",
       "       'organ', 'organ', 'organ', 'organ', 'organ', 'organ', 'organ',\n",
       "       'organ', 'organ', 'organ', 'organ', 'organ', 'organ', 'organ',\n",
       "       'organ', 'organ', 'organ', 'organ', 'organ', 'organ', 'organ',\n",
       "       'organ', 'organ', 'organ', 'organ', 'organ', 'organ', 'organ',\n",
       "       'organ', 'organ', 'organ', 'organ', 'organ', 'organ', 'organ',\n",
       "       'organ', 'organ', 'organ', 'organ', 'organ', 'organ', 'organ',\n",
       "       'organ', 'organ', 'organ', 'organ', 'organ', 'organ', 'organ',\n",
       "       'organ', 'organ', 'organ', 'organ', 'organ', 'organ', 'organ',\n",
       "       'organ', 'organ', 'organ', 'organ', 'organ', 'organ', 'organ',\n",
       "       'organ', 'organ', 'organ', 'organ', 'organ', 'organ', 'organ',\n",
       "       'organ', 'organ', 'organ', 'organ', 'organ', 'organ', 'organ',\n",
       "       'organ', 'organ', 'organ', 'organ', 'organ', 'organ', 'organ',\n",
       "       'organ', 'organ', 'organ', 'organ', 'organ', 'organ', 'organ',\n",
       "       'organ', 'organ', 'organ', 'organ', 'organ', 'organ', 'organ',\n",
       "       'organ', 'organ', 'organ', 'organ', 'organ', 'organ', 'organ',\n",
       "       'organ', 'organ', 'organ', 'organ', 'organ', 'organ', 'organ',\n",
       "       'organ', 'organ', 'organ', 'organ', 'organ', 'organ', 'organ',\n",
       "       'organ', 'organ', 'organ', 'organ', 'organ', 'organ', 'organ',\n",
       "       'organ', 'organ', 'organ', 'organ', 'organ', 'organ', 'organ',\n",
       "       'organ', 'organ', 'organ', 'organ', 'organ', 'organ', 'organ',\n",
       "       'organ', 'organ', 'organ', 'organ', 'organ', 'organ', 'organ',\n",
       "       'organ', 'organ', 'organ', 'organ', 'organ', 'organ', 'organ',\n",
       "       'organ', 'organ', 'organ', 'organ', 'organ', 'organ', 'organ',\n",
       "       'organ', 'organ', 'organ', 'organ', 'organ', 'organ', 'organ',\n",
       "       'organ', 'organ', 'organ', 'organ', 'organ', 'organ', 'organ',\n",
       "       'organ', 'organ', 'organ', 'organ', 'organ', 'organ', 'organ',\n",
       "       'organ', 'organ', 'rare', 'rare', 'rare', 'rare', 'rare', 'rare',\n",
       "       'rare', 'rare', 'rare', 'rare', 'rare', 'rare', 'rare', 'rare',\n",
       "       'rare', 'rare', 'rare', 'rare', 'rare', 'rare', 'rare', 'rare',\n",
       "       'rare', 'rare', 'rare', 'rare', 'rare', 'rare', 'rare', 'rare',\n",
       "       'rare', 'rare', 'rare', 'rare', 'rare', 'rare', 'rare', 'rare',\n",
       "       'rare', 'rare', 'rare', 'rare', 'rare', 'rare', 'rare', 'rare',\n",
       "       'rare', 'rare', 'rare', 'rare', 'rare', 'rare', 'rare', 'rare',\n",
       "       'rare', 'rare', 'rare', 'rare', 'rare', 'rare', 'rare', 'rare',\n",
       "       'rare', 'rare', 'rare', 'rare', 'rare', 'rare', 'rare', 'rare',\n",
       "       'rare', 'rare', 'rare', 'rare', 'rare', 'rare', 'rare', 'rare',\n",
       "       'rare', 'rare', 'rare', 'rare', 'rare', 'rare', 'rare', 'rare',\n",
       "       'rare', 'rare', 'rare', 'rare', 'rare', 'rare', 'rare', 'rare',\n",
       "       'rare', 'rare', 'rare', 'rare', 'rare', 'rare', 'rare', 'rare',\n",
       "       'rare', 'rare', 'rare', 'rare', 'rare', 'rare', 'rare', 'rare',\n",
       "       'rare', 'rare', 'rare', 'rare', 'rare', 'rare', 'rare', 'rare',\n",
       "       'rare', 'rare', 'rare', 'rare', 'rare', 'rare', 'rare', 'rare',\n",
       "       'rare', 'rare', 'rare', 'rare', 'rare', 'rare', 'rare', 'rare',\n",
       "       'rare', 'rare', 'rare', 'rare', 'rare', 'rare', 'rare', 'rare',\n",
       "       'rare', 'rare', 'rare', 'rare', 'rare', 'rare', 'rare', 'rare',\n",
       "       'rare', 'rare', 'rare', 'rare', 'rare', 'rare', 'rare', 'rare',\n",
       "       'rare', 'rare', 'rare', 'rare', 'rare', 'rare', 'rare', 'rare',\n",
       "       'rare', 'rare', 'rare', 'rare', 'rare', 'rare', 'rare', 'rare',\n",
       "       'rare', 'rare', 'rare', 'rare', 'rare', 'rare', 'rare', 'rare',\n",
       "       'rare', 'rare', 'rare', 'rare', 'rare', 'rare', 'rare', 'rare',\n",
       "       'rare', 'rare', 'rare', 'rare', 'rare', 'rare', 'rare', 'rare',\n",
       "       'rare', 'rare', 'rare', 'rare', 'rare', 'rare', 'rare', 'rare',\n",
       "       'rare', 'rare', 'rare', 'rare', 'rare', 'rare', 'rare', 'rare',\n",
       "       'rare', 'rare', 'rare', 'rare', 'rare', 'rare', 'rare', 'rare',\n",
       "       'rare', 'rare', 'rare', 'rare', 'rare', 'rare', 'rare', 'rare',\n",
       "       'rare', 'rare', 'rare', 'rare', 'rare', 'rare', 'rare', 'rare',\n",
       "       'rare', 'rare', 'rare', 'rare', 'rare', 'rare', 'rare', 'rare',\n",
       "       'rare', 'rare', 'rare', 'rare', 'rare', 'rare', 'rare', 'rare',\n",
       "       'rare', 'rare', 'rare', 'rare', 'rare', 'rare', 'rare', 'rare',\n",
       "       'rare', 'rare', 'rare', 'rare', 'rare', 'rare', 'rare', 'rare',\n",
       "       'rare', 'rare', 'rare', 'rare', 'rare', 'rare', 'rare', 'rare',\n",
       "       'rare', 'rare', 'rare', 'rare', 'rare', 'rare', 'rare', 'rare',\n",
       "       'rare', 'rare', 'rare', 'rare', 'rare', 'rare', 'rare', 'rare',\n",
       "       'rare', 'rare', 'rare', 'rare', 'rare', 'rare', 'rare', 'rare',\n",
       "       'rare', 'rare', 'rare', 'rare', 'rare', 'rare', 'rare', 'rare',\n",
       "       'rare', 'rare', 'rare', 'rare', 'rare', 'rare', 'rare', 'rare',\n",
       "       'rare', 'rare', 'rare', 'rare', 'rare', 'rare', 'rare', 'rare',\n",
       "       'rare', 'rare', 'rare', 'rare', 'rare', 'rare', 'rare', 'rare',\n",
       "       'rare', 'rare', 'rare'], dtype='<U5')"
      ]
     },
     "execution_count": 13,
     "metadata": {},
     "output_type": "execute_result"
    }
   ],
   "source": [
    "labels"
   ]
  },
  {
   "cell_type": "markdown",
   "metadata": {},
   "source": [
    "## Notice that all the organs are the top and while rare is at the bottom\n",
    "- It is preferable to shuffle the data"
   ]
  },
  {
   "cell_type": "code",
   "execution_count": 14,
   "metadata": {},
   "outputs": [],
   "source": [
    "index = np.arange(654)\n",
    "np.random.shuffle(index)"
   ]
  },
  {
   "cell_type": "code",
   "execution_count": 33,
   "metadata": {},
   "outputs": [
    {
     "data": {
      "text/plain": [
       "array(['rare', 'organ', 'rare', 'rare', 'rare', 'organ', 'organ', 'rare',\n",
       "       'organ', 'organ', 'rare', 'rare', 'rare', 'organ', 'rare', 'rare',\n",
       "       'rare', 'rare', 'rare', 'rare', 'rare', 'rare', 'rare', 'rare',\n",
       "       'rare', 'rare', 'organ', 'organ', 'rare', 'rare', 'rare', 'organ',\n",
       "       'organ', 'rare', 'organ', 'rare', 'rare', 'rare', 'organ', 'organ',\n",
       "       'organ', 'rare', 'organ', 'organ', 'rare', 'organ', 'rare',\n",
       "       'organ', 'organ', 'organ', 'organ', 'rare', 'rare', 'rare',\n",
       "       'organ', 'rare', 'rare', 'organ', 'organ', 'organ', 'organ',\n",
       "       'rare', 'organ', 'rare', 'organ', 'rare', 'rare', 'organ', 'rare',\n",
       "       'rare', 'organ', 'rare', 'organ', 'rare', 'organ', 'organ',\n",
       "       'organ', 'organ', 'organ', 'rare', 'rare', 'rare', 'rare', 'rare',\n",
       "       'rare', 'rare', 'organ', 'rare', 'organ', 'organ', 'rare', 'rare',\n",
       "       'organ', 'organ', 'organ', 'rare', 'organ', 'organ', 'organ',\n",
       "       'organ', 'organ', 'rare', 'organ', 'rare', 'rare', 'organ',\n",
       "       'organ', 'rare', 'rare', 'rare', 'organ', 'organ', 'organ', 'rare',\n",
       "       'organ', 'rare', 'organ', 'rare', 'rare', 'organ', 'organ',\n",
       "       'organ', 'rare', 'rare', 'organ', 'organ', 'organ', 'organ',\n",
       "       'organ', 'organ', 'rare', 'rare', 'organ', 'organ', 'organ',\n",
       "       'rare', 'rare', 'organ', 'rare', 'rare', 'rare', 'organ', 'organ',\n",
       "       'rare', 'organ', 'organ', 'rare', 'rare', 'organ', 'rare', 'organ',\n",
       "       'rare', 'organ', 'rare', 'organ', 'rare', 'organ', 'organ', 'rare',\n",
       "       'organ', 'rare', 'rare', 'organ', 'rare', 'rare', 'organ', 'organ',\n",
       "       'organ', 'organ', 'organ', 'organ', 'rare', 'organ', 'organ',\n",
       "       'rare', 'rare', 'rare', 'rare', 'rare', 'rare', 'organ', 'rare',\n",
       "       'organ', 'organ', 'organ', 'organ', 'rare', 'rare', 'organ',\n",
       "       'rare', 'organ', 'rare', 'organ', 'rare', 'rare', 'organ', 'rare',\n",
       "       'rare', 'organ', 'organ', 'organ', 'rare', 'organ', 'organ',\n",
       "       'organ', 'organ', 'organ', 'rare', 'organ', 'rare', 'organ',\n",
       "       'rare', 'rare', 'organ', 'rare', 'organ', 'organ', 'organ', 'rare',\n",
       "       'rare', 'rare', 'organ', 'rare', 'organ', 'organ', 'rare', 'rare',\n",
       "       'organ', 'rare', 'organ', 'organ', 'rare', 'rare', 'organ', 'rare',\n",
       "       'organ', 'rare', 'rare', 'organ', 'organ', 'organ', 'rare', 'rare',\n",
       "       'rare', 'rare', 'rare', 'organ', 'organ', 'rare', 'organ', 'organ',\n",
       "       'organ', 'organ', 'organ', 'organ', 'organ', 'rare', 'rare',\n",
       "       'organ', 'rare', 'organ', 'organ', 'rare', 'organ', 'organ',\n",
       "       'organ', 'rare', 'organ', 'rare', 'rare', 'rare', 'rare', 'rare',\n",
       "       'rare', 'rare', 'rare', 'organ', 'rare', 'organ', 'organ', 'rare',\n",
       "       'rare', 'rare', 'rare', 'rare', 'organ', 'rare', 'rare', 'organ',\n",
       "       'rare', 'rare', 'rare', 'rare', 'rare', 'rare', 'rare', 'rare',\n",
       "       'rare', 'organ', 'organ', 'rare', 'rare', 'rare', 'organ', 'rare',\n",
       "       'rare', 'organ', 'rare', 'rare', 'organ', 'organ', 'rare', 'rare',\n",
       "       'rare', 'organ', 'organ', 'rare', 'rare', 'rare', 'rare', 'organ',\n",
       "       'rare', 'organ', 'rare', 'organ', 'organ', 'rare', 'rare', 'organ',\n",
       "       'rare', 'organ', 'rare', 'organ', 'organ', 'rare', 'rare', 'rare',\n",
       "       'rare', 'rare', 'rare', 'organ', 'rare', 'rare', 'rare', 'organ',\n",
       "       'organ', 'rare', 'rare', 'rare', 'rare', 'organ', 'organ', 'organ',\n",
       "       'rare', 'rare', 'rare', 'organ', 'organ', 'organ', 'organ', 'rare',\n",
       "       'rare', 'organ', 'organ', 'rare', 'organ', 'rare', 'rare', 'organ',\n",
       "       'organ', 'rare', 'rare', 'rare', 'rare', 'rare', 'rare', 'rare',\n",
       "       'rare', 'organ', 'rare', 'organ', 'organ', 'organ', 'organ',\n",
       "       'organ', 'organ', 'organ', 'organ', 'rare', 'organ', 'rare',\n",
       "       'rare', 'organ', 'rare', 'rare', 'rare', 'rare', 'rare', 'rare',\n",
       "       'rare', 'organ', 'organ', 'organ', 'rare', 'rare', 'organ',\n",
       "       'organ', 'rare', 'rare', 'rare', 'organ', 'rare', 'rare', 'organ',\n",
       "       'organ', 'organ', 'organ', 'rare', 'rare', 'organ', 'organ',\n",
       "       'organ', 'organ', 'organ', 'organ', 'rare', 'organ', 'organ',\n",
       "       'rare', 'organ', 'rare', 'rare', 'organ', 'rare', 'organ', 'rare',\n",
       "       'organ', 'organ', 'organ', 'organ', 'rare', 'organ', 'organ',\n",
       "       'rare', 'organ', 'rare', 'organ', 'organ', 'rare', 'organ',\n",
       "       'organ', 'organ', 'organ', 'rare', 'organ', 'rare', 'organ',\n",
       "       'rare', 'organ', 'rare', 'organ', 'rare', 'rare', 'rare', 'organ',\n",
       "       'organ', 'rare', 'organ', 'organ', 'organ', 'rare', 'rare',\n",
       "       'organ', 'rare', 'organ', 'rare', 'rare', 'organ', 'organ', 'rare',\n",
       "       'rare', 'organ', 'organ', 'organ', 'rare', 'organ', 'organ',\n",
       "       'rare', 'rare', 'rare', 'rare', 'rare', 'organ', 'rare', 'organ',\n",
       "       'rare', 'rare', 'rare', 'organ', 'rare', 'rare', 'rare', 'organ',\n",
       "       'rare', 'rare', 'organ', 'rare', 'organ', 'organ', 'organ',\n",
       "       'organ', 'organ', 'organ', 'organ', 'rare', 'rare', 'rare', 'rare',\n",
       "       'organ', 'rare', 'organ', 'rare', 'rare', 'rare', 'rare', 'organ',\n",
       "       'organ', 'organ', 'organ', 'rare', 'rare', 'organ', 'rare',\n",
       "       'organ', 'rare', 'organ', 'organ', 'rare', 'rare', 'rare', 'organ',\n",
       "       'organ', 'rare', 'rare', 'organ', 'organ', 'organ', 'rare',\n",
       "       'organ', 'organ', 'rare', 'organ', 'organ', 'rare', 'rare', 'rare',\n",
       "       'rare', 'rare', 'organ', 'organ', 'organ', 'organ', 'rare',\n",
       "       'organ', 'organ', 'rare', 'rare', 'organ', 'rare', 'organ', 'rare',\n",
       "       'organ', 'rare', 'organ', 'organ', 'organ', 'rare', 'organ',\n",
       "       'rare', 'organ', 'organ', 'rare', 'organ', 'rare', 'rare', 'organ',\n",
       "       'organ', 'rare', 'rare', 'rare', 'organ', 'organ', 'rare', 'organ',\n",
       "       'rare', 'organ', 'organ', 'organ', 'rare', 'rare', 'rare', 'rare',\n",
       "       'organ', 'organ', 'rare', 'organ', 'rare', 'rare', 'organ',\n",
       "       'organ', 'organ', 'rare', 'rare', 'rare', 'rare', 'organ', 'rare',\n",
       "       'rare', 'rare', 'rare', 'organ', 'rare', 'organ', 'organ', 'organ',\n",
       "       'rare', 'organ', 'organ', 'rare', 'organ', 'organ', 'organ',\n",
       "       'rare', 'organ', 'rare', 'rare', 'organ', 'organ', 'organ', 'rare',\n",
       "       'organ', 'rare', 'rare', 'organ', 'organ', 'rare', 'rare', 'organ',\n",
       "       'rare', 'rare', 'rare', 'organ', 'rare', 'rare'], dtype='<U5')"
      ]
     },
     "execution_count": 33,
     "metadata": {},
     "output_type": "execute_result"
    }
   ],
   "source": [
    "labels[index]"
   ]
  },
  {
   "cell_type": "code",
   "execution_count": 15,
   "metadata": {},
   "outputs": [],
   "source": [
    "# we can use lists as an index for numpy array\n",
    "shuffled_labels = labels[index]\n",
    "shuffled_data = combined[index]"
   ]
  },
  {
   "cell_type": "code",
   "execution_count": 21,
   "metadata": {},
   "outputs": [
    {
     "data": {
      "text/plain": [
       "654"
      ]
     },
     "execution_count": 21,
     "metadata": {},
     "output_type": "execute_result"
    }
   ],
   "source": [
    "len(shuffled_data)"
   ]
  },
  {
   "cell_type": "code",
   "execution_count": 23,
   "metadata": {},
   "outputs": [
    {
     "data": {
      "text/plain": [
       "'In human neuroanatomy, brain asymmetry can refer to at least two quite distinct findings:\\nNeuroanatomical differences between the left and right sides of the brain\\nLateralized functional differences: lateralization of brain function\\nNeuroanatomical differences themselves exist on different scales, from neuronal densities, to the size of regions such as the planum temporale, toat the largest scalethe torsion or \"wind\" in the human brain, reflected shape of the skull, which reflects a backward (posterior) protrusion of the left occipital bone and a forward (anterior) protrusion of the right frontal bone. In addition to gross size differences, both neurochemical and structural differences have been found between the hemispheres. Asymmetries appear in the spacing of cortical columns, as well as dendritic structure and complexity. Larger cell sizes are also found in layer III of Broca\\'s area.\\nThe human brain has an overall leftward posterior and rightward anterior asymmetry (or brain torque). There are particularly large asymmetries in the frontal, temporal and occipital lobes, which increases in asymmetry in the antero-posterior direction beginning at the central region. Leftward asymmetry can be seen in the Heschl gyrus, parietal operculum, Silvian fissure, left cingulate gyrus, temporo-parietal region and planum temporale. Rightward asymmetry can be seen in the right central sulcus (potentially suggesting increased connectivity between motor and somatosensory cortices in the left side of the brain), lateral ventricle, entorhinal cortex, amygdala and temporo-parieto-occipital area. Sex-dependent brain asymmetries are also common. For example, human male brains are more asymmetrically lateralized than that of females. Gene expression studies done by Hawrylycz and colleagues and Pletikos and colleagues, were not able to detect asymmetry between the hemispheres on the population level.\\n\\n\\n== See alsoEdit ==\\nLeft brain interpreter\\nDual brain theory\\n\\n\\n== ReferencesEdit ==\\n\\n\\n== BibliographyEdit ==\\nArthur W. Toga & Paul M. Thompson (January 2003). \"Mapping Brain Asymmetry\" (PDF). Nature Reviews Neuroscience 4 (1): 3748. doi:10.1038/nrn1009. PMID 12511860. \\nMarko Wilke and Vincent J. Schmithorst (2006). \"A combined bootstrap/histogram analysis approach for computing a lateralization index from neuroimaging data\". NeuroImage 33 (2): 522530. doi:10.1016/j.neuroimage.2006.07.010. PMID 16938470.'"
      ]
     },
     "execution_count": 23,
     "metadata": {},
     "output_type": "execute_result"
    }
   ],
   "source": [
    "shuffled_data[1]"
   ]
  },
  {
   "cell_type": "markdown",
   "metadata": {},
   "source": [
    "## We have tokenize the each text and get counts for each word.\n",
    "- more about the countvectorizer\n",
    "https://scikit-learn.org/stable/modules/generated/sklearn.feature_extraction.text.CountVectorizer.html"
   ]
  },
  {
   "cell_type": "code",
   "execution_count": 24,
   "metadata": {},
   "outputs": [
    {
     "name": "stdout",
     "output_type": "stream",
     "text": [
      "frozenset({'everything', 'from', 'twenty', 'many', 'thru', 'whoever', 'here', 'was', 'those', 'another', 'above', 'could', 'if', 'system', 'besides', 'nowhere', 'nevertheless', 'thereupon', 'already', 'therein', 'four', 'whether', 'him', 'you', 'de', 'amongst', 'ltd', 'so', 'may', 'our', 'among', 'how', 'cannot', 'each', 'and', 'last', 'becomes', 'a', 'though', 'under', 'name', 'after', 'every', 'of', 'too', 'between', 'two', 'their', 'no', 'nothing', 'or', 'seemed', 'call', 'well', 'alone', 'whom', 'when', 'off', 'further', 'do', 're', 'below', 'less', 'go', 'be', 'myself', 'up', 'anyone', 'throughout', 'else', 'against', 'had', 'fifteen', 'in', 'are', 'next', 'this', 'hasnt', 'see', 'whence', 'out', 'whereafter', 'yours', 'through', 'please', 'yourself', 'along', 'whereas', 'for', 'everyone', 'never', 'otherwise', 'being', 'since', 'he', 'whereby', 'such', 'made', 'have', 'move', 'someone', 'my', 'has', 'several', 'what', 'without', 'mill', 'often', 'six', 'there', 'more', 'most', 'we', 'within', 'these', 'once', 'describe', 'whither', 'find', 'whose', 'twelve', 'afterwards', 'across', 'she', 'onto', 'nobody', 'sincere', 'us', 'back', 'namely', 'over', 'an', 'mostly', 'empty', 'few', 'seeming', 'during', 'formerly', 'put', 'wherever', 'now', 'neither', 'about', 'much', 'why', 'eight', 'enough', 'therefore', 'also', 'itself', 'were', 'herself', 'than', 'seems', 'then', 'hereupon', 'via', 'con', 'least', 'anyhow', 'give', 'hereafter', 'must', 'whole', 'interest', 'beside', 'indeed', 'still', 'fire', 'i', 'any', 'due', 'inc', 'cry', 'to', 'everywhere', 'even', 'thick', 'five', 'fill', 'either', 'etc', 'should', 'latterly', 'always', 'into', 'will', 'by', 'that', 'sixty', 'thus', 'toward', 'couldnt', 'get', 'would', 'around', 'as', 'it', 'perhaps', 'take', 'where', 'sometimes', 'they', 'ever', 'own', 'top', 'hers', 'amount', 'towards', 'hereby', 'together', 'other', 'full', 'behind', 'fifty', 'ourselves', 'others', 'almost', 'might', 'ours', 'me', 'himself', 'three', 'nine', 'whatever', 'can', 'side', 'until', 'amoungst', 'yet', 'because', 'beforehand', 'un', 'both', 'thereafter', 'its', 'not', 'anywhere', 'eg', 'thin', 'been', 'all', 'nor', 'front', 'found', 'something', 'rather', 'his', 'her', 'down', 'first', 'the', 'your', 'hence', 'very', 'eleven', 'elsewhere', 'only', 'bill', 'hundred', 'same', 'again', 'beyond', 'anything', 'per', 'done', 'upon', 'latter', 'become', 'however', 'themselves', 'former', 'somehow', 'becoming', 'seem', 'cant', 'one', 'meanwhile', 'ie', 'although', 'except', 'part', 'thence', 'became', 'with', 'before', 'ten', 'sometime', 'show', 'at', 'bottom', 'them', 'whenever', 'anyway', 'keep', 'mine', 'herein', 'moreover', 'which', 'detail', 'noone', 'somewhere', 'some', 'is', 'none', 'serious', 'who', 'yourselves', 'third', 'wherein', 'whereupon', 'forty', 'am', 'on', 'but', 'co', 'while', 'thereby'})\n"
     ]
    }
   ],
   "source": [
    "# stop words to english\n",
    "vectorizer = CountVectorizer(stop_words = \"english\")\n",
    "analyze = vectorizer.build_analyzer()\n",
    "print(vectorizer.get_stop_words())  # copied this list for the combined stopwords earlier\n"
   ]
  },
  {
   "cell_type": "code",
   "execution_count": 25,
   "metadata": {},
   "outputs": [
    {
     "data": {
      "text/plain": [
       "<654x10 sparse matrix of type '<class 'numpy.int64'>'\n",
       "\twith 2317 stored elements in Compressed Sparse Row format>"
      ]
     },
     "execution_count": 25,
     "metadata": {},
     "output_type": "execute_result"
    }
   ],
   "source": [
    "# use top 10 words to build word count matrix\n",
    "vectorizer = CountVectorizer(max_features=10, stop_words=\"english\")\n",
    "count_matrix = vectorizer.fit_transform(shuffled_data)\n",
    "count_matrix\n"
   ]
  },
  {
   "cell_type": "markdown",
   "metadata": {},
   "source": [
    "## The count matrix is sparse matrix\n",
    "- rows correspond to each text\n",
    "- columns correspond to each top word\n",
    "- sparse matrix is a representation where only the index for nonzero entries are stored."
   ]
  },
  {
   "cell_type": "code",
   "execution_count": 27,
   "metadata": {},
   "outputs": [
    {
     "data": {
      "text/plain": [
       "(654, 10)"
      ]
     },
     "execution_count": 27,
     "metadata": {},
     "output_type": "execute_result"
    }
   ],
   "source": [
    "count_matrix.shape"
   ]
  },
  {
   "cell_type": "code",
   "execution_count": 26,
   "metadata": {},
   "outputs": [
    {
     "name": "stdout",
     "output_type": "stream",
     "text": [
      "  (0, 2)\t25\n",
      "  (0, 3)\t3\n",
      "  (0, 1)\t1\n",
      "  (0, 4)\t1\n",
      "  (0, 5)\t2\n",
      "  (0, 8)\t1\n",
      "  (1, 2)\t11\n",
      "  (1, 3)\t1\n",
      "  (1, 6)\t4\n",
      "  (2, 2)\t1\n",
      "  (2, 1)\t2\n",
      "  (2, 5)\t3\n",
      "  (2, 8)\t13\n",
      "  (2, 0)\t1\n",
      "  (2, 7)\t3\n",
      "  (2, 9)\t3\n",
      "  (3, 8)\t2\n",
      "  (4, 4)\t1\n",
      "  (4, 5)\t2\n",
      "  (4, 8)\t1\n",
      "  (5, 5)\t5\n",
      "  (5, 7)\t4\n",
      "  (7, 3)\t1\n",
      "  (7, 4)\t4\n",
      "  (8, 2)\t2\n",
      "  :\t:\n",
      "  (648, 8)\t9\n",
      "  (649, 4)\t1\n",
      "  (649, 6)\t1\n",
      "  (649, 9)\t24\n",
      "  (650, 2)\t4\n",
      "  (650, 3)\t1\n",
      "  (650, 4)\t3\n",
      "  (650, 5)\t3\n",
      "  (650, 8)\t2\n",
      "  (650, 6)\t2\n",
      "  (650, 7)\t1\n",
      "  (650, 9)\t3\n",
      "  (651, 3)\t1\n",
      "  (651, 1)\t2\n",
      "  (651, 4)\t8\n",
      "  (651, 6)\t1\n",
      "  (652, 2)\t1\n",
      "  (652, 3)\t1\n",
      "  (652, 1)\t1\n",
      "  (652, 8)\t5\n",
      "  (652, 6)\t4\n",
      "  (652, 7)\t16\n",
      "  (653, 3)\t11\n",
      "  (653, 4)\t3\n",
      "  (653, 9)\t1\n"
     ]
    }
   ],
   "source": [
    "print(count_matrix) # get all the non zero entries"
   ]
  },
  {
   "cell_type": "code",
   "execution_count": 28,
   "metadata": {},
   "outputs": [
    {
     "data": {
      "text/plain": [
       "['blood',\n",
       " 'body',\n",
       " 'brain',\n",
       " 'cell',\n",
       " 'cells',\n",
       " 'disease',\n",
       " 'human',\n",
       " 'patients',\n",
       " 'syndrome',\n",
       " 'used']"
      ]
     },
     "execution_count": 28,
     "metadata": {},
     "output_type": "execute_result"
    }
   ],
   "source": [
    "# top 10 words used for the counts\n",
    "vectorizer.get_feature_names()"
   ]
  },
  {
   "cell_type": "markdown",
   "metadata": {},
   "source": [
    "## Tfidf weighting\n",
    "- Downweight words by how often they appear in each text.\n",
    "- https://scikit-learn.org/stable/modules/generated/sklearn.feature_extraction.text.TfidfVectorizer.html"
   ]
  },
  {
   "cell_type": "code",
   "execution_count": 29,
   "metadata": {},
   "outputs": [
    {
     "name": "stdout",
     "output_type": "stream",
     "text": [
      "  (0, 8)\t0.03883302678178968\n",
      "  (0, 5)\t0.07064915009032431\n",
      "  (0, 4)\t0.03360034804814541\n",
      "  (0, 3)\t0.11597308715839595\n",
      "  (0, 2)\t0.9888015833176947\n",
      "  (0, 1)\t0.034545363175023984\n",
      "  (1, 6)\t0.30951286011953\n",
      "  (1, 3)\t0.08415873221586266\n",
      "  (1, 2)\t0.947163711938146\n",
      "  (2, 9)\t0.18612721855951425\n",
      "  (2, 8)\t0.9266876237715737\n",
      "  (2, 7)\t0.20637942920700025\n",
      "  (2, 5)\t0.1945301712060245\n",
      "  (2, 2)\t0.07260355943726966\n",
      "  (2, 1)\t0.126826067578923\n",
      "  (2, 0)\t0.06939828448993547\n",
      "  (3, 8)\t1.0\n",
      "  (4, 8)\t0.4446186251822413\n",
      "  (4, 5)\t0.8088972348193083\n",
      "  (4, 4)\t0.3847070855114713\n",
      "  (5, 7)\t0.6470860022403537\n",
      "  (5, 5)\t0.7624170156184847\n",
      "  (7, 4)\t0.9610364562016033\n",
      "  (7, 3)\t0.2764216522840857\n",
      "  (8, 9)\t0.15005935832152217\n",
      "  :\t:\n",
      "  (648, 2)\t0.3214828619282518\n",
      "  (649, 9)\t0.9981870721818263\n",
      "  (649, 6)\t0.04373773820256458\n",
      "  (649, 4)\t0.04134705776711848\n",
      "  (650, 9)\t0.3813757096207138\n",
      "  (650, 8)\t0.29212124815885376\n",
      "  (650, 7)\t0.14095753408892323\n",
      "  (650, 6)\t0.2673729028807876\n",
      "  (650, 5)\t0.39859340649102626\n",
      "  (650, 4)\t0.3791376731545024\n",
      "  (650, 3)\t0.1454011605632939\n",
      "  (650, 2)\t0.5950603939750971\n",
      "  (651, 6)\t0.12583214696594233\n",
      "  (651, 4)\t0.9516338545839651\n",
      "  (651, 3)\t0.13685859717188018\n",
      "  (651, 1)\t0.24459967698210766\n",
      "  (652, 8)\t0.2989953114770634\n",
      "  (652, 7)\t0.9233566859095513\n",
      "  (652, 6)\t0.21893167958503326\n",
      "  (652, 3)\t0.05952906961168059\n",
      "  (652, 2)\t0.06090630824208181\n",
      "  (652, 1)\t0.05319647979357713\n",
      "  (653, 9)\t0.07710896236362651\n",
      "  (653, 4)\t0.22996938582411183\n",
      "  (653, 3)\t0.9701382837033521\n"
     ]
    }
   ],
   "source": [
    "# get tfidf \n",
    "tfidf = TfidfTransformer()\n",
    "tfidf_mat = tfidf.fit_transform(count_matrix)\n",
    "print(tfidf_mat)"
   ]
  },
  {
   "cell_type": "code",
   "execution_count": 58,
   "metadata": {},
   "outputs": [],
   "source": [
    "# Create the training dataset\n",
    "X = tfidf_mat\n",
    "y = shuffled_labels\n",
    "X_train, X_test, y_train, y_test = train_test_split(X, y, random_state=0)"
   ]
  },
  {
   "cell_type": "code",
   "execution_count": 59,
   "metadata": {},
   "outputs": [
    {
     "data": {
      "text/plain": [
       "DecisionTreeClassifier(max_depth=4)"
      ]
     },
     "execution_count": 59,
     "metadata": {},
     "output_type": "execute_result"
    }
   ],
   "source": [
    "clf = DecisionTreeClassifier(max_depth = 4)\n",
    "clf.fit(X_train,y_train)"
   ]
  },
  {
   "cell_type": "code",
   "execution_count": 62,
   "metadata": {},
   "outputs": [
    {
     "data": {
      "text/plain": [
       "array([[84,  5],\n",
       "       [25, 50]])"
      ]
     },
     "execution_count": 62,
     "metadata": {},
     "output_type": "execute_result"
    }
   ],
   "source": [
    "confusion_matrix(y_test, clf.predict(X_test),labels=['organ','rare'])\n"
   ]
  },
  {
   "cell_type": "markdown",
   "metadata": {},
   "source": [
    "## Looks like the model is having a hard time classifying the rare documents\n",
    "- we can make the decision tree more complex\n",
    "- use more features by using more words."
   ]
  },
  {
   "cell_type": "code",
   "execution_count": 36,
   "metadata": {},
   "outputs": [],
   "source": [
    "from sklearn.model_selection import cross_val_score"
   ]
  },
  {
   "cell_type": "code",
   "execution_count": 55,
   "metadata": {},
   "outputs": [],
   "source": [
    "def create_score(max_dep=3,max_feats=10,n_ests = 10):\n",
    "    vectorizer = CountVectorizer(max_features=max_feats, stop_words=\"english\")\n",
    "    count_matrix = vectorizer.fit_transform(shuffled_data)\n",
    "\n",
    "    tfidf = TfidfTransformer()\n",
    "    tfidf_mat = tfidf.fit_transform(count_matrix)\n",
    "\n",
    "\n",
    "    X = tfidf_mat\n",
    "    y = shuffled_labels\n",
    "\n",
    "    clf = RandomForestClassifier(max_depth = max_dep,n_estimators =n_ests )\n",
    "    scores = cross_val_score(clf, X, y, cv=3, scoring='accuracy')\n",
    "    return scores.mean()\n"
   ]
  },
  {
   "cell_type": "code",
   "execution_count": 57,
   "metadata": {},
   "outputs": [
    {
     "data": {
      "text/plain": [
       "0.8547400611620795"
      ]
     },
     "execution_count": 57,
     "metadata": {},
     "output_type": "execute_result"
    }
   ],
   "source": [
    "create_score(max_dep=5,max_feats=20)"
   ]
  },
  {
   "cell_type": "code",
   "execution_count": 46,
   "metadata": {},
   "outputs": [],
   "source": [
    "scores = [create_score(max_dep=i) for i in range(2,6)]"
   ]
  },
  {
   "cell_type": "code",
   "execution_count": 52,
   "metadata": {},
   "outputs": [
    {
     "data": {
      "text/plain": [
       "[<matplotlib.lines.Line2D at 0x7f8fa177f850>]"
      ]
     },
     "execution_count": 52,
     "metadata": {},
     "output_type": "execute_result"
    },
    {
     "data": {
      "image/png": "[encoded data removed]",
      "text/plain": [
       "<Figure size 432x288 with 1 Axes>"
      ]
     },
     "metadata": {
      "needs_background": "light"
     },
     "output_type": "display_data"
    }
   ],
   "source": [
    "max_depth_list = range(2,6)\n",
    "plt.plot(max_depth_list,scores,marker='o')"
   ]
  },
  {
   "cell_type": "code",
   "execution_count": 47,
   "metadata": {},
   "outputs": [
    {
     "data": {
      "text/plain": [
       "[0.7477064220183487,\n",
       " 0.7522935779816514,\n",
       " 0.7951070336391437,\n",
       " 0.7966360856269113]"
      ]
     },
     "execution_count": 47,
     "metadata": {},
     "output_type": "execute_result"
    }
   ],
   "source": [
    "scores"
   ]
  },
  {
   "cell_type": "code",
   "execution_count": null,
   "metadata": {},
   "outputs": [],
   "source": []
  }
 ],
 "metadata": {
  "kernelspec": {
   "display_name": "tf_latest",
   "language": "python",
   "name": "tf_latest"
  },
  "language_info": {
   "codemirror_mode": {
    "name": "ipython",
    "version": 3
   },
   "file_extension": ".py",
   "mimetype": "text/x-python",
   "name": "python",
   "nbconvert_exporter": "python",
   "pygments_lexer": "ipython3",
   "version": "3.8.12"
  }
 },
 "nbformat": 4,
 "nbformat_minor": 4
}
