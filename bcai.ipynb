{
 "cells": [
  {
   "cell_type": "code",
   "execution_count": 1,
   "metadata": {},
   "outputs": [],
   "source": [
    "import pandas as pd\n",
    "import numpy as np\n",
    "pd.set_option('display.max_columns', 70)\n",
    "import matplotlib.pyplot as plt\n",
    "import ast\n",
    "from sklearn.metrics import accuracy_score,confusion_matrix,precision_score,recall_score,roc_auc_score\n",
    "from sklearn.model_selection import train_test_split\n",
    "from sklearn.linear_model import LogisticRegression\n",
    "from sklearn.compose import ColumnTransformer\n",
    "from sklearn.pipeline import make_pipeline,Pipeline\n",
    "from sklearn.preprocessing import StandardScaler,OneHotEncoder\n",
    "import seaborn as sns"
   ]
  },
  {
   "cell_type": "code",
   "execution_count": 2,
   "metadata": {},
   "outputs": [],
   "source": [
    "conversions = pd.read_parquet(\"conversions.parquet\")\n",
    "customers = pd.read_parquet(\"customers.parquet\").reset_index()"
   ]
  },
  {
   "cell_type": "code",
   "execution_count": 6,
   "metadata": {},
   "outputs": [
    {
     "data": {
      "text/html": [
       "<div>\n",
       "<style scoped>\n",
       "    .dataframe tbody tr th:only-of-type {\n",
       "        vertical-align: middle;\n",
       "    }\n",
       "\n",
       "    .dataframe tbody tr th {\n",
       "        vertical-align: top;\n",
       "    }\n",
       "\n",
       "    .dataframe thead th {\n",
       "        text-align: right;\n",
       "    }\n",
       "</style>\n",
       "<table border=\"1\" class=\"dataframe\">\n",
       "  <thead>\n",
       "    <tr style=\"text-align: right;\">\n",
       "      <th></th>\n",
       "      <th>REQUESTED_AT</th>\n",
       "      <th>VISITOR_ID</th>\n",
       "    </tr>\n",
       "  </thead>\n",
       "  <tbody>\n",
       "    <tr>\n",
       "      <th>0</th>\n",
       "      <td>2022-01-14</td>\n",
       "      <td>db07fb0f4952db44383fb3a42e5169ef11eb23c9c5533d...</td>\n",
       "    </tr>\n",
       "    <tr>\n",
       "      <th>1</th>\n",
       "      <td>2022-01-12</td>\n",
       "      <td>a9b327fc32ae2c9749473b90145ba4b4a8dde11babba55...</td>\n",
       "    </tr>\n",
       "    <tr>\n",
       "      <th>2</th>\n",
       "      <td>2022-01-13</td>\n",
       "      <td>4d5e9ee969ae57389308cae43e2f5848871831fb9d539b...</td>\n",
       "    </tr>\n",
       "    <tr>\n",
       "      <th>3</th>\n",
       "      <td>2022-01-12</td>\n",
       "      <td>6e3f99c954427f9171f6d80b73ad3eab67f251adb05ad5...</td>\n",
       "    </tr>\n",
       "    <tr>\n",
       "      <th>4</th>\n",
       "      <td>2022-01-12</td>\n",
       "      <td>9cf66459dcdf50ce55196b41e1b6816aad6ca7abc0ade1...</td>\n",
       "    </tr>\n",
       "  </tbody>\n",
       "</table>\n",
       "</div>"
      ],
      "text/plain": [
       "  REQUESTED_AT                                         VISITOR_ID\n",
       "0   2022-01-14  db07fb0f4952db44383fb3a42e5169ef11eb23c9c5533d...\n",
       "1   2022-01-12  a9b327fc32ae2c9749473b90145ba4b4a8dde11babba55...\n",
       "2   2022-01-13  4d5e9ee969ae57389308cae43e2f5848871831fb9d539b...\n",
       "3   2022-01-12  6e3f99c954427f9171f6d80b73ad3eab67f251adb05ad5...\n",
       "4   2022-01-12  9cf66459dcdf50ce55196b41e1b6816aad6ca7abc0ade1..."
      ]
     },
     "execution_count": 6,
     "metadata": {},
     "output_type": "execute_result"
    }
   ],
   "source": [
    "conversions.head()"
   ]
  },
  {
   "cell_type": "code",
   "execution_count": 12,
   "metadata": {},
   "outputs": [
    {
     "name": "stdout",
     "output_type": "stream",
     "text": [
      "<class 'pandas.core.frame.DataFrame'>\n",
      "Int64Index: 1735 entries, 0 to 2055\n",
      "Data columns (total 2 columns):\n",
      " #   Column        Non-Null Count  Dtype \n",
      "---  ------        --------------  ----- \n",
      " 0   REQUESTED_AT  1735 non-null   object\n",
      " 1   VISITOR_ID    1735 non-null   object\n",
      "dtypes: object(2)\n",
      "memory usage: 40.7+ KB\n"
     ]
    }
   ],
   "source": [
    "conversions.info()"
   ]
  },
  {
   "cell_type": "code",
   "execution_count": 11,
   "metadata": {},
   "outputs": [
    {
     "data": {
      "text/plain": [
       "1735"
      ]
     },
     "execution_count": 11,
     "metadata": {},
     "output_type": "execute_result"
    }
   ],
   "source": [
    "# check for no duplicates in the ids\n",
    "conversions['VISITOR_ID'].nunique()"
   ]
  },
  {
   "cell_type": "code",
   "execution_count": 20,
   "metadata": {},
   "outputs": [
    {
     "data": {
      "text/plain": [
       "<AxesSubplot:>"
      ]
     },
     "execution_count": 20,
     "metadata": {},
     "output_type": "execute_result"
    },
    {
     "data": {
      "image/png": "[encoded data removed]",
      "text/plain": [
       "<Figure size 432x288 with 1 Axes>"
      ]
     },
     "metadata": {
      "needs_background": "light"
     },
     "output_type": "display_data"
    }
   ],
   "source": [
    "# it looks like most people converted on the 01/10\n",
    "# there's a lull on 1/13 and 1/14 probably a weekday vs weekend thing.\n",
    "conversions['REQUESTED_AT'].value_counts().sort_index().plot.bar()"
   ]
  },
  {
   "cell_type": "code",
   "execution_count": 241,
   "metadata": {},
   "outputs": [
    {
     "data": {
      "text/html": [
       "<div>\n",
       "<style scoped>\n",
       "    .dataframe tbody tr th:only-of-type {\n",
       "        vertical-align: middle;\n",
       "    }\n",
       "\n",
       "    .dataframe tbody tr th {\n",
       "        vertical-align: top;\n",
       "    }\n",
       "\n",
       "    .dataframe thead th {\n",
       "        text-align: right;\n",
       "    }\n",
       "</style>\n",
       "<table border=\"1\" class=\"dataframe\">\n",
       "  <thead>\n",
       "    <tr style=\"text-align: right;\">\n",
       "      <th></th>\n",
       "      <th>index</th>\n",
       "      <th>ID</th>\n",
       "      <th>REQUESTED_AT</th>\n",
       "      <th>SITE_ID</th>\n",
       "      <th>PAGE_VIEW_TYPE</th>\n",
       "      <th>PAGE_ID</th>\n",
       "      <th>SESSION_ID</th>\n",
       "      <th>VISITOR_ID</th>\n",
       "      <th>USER_AGENT</th>\n",
       "      <th>BROWSER_FAMILY</th>\n",
       "      <th>BROWSER</th>\n",
       "      <th>OS_FAMILY</th>\n",
       "      <th>OS</th>\n",
       "      <th>DEVICE_FAMILY</th>\n",
       "      <th>CONVERSION_SUMMARIES</th>\n",
       "      <th>FIRST_SEEN</th>\n",
       "      <th>PAGE_VIEW_SUMMARIES</th>\n",
       "      <th>SITE_NAME</th>\n",
       "    </tr>\n",
       "  </thead>\n",
       "  <tbody>\n",
       "    <tr>\n",
       "      <th>0</th>\n",
       "      <td>0</td>\n",
       "      <td>ede83a5d270615e775e58b52708338c0f1eb2f94da89ab...</td>\n",
       "      <td>2022-01-10 23:39:41.873</td>\n",
       "      <td>2127</td>\n",
       "      <td>COLLECTIONS</td>\n",
       "      <td>collections.other</td>\n",
       "      <td>f90554292c6cb4bac43aca4e6b9554e90cca3256949d35...</td>\n",
       "      <td>c6a9c26d7910ca9daf97a9418798877e1d79f6daba5e22...</td>\n",
       "      <td>Mozilla/5.0 (iPhone; CPU iPhone OS 15_1 like M...</td>\n",
       "      <td>CHROME</td>\n",
       "      <td>CHROME_MOBILE</td>\n",
       "      <td>IOS</td>\n",
       "      <td>iOS15_IPHONE</td>\n",
       "      <td>MOBILE</td>\n",
       "      <td>[]</td>\n",
       "      <td>\"2022-01-10T05:09:25.874Z\"</td>\n",
       "      <td>[ { \"page_id\": \"home\", \"page_view_type\": \"HOME...</td>\n",
       "      <td>BCAI</td>\n",
       "    </tr>\n",
       "    <tr>\n",
       "      <th>1</th>\n",
       "      <td>1</td>\n",
       "      <td>e94b73775a847e648ce609a5c1b6cf570c3f1a7409c9ae...</td>\n",
       "      <td>2022-01-10 17:48:12.719</td>\n",
       "      <td>2127</td>\n",
       "      <td>COLLECTIONS</td>\n",
       "      <td>collections.paged</td>\n",
       "      <td>f1fc0a06609bce665fd5840caf163937919eb9c6a4d657...</td>\n",
       "      <td>b50db78c4459d75a734cdc8b15bff9ad665ac55a8bb5d8...</td>\n",
       "      <td>Mozilla/5.0 (iPhone; CPU iPhone OS 15_1 like M...</td>\n",
       "      <td>SAFARI</td>\n",
       "      <td>MOBILE_SAFARI</td>\n",
       "      <td>IOS</td>\n",
       "      <td>iOS15_IPHONE</td>\n",
       "      <td>MOBILE</td>\n",
       "      <td>[]</td>\n",
       "      <td>\"2022-01-09T18:58:12.213Z\"</td>\n",
       "      <td>[ { \"page_id\": \"home\", \"page_view_type\": \"HOME...</td>\n",
       "      <td>BCAI</td>\n",
       "    </tr>\n",
       "    <tr>\n",
       "      <th>2</th>\n",
       "      <td>2</td>\n",
       "      <td>7e139dff35f4fd9ed7163b7a03d13d8567e5f7cc83dc55...</td>\n",
       "      <td>2022-01-10 06:17:39.225</td>\n",
       "      <td>2127</td>\n",
       "      <td>PRODUCTS</td>\n",
       "      <td>collections.products</td>\n",
       "      <td>352920da35b3bd0d9b5be95a5042f70bec15a6bc8f125e...</td>\n",
       "      <td>7c86bb4b01418604526a813b9415eb6ede49dfa053a6f7...</td>\n",
       "      <td>Mozilla/5.0 (iPhone; CPU iPhone OS 14_8 like M...</td>\n",
       "      <td>SAFARI</td>\n",
       "      <td>MOBILE_SAFARI</td>\n",
       "      <td>IOS</td>\n",
       "      <td>iOS14_IPHONE</td>\n",
       "      <td>MOBILE</td>\n",
       "      <td>None</td>\n",
       "      <td>None</td>\n",
       "      <td>None</td>\n",
       "      <td>BCAI</td>\n",
       "    </tr>\n",
       "    <tr>\n",
       "      <th>3</th>\n",
       "      <td>3</td>\n",
       "      <td>ea0349ebd7617d70dd5b5b11cbf1bc9f39a12cd61c39d6...</td>\n",
       "      <td>2022-01-10 05:01:04.738</td>\n",
       "      <td>2127</td>\n",
       "      <td>HOME</td>\n",
       "      <td>home</td>\n",
       "      <td>413d412eebf3a57ea7cc1c5a7b04c12a1e038b0997f2ac...</td>\n",
       "      <td>ce5afc7d044a2910497e70c79d671445db398fc4cf6af4...</td>\n",
       "      <td>Mozilla/5.0 (iPhone; CPU iPhone OS 15_1 like M...</td>\n",
       "      <td>SAFARI</td>\n",
       "      <td>MOBILE_SAFARI</td>\n",
       "      <td>IOS</td>\n",
       "      <td>iOS15_IPHONE</td>\n",
       "      <td>MOBILE</td>\n",
       "      <td>None</td>\n",
       "      <td>None</td>\n",
       "      <td>None</td>\n",
       "      <td>BCAI</td>\n",
       "    </tr>\n",
       "    <tr>\n",
       "      <th>4</th>\n",
       "      <td>4</td>\n",
       "      <td>d235a545583ba6227411825ae5b834de58988f74359750...</td>\n",
       "      <td>2022-01-10 07:10:00.580</td>\n",
       "      <td>2127</td>\n",
       "      <td>HOME</td>\n",
       "      <td>home</td>\n",
       "      <td>639debd659f2931e6d6a4243c4a3cf125a1056e6fef74e...</td>\n",
       "      <td>daa51f8982f333f5e57571098479408d2ee20f2c929633...</td>\n",
       "      <td>Mozilla/5.0 (Linux; Android 9; KFONWI) AppleWe...</td>\n",
       "      <td>CHROME</td>\n",
       "      <td>CHROME9</td>\n",
       "      <td>ANDROID</td>\n",
       "      <td>ANDROID</td>\n",
       "      <td>MOBILE</td>\n",
       "      <td>None</td>\n",
       "      <td>None</td>\n",
       "      <td>None</td>\n",
       "      <td>BCAI</td>\n",
       "    </tr>\n",
       "  </tbody>\n",
       "</table>\n",
       "</div>"
      ],
      "text/plain": [
       "   index                                                 ID  \\\n",
       "0      0  ede83a5d270615e775e58b52708338c0f1eb2f94da89ab...   \n",
       "1      1  e94b73775a847e648ce609a5c1b6cf570c3f1a7409c9ae...   \n",
       "2      2  7e139dff35f4fd9ed7163b7a03d13d8567e5f7cc83dc55...   \n",
       "3      3  ea0349ebd7617d70dd5b5b11cbf1bc9f39a12cd61c39d6...   \n",
       "4      4  d235a545583ba6227411825ae5b834de58988f74359750...   \n",
       "\n",
       "             REQUESTED_AT  SITE_ID PAGE_VIEW_TYPE               PAGE_ID  \\\n",
       "0 2022-01-10 23:39:41.873     2127    COLLECTIONS     collections.other   \n",
       "1 2022-01-10 17:48:12.719     2127    COLLECTIONS     collections.paged   \n",
       "2 2022-01-10 06:17:39.225     2127       PRODUCTS  collections.products   \n",
       "3 2022-01-10 05:01:04.738     2127           HOME                  home   \n",
       "4 2022-01-10 07:10:00.580     2127           HOME                  home   \n",
       "\n",
       "                                          SESSION_ID  \\\n",
       "0  f90554292c6cb4bac43aca4e6b9554e90cca3256949d35...   \n",
       "1  f1fc0a06609bce665fd5840caf163937919eb9c6a4d657...   \n",
       "2  352920da35b3bd0d9b5be95a5042f70bec15a6bc8f125e...   \n",
       "3  413d412eebf3a57ea7cc1c5a7b04c12a1e038b0997f2ac...   \n",
       "4  639debd659f2931e6d6a4243c4a3cf125a1056e6fef74e...   \n",
       "\n",
       "                                          VISITOR_ID  \\\n",
       "0  c6a9c26d7910ca9daf97a9418798877e1d79f6daba5e22...   \n",
       "1  b50db78c4459d75a734cdc8b15bff9ad665ac55a8bb5d8...   \n",
       "2  7c86bb4b01418604526a813b9415eb6ede49dfa053a6f7...   \n",
       "3  ce5afc7d044a2910497e70c79d671445db398fc4cf6af4...   \n",
       "4  daa51f8982f333f5e57571098479408d2ee20f2c929633...   \n",
       "\n",
       "                                          USER_AGENT BROWSER_FAMILY  \\\n",
       "0  Mozilla/5.0 (iPhone; CPU iPhone OS 15_1 like M...         CHROME   \n",
       "1  Mozilla/5.0 (iPhone; CPU iPhone OS 15_1 like M...         SAFARI   \n",
       "2  Mozilla/5.0 (iPhone; CPU iPhone OS 14_8 like M...         SAFARI   \n",
       "3  Mozilla/5.0 (iPhone; CPU iPhone OS 15_1 like M...         SAFARI   \n",
       "4  Mozilla/5.0 (Linux; Android 9; KFONWI) AppleWe...         CHROME   \n",
       "\n",
       "         BROWSER OS_FAMILY            OS DEVICE_FAMILY CONVERSION_SUMMARIES  \\\n",
       "0  CHROME_MOBILE       IOS  iOS15_IPHONE        MOBILE                   []   \n",
       "1  MOBILE_SAFARI       IOS  iOS15_IPHONE        MOBILE                   []   \n",
       "2  MOBILE_SAFARI       IOS  iOS14_IPHONE        MOBILE                 None   \n",
       "3  MOBILE_SAFARI       IOS  iOS15_IPHONE        MOBILE                 None   \n",
       "4        CHROME9   ANDROID       ANDROID        MOBILE                 None   \n",
       "\n",
       "                   FIRST_SEEN  \\\n",
       "0  \"2022-01-10T05:09:25.874Z\"   \n",
       "1  \"2022-01-09T18:58:12.213Z\"   \n",
       "2                        None   \n",
       "3                        None   \n",
       "4                        None   \n",
       "\n",
       "                                 PAGE_VIEW_SUMMARIES SITE_NAME  \n",
       "0  [ { \"page_id\": \"home\", \"page_view_type\": \"HOME...      BCAI  \n",
       "1  [ { \"page_id\": \"home\", \"page_view_type\": \"HOME...      BCAI  \n",
       "2                                               None      BCAI  \n",
       "3                                               None      BCAI  \n",
       "4                                               None      BCAI  "
      ]
     },
     "execution_count": 241,
     "metadata": {},
     "output_type": "execute_result"
    }
   ],
   "source": [
    "# look at customers\n",
    "customers.head()"
   ]
  },
  {
   "cell_type": "code",
   "execution_count": 14,
   "metadata": {},
   "outputs": [
    {
     "name": "stdout",
     "output_type": "stream",
     "text": [
      "<class 'pandas.core.frame.DataFrame'>\n",
      "Int64Index: 24385 entries, 0 to 66\n",
      "Data columns (total 17 columns):\n",
      " #   Column                Non-Null Count  Dtype         \n",
      "---  ------                --------------  -----         \n",
      " 0   ID                    24385 non-null  object        \n",
      " 1   REQUESTED_AT          24385 non-null  datetime64[ns]\n",
      " 2   SITE_ID               24385 non-null  int16         \n",
      " 3   PAGE_VIEW_TYPE        24385 non-null  object        \n",
      " 4   PAGE_ID               24385 non-null  object        \n",
      " 5   SESSION_ID            24385 non-null  object        \n",
      " 6   VISITOR_ID            24385 non-null  object        \n",
      " 7   USER_AGENT            24385 non-null  object        \n",
      " 8   BROWSER_FAMILY        24385 non-null  object        \n",
      " 9   BROWSER               24385 non-null  object        \n",
      " 10  OS_FAMILY             24385 non-null  object        \n",
      " 11  OS                    24385 non-null  object        \n",
      " 12  DEVICE_FAMILY         24385 non-null  object        \n",
      " 13  CONVERSION_SUMMARIES  19182 non-null  object        \n",
      " 14  FIRST_SEEN            19182 non-null  object        \n",
      " 15  PAGE_VIEW_SUMMARIES   19182 non-null  object        \n",
      " 16  SITE_NAME             24385 non-null  object        \n",
      "dtypes: datetime64[ns](1), int16(1), object(15)\n",
      "memory usage: 3.2+ MB\n"
     ]
    }
   ],
   "source": [
    "customers.info()"
   ]
  },
  {
   "cell_type": "markdown",
   "metadata": {},
   "source": [
    "## there are some nulls in the data, that will be to be sussed out.\n",
    "- For now looking at the columns individually to see what makes sense"
   ]
  },
  {
   "cell_type": "code",
   "execution_count": 274,
   "metadata": {},
   "outputs": [
    {
     "data": {
      "text/plain": [
       "count                                                 24385\n",
       "unique                                                24385\n",
       "top       c6a9c26d7910ca9daf97a9418798877e1d79f6daba5e22...\n",
       "freq                                                      1\n",
       "Name: VISITOR_ID, dtype: object"
      ]
     },
     "execution_count": 274,
     "metadata": {},
     "output_type": "execute_result"
    }
   ],
   "source": [
    "# no duplicates in a visitor ids\n",
    "customers['VISITOR_ID'].describe()"
   ]
  },
  {
   "cell_type": "code",
   "execution_count": 52,
   "metadata": {},
   "outputs": [
    {
     "data": {
      "text/plain": [
       "MOBILE      19394\n",
       "COMPUTER     4802\n",
       "TABLET        169\n",
       "UNKNOWN        20\n",
       "Name: DEVICE_FAMILY, dtype: int64"
      ]
     },
     "execution_count": 52,
     "metadata": {},
     "output_type": "execute_result"
    }
   ],
   "source": [
    "customers['DEVICE_FAMILY'].value_counts()"
   ]
  },
  {
   "cell_type": "markdown",
   "metadata": {},
   "source": [
    "# Most people are checking mobile devices\n",
    "- the OS column has too many enumerations, won't be useful to use as feature"
   ]
  },
  {
   "cell_type": "code",
   "execution_count": 51,
   "metadata": {},
   "outputs": [
    {
     "data": {
      "text/plain": [
       "iOS15_IPHONE         10814\n",
       "ANDROID1              3885\n",
       "iOS14_IPHONE          3545\n",
       "WINDOWS_10            2241\n",
       "MAC_OS_X_10_15        1674\n",
       "ANDROID_MOBILE         810\n",
       "CHROME_OS              467\n",
       "iOS13_IPHONE           125\n",
       "WINDOWS_7              104\n",
       "MAC_OS_X_10_14          91\n",
       "ANDROID                 81\n",
       "iOS12_IPHONE            79\n",
       "iOS15_IPAD              76\n",
       "MAC_OS_X_10_13          68\n",
       "iOS14_IPAD              52\n",
       "LINUX                   39\n",
       "WINDOWS_81              37\n",
       "MAC_OS_X_10_12          33\n",
       "ANDROID6                31\n",
       "UNKNOWN                 20\n",
       "MAC_OS_X                17\n",
       "ANDROID5_TABLET         16\n",
       "iOS11_IPHONE            10\n",
       "MAC_OS_X_10_11           9\n",
       "MAC_OS_X_10_10           9\n",
       "iOS12_IPAD               8\n",
       "ANDROID5                 7\n",
       "WINDOWS_8                5\n",
       "UBUNTU                   5\n",
       "ANDROID4_TABLET          5\n",
       "iOS10_IPAD               4\n",
       "iOS13_IPAD               4\n",
       "iOS10_IPHONE             3\n",
       "ANDROID6_TABLET          2\n",
       "iOS11_IPAD               2\n",
       "ANDROID4                 2\n",
       "WINDOWS_10_MOBILE        1\n",
       "MAC_OS_X_10_16           1\n",
       "UNKNOWN_MOBILE           1\n",
       "MAC_OS_X_10_5            1\n",
       "MAC_OS_X_10_4            1\n",
       "Name: OS, dtype: int64"
      ]
     },
     "execution_count": 51,
     "metadata": {},
     "output_type": "execute_result"
    }
   ],
   "source": [
    "customers['OS'].value_counts()"
   ]
  },
  {
   "cell_type": "markdown",
   "metadata": {},
   "source": [
    "## OS Family is better to use as feature, \n",
    "- but I thought it's informative on whether people purchase."
   ]
  },
  {
   "cell_type": "code",
   "execution_count": 50,
   "metadata": {},
   "outputs": [
    {
     "data": {
      "text/plain": [
       "IOS               14722\n",
       "ANDROID            4839\n",
       "WINDOWS            2388\n",
       "MAC_OS_X           1904\n",
       "CHROME_OS           467\n",
       "LINUX                44\n",
       "UNKNOWN              20\n",
       "UNKNOWN_MOBILE        1\n",
       "Name: OS_FAMILY, dtype: int64"
      ]
     },
     "execution_count": 50,
     "metadata": {},
     "output_type": "execute_result"
    }
   ],
   "source": [
    "customers['OS_FAMILY'].value_counts()"
   ]
  },
  {
   "cell_type": "code",
   "execution_count": null,
   "metadata": {},
   "outputs": [],
   "source": [
    "customers['BROWSER'].apply(lambda x: a if x in )"
   ]
  },
  {
   "cell_type": "code",
   "execution_count": 12,
   "metadata": {},
   "outputs": [],
   "source": [
    "top_5 =customers['BROWSER'].value_counts()[:5].index.tolist()"
   ]
  },
  {
   "cell_type": "code",
   "execution_count": 17,
   "metadata": {},
   "outputs": [
    {
     "data": {
      "text/plain": [
       "MOBILE_SAFARI      11057\n",
       "CHROME_MOBILE       5542\n",
       "CHROME9             3701\n",
       "other               2079\n",
       "APPLE_WEB_KIT       1113\n",
       "MOBILE_SAFARI15      893\n",
       "Name: top_5_browser, dtype: int64"
      ]
     },
     "execution_count": 17,
     "metadata": {},
     "output_type": "execute_result"
    }
   ],
   "source": [
    "customers['top_5_browser'].value_counts()"
   ]
  },
  {
   "cell_type": "code",
   "execution_count": 16,
   "metadata": {},
   "outputs": [],
   "source": [
    "customers['top_5_browser']= customers['BROWSER'].apply(lambda x: x if x in top_5 else 'other' )"
   ]
  },
  {
   "cell_type": "code",
   "execution_count": 49,
   "metadata": {},
   "outputs": [
    {
     "data": {
      "text/plain": [
       "MOBILE_SAFARI         11057\n",
       "CHROME_MOBILE          5542\n",
       "CHROME9                3701\n",
       "APPLE_WEB_KIT          1113\n",
       "MOBILE_SAFARI15         893\n",
       "GOOGLE_SEARCH_APP       505\n",
       "SAFARI15                477\n",
       "SAFARI14                390\n",
       "FACEBOOK_APP            137\n",
       "FIREFOX9                136\n",
       "SAFARI13                 82\n",
       "MOBILE_SAFARI14          69\n",
       "SAFARI12                 21\n",
       "FIREFOX_MOBILE           18\n",
       "LIGHTHOUSE               16\n",
       "BOT                      14\n",
       "YANDEX                   14\n",
       "CHROME76                 13\n",
       "PINTEREST_APP            13\n",
       "CHROME8                  12\n",
       "CHROME89                 12\n",
       "CHROME87                 11\n",
       "FIREFOX7                 10\n",
       "CHROME70                 10\n",
       "CHROME81                 10\n",
       "MOBILE_SAFARI10           7\n",
       "CHROME86                  7\n",
       "CHROME64                  6\n",
       "MOBILE_SAFARI12           6\n",
       "CHROME80                  6\n",
       "UNKNOWN                   5\n",
       "SAFARI10                  5\n",
       "CHROME57                  5\n",
       "CHROME88                  5\n",
       "CHROME79                  5\n",
       "MOBILE_SAFARI11           4\n",
       "FIREFOX_MOBILE_IOS        4\n",
       "CHROME90                  4\n",
       "IE11                      4\n",
       "EDGE_MOBILE               4\n",
       "CHROME85                  3\n",
       "CHROME84                  3\n",
       "FIREFOX72                 2\n",
       "CHROME66                  2\n",
       "FIREFOX8                  2\n",
       "IE                        2\n",
       "MOZILLA                   2\n",
       "MOBILE_SAFARI13           2\n",
       "CHROME72                  2\n",
       "CHROME83                  2\n",
       "CHROME74                  1\n",
       "CHROME78                  1\n",
       "CHROME10                  1\n",
       "CHROME73                  1\n",
       "CHROME33                  1\n",
       "CHROME77                  1\n",
       "BLACKBERRY10              1\n",
       "SAFARI11                  1\n",
       "YANDEX18                  1\n",
       "CHROME75                  1\n",
       "Name: BROWSER, dtype: int64"
      ]
     },
     "execution_count": 49,
     "metadata": {},
     "output_type": "execute_result"
    }
   ],
   "source": [
    "# this has too many categories, not that useful\n",
    "customers['BROWSER'].value_counts()"
   ]
  },
  {
   "cell_type": "code",
   "execution_count": 48,
   "metadata": {},
   "outputs": [
    {
     "data": {
      "text/plain": [
       "SAFARI               13015\n",
       "CHROME                9368\n",
       "APPLE_WEB_KIT         1113\n",
       "GOOGLE_SEARCH_APP      505\n",
       "FIREFOX                172\n",
       "FACEBOOK_APP           137\n",
       "LIGHTHOUSE              16\n",
       "YANDEX                  15\n",
       "BOT                     14\n",
       "PINTEREST_APP           13\n",
       "IE                       6\n",
       "UNKNOWN                  5\n",
       "EDGE                     4\n",
       "MOZILLA                  2\n",
       "Name: BROWSER_FAMILY, dtype: int64"
      ]
     },
     "execution_count": 48,
     "metadata": {},
     "output_type": "execute_result"
    }
   ],
   "source": [
    "customers['BROWSER_FAMILY'].value_counts()"
   ]
  },
  {
   "cell_type": "code",
   "execution_count": 3,
   "metadata": {},
   "outputs": [
    {
     "data": {
      "text/plain": [
       "0    Mozilla/5.0 (iPhone; CPU iPhone OS 15_1 like M...\n",
       "1    Mozilla/5.0 (iPhone; CPU iPhone OS 15_1 like M...\n",
       "2    Mozilla/5.0 (iPhone; CPU iPhone OS 14_8 like M...\n",
       "3    Mozilla/5.0 (iPhone; CPU iPhone OS 15_1 like M...\n",
       "4    Mozilla/5.0 (Linux; Android 9; KFONWI) AppleWe...\n",
       "Name: USER_AGENT, dtype: object"
      ]
     },
     "execution_count": 3,
     "metadata": {},
     "output_type": "execute_result"
    }
   ],
   "source": [
    "customers['USER_AGENT'].head()"
   ]
  },
  {
   "cell_type": "markdown",
   "metadata": {},
   "source": [
    "## It looks like the other columns is probably processed from the user agent field \n",
    "- Won't be using this column for features\n",
    "\n",
    "## Below the session isn't unique to visitor ID\n",
    "- it looks like different visitorI ID's can have the same session ID\n",
    "- Makes me wonder about identity management"
   ]
  },
  {
   "cell_type": "code",
   "execution_count": 45,
   "metadata": {},
   "outputs": [
    {
     "data": {
      "text/plain": [
       "22441"
      ]
     },
     "execution_count": 45,
     "metadata": {},
     "output_type": "execute_result"
    }
   ],
   "source": [
    "customers['SESSION_ID'].nunique()"
   ]
  },
  {
   "cell_type": "code",
   "execution_count": 34,
   "metadata": {},
   "outputs": [
    {
     "data": {
      "text/html": [
       "<div>\n",
       "<style scoped>\n",
       "    .dataframe tbody tr th:only-of-type {\n",
       "        vertical-align: middle;\n",
       "    }\n",
       "\n",
       "    .dataframe tbody tr th {\n",
       "        vertical-align: top;\n",
       "    }\n",
       "\n",
       "    .dataframe thead th {\n",
       "        text-align: right;\n",
       "    }\n",
       "</style>\n",
       "<table border=\"1\" class=\"dataframe\">\n",
       "  <thead>\n",
       "    <tr style=\"text-align: right;\">\n",
       "      <th></th>\n",
       "      <th>SESSION_ID</th>\n",
       "      <th>session_count</th>\n",
       "    </tr>\n",
       "  </thead>\n",
       "  <tbody>\n",
       "    <tr>\n",
       "      <th>12</th>\n",
       "      <td>0031086dbf455d1819f94961d331d87f038931a72cb627...</td>\n",
       "      <td>2</td>\n",
       "    </tr>\n",
       "    <tr>\n",
       "      <th>17</th>\n",
       "      <td>00462ebcef275c1a30814290d451900f8281357094c968...</td>\n",
       "      <td>2</td>\n",
       "    </tr>\n",
       "    <tr>\n",
       "      <th>22</th>\n",
       "      <td>0058fd439f929608e3e07fd1c825725434609056a2e451...</td>\n",
       "      <td>2</td>\n",
       "    </tr>\n",
       "    <tr>\n",
       "      <th>23</th>\n",
       "      <td>005e4a7370152460f4468c7db753bffbae6b0f4f738103...</td>\n",
       "      <td>2</td>\n",
       "    </tr>\n",
       "    <tr>\n",
       "      <th>43</th>\n",
       "      <td>0097bf18c62af31caf1f3de6adf2c2aff7a86b8aaef86d...</td>\n",
       "      <td>2</td>\n",
       "    </tr>\n",
       "  </tbody>\n",
       "</table>\n",
       "</div>"
      ],
      "text/plain": [
       "                                           SESSION_ID  session_count\n",
       "12  0031086dbf455d1819f94961d331d87f038931a72cb627...              2\n",
       "17  00462ebcef275c1a30814290d451900f8281357094c968...              2\n",
       "22  0058fd439f929608e3e07fd1c825725434609056a2e451...              2\n",
       "23  005e4a7370152460f4468c7db753bffbae6b0f4f738103...              2\n",
       "43  0097bf18c62af31caf1f3de6adf2c2aff7a86b8aaef86d...              2"
      ]
     },
     "execution_count": 34,
     "metadata": {},
     "output_type": "execute_result"
    }
   ],
   "source": [
    "session_count = customers.groupby('SESSION_ID').size().reset_index().rename(columns= {0:'session_count'})\\\n",
    "        .query('session_count > 1')\n",
    "session_count.head()"
   ]
  },
  {
   "cell_type": "code",
   "execution_count": 35,
   "metadata": {},
   "outputs": [
    {
     "data": {
      "text/html": [
       "<div>\n",
       "<style scoped>\n",
       "    .dataframe tbody tr th:only-of-type {\n",
       "        vertical-align: middle;\n",
       "    }\n",
       "\n",
       "    .dataframe tbody tr th {\n",
       "        vertical-align: top;\n",
       "    }\n",
       "\n",
       "    .dataframe thead th {\n",
       "        text-align: right;\n",
       "    }\n",
       "</style>\n",
       "<table border=\"1\" class=\"dataframe\">\n",
       "  <thead>\n",
       "    <tr style=\"text-align: right;\">\n",
       "      <th></th>\n",
       "      <th>index</th>\n",
       "      <th>ID</th>\n",
       "      <th>REQUESTED_AT</th>\n",
       "      <th>SITE_ID</th>\n",
       "      <th>PAGE_VIEW_TYPE</th>\n",
       "      <th>PAGE_ID</th>\n",
       "      <th>SESSION_ID</th>\n",
       "      <th>VISITOR_ID</th>\n",
       "      <th>USER_AGENT</th>\n",
       "      <th>BROWSER_FAMILY</th>\n",
       "      <th>BROWSER</th>\n",
       "      <th>OS_FAMILY</th>\n",
       "      <th>OS</th>\n",
       "      <th>DEVICE_FAMILY</th>\n",
       "      <th>CONVERSION_SUMMARIES</th>\n",
       "      <th>FIRST_SEEN</th>\n",
       "      <th>PAGE_VIEW_SUMMARIES</th>\n",
       "      <th>SITE_NAME</th>\n",
       "      <th>session_count</th>\n",
       "    </tr>\n",
       "  </thead>\n",
       "  <tbody>\n",
       "    <tr>\n",
       "      <th>0</th>\n",
       "      <td>0</td>\n",
       "      <td>ede83a5d270615e775e58b52708338c0f1eb2f94da89ab...</td>\n",
       "      <td>2022-01-10 23:39:41.873</td>\n",
       "      <td>2127</td>\n",
       "      <td>COLLECTIONS</td>\n",
       "      <td>collections.other</td>\n",
       "      <td>f90554292c6cb4bac43aca4e6b9554e90cca3256949d35...</td>\n",
       "      <td>c6a9c26d7910ca9daf97a9418798877e1d79f6daba5e22...</td>\n",
       "      <td>Mozilla/5.0 (iPhone; CPU iPhone OS 15_1 like M...</td>\n",
       "      <td>CHROME</td>\n",
       "      <td>CHROME_MOBILE</td>\n",
       "      <td>IOS</td>\n",
       "      <td>iOS15_IPHONE</td>\n",
       "      <td>MOBILE</td>\n",
       "      <td>[]</td>\n",
       "      <td>\"2022-01-10T05:09:25.874Z\"</td>\n",
       "      <td>[ { \"page_id\": \"home\", \"page_view_type\": \"HOME...</td>\n",
       "      <td>BCAI</td>\n",
       "      <td>104.0</td>\n",
       "    </tr>\n",
       "    <tr>\n",
       "      <th>1</th>\n",
       "      <td>1</td>\n",
       "      <td>e94b73775a847e648ce609a5c1b6cf570c3f1a7409c9ae...</td>\n",
       "      <td>2022-01-10 17:48:12.719</td>\n",
       "      <td>2127</td>\n",
       "      <td>COLLECTIONS</td>\n",
       "      <td>collections.paged</td>\n",
       "      <td>f1fc0a06609bce665fd5840caf163937919eb9c6a4d657...</td>\n",
       "      <td>b50db78c4459d75a734cdc8b15bff9ad665ac55a8bb5d8...</td>\n",
       "      <td>Mozilla/5.0 (iPhone; CPU iPhone OS 15_1 like M...</td>\n",
       "      <td>SAFARI</td>\n",
       "      <td>MOBILE_SAFARI</td>\n",
       "      <td>IOS</td>\n",
       "      <td>iOS15_IPHONE</td>\n",
       "      <td>MOBILE</td>\n",
       "      <td>[]</td>\n",
       "      <td>\"2022-01-09T18:58:12.213Z\"</td>\n",
       "      <td>[ { \"page_id\": \"home\", \"page_view_type\": \"HOME...</td>\n",
       "      <td>BCAI</td>\n",
       "      <td>NaN</td>\n",
       "    </tr>\n",
       "    <tr>\n",
       "      <th>2</th>\n",
       "      <td>2</td>\n",
       "      <td>7e139dff35f4fd9ed7163b7a03d13d8567e5f7cc83dc55...</td>\n",
       "      <td>2022-01-10 06:17:39.225</td>\n",
       "      <td>2127</td>\n",
       "      <td>PRODUCTS</td>\n",
       "      <td>collections.products</td>\n",
       "      <td>352920da35b3bd0d9b5be95a5042f70bec15a6bc8f125e...</td>\n",
       "      <td>7c86bb4b01418604526a813b9415eb6ede49dfa053a6f7...</td>\n",
       "      <td>Mozilla/5.0 (iPhone; CPU iPhone OS 14_8 like M...</td>\n",
       "      <td>SAFARI</td>\n",
       "      <td>MOBILE_SAFARI</td>\n",
       "      <td>IOS</td>\n",
       "      <td>iOS14_IPHONE</td>\n",
       "      <td>MOBILE</td>\n",
       "      <td>None</td>\n",
       "      <td>None</td>\n",
       "      <td>None</td>\n",
       "      <td>BCAI</td>\n",
       "      <td>NaN</td>\n",
       "    </tr>\n",
       "    <tr>\n",
       "      <th>3</th>\n",
       "      <td>3</td>\n",
       "      <td>ea0349ebd7617d70dd5b5b11cbf1bc9f39a12cd61c39d6...</td>\n",
       "      <td>2022-01-10 05:01:04.738</td>\n",
       "      <td>2127</td>\n",
       "      <td>HOME</td>\n",
       "      <td>home</td>\n",
       "      <td>413d412eebf3a57ea7cc1c5a7b04c12a1e038b0997f2ac...</td>\n",
       "      <td>ce5afc7d044a2910497e70c79d671445db398fc4cf6af4...</td>\n",
       "      <td>Mozilla/5.0 (iPhone; CPU iPhone OS 15_1 like M...</td>\n",
       "      <td>SAFARI</td>\n",
       "      <td>MOBILE_SAFARI</td>\n",
       "      <td>IOS</td>\n",
       "      <td>iOS15_IPHONE</td>\n",
       "      <td>MOBILE</td>\n",
       "      <td>None</td>\n",
       "      <td>None</td>\n",
       "      <td>None</td>\n",
       "      <td>BCAI</td>\n",
       "      <td>2.0</td>\n",
       "    </tr>\n",
       "    <tr>\n",
       "      <th>4</th>\n",
       "      <td>4</td>\n",
       "      <td>d235a545583ba6227411825ae5b834de58988f74359750...</td>\n",
       "      <td>2022-01-10 07:10:00.580</td>\n",
       "      <td>2127</td>\n",
       "      <td>HOME</td>\n",
       "      <td>home</td>\n",
       "      <td>639debd659f2931e6d6a4243c4a3cf125a1056e6fef74e...</td>\n",
       "      <td>daa51f8982f333f5e57571098479408d2ee20f2c929633...</td>\n",
       "      <td>Mozilla/5.0 (Linux; Android 9; KFONWI) AppleWe...</td>\n",
       "      <td>CHROME</td>\n",
       "      <td>CHROME9</td>\n",
       "      <td>ANDROID</td>\n",
       "      <td>ANDROID</td>\n",
       "      <td>MOBILE</td>\n",
       "      <td>None</td>\n",
       "      <td>None</td>\n",
       "      <td>None</td>\n",
       "      <td>BCAI</td>\n",
       "      <td>2.0</td>\n",
       "    </tr>\n",
       "    <tr>\n",
       "      <th>...</th>\n",
       "      <td>...</td>\n",
       "      <td>...</td>\n",
       "      <td>...</td>\n",
       "      <td>...</td>\n",
       "      <td>...</td>\n",
       "      <td>...</td>\n",
       "      <td>...</td>\n",
       "      <td>...</td>\n",
       "      <td>...</td>\n",
       "      <td>...</td>\n",
       "      <td>...</td>\n",
       "      <td>...</td>\n",
       "      <td>...</td>\n",
       "      <td>...</td>\n",
       "      <td>...</td>\n",
       "      <td>...</td>\n",
       "      <td>...</td>\n",
       "      <td>...</td>\n",
       "      <td>...</td>\n",
       "    </tr>\n",
       "    <tr>\n",
       "      <th>24380</th>\n",
       "      <td>62</td>\n",
       "      <td>65cdfe1e44559784bcd54460b19f80759f87d1fc79e5e0...</td>\n",
       "      <td>2022-01-10 07:20:12.299</td>\n",
       "      <td>2127</td>\n",
       "      <td>CHECKOUT</td>\n",
       "      <td>checkout</td>\n",
       "      <td>991035f2a6fc8091a752dc695a6e64d0d52b36841f3ef1...</td>\n",
       "      <td>b0d8decbba47a862a8ac1c2fb7ada9b0efbc6220f57cbd...</td>\n",
       "      <td>Mozilla/5.0 (Linux; Android 10; motorola one 5...</td>\n",
       "      <td>CHROME</td>\n",
       "      <td>CHROME_MOBILE</td>\n",
       "      <td>ANDROID</td>\n",
       "      <td>ANDROID1</td>\n",
       "      <td>MOBILE</td>\n",
       "      <td>[]</td>\n",
       "      <td>\"2022-01-10T05:43:15.013Z\"</td>\n",
       "      <td>[ { \"page_id\": \"home\", \"page_view_type\": \"HOME...</td>\n",
       "      <td>BCAI</td>\n",
       "      <td>NaN</td>\n",
       "    </tr>\n",
       "    <tr>\n",
       "      <th>24381</th>\n",
       "      <td>63</td>\n",
       "      <td>48ad626fc2cc9d008cddbc544d11e9c407390ef0bf79c2...</td>\n",
       "      <td>2022-01-10 11:31:41.636</td>\n",
       "      <td>2127</td>\n",
       "      <td>COLLECTIONS</td>\n",
       "      <td>collections.other</td>\n",
       "      <td>c06dff7f6b8b7961830ce768e744b64402207fc8847e2a...</td>\n",
       "      <td>956b5858c4e671d1891216a64f6a3da1888a80a641a96d...</td>\n",
       "      <td>Mozilla/5.0 (iPhone; CPU iPhone OS 15_1 like M...</td>\n",
       "      <td>SAFARI</td>\n",
       "      <td>MOBILE_SAFARI</td>\n",
       "      <td>IOS</td>\n",
       "      <td>iOS15_IPHONE</td>\n",
       "      <td>MOBILE</td>\n",
       "      <td>[]</td>\n",
       "      <td>\"2022-01-08T21:58:37.273Z\"</td>\n",
       "      <td>[ { \"page_id\": \"home\", \"page_view_type\": \"HOME...</td>\n",
       "      <td>BCAI</td>\n",
       "      <td>NaN</td>\n",
       "    </tr>\n",
       "    <tr>\n",
       "      <th>24382</th>\n",
       "      <td>64</td>\n",
       "      <td>2ed125b93e03ce31d2e421066e936f828a261345b31950...</td>\n",
       "      <td>2022-01-10 05:05:49.243</td>\n",
       "      <td>2127</td>\n",
       "      <td>COLLECTIONS</td>\n",
       "      <td>collections.newarrival</td>\n",
       "      <td>755a83c157a0c21a7a41e8bdc6e4cd937f6177f754efa8...</td>\n",
       "      <td>a8158120e20a052a4dd8922bfb2b2ca376a96ce2a62fd8...</td>\n",
       "      <td>Mozilla/5.0 (iPhone; CPU iPhone OS 14_8_1 like...</td>\n",
       "      <td>SAFARI</td>\n",
       "      <td>MOBILE_SAFARI</td>\n",
       "      <td>IOS</td>\n",
       "      <td>iOS14_IPHONE</td>\n",
       "      <td>MOBILE</td>\n",
       "      <td>[]</td>\n",
       "      <td>\"2022-01-02T22:15:17.010Z\"</td>\n",
       "      <td>[ { \"page_id\": \"home\", \"page_view_type\": \"HOME...</td>\n",
       "      <td>BCAI</td>\n",
       "      <td>NaN</td>\n",
       "    </tr>\n",
       "    <tr>\n",
       "      <th>24383</th>\n",
       "      <td>65</td>\n",
       "      <td>30b7b9d8f303345817f6902f719456ac4728155ff5d29d...</td>\n",
       "      <td>2022-01-10 13:36:10.451</td>\n",
       "      <td>2127</td>\n",
       "      <td>CHECKOUT</td>\n",
       "      <td>orders.other</td>\n",
       "      <td>a3dcdf1b80fc9cad17b1fccc408a0babf8ebf2eabacd19...</td>\n",
       "      <td>d58488ba16f04068467fc9584192c970a65cbaf13755b0...</td>\n",
       "      <td>Mozilla/5.0 (Windows NT 10.0; Win64; x64) Appl...</td>\n",
       "      <td>CHROME</td>\n",
       "      <td>CHROME9</td>\n",
       "      <td>WINDOWS</td>\n",
       "      <td>WINDOWS_10</td>\n",
       "      <td>COMPUTER</td>\n",
       "      <td>[]</td>\n",
       "      <td>\"2021-12-08T07:04:27.411Z\"</td>\n",
       "      <td>[ { \"page_id\": \"collections.other\", \"page_view...</td>\n",
       "      <td>BCAI</td>\n",
       "      <td>NaN</td>\n",
       "    </tr>\n",
       "    <tr>\n",
       "      <th>24384</th>\n",
       "      <td>66</td>\n",
       "      <td>ea00bc0aa7d635a1071a4d70d9c6c5481c2a89be1b08be...</td>\n",
       "      <td>2022-01-10 14:30:42.806</td>\n",
       "      <td>2127</td>\n",
       "      <td>PAGES</td>\n",
       "      <td>pages</td>\n",
       "      <td>c84536ac4a36742691fa45ce1cce188dd7f6f96e765df7...</td>\n",
       "      <td>6f79fc405cf85e43045d170cdab6b4cf8eea8b77841905...</td>\n",
       "      <td>Mozilla/5.0 (Linux; U; Android 9; zh-CN; ONEPL...</td>\n",
       "      <td>CHROME</td>\n",
       "      <td>CHROME57</td>\n",
       "      <td>ANDROID</td>\n",
       "      <td>ANDROID_MOBILE</td>\n",
       "      <td>MOBILE</td>\n",
       "      <td>None</td>\n",
       "      <td>None</td>\n",
       "      <td>None</td>\n",
       "      <td>BCAI</td>\n",
       "      <td>NaN</td>\n",
       "    </tr>\n",
       "  </tbody>\n",
       "</table>\n",
       "<p>24385 rows × 19 columns</p>\n",
       "</div>"
      ],
      "text/plain": [
       "       index                                                 ID  \\\n",
       "0          0  ede83a5d270615e775e58b52708338c0f1eb2f94da89ab...   \n",
       "1          1  e94b73775a847e648ce609a5c1b6cf570c3f1a7409c9ae...   \n",
       "2          2  7e139dff35f4fd9ed7163b7a03d13d8567e5f7cc83dc55...   \n",
       "3          3  ea0349ebd7617d70dd5b5b11cbf1bc9f39a12cd61c39d6...   \n",
       "4          4  d235a545583ba6227411825ae5b834de58988f74359750...   \n",
       "...      ...                                                ...   \n",
       "24380     62  65cdfe1e44559784bcd54460b19f80759f87d1fc79e5e0...   \n",
       "24381     63  48ad626fc2cc9d008cddbc544d11e9c407390ef0bf79c2...   \n",
       "24382     64  2ed125b93e03ce31d2e421066e936f828a261345b31950...   \n",
       "24383     65  30b7b9d8f303345817f6902f719456ac4728155ff5d29d...   \n",
       "24384     66  ea00bc0aa7d635a1071a4d70d9c6c5481c2a89be1b08be...   \n",
       "\n",
       "                 REQUESTED_AT  SITE_ID PAGE_VIEW_TYPE                 PAGE_ID  \\\n",
       "0     2022-01-10 23:39:41.873     2127    COLLECTIONS       collections.other   \n",
       "1     2022-01-10 17:48:12.719     2127    COLLECTIONS       collections.paged   \n",
       "2     2022-01-10 06:17:39.225     2127       PRODUCTS    collections.products   \n",
       "3     2022-01-10 05:01:04.738     2127           HOME                    home   \n",
       "4     2022-01-10 07:10:00.580     2127           HOME                    home   \n",
       "...                       ...      ...            ...                     ...   \n",
       "24380 2022-01-10 07:20:12.299     2127       CHECKOUT                checkout   \n",
       "24381 2022-01-10 11:31:41.636     2127    COLLECTIONS       collections.other   \n",
       "24382 2022-01-10 05:05:49.243     2127    COLLECTIONS  collections.newarrival   \n",
       "24383 2022-01-10 13:36:10.451     2127       CHECKOUT            orders.other   \n",
       "24384 2022-01-10 14:30:42.806     2127          PAGES                   pages   \n",
       "\n",
       "                                              SESSION_ID  \\\n",
       "0      f90554292c6cb4bac43aca4e6b9554e90cca3256949d35...   \n",
       "1      f1fc0a06609bce665fd5840caf163937919eb9c6a4d657...   \n",
       "2      352920da35b3bd0d9b5be95a5042f70bec15a6bc8f125e...   \n",
       "3      413d412eebf3a57ea7cc1c5a7b04c12a1e038b0997f2ac...   \n",
       "4      639debd659f2931e6d6a4243c4a3cf125a1056e6fef74e...   \n",
       "...                                                  ...   \n",
       "24380  991035f2a6fc8091a752dc695a6e64d0d52b36841f3ef1...   \n",
       "24381  c06dff7f6b8b7961830ce768e744b64402207fc8847e2a...   \n",
       "24382  755a83c157a0c21a7a41e8bdc6e4cd937f6177f754efa8...   \n",
       "24383  a3dcdf1b80fc9cad17b1fccc408a0babf8ebf2eabacd19...   \n",
       "24384  c84536ac4a36742691fa45ce1cce188dd7f6f96e765df7...   \n",
       "\n",
       "                                              VISITOR_ID  \\\n",
       "0      c6a9c26d7910ca9daf97a9418798877e1d79f6daba5e22...   \n",
       "1      b50db78c4459d75a734cdc8b15bff9ad665ac55a8bb5d8...   \n",
       "2      7c86bb4b01418604526a813b9415eb6ede49dfa053a6f7...   \n",
       "3      ce5afc7d044a2910497e70c79d671445db398fc4cf6af4...   \n",
       "4      daa51f8982f333f5e57571098479408d2ee20f2c929633...   \n",
       "...                                                  ...   \n",
       "24380  b0d8decbba47a862a8ac1c2fb7ada9b0efbc6220f57cbd...   \n",
       "24381  956b5858c4e671d1891216a64f6a3da1888a80a641a96d...   \n",
       "24382  a8158120e20a052a4dd8922bfb2b2ca376a96ce2a62fd8...   \n",
       "24383  d58488ba16f04068467fc9584192c970a65cbaf13755b0...   \n",
       "24384  6f79fc405cf85e43045d170cdab6b4cf8eea8b77841905...   \n",
       "\n",
       "                                              USER_AGENT BROWSER_FAMILY  \\\n",
       "0      Mozilla/5.0 (iPhone; CPU iPhone OS 15_1 like M...         CHROME   \n",
       "1      Mozilla/5.0 (iPhone; CPU iPhone OS 15_1 like M...         SAFARI   \n",
       "2      Mozilla/5.0 (iPhone; CPU iPhone OS 14_8 like M...         SAFARI   \n",
       "3      Mozilla/5.0 (iPhone; CPU iPhone OS 15_1 like M...         SAFARI   \n",
       "4      Mozilla/5.0 (Linux; Android 9; KFONWI) AppleWe...         CHROME   \n",
       "...                                                  ...            ...   \n",
       "24380  Mozilla/5.0 (Linux; Android 10; motorola one 5...         CHROME   \n",
       "24381  Mozilla/5.0 (iPhone; CPU iPhone OS 15_1 like M...         SAFARI   \n",
       "24382  Mozilla/5.0 (iPhone; CPU iPhone OS 14_8_1 like...         SAFARI   \n",
       "24383  Mozilla/5.0 (Windows NT 10.0; Win64; x64) Appl...         CHROME   \n",
       "24384  Mozilla/5.0 (Linux; U; Android 9; zh-CN; ONEPL...         CHROME   \n",
       "\n",
       "             BROWSER OS_FAMILY              OS DEVICE_FAMILY  \\\n",
       "0      CHROME_MOBILE       IOS    iOS15_IPHONE        MOBILE   \n",
       "1      MOBILE_SAFARI       IOS    iOS15_IPHONE        MOBILE   \n",
       "2      MOBILE_SAFARI       IOS    iOS14_IPHONE        MOBILE   \n",
       "3      MOBILE_SAFARI       IOS    iOS15_IPHONE        MOBILE   \n",
       "4            CHROME9   ANDROID         ANDROID        MOBILE   \n",
       "...              ...       ...             ...           ...   \n",
       "24380  CHROME_MOBILE   ANDROID        ANDROID1        MOBILE   \n",
       "24381  MOBILE_SAFARI       IOS    iOS15_IPHONE        MOBILE   \n",
       "24382  MOBILE_SAFARI       IOS    iOS14_IPHONE        MOBILE   \n",
       "24383        CHROME9   WINDOWS      WINDOWS_10      COMPUTER   \n",
       "24384       CHROME57   ANDROID  ANDROID_MOBILE        MOBILE   \n",
       "\n",
       "      CONVERSION_SUMMARIES                  FIRST_SEEN  \\\n",
       "0                       []  \"2022-01-10T05:09:25.874Z\"   \n",
       "1                       []  \"2022-01-09T18:58:12.213Z\"   \n",
       "2                     None                        None   \n",
       "3                     None                        None   \n",
       "4                     None                        None   \n",
       "...                    ...                         ...   \n",
       "24380                   []  \"2022-01-10T05:43:15.013Z\"   \n",
       "24381                   []  \"2022-01-08T21:58:37.273Z\"   \n",
       "24382                   []  \"2022-01-02T22:15:17.010Z\"   \n",
       "24383                   []  \"2021-12-08T07:04:27.411Z\"   \n",
       "24384                 None                        None   \n",
       "\n",
       "                                     PAGE_VIEW_SUMMARIES SITE_NAME  \\\n",
       "0      [ { \"page_id\": \"home\", \"page_view_type\": \"HOME...      BCAI   \n",
       "1      [ { \"page_id\": \"home\", \"page_view_type\": \"HOME...      BCAI   \n",
       "2                                                   None      BCAI   \n",
       "3                                                   None      BCAI   \n",
       "4                                                   None      BCAI   \n",
       "...                                                  ...       ...   \n",
       "24380  [ { \"page_id\": \"home\", \"page_view_type\": \"HOME...      BCAI   \n",
       "24381  [ { \"page_id\": \"home\", \"page_view_type\": \"HOME...      BCAI   \n",
       "24382  [ { \"page_id\": \"home\", \"page_view_type\": \"HOME...      BCAI   \n",
       "24383  [ { \"page_id\": \"collections.other\", \"page_view...      BCAI   \n",
       "24384                                               None      BCAI   \n",
       "\n",
       "       session_count  \n",
       "0              104.0  \n",
       "1                NaN  \n",
       "2                NaN  \n",
       "3                2.0  \n",
       "4                2.0  \n",
       "...              ...  \n",
       "24380            NaN  \n",
       "24381            NaN  \n",
       "24382            NaN  \n",
       "24383            NaN  \n",
       "24384            NaN  \n",
       "\n",
       "[24385 rows x 19 columns]"
      ]
     },
     "execution_count": 35,
     "metadata": {},
     "output_type": "execute_result"
    }
   ],
   "source": [
    "customers.merge(session_count,on='SESSION_ID',how='left')"
   ]
  },
  {
   "cell_type": "code",
   "execution_count": 43,
   "metadata": {},
   "outputs": [
    {
     "data": {
      "text/plain": [
       "home                       4654\n",
       "collections.other          4444\n",
       "collections.paged          2370\n",
       "collections.products       2047\n",
       "pages                      1661\n",
       "products.other             1630\n",
       "collections.newarrival     1587\n",
       "collections.bestsellers    1245\n",
       "cart                        906\n",
       "account                     608\n",
       "orders.other                576\n",
       "collections.oki             555\n",
       "addtocart                   491\n",
       "checkout                    463\n",
       "confirmation                460\n",
       "other                       193\n",
       "collections.tools           118\n",
       "collections.hair            113\n",
       "search                       87\n",
       "collections.stationary       86\n",
       "collections.bath             77\n",
       "collections.socks            14\n",
       "Name: PAGE_ID, dtype: int64"
      ]
     },
     "execution_count": 43,
     "metadata": {},
     "output_type": "execute_result"
    }
   ],
   "source": [
    "# prefer to use the PAGE_VIEW_TYPE over this column\n",
    "customers['PAGE_ID'].value_counts()"
   ]
  },
  {
   "cell_type": "code",
   "execution_count": 40,
   "metadata": {},
   "outputs": [
    {
     "data": {
      "text/plain": [
       "2127    24385\n",
       "Name: SITE_ID, dtype: int64"
      ]
     },
     "execution_count": 40,
     "metadata": {},
     "output_type": "execute_result"
    }
   ],
   "source": [
    "customers['SITE_ID'].value_counts()"
   ]
  },
  {
   "cell_type": "code",
   "execution_count": 42,
   "metadata": {},
   "outputs": [
    {
     "data": {
      "text/plain": [
       "<AxesSubplot:>"
      ]
     },
     "execution_count": 42,
     "metadata": {},
     "output_type": "execute_result"
    },
    {
     "data": {
      "image/png": "[encoded data removed]",
      "text/plain": [
       "<Figure size 432x288 with 1 Axes>"
      ]
     },
     "metadata": {
      "needs_background": "light"
     },
     "output_type": "display_data"
    }
   ],
   "source": [
    "# people are searching on collections\n",
    "customers['PAGE_VIEW_TYPE'].value_counts().plot.bar()"
   ]
  },
  {
   "cell_type": "code",
   "execution_count": 36,
   "metadata": {},
   "outputs": [
    {
     "data": {
      "text/plain": [
       "array([datetime.date(2022, 1, 10)], dtype=object)"
      ]
     },
     "execution_count": 36,
     "metadata": {},
     "output_type": "execute_result"
    }
   ],
   "source": [
    "# the data is just for the one day\n",
    "customers['REQUESTED_AT'].dt.date.unique()"
   ]
  },
  {
   "cell_type": "markdown",
   "metadata": {},
   "source": [
    "# Processing the first seen column\n",
    "- extract the data information\n",
    "- fill in the null with the default date 1/10/22"
   ]
  },
  {
   "cell_type": "code",
   "execution_count": 5,
   "metadata": {},
   "outputs": [],
   "source": [
    "customers['first_date'] = pd.to_datetime(customers['FIRST_SEEN'].str.split('T').str.get(0).str.replace('\"',\"\")).fillna('2022-01-10')\n",
    "customers['first_month'] = customers['first_date'].dt.month\n",
    "customers['first_year'] = customers['first_date'].dt.year\n",
    "customers['first_day'] = customers['first_date'].dt.day"
   ]
  },
  {
   "cell_type": "markdown",
   "metadata": {},
   "source": [
    "## Most of the customers first arrived in the last week before the 10th\n"
   ]
  },
  {
   "cell_type": "code",
   "execution_count": 334,
   "metadata": {},
   "outputs": [
    {
     "data": {
      "image/png": "[encoded data removed]",
      "text/plain": [
       "<Figure size 1440x720 with 1 Axes>"
      ]
     },
     "metadata": {
      "needs_background": "light"
     },
     "output_type": "display_data"
    }
   ],
   "source": [
    "customers['first_date'].value_counts().sort_index().plot.bar(figsize=(20, 10))\n",
    "plt.tight_layout()"
   ]
  },
  {
   "cell_type": "markdown",
   "metadata": {},
   "source": [
    "## Getting the customer tenure on the site\n",
    "- maybe older customers are more likely to convert."
   ]
  },
  {
   "cell_type": "code",
   "execution_count": 6,
   "metadata": {},
   "outputs": [],
   "source": [
    "customers['time_first_seen'] = (pd.to_datetime('2022-01-10') - customers['first_date']).astype('str')\\\n",
    "                .str.split('days').str.get(0).astype('float')"
   ]
  },
  {
   "cell_type": "code",
   "execution_count": 39,
   "metadata": {},
   "outputs": [
    {
     "data": {
      "text/plain": [
       "count    24385.000000\n",
       "mean        10.616486\n",
       "std         27.168875\n",
       "min          0.000000\n",
       "25%          0.000000\n",
       "50%          0.000000\n",
       "75%          3.000000\n",
       "max        116.000000\n",
       "Name: time_first_seen, dtype: float64"
      ]
     },
     "execution_count": 39,
     "metadata": {},
     "output_type": "execute_result"
    }
   ],
   "source": [
    "customers['time_first_seen'].describe()"
   ]
  },
  {
   "cell_type": "markdown",
   "metadata": {},
   "source": [
    "## median tenure is 0\n",
    "- most customers are new\n",
    "- features will be have be based on the customer behavior on the site"
   ]
  },
  {
   "cell_type": "code",
   "execution_count": 40,
   "metadata": {},
   "outputs": [
    {
     "data": {
      "text/plain": [
       "<AxesSubplot:ylabel='Frequency'>"
      ]
     },
     "execution_count": 40,
     "metadata": {},
     "output_type": "execute_result"
    },
    {
     "data": {
      "image/png": "[encoded data removed]",
      "text/plain": [
       "<Figure size 432x288 with 1 Axes>"
      ]
     },
     "metadata": {
      "needs_background": "light"
     },
     "output_type": "display_data"
    }
   ],
   "source": [
    "customers['time_first_seen'].plot.hist(bins=30)"
   ]
  },
  {
   "cell_type": "code",
   "execution_count": 94,
   "metadata": {},
   "outputs": [
    {
     "data": {
      "text/plain": [
       "2022.0    15155\n",
       "2021.0     4027\n",
       "Name: first_year, dtype: int64"
      ]
     },
     "execution_count": 94,
     "metadata": {},
     "output_type": "execute_result"
    }
   ],
   "source": [
    "customers['first_year'].value_counts()"
   ]
  },
  {
   "cell_type": "code",
   "execution_count": 93,
   "metadata": {},
   "outputs": [
    {
     "data": {
      "text/plain": [
       "<AxesSubplot:>"
      ]
     },
     "execution_count": 93,
     "metadata": {},
     "output_type": "execute_result"
    },
    {
     "data": {
      "image/png": "[encoded data removed]",
      "text/plain": [
       "<Figure size 432x288 with 1 Axes>"
      ]
     },
     "metadata": {
      "needs_background": "light"
     },
     "output_type": "display_data"
    }
   ],
   "source": [
    "customers['first_month'].value_counts().plot.bar()"
   ]
  },
  {
   "cell_type": "markdown",
   "metadata": {},
   "source": [
    "## Getting the target columns\n",
    "- need the customers who transact in the next 7 days. \n",
    "- the data is for the 10th, and we need customers purchased after the 10th"
   ]
  },
  {
   "cell_type": "code",
   "execution_count": 7,
   "metadata": {},
   "outputs": [],
   "source": [
    "conversions['REQUESTED_AT'] = pd.to_datetime(conversions['REQUESTED_AT'])"
   ]
  },
  {
   "cell_type": "code",
   "execution_count": 8,
   "metadata": {},
   "outputs": [
    {
     "data": {
      "text/plain": [
       "2022-01-11    186\n",
       "2022-01-15    169\n",
       "2022-01-16    160\n",
       "2022-01-17    156\n",
       "2022-01-12     93\n",
       "2022-01-14     75\n",
       "2022-01-13     69\n",
       "Name: REQUESTED_AT, dtype: int64"
      ]
     },
     "execution_count": 8,
     "metadata": {},
     "output_type": "execute_result"
    }
   ],
   "source": [
    "next_7 = conversions[conversions['REQUESTED_AT'] > '2022-01-10']\n",
    "next_7['REQUESTED_AT'].value_counts()"
   ]
  },
  {
   "cell_type": "code",
   "execution_count": 9,
   "metadata": {},
   "outputs": [],
   "source": [
    "customers = customers.merge(next_7,on='VISITOR_ID',how='left')\n",
    "customers['target'] = customers['REQUESTED_AT_y'].notna().astype('int')"
   ]
  },
  {
   "cell_type": "code",
   "execution_count": 51,
   "metadata": {},
   "outputs": [
    {
     "data": {
      "text/plain": [
       "0    23477\n",
       "1      908\n",
       "Name: target, dtype: int64"
      ]
     },
     "execution_count": 51,
     "metadata": {},
     "output_type": "execute_result"
    }
   ],
   "source": [
    "customers['target'].value_counts()"
   ]
  },
  {
   "cell_type": "markdown",
   "metadata": {},
   "source": [
    "## Imbalanced target\n",
    "- accuracy won't capture the model metrics\n",
    "- we care more about mislabling customers who converted, so I will be focused on precision and auc\n",
    "- More focus on the precision as those are percentage of the positive labels that are actually correct"
   ]
  },
  {
   "cell_type": "code",
   "execution_count": 69,
   "metadata": {},
   "outputs": [
    {
     "data": {
      "image/png": "[encoded data removed]",
      "text/plain": [
       "<Figure size 432x288 with 1 Axes>"
      ]
     },
     "metadata": {
      "needs_background": "light"
     },
     "output_type": "display_data"
    }
   ],
   "source": [
    "sns.histplot(data=customers, x = 'PAGE_ID', hue='target', multiple=\"dodge\", \n",
    "                  stat = 'density', shrink = 0.8, common_norm=False)\n",
    "plt.xticks(rotation=90)\n",
    "plt.tight_layout()\n",
    "plt.show()"
   ]
  },
  {
   "cell_type": "markdown",
   "metadata": {},
   "source": [
    "## some page sites matter than others\n",
    "- collections.newarrival is overrepresented in those who convert\n"
   ]
  },
  {
   "cell_type": "code",
   "execution_count": 68,
   "metadata": {},
   "outputs": [
    {
     "data": {
      "image/png": "[encoded data removed]",
      "text/plain": [
       "<Figure size 432x288 with 1 Axes>"
      ]
     },
     "metadata": {
      "needs_background": "light"
     },
     "output_type": "display_data"
    }
   ],
   "source": [
    "sns.histplot(data=customers, x = 'PAGE_VIEW_TYPE', hue='target', multiple=\"dodge\", \n",
    "                  stat = 'density', shrink = 0.8, common_norm=False)\n",
    "plt.xticks(rotation=90)\n",
    "plt.tight_layout()\n",
    "plt.show()"
   ]
  },
  {
   "cell_type": "code",
   "execution_count": 56,
   "metadata": {},
   "outputs": [
    {
     "data": {
      "text/plain": [
       "<seaborn.axisgrid.FacetGrid at 0x7f9df1081790>"
      ]
     },
     "execution_count": 56,
     "metadata": {},
     "output_type": "execute_result"
    },
    {
     "data": {
      "image/png": "[encoded data removed]",
      "text/plain": [
       "<Figure size 360x360 with 1 Axes>"
      ]
     },
     "metadata": {
      "needs_background": "light"
     },
     "output_type": "display_data"
    }
   ],
   "source": [
    "sns.catplot(x=\"target\", y=\"time_first_seen\",kind=\"box\", data=customers)"
   ]
  },
  {
   "cell_type": "markdown",
   "metadata": {},
   "source": [
    "## those who convert to tend have more complex past histories."
   ]
  },
  {
   "cell_type": "markdown",
   "metadata": {},
   "source": [
    "## Baseline Model\n",
    "- go with a tree model for simplicity\n",
    "- use the customer tenure and \"DEVICE_FAMILY\",\"PAGE_VIEW_TYPE\",'OS_FAMILY' as first features"
   ]
  },
  {
   "cell_type": "code",
   "execution_count": 10,
   "metadata": {},
   "outputs": [],
   "source": [
    "X = customers\n",
    "y = customers['target']\n",
    "X_train, X_test, y_train, y_test = train_test_split(X,y, test_size=0.30, random_state=42,stratify=y)"
   ]
  },
  {
   "cell_type": "code",
   "execution_count": 188,
   "metadata": {},
   "outputs": [
    {
     "data": {
      "text/html": [
       "<style>#sk-container-id-26 {color: black;background-color: white;}#sk-container-id-26 pre{padding: 0;}#sk-container-id-26 div.sk-toggleable {background-color: white;}#sk-container-id-26 label.sk-toggleable__label {cursor: pointer;display: block;width: 100%;margin-bottom: 0;padding: 0.3em;box-sizing: border-box;text-align: center;}#sk-container-id-26 label.sk-toggleable__label-arrow:before {content: \"▸\";float: left;margin-right: 0.25em;color: #696969;}#sk-container-id-26 label.sk-toggleable__label-arrow:hover:before {color: black;}#sk-container-id-26 div.sk-estimator:hover label.sk-toggleable__label-arrow:before {color: black;}#sk-container-id-26 div.sk-toggleable__content {max-height: 0;max-width: 0;overflow: hidden;text-align: left;background-color: #f0f8ff;}#sk-container-id-26 div.sk-toggleable__content pre {margin: 0.2em;color: black;border-radius: 0.25em;background-color: #f0f8ff;}#sk-container-id-26 input.sk-toggleable__control:checked~div.sk-toggleable__content {max-height: 200px;max-width: 100%;overflow: auto;}#sk-container-id-26 input.sk-toggleable__control:checked~label.sk-toggleable__label-arrow:before {content: \"▾\";}#sk-container-id-26 div.sk-estimator input.sk-toggleable__control:checked~label.sk-toggleable__label {background-color: #d4ebff;}#sk-container-id-26 div.sk-label input.sk-toggleable__control:checked~label.sk-toggleable__label {background-color: #d4ebff;}#sk-container-id-26 input.sk-hidden--visually {border: 0;clip: rect(1px 1px 1px 1px);clip: rect(1px, 1px, 1px, 1px);height: 1px;margin: -1px;overflow: hidden;padding: 0;position: absolute;width: 1px;}#sk-container-id-26 div.sk-estimator {font-family: monospace;background-color: #f0f8ff;border: 1px dotted black;border-radius: 0.25em;box-sizing: border-box;margin-bottom: 0.5em;}#sk-container-id-26 div.sk-estimator:hover {background-color: #d4ebff;}#sk-container-id-26 div.sk-parallel-item::after {content: \"\";width: 100%;border-bottom: 1px solid gray;flex-grow: 1;}#sk-container-id-26 div.sk-label:hover label.sk-toggleable__label {background-color: #d4ebff;}#sk-container-id-26 div.sk-serial::before {content: \"\";position: absolute;border-left: 1px solid gray;box-sizing: border-box;top: 0;bottom: 0;left: 50%;z-index: 0;}#sk-container-id-26 div.sk-serial {display: flex;flex-direction: column;align-items: center;background-color: white;padding-right: 0.2em;padding-left: 0.2em;position: relative;}#sk-container-id-26 div.sk-item {position: relative;z-index: 1;}#sk-container-id-26 div.sk-parallel {display: flex;align-items: stretch;justify-content: center;background-color: white;position: relative;}#sk-container-id-26 div.sk-item::before, #sk-container-id-26 div.sk-parallel-item::before {content: \"\";position: absolute;border-left: 1px solid gray;box-sizing: border-box;top: 0;bottom: 0;left: 50%;z-index: -1;}#sk-container-id-26 div.sk-parallel-item {display: flex;flex-direction: column;z-index: 1;position: relative;background-color: white;}#sk-container-id-26 div.sk-parallel-item:first-child::after {align-self: flex-end;width: 50%;}#sk-container-id-26 div.sk-parallel-item:last-child::after {align-self: flex-start;width: 50%;}#sk-container-id-26 div.sk-parallel-item:only-child::after {width: 0;}#sk-container-id-26 div.sk-dashed-wrapped {border: 1px dashed gray;margin: 0 0.4em 0.5em 0.4em;box-sizing: border-box;padding-bottom: 0.4em;background-color: white;}#sk-container-id-26 div.sk-label label {font-family: monospace;font-weight: bold;display: inline-block;line-height: 1.2em;}#sk-container-id-26 div.sk-label-container {text-align: center;}#sk-container-id-26 div.sk-container {/* jupyter's `normalize.less` sets `[hidden] { display: none; }` but bootstrap.min.css set `[hidden] { display: none !important; }` so we also need the `!important` here to be able to override the default hidden behavior on the sphinx rendered scikit-learn.org. See: https://github.com/scikit-learn/scikit-learn/issues/21755 */display: inline-block !important;position: relative;}#sk-container-id-26 div.sk-text-repr-fallback {display: none;}</style><div id=\"sk-container-id-26\" class=\"sk-top-container\"><div class=\"sk-text-repr-fallback\"><pre>Pipeline(steps=[(&#x27;preprocess&#x27;,\n",
       "                 ColumnTransformer(transformers=[(&#x27;cat&#x27;,\n",
       "                                                  OrdinalEncoder(handle_unknown=&#x27;use_encoded_value&#x27;,\n",
       "                                                                 unknown_value=-1),\n",
       "                                                  [&#x27;DEVICE_FAMILY&#x27;, &#x27;PAGE_ID&#x27;,\n",
       "                                                   &#x27;OS_FAMILY&#x27;]),\n",
       "                                                 (&#x27;num&#x27;, SimpleImputer(),\n",
       "                                                  [&#x27;time_first_seen&#x27;])])),\n",
       "                (&#x27;classifier&#x27;,\n",
       "                 RandomForestClassifier(class_weight=&#x27;balanced&#x27;,\n",
       "                                        random_state=234))])</pre><b>In a Jupyter environment, please rerun this cell to show the HTML representation or trust the notebook. <br />On GitHub, the HTML representation is unable to render, please try loading this page with nbviewer.org.</b></div><div class=\"sk-container\" hidden><div class=\"sk-item sk-dashed-wrapped\"><div class=\"sk-label-container\"><div class=\"sk-label sk-toggleable\"><input class=\"sk-toggleable__control sk-hidden--visually\" id=\"sk-estimator-id-170\" type=\"checkbox\" ><label for=\"sk-estimator-id-170\" class=\"sk-toggleable__label sk-toggleable__label-arrow\">Pipeline</label><div class=\"sk-toggleable__content\"><pre>Pipeline(steps=[(&#x27;preprocess&#x27;,\n",
       "                 ColumnTransformer(transformers=[(&#x27;cat&#x27;,\n",
       "                                                  OrdinalEncoder(handle_unknown=&#x27;use_encoded_value&#x27;,\n",
       "                                                                 unknown_value=-1),\n",
       "                                                  [&#x27;DEVICE_FAMILY&#x27;, &#x27;PAGE_ID&#x27;,\n",
       "                                                   &#x27;OS_FAMILY&#x27;]),\n",
       "                                                 (&#x27;num&#x27;, SimpleImputer(),\n",
       "                                                  [&#x27;time_first_seen&#x27;])])),\n",
       "                (&#x27;classifier&#x27;,\n",
       "                 RandomForestClassifier(class_weight=&#x27;balanced&#x27;,\n",
       "                                        random_state=234))])</pre></div></div></div><div class=\"sk-serial\"><div class=\"sk-item sk-dashed-wrapped\"><div class=\"sk-label-container\"><div class=\"sk-label sk-toggleable\"><input class=\"sk-toggleable__control sk-hidden--visually\" id=\"sk-estimator-id-171\" type=\"checkbox\" ><label for=\"sk-estimator-id-171\" class=\"sk-toggleable__label sk-toggleable__label-arrow\">preprocess: ColumnTransformer</label><div class=\"sk-toggleable__content\"><pre>ColumnTransformer(transformers=[(&#x27;cat&#x27;,\n",
       "                                 OrdinalEncoder(handle_unknown=&#x27;use_encoded_value&#x27;,\n",
       "                                                unknown_value=-1),\n",
       "                                 [&#x27;DEVICE_FAMILY&#x27;, &#x27;PAGE_ID&#x27;, &#x27;OS_FAMILY&#x27;]),\n",
       "                                (&#x27;num&#x27;, SimpleImputer(), [&#x27;time_first_seen&#x27;])])</pre></div></div></div><div class=\"sk-parallel\"><div class=\"sk-parallel-item\"><div class=\"sk-item\"><div class=\"sk-label-container\"><div class=\"sk-label sk-toggleable\"><input class=\"sk-toggleable__control sk-hidden--visually\" id=\"sk-estimator-id-172\" type=\"checkbox\" ><label for=\"sk-estimator-id-172\" class=\"sk-toggleable__label sk-toggleable__label-arrow\">cat</label><div class=\"sk-toggleable__content\"><pre>[&#x27;DEVICE_FAMILY&#x27;, &#x27;PAGE_ID&#x27;, &#x27;OS_FAMILY&#x27;]</pre></div></div></div><div class=\"sk-serial\"><div class=\"sk-item\"><div class=\"sk-estimator sk-toggleable\"><input class=\"sk-toggleable__control sk-hidden--visually\" id=\"sk-estimator-id-173\" type=\"checkbox\" ><label for=\"sk-estimator-id-173\" class=\"sk-toggleable__label sk-toggleable__label-arrow\">OrdinalEncoder</label><div class=\"sk-toggleable__content\"><pre>OrdinalEncoder(handle_unknown=&#x27;use_encoded_value&#x27;, unknown_value=-1)</pre></div></div></div></div></div></div><div class=\"sk-parallel-item\"><div class=\"sk-item\"><div class=\"sk-label-container\"><div class=\"sk-label sk-toggleable\"><input class=\"sk-toggleable__control sk-hidden--visually\" id=\"sk-estimator-id-174\" type=\"checkbox\" ><label for=\"sk-estimator-id-174\" class=\"sk-toggleable__label sk-toggleable__label-arrow\">num</label><div class=\"sk-toggleable__content\"><pre>[&#x27;time_first_seen&#x27;]</pre></div></div></div><div class=\"sk-serial\"><div class=\"sk-item\"><div class=\"sk-estimator sk-toggleable\"><input class=\"sk-toggleable__control sk-hidden--visually\" id=\"sk-estimator-id-175\" type=\"checkbox\" ><label for=\"sk-estimator-id-175\" class=\"sk-toggleable__label sk-toggleable__label-arrow\">SimpleImputer</label><div class=\"sk-toggleable__content\"><pre>SimpleImputer()</pre></div></div></div></div></div></div></div></div><div class=\"sk-item\"><div class=\"sk-estimator sk-toggleable\"><input class=\"sk-toggleable__control sk-hidden--visually\" id=\"sk-estimator-id-176\" type=\"checkbox\" ><label for=\"sk-estimator-id-176\" class=\"sk-toggleable__label sk-toggleable__label-arrow\">RandomForestClassifier</label><div class=\"sk-toggleable__content\"><pre>RandomForestClassifier(class_weight=&#x27;balanced&#x27;, random_state=234)</pre></div></div></div></div></div></div></div>"
      ],
      "text/plain": [
       "Pipeline(steps=[('preprocess',\n",
       "                 ColumnTransformer(transformers=[('cat',\n",
       "                                                  OrdinalEncoder(handle_unknown='use_encoded_value',\n",
       "                                                                 unknown_value=-1),\n",
       "                                                  ['DEVICE_FAMILY', 'PAGE_ID',\n",
       "                                                   'OS_FAMILY']),\n",
       "                                                 ('num', SimpleImputer(),\n",
       "                                                  ['time_first_seen'])])),\n",
       "                ('classifier',\n",
       "                 RandomForestClassifier(class_weight='balanced',\n",
       "                                        random_state=234))])"
      ]
     },
     "execution_count": 188,
     "metadata": {},
     "output_type": "execute_result"
    }
   ],
   "source": [
    "from sklearn.model_selection import cross_val_score,cross_validate\n",
    "from sklearn.ensemble import RandomForestClassifier\n",
    "from sklearn.preprocessing import OrdinalEncoder\n",
    "from sklearn.impute import SimpleImputer\n",
    "\n",
    "numeric_features = [\"time_first_seen\"]\n",
    "categorical_features = [\"DEVICE_FAMILY\",\"PAGE_ID\",'OS_FAMILY']\n",
    "\n",
    "categorical_encoder = OrdinalEncoder(\n",
    "    handle_unknown=\"use_encoded_value\", unknown_value=-1)\n",
    "\n",
    "# categorical_encoder =OneHotEncoder(handle_unknown=\"ignore\")\n",
    "numerical_pipe = SimpleImputer(strategy=\"mean\")\n",
    "\n",
    "preprocessing = ColumnTransformer(\n",
    "    [\n",
    "        (\"cat\", categorical_encoder, categorical_features),\n",
    "        (\"num\", numerical_pipe, numeric_features),\n",
    "    ],\n",
    "    remainder=\"drop\",\n",
    ")\n",
    "\n",
    "rf = Pipeline(\n",
    "    [\n",
    "        (\"preprocess\", preprocessing),\n",
    "        (\"classifier\", RandomForestClassifier(random_state=234,class_weight='balanced')),\n",
    "    ]\n",
    ")\n",
    "\n",
    "results = cross_validate(rf, X_train, y_train, cv=3,scoring=['roc_auc','recall','precision'])\n",
    "rf.fit(X_train, y_train.values.ravel())\n"
   ]
  },
  {
   "cell_type": "code",
   "execution_count": 189,
   "metadata": {},
   "outputs": [
    {
     "data": {
      "text/plain": [
       "{'fit_time': array([0.35581303, 0.37858081, 0.39329267]),\n",
       " 'score_time': array([0.10770321, 0.1219883 , 0.11775208]),\n",
       " 'test_roc_auc': array([0.45888701, 0.51745619, 0.49169469]),\n",
       " 'test_recall': array([0.1745283 , 0.14150943, 0.19339623]),\n",
       " 'test_precision': array([0.0729783 , 0.07792208, 0.09234234])}"
      ]
     },
     "execution_count": 189,
     "metadata": {},
     "output_type": "execute_result"
    }
   ],
   "source": [
    "results"
   ]
  },
  {
   "cell_type": "code",
   "execution_count": 190,
   "metadata": {},
   "outputs": [
    {
     "data": {
      "text/plain": [
       "0.08108090800398493"
      ]
     },
     "execution_count": 190,
     "metadata": {},
     "output_type": "execute_result"
    }
   ],
   "source": [
    "results['test_precision'].mean()"
   ]
  },
  {
   "cell_type": "code",
   "execution_count": 191,
   "metadata": {},
   "outputs": [
    {
     "name": "stdout",
     "output_type": "stream",
     "text": [
      "accuracy 0.8933843630399125 precision 0.09032258064516129 recall 0.20588235294117646 auc 0.4966648712295822\n",
      "confusion matrix\n"
     ]
    },
    {
     "data": {
      "text/plain": [
       "array([[6480,  564],\n",
       "       [ 216,   56]])"
      ]
     },
     "execution_count": 191,
     "metadata": {},
     "output_type": "execute_result"
    }
   ],
   "source": [
    "## results on the validation set\n",
    "y_true = y_test\n",
    "y_preds = rf.predict(X_test)\n",
    "\n",
    "accuracy = accuracy_score(y_true,y_preds)\n",
    "precision = precision_score(y_true,y_preds)\n",
    "recall = recall_score(y_true,y_preds)\n",
    "auc = roc_auc_score(y_true,rf.predict_proba(X_test)[:, 1])\n",
    "\n",
    "print('accuracy',accuracy,'precision',precision,'recall',recall,'auc',auc)\n",
    "\n",
    "print(\"confusion matrix\")\n",
    "confusion_matrix(y_true,y_preds)"
   ]
  },
  {
   "cell_type": "markdown",
   "metadata": {},
   "source": [
    "## The precision is really low on the order of 10%\n",
    "- Let's see about using a more complicated model\n",
    "- we see below that the most relevant feature is the customer tenure"
   ]
  },
  {
   "cell_type": "code",
   "execution_count": 192,
   "metadata": {},
   "outputs": [
    {
     "data": {
      "image/png": "[encoded data removed]",
      "text/plain": [
       "<Figure size 432x288 with 1 Axes>"
      ]
     },
     "metadata": {
      "needs_background": "light"
     },
     "output_type": "display_data"
    }
   ],
   "source": [
    "feature_names = rf[:-1].get_feature_names_out()\n",
    "\n",
    "mdi_importances = pd.Series(\n",
    "    rf[-1].feature_importances_, index=feature_names\n",
    ").sort_values(ascending=True)\n",
    "\n",
    "ax = mdi_importances.plot.barh()\n",
    "ax.set_title(\"Random Forest Feature Importances (MDI)\")\n",
    "ax.figure.tight_layout()\n",
    "plt.show()"
   ]
  },
  {
   "cell_type": "markdown",
   "metadata": {},
   "source": [
    "## Add more features\n",
    "- use the summaries columns to see if we can add more features"
   ]
  },
  {
   "cell_type": "code",
   "execution_count": 37,
   "metadata": {},
   "outputs": [
    {
     "data": {
      "text/html": [
       "<div>\n",
       "<style scoped>\n",
       "    .dataframe tbody tr th:only-of-type {\n",
       "        vertical-align: middle;\n",
       "    }\n",
       "\n",
       "    .dataframe tbody tr th {\n",
       "        vertical-align: top;\n",
       "    }\n",
       "\n",
       "    .dataframe thead th {\n",
       "        text-align: right;\n",
       "    }\n",
       "</style>\n",
       "<table border=\"1\" class=\"dataframe\">\n",
       "  <thead>\n",
       "    <tr style=\"text-align: right;\">\n",
       "      <th></th>\n",
       "      <th>CONVERSION_SUMMARIES</th>\n",
       "      <th>VISITOR_ID</th>\n",
       "    </tr>\n",
       "  </thead>\n",
       "  <tbody>\n",
       "    <tr>\n",
       "      <th>5</th>\n",
       "      <td>[ { \"conversion_value\": 33.95, \"product_catego...</td>\n",
       "      <td>67f65c24a22a496c12c8af56f175e3a6c268ff8527af39...</td>\n",
       "    </tr>\n",
       "    <tr>\n",
       "      <th>12</th>\n",
       "      <td>[ { \"conversion_value\": 19, \"product_category_...</td>\n",
       "      <td>e3d8633d91c7736f008cc9546ca939bd3777362493068d...</td>\n",
       "    </tr>\n",
       "    <tr>\n",
       "      <th>39</th>\n",
       "      <td>[ { \"conversion_value\": 40.61, \"product_catego...</td>\n",
       "      <td>6e4dc224b794e066bfdef1e18bc631445ee44f7f58ba24...</td>\n",
       "    </tr>\n",
       "    <tr>\n",
       "      <th>41</th>\n",
       "      <td>[ { \"conversion_value\": 37.91, \"product_catego...</td>\n",
       "      <td>80f2529b717d94acc94a4f4a03a16b437aa83bc0b82c30...</td>\n",
       "    </tr>\n",
       "    <tr>\n",
       "      <th>49</th>\n",
       "      <td>[ { \"conversion_value\": 8.93, \"product_categor...</td>\n",
       "      <td>36dfa7ff136ab7819824b63b0a0eea723d84d01df7f14f...</td>\n",
       "    </tr>\n",
       "  </tbody>\n",
       "</table>\n",
       "</div>"
      ],
      "text/plain": [
       "                                 CONVERSION_SUMMARIES  \\\n",
       "5   [ { \"conversion_value\": 33.95, \"product_catego...   \n",
       "12  [ { \"conversion_value\": 19, \"product_category_...   \n",
       "39  [ { \"conversion_value\": 40.61, \"product_catego...   \n",
       "41  [ { \"conversion_value\": 37.91, \"product_catego...   \n",
       "49  [ { \"conversion_value\": 8.93, \"product_categor...   \n",
       "\n",
       "                                           VISITOR_ID  \n",
       "5   67f65c24a22a496c12c8af56f175e3a6c268ff8527af39...  \n",
       "12  e3d8633d91c7736f008cc9546ca939bd3777362493068d...  \n",
       "39  6e4dc224b794e066bfdef1e18bc631445ee44f7f58ba24...  \n",
       "41  80f2529b717d94acc94a4f4a03a16b437aa83bc0b82c30...  \n",
       "49  36dfa7ff136ab7819824b63b0a0eea723d84d01df7f14f...  "
      ]
     },
     "execution_count": 37,
     "metadata": {},
     "output_type": "execute_result"
    }
   ],
   "source": [
    "# get rows that aren't null\n",
    "summaries = customers[(customers['CONVERSION_SUMMARIES'] != '[]') & customers['CONVERSION_SUMMARIES'].notna()]\\\n",
    "            [['CONVERSION_SUMMARIES','VISITOR_ID']]\n",
    "summaries.head()"
   ]
  },
  {
   "cell_type": "code",
   "execution_count": 38,
   "metadata": {},
   "outputs": [],
   "source": [
    "# get the latest conversion date.  \n",
    "summaries['last_conversion_date']= pd.to_datetime(summaries['CONVERSION_SUMMARIES'].apply(ast.literal_eval)\\\n",
    ".apply(lambda x:x[-1]['requested_at']).str.split('T').str.get(0).str.replace('\"',\"\"))"
   ]
  },
  {
   "cell_type": "code",
   "execution_count": 39,
   "metadata": {},
   "outputs": [],
   "source": [
    "# get the last conversion value\n",
    "summaries['num_conversions'] = summaries['CONVERSION_SUMMARIES'].apply(ast.literal_eval)\\\n",
    ".apply(lambda x:len(x))"
   ]
  },
  {
   "cell_type": "code",
   "execution_count": 40,
   "metadata": {},
   "outputs": [],
   "source": [
    "# get the mean of the conversion value\n",
    "summaries['mean_conversion_value'] = summaries['CONVERSION_SUMMARIES'].apply(ast.literal_eval)\\\n",
    ".apply(lambda x:np.mean([a['conversion_value'] for a in x]))"
   ]
  },
  {
   "cell_type": "code",
   "execution_count": 431,
   "metadata": {},
   "outputs": [],
   "source": [
    "cus_summaries = customers.join(summaries[['last_conversion_date','last_conversion_value','mean_conversion_value']],)"
   ]
  },
  {
   "cell_type": "markdown",
   "metadata": {},
   "source": [
    "## Look at the page summaries as well"
   ]
  },
  {
   "cell_type": "code",
   "execution_count": 42,
   "metadata": {},
   "outputs": [
    {
     "data": {
      "text/html": [
       "<div>\n",
       "<style scoped>\n",
       "    .dataframe tbody tr th:only-of-type {\n",
       "        vertical-align: middle;\n",
       "    }\n",
       "\n",
       "    .dataframe tbody tr th {\n",
       "        vertical-align: top;\n",
       "    }\n",
       "\n",
       "    .dataframe thead th {\n",
       "        text-align: right;\n",
       "    }\n",
       "</style>\n",
       "<table border=\"1\" class=\"dataframe\">\n",
       "  <thead>\n",
       "    <tr style=\"text-align: right;\">\n",
       "      <th></th>\n",
       "      <th>PAGE_VIEW_SUMMARIES</th>\n",
       "      <th>VISITOR_ID</th>\n",
       "    </tr>\n",
       "  </thead>\n",
       "  <tbody>\n",
       "    <tr>\n",
       "      <th>0</th>\n",
       "      <td>[ { \"page_id\": \"home\", \"page_view_type\": \"HOME...</td>\n",
       "      <td>c6a9c26d7910ca9daf97a9418798877e1d79f6daba5e22...</td>\n",
       "    </tr>\n",
       "    <tr>\n",
       "      <th>1</th>\n",
       "      <td>[ { \"page_id\": \"home\", \"page_view_type\": \"HOME...</td>\n",
       "      <td>b50db78c4459d75a734cdc8b15bff9ad665ac55a8bb5d8...</td>\n",
       "    </tr>\n",
       "    <tr>\n",
       "      <th>5</th>\n",
       "      <td>[ { \"page_id\": \"collections.other\", \"page_view...</td>\n",
       "      <td>67f65c24a22a496c12c8af56f175e3a6c268ff8527af39...</td>\n",
       "    </tr>\n",
       "    <tr>\n",
       "      <th>6</th>\n",
       "      <td>[ { \"page_id\": \"collections.other\", \"page_view...</td>\n",
       "      <td>1168fa28d9c9720268efa50a1f88cf50c25fd9f1ebbcf7...</td>\n",
       "    </tr>\n",
       "    <tr>\n",
       "      <th>8</th>\n",
       "      <td>[ { \"page_id\": \"collections.other\", \"page_view...</td>\n",
       "      <td>a3f731c129f76663acf4c5ed992c541fc75a3ef79ccf3d...</td>\n",
       "    </tr>\n",
       "    <tr>\n",
       "      <th>...</th>\n",
       "      <td>...</td>\n",
       "      <td>...</td>\n",
       "    </tr>\n",
       "    <tr>\n",
       "      <th>24379</th>\n",
       "      <td>[ { \"page_id\": \"collections.other\", \"page_view...</td>\n",
       "      <td>f546ddf9afc3bd0af55b309f4707e70910ab269dc6f88b...</td>\n",
       "    </tr>\n",
       "    <tr>\n",
       "      <th>24380</th>\n",
       "      <td>[ { \"page_id\": \"home\", \"page_view_type\": \"HOME...</td>\n",
       "      <td>b0d8decbba47a862a8ac1c2fb7ada9b0efbc6220f57cbd...</td>\n",
       "    </tr>\n",
       "    <tr>\n",
       "      <th>24381</th>\n",
       "      <td>[ { \"page_id\": \"home\", \"page_view_type\": \"HOME...</td>\n",
       "      <td>956b5858c4e671d1891216a64f6a3da1888a80a641a96d...</td>\n",
       "    </tr>\n",
       "    <tr>\n",
       "      <th>24382</th>\n",
       "      <td>[ { \"page_id\": \"home\", \"page_view_type\": \"HOME...</td>\n",
       "      <td>a8158120e20a052a4dd8922bfb2b2ca376a96ce2a62fd8...</td>\n",
       "    </tr>\n",
       "    <tr>\n",
       "      <th>24383</th>\n",
       "      <td>[ { \"page_id\": \"collections.other\", \"page_view...</td>\n",
       "      <td>d58488ba16f04068467fc9584192c970a65cbaf13755b0...</td>\n",
       "    </tr>\n",
       "  </tbody>\n",
       "</table>\n",
       "<p>19182 rows × 2 columns</p>\n",
       "</div>"
      ],
      "text/plain": [
       "                                     PAGE_VIEW_SUMMARIES  \\\n",
       "0      [ { \"page_id\": \"home\", \"page_view_type\": \"HOME...   \n",
       "1      [ { \"page_id\": \"home\", \"page_view_type\": \"HOME...   \n",
       "5      [ { \"page_id\": \"collections.other\", \"page_view...   \n",
       "6      [ { \"page_id\": \"collections.other\", \"page_view...   \n",
       "8      [ { \"page_id\": \"collections.other\", \"page_view...   \n",
       "...                                                  ...   \n",
       "24379  [ { \"page_id\": \"collections.other\", \"page_view...   \n",
       "24380  [ { \"page_id\": \"home\", \"page_view_type\": \"HOME...   \n",
       "24381  [ { \"page_id\": \"home\", \"page_view_type\": \"HOME...   \n",
       "24382  [ { \"page_id\": \"home\", \"page_view_type\": \"HOME...   \n",
       "24383  [ { \"page_id\": \"collections.other\", \"page_view...   \n",
       "\n",
       "                                              VISITOR_ID  \n",
       "0      c6a9c26d7910ca9daf97a9418798877e1d79f6daba5e22...  \n",
       "1      b50db78c4459d75a734cdc8b15bff9ad665ac55a8bb5d8...  \n",
       "5      67f65c24a22a496c12c8af56f175e3a6c268ff8527af39...  \n",
       "6      1168fa28d9c9720268efa50a1f88cf50c25fd9f1ebbcf7...  \n",
       "8      a3f731c129f76663acf4c5ed992c541fc75a3ef79ccf3d...  \n",
       "...                                                  ...  \n",
       "24379  f546ddf9afc3bd0af55b309f4707e70910ab269dc6f88b...  \n",
       "24380  b0d8decbba47a862a8ac1c2fb7ada9b0efbc6220f57cbd...  \n",
       "24381  956b5858c4e671d1891216a64f6a3da1888a80a641a96d...  \n",
       "24382  a8158120e20a052a4dd8922bfb2b2ca376a96ce2a62fd8...  \n",
       "24383  d58488ba16f04068467fc9584192c970a65cbaf13755b0...  \n",
       "\n",
       "[19182 rows x 2 columns]"
      ]
     },
     "execution_count": 42,
     "metadata": {},
     "output_type": "execute_result"
    }
   ],
   "source": [
    "page_summaries = customers[(customers['PAGE_VIEW_SUMMARIES'] != '[]') & customers['PAGE_VIEW_SUMMARIES'].notna()]\\\n",
    "                [['PAGE_VIEW_SUMMARIES','VISITOR_ID']]\n",
    "page_summaries"
   ]
  },
  {
   "cell_type": "code",
   "execution_count": 43,
   "metadata": {},
   "outputs": [],
   "source": [
    "# get all the page view lists\n",
    "page_summaries['page_view_type_list'] = page_summaries['PAGE_VIEW_SUMMARIES'].apply(ast.literal_eval)\\\n",
    ".apply(lambda x:[a['page_view_type'] for a in x])"
   ]
  },
  {
   "cell_type": "code",
   "execution_count": 44,
   "metadata": {},
   "outputs": [],
   "source": [
    "page_summaries['page_id_list'] = page_summaries['PAGE_VIEW_SUMMARIES'].apply(ast.literal_eval)\\\n",
    ".apply(lambda x:[a['page_id'] for a in x])"
   ]
  },
  {
   "cell_type": "code",
   "execution_count": 45,
   "metadata": {},
   "outputs": [],
   "source": [
    "page_summaries['pages_times'] = page_summaries['PAGE_VIEW_SUMMARIES'].apply(ast.literal_eval)\\\n",
    ".apply(lambda x:[a['requested_at'] for a in x])"
   ]
  },
  {
   "cell_type": "code",
   "execution_count": 46,
   "metadata": {},
   "outputs": [],
   "source": [
    "page_summaries['count_pages'] = page_summaries['PAGE_VIEW_SUMMARIES'].apply(ast.literal_eval)\\\n",
    ".apply(lambda x:len(x))"
   ]
  },
  {
   "cell_type": "code",
   "execution_count": 438,
   "metadata": {},
   "outputs": [
    {
     "data": {
      "text/plain": [
       "Index(['index', 'ID', 'REQUESTED_AT', 'SITE_ID', 'PAGE_VIEW_TYPE', 'PAGE_ID',\n",
       "       'SESSION_ID', 'VISITOR_ID', 'USER_AGENT', 'BROWSER_FAMILY', 'BROWSER',\n",
       "       'OS_FAMILY', 'OS', 'DEVICE_FAMILY', 'CONVERSION_SUMMARIES',\n",
       "       'FIRST_SEEN', 'PAGE_VIEW_SUMMARIES', 'SITE_NAME', 'first_date',\n",
       "       'first_month', 'first_year', 'first_day', 'time_first_seen',\n",
       "       'page_view_type_list', 'page_id_list', 'pages_times', 'count_pages'],\n",
       "      dtype='object')"
      ]
     },
     "execution_count": 438,
     "metadata": {},
     "output_type": "execute_result"
    }
   ],
   "source": [
    "page_summaries.columns"
   ]
  },
  {
   "cell_type": "code",
   "execution_count": 47,
   "metadata": {},
   "outputs": [],
   "source": [
    "page_summaries['count_conversion'] = page_summaries['page_view_type_list'].apply(lambda x : sum([1 for a in x if a =='CONVERSION']))"
   ]
  },
  {
   "cell_type": "code",
   "execution_count": 56,
   "metadata": {},
   "outputs": [],
   "source": [
    "page_summaries['count_cart'] = page_summaries['page_id_list'].apply(lambda x : sum([1 for a in x if a =='cart']))\n",
    "page_summaries['count_new'] = page_summaries['page_id_list'].apply(lambda x : sum([1 for a in x if a =='collections.newarrival']))\n",
    "page_summaries['count_confirmation'] = page_summaries['page_id_list'].apply(lambda x : sum([1 for a in x if a =='confirmation']))\n"
   ]
  },
  {
   "cell_type": "code",
   "execution_count": 48,
   "metadata": {},
   "outputs": [],
   "source": [
    "page_summaries['count_addcart'] = page_summaries['page_id_list'].apply(lambda x : sum([1 for a in x if a =='addtocart']))"
   ]
  },
  {
   "cell_type": "code",
   "execution_count": 49,
   "metadata": {},
   "outputs": [],
   "source": [
    "page_summaries['count_checkout'] = page_summaries['page_view_type_list'].apply(lambda x : sum([1 for a in x if a =='CHECKOUT']))"
   ]
  },
  {
   "cell_type": "code",
   "execution_count": 50,
   "metadata": {},
   "outputs": [],
   "source": [
    "summaries['time_conversion'] = (pd.to_datetime('2022-01-10') - summaries['last_conversion_date']).astype('str').str.split('days').str.get(0)"
   ]
  },
  {
   "cell_type": "code",
   "execution_count": 63,
   "metadata": {},
   "outputs": [],
   "source": [
    "cus_summaries = customers.merge(summaries[['VISITOR_ID', 'last_conversion_date',\n",
    "       'num_conversions', 'mean_conversion_value', 'time_conversion']],on='VISITOR_ID',how='left')\\\n",
    ".merge(page_summaries[['VISITOR_ID', 'page_view_type_list',\n",
    "       'page_id_list', 'pages_times', 'count_pages', 'count_conversion',\n",
    "       'count_addcart', 'count_checkout', 'count_cart', 'count_new',\n",
    "       'count_confirmation']],on='VISITOR_ID',how='left')\\\n",
    "\n"
   ]
  },
  {
   "cell_type": "code",
   "execution_count": 64,
   "metadata": {},
   "outputs": [
    {
     "data": {
      "text/plain": [
       "Index(['index', 'ID', 'REQUESTED_AT_x', 'SITE_ID', 'PAGE_VIEW_TYPE', 'PAGE_ID',\n",
       "       'SESSION_ID', 'VISITOR_ID', 'USER_AGENT', 'BROWSER_FAMILY', 'BROWSER',\n",
       "       'OS_FAMILY', 'OS', 'DEVICE_FAMILY', 'CONVERSION_SUMMARIES',\n",
       "       'FIRST_SEEN', 'PAGE_VIEW_SUMMARIES', 'SITE_NAME', 'first_date',\n",
       "       'first_month', 'first_year', 'first_day', 'time_first_seen',\n",
       "       'REQUESTED_AT_y', 'target', 'last_conversion_date', 'num_conversions',\n",
       "       'mean_conversion_value', 'time_conversion', 'page_view_type_list',\n",
       "       'page_id_list', 'pages_times', 'count_pages', 'count_conversion',\n",
       "       'count_addcart', 'count_checkout', 'count_cart', 'count_new',\n",
       "       'count_confirmation'],\n",
       "      dtype='object')"
      ]
     },
     "execution_count": 64,
     "metadata": {},
     "output_type": "execute_result"
    }
   ],
   "source": [
    "cus_summaries.columns"
   ]
  },
  {
   "cell_type": "markdown",
   "metadata": {},
   "source": [
    "## we have to resolve the nulls in the new columns"
   ]
  },
  {
   "cell_type": "code",
   "execution_count": 65,
   "metadata": {},
   "outputs": [
    {
     "data": {
      "text/plain": [
       "count    2221.000000\n",
       "mean       25.094102\n",
       "std        25.609870\n",
       "min         0.000000\n",
       "25%         3.000000\n",
       "50%        14.000000\n",
       "75%        44.000000\n",
       "max       116.000000\n",
       "Name: time_conversion, dtype: float64"
      ]
     },
     "execution_count": 65,
     "metadata": {},
     "output_type": "execute_result"
    }
   ],
   "source": [
    "cus_summaries['time_conversion'] = cus_summaries['time_conversion'].astype('float')\n",
    "cus_summaries['time_conversion'].describe()\n",
    "# cus_summaries['time_conversion'].fillna()"
   ]
  },
  {
   "cell_type": "code",
   "execution_count": 66,
   "metadata": {},
   "outputs": [],
   "source": [
    "# default max time for time of latest conversion\n",
    "cus_summaries['time_conversion'].fillna(200,inplace=True)"
   ]
  },
  {
   "cell_type": "code",
   "execution_count": 67,
   "metadata": {},
   "outputs": [
    {
     "data": {
      "text/plain": [
       "True     22164\n",
       "False     2221\n",
       "Name: mean_conversion_value, dtype: int64"
      ]
     },
     "execution_count": 67,
     "metadata": {},
     "output_type": "execute_result"
    }
   ],
   "source": [
    "cus_summaries['mean_conversion_value'].isnull().value_counts()"
   ]
  },
  {
   "cell_type": "code",
   "execution_count": 68,
   "metadata": {},
   "outputs": [],
   "source": [
    "# null conversions are 0\n",
    "cus_summaries['mean_conversion_value'].fillna(0,inplace=True)"
   ]
  },
  {
   "cell_type": "code",
   "execution_count": 69,
   "metadata": {},
   "outputs": [
    {
     "data": {
      "text/plain": [
       "False    19182\n",
       "True      5203\n",
       "Name: count_pages, dtype: int64"
      ]
     },
     "execution_count": 69,
     "metadata": {},
     "output_type": "execute_result"
    }
   ],
   "source": [
    "cus_summaries['count_pages'].isnull().value_counts()"
   ]
  },
  {
   "cell_type": "code",
   "execution_count": 70,
   "metadata": {},
   "outputs": [
    {
     "data": {
      "text/plain": [
       "False    19182\n",
       "True      5203\n",
       "Name: count_conversion, dtype: int64"
      ]
     },
     "execution_count": 70,
     "metadata": {},
     "output_type": "execute_result"
    }
   ],
   "source": [
    "cus_summaries['count_conversion'].isnull().value_counts()"
   ]
  },
  {
   "cell_type": "code",
   "execution_count": 74,
   "metadata": {},
   "outputs": [],
   "source": [
    "cus_summaries['count_pages'].fillna(0,inplace=True)\n",
    "cus_summaries['count_conversion'].fillna(0,inplace=True)\n",
    "cus_summaries['count_checkout'].fillna(0,inplace=True)\n",
    "cus_summaries['count_addcart'].fillna(0,inplace=True)\n",
    "cus_summaries['count_new'].fillna(0,inplace=True)\n",
    "cus_summaries['count_cart'].fillna(0,inplace=True)\n",
    "cus_summaries['count_confirmation'].fillna(0,inplace=True)\n",
    "cus_summaries['num_conversions'].fillna(0,inplace=True)"
   ]
  },
  {
   "cell_type": "code",
   "execution_count": 75,
   "metadata": {},
   "outputs": [
    {
     "name": "stdout",
     "output_type": "stream",
     "text": [
      "<class 'pandas.core.frame.DataFrame'>\n",
      "Int64Index: 24385 entries, 0 to 24384\n",
      "Data columns (total 39 columns):\n",
      " #   Column                 Non-Null Count  Dtype         \n",
      "---  ------                 --------------  -----         \n",
      " 0   index                  24385 non-null  int64         \n",
      " 1   ID                     24385 non-null  object        \n",
      " 2   REQUESTED_AT_x         24385 non-null  datetime64[ns]\n",
      " 3   SITE_ID                24385 non-null  int16         \n",
      " 4   PAGE_VIEW_TYPE         24385 non-null  object        \n",
      " 5   PAGE_ID                24385 non-null  object        \n",
      " 6   SESSION_ID             24385 non-null  object        \n",
      " 7   VISITOR_ID             24385 non-null  object        \n",
      " 8   USER_AGENT             24385 non-null  object        \n",
      " 9   BROWSER_FAMILY         24385 non-null  object        \n",
      " 10  BROWSER                24385 non-null  object        \n",
      " 11  OS_FAMILY              24385 non-null  object        \n",
      " 12  OS                     24385 non-null  object        \n",
      " 13  DEVICE_FAMILY          24385 non-null  object        \n",
      " 14  CONVERSION_SUMMARIES   19182 non-null  object        \n",
      " 15  FIRST_SEEN             19182 non-null  object        \n",
      " 16  PAGE_VIEW_SUMMARIES    19182 non-null  object        \n",
      " 17  SITE_NAME              24385 non-null  object        \n",
      " 18  first_date             24385 non-null  datetime64[ns]\n",
      " 19  first_month            24385 non-null  int64         \n",
      " 20  first_year             24385 non-null  int64         \n",
      " 21  first_day              24385 non-null  int64         \n",
      " 22  time_first_seen        24385 non-null  float64       \n",
      " 23  REQUESTED_AT_y         908 non-null    datetime64[ns]\n",
      " 24  target                 24385 non-null  int64         \n",
      " 25  last_conversion_date   2221 non-null   datetime64[ns]\n",
      " 26  num_conversions        24385 non-null  float64       \n",
      " 27  mean_conversion_value  24385 non-null  float64       \n",
      " 28  time_conversion        24385 non-null  float64       \n",
      " 29  page_view_type_list    19182 non-null  object        \n",
      " 30  page_id_list           19182 non-null  object        \n",
      " 31  pages_times            19182 non-null  object        \n",
      " 32  count_pages            24385 non-null  float64       \n",
      " 33  count_conversion       24385 non-null  float64       \n",
      " 34  count_addcart          24385 non-null  float64       \n",
      " 35  count_checkout         24385 non-null  float64       \n",
      " 36  count_cart             24385 non-null  float64       \n",
      " 37  count_new              24385 non-null  float64       \n",
      " 38  count_confirmation     24385 non-null  float64       \n",
      "dtypes: datetime64[ns](4), float64(11), int16(1), int64(5), object(18)\n",
      "memory usage: 7.3+ MB\n"
     ]
    }
   ],
   "source": [
    "cus_summaries.info()"
   ]
  },
  {
   "cell_type": "markdown",
   "metadata": {},
   "source": [
    "## use the same train test for the same baseline model"
   ]
  },
  {
   "cell_type": "code",
   "execution_count": 76,
   "metadata": {},
   "outputs": [],
   "source": [
    "X_train_new=cus_summaries.loc[X_train.index]\n",
    "X_test_new=cus_summaries.loc[X_test.index]\n",
    "y_train_new = cus_summaries['target'].loc[X_train.index]\n",
    "y_test_new = cus_summaries['target'].loc[X_test.index]\n",
    "\n"
   ]
  },
  {
   "cell_type": "code",
   "execution_count": 78,
   "metadata": {},
   "outputs": [
    {
     "data": {
      "text/plain": [
       "Index(['index', 'ID', 'REQUESTED_AT_x', 'SITE_ID', 'PAGE_VIEW_TYPE', 'PAGE_ID',\n",
       "       'SESSION_ID', 'VISITOR_ID', 'USER_AGENT', 'BROWSER_FAMILY', 'BROWSER',\n",
       "       'OS_FAMILY', 'OS', 'DEVICE_FAMILY', 'CONVERSION_SUMMARIES',\n",
       "       'FIRST_SEEN', 'PAGE_VIEW_SUMMARIES', 'SITE_NAME', 'first_date',\n",
       "       'first_month', 'first_year', 'first_day', 'time_first_seen',\n",
       "       'REQUESTED_AT_y', 'target', 'last_conversion_date', 'num_conversions',\n",
       "       'mean_conversion_value', 'time_conversion', 'page_view_type_list',\n",
       "       'page_id_list', 'pages_times', 'count_pages', 'count_conversion',\n",
       "       'count_addcart', 'count_checkout', 'count_cart', 'count_new',\n",
       "       'count_confirmation'],\n",
       "      dtype='object')"
      ]
     },
     "execution_count": 78,
     "metadata": {},
     "output_type": "execute_result"
    }
   ],
   "source": [
    "cus_summaries.columns"
   ]
  },
  {
   "cell_type": "code",
   "execution_count": 93,
   "metadata": {},
   "outputs": [
    {
     "data": {
      "text/plain": [
       "0    23477\n",
       "1      908\n",
       "Name: target, dtype: int64"
      ]
     },
     "execution_count": 93,
     "metadata": {},
     "output_type": "execute_result"
    }
   ],
   "source": [
    "customers['target'].value_counts()"
   ]
  },
  {
   "cell_type": "code",
   "execution_count": 94,
   "metadata": {},
   "outputs": [
    {
     "data": {
      "text/plain": [
       "25.855726872246695"
      ]
     },
     "execution_count": 94,
     "metadata": {},
     "output_type": "execute_result"
    }
   ],
   "source": [
    "23477/908"
   ]
  },
  {
   "cell_type": "code",
   "execution_count": 77,
   "metadata": {},
   "outputs": [],
   "source": [
    "# try xgboost\n",
    "import xgboost as xgb"
   ]
  },
  {
   "cell_type": "code",
   "execution_count": 133,
   "metadata": {},
   "outputs": [
    {
     "data": {
      "text/html": [
       "<style>#sk-container-id-14 {color: black;background-color: white;}#sk-container-id-14 pre{padding: 0;}#sk-container-id-14 div.sk-toggleable {background-color: white;}#sk-container-id-14 label.sk-toggleable__label {cursor: pointer;display: block;width: 100%;margin-bottom: 0;padding: 0.3em;box-sizing: border-box;text-align: center;}#sk-container-id-14 label.sk-toggleable__label-arrow:before {content: \"▸\";float: left;margin-right: 0.25em;color: #696969;}#sk-container-id-14 label.sk-toggleable__label-arrow:hover:before {color: black;}#sk-container-id-14 div.sk-estimator:hover label.sk-toggleable__label-arrow:before {color: black;}#sk-container-id-14 div.sk-toggleable__content {max-height: 0;max-width: 0;overflow: hidden;text-align: left;background-color: #f0f8ff;}#sk-container-id-14 div.sk-toggleable__content pre {margin: 0.2em;color: black;border-radius: 0.25em;background-color: #f0f8ff;}#sk-container-id-14 input.sk-toggleable__control:checked~div.sk-toggleable__content {max-height: 200px;max-width: 100%;overflow: auto;}#sk-container-id-14 input.sk-toggleable__control:checked~label.sk-toggleable__label-arrow:before {content: \"▾\";}#sk-container-id-14 div.sk-estimator input.sk-toggleable__control:checked~label.sk-toggleable__label {background-color: #d4ebff;}#sk-container-id-14 div.sk-label input.sk-toggleable__control:checked~label.sk-toggleable__label {background-color: #d4ebff;}#sk-container-id-14 input.sk-hidden--visually {border: 0;clip: rect(1px 1px 1px 1px);clip: rect(1px, 1px, 1px, 1px);height: 1px;margin: -1px;overflow: hidden;padding: 0;position: absolute;width: 1px;}#sk-container-id-14 div.sk-estimator {font-family: monospace;background-color: #f0f8ff;border: 1px dotted black;border-radius: 0.25em;box-sizing: border-box;margin-bottom: 0.5em;}#sk-container-id-14 div.sk-estimator:hover {background-color: #d4ebff;}#sk-container-id-14 div.sk-parallel-item::after {content: \"\";width: 100%;border-bottom: 1px solid gray;flex-grow: 1;}#sk-container-id-14 div.sk-label:hover label.sk-toggleable__label {background-color: #d4ebff;}#sk-container-id-14 div.sk-serial::before {content: \"\";position: absolute;border-left: 1px solid gray;box-sizing: border-box;top: 0;bottom: 0;left: 50%;z-index: 0;}#sk-container-id-14 div.sk-serial {display: flex;flex-direction: column;align-items: center;background-color: white;padding-right: 0.2em;padding-left: 0.2em;position: relative;}#sk-container-id-14 div.sk-item {position: relative;z-index: 1;}#sk-container-id-14 div.sk-parallel {display: flex;align-items: stretch;justify-content: center;background-color: white;position: relative;}#sk-container-id-14 div.sk-item::before, #sk-container-id-14 div.sk-parallel-item::before {content: \"\";position: absolute;border-left: 1px solid gray;box-sizing: border-box;top: 0;bottom: 0;left: 50%;z-index: -1;}#sk-container-id-14 div.sk-parallel-item {display: flex;flex-direction: column;z-index: 1;position: relative;background-color: white;}#sk-container-id-14 div.sk-parallel-item:first-child::after {align-self: flex-end;width: 50%;}#sk-container-id-14 div.sk-parallel-item:last-child::after {align-self: flex-start;width: 50%;}#sk-container-id-14 div.sk-parallel-item:only-child::after {width: 0;}#sk-container-id-14 div.sk-dashed-wrapped {border: 1px dashed gray;margin: 0 0.4em 0.5em 0.4em;box-sizing: border-box;padding-bottom: 0.4em;background-color: white;}#sk-container-id-14 div.sk-label label {font-family: monospace;font-weight: bold;display: inline-block;line-height: 1.2em;}#sk-container-id-14 div.sk-label-container {text-align: center;}#sk-container-id-14 div.sk-container {/* jupyter's `normalize.less` sets `[hidden] { display: none; }` but bootstrap.min.css set `[hidden] { display: none !important; }` so we also need the `!important` here to be able to override the default hidden behavior on the sphinx rendered scikit-learn.org. See: https://github.com/scikit-learn/scikit-learn/issues/21755 */display: inline-block !important;position: relative;}#sk-container-id-14 div.sk-text-repr-fallback {display: none;}</style><div id=\"sk-container-id-14\" class=\"sk-top-container\"><div class=\"sk-text-repr-fallback\"><pre>Pipeline(steps=[(&#x27;preprocess&#x27;,\n",
       "                 ColumnTransformer(transformers=[(&#x27;cat&#x27;,\n",
       "                                                  OrdinalEncoder(handle_unknown=&#x27;use_encoded_value&#x27;,\n",
       "                                                                 unknown_value=-1),\n",
       "                                                  [&#x27;DEVICE_FAMILY&#x27;, &#x27;PAGE_ID&#x27;,\n",
       "                                                   &#x27;OS_FAMILY&#x27;]),\n",
       "                                                 (&#x27;num&#x27;, SimpleImputer(),\n",
       "                                                  [&#x27;time_first_seen&#x27;,\n",
       "                                                   &#x27;mean_conversion_value&#x27;,\n",
       "                                                   &#x27;time_conversion&#x27;,\n",
       "                                                   &#x27;count_pages&#x27;,\n",
       "                                                   &#x27;count_addcart&#x27;,\n",
       "                                                   &#x27;count_checkout&#x27;,\n",
       "                                                   &#x27;count_cart&#x27;, &#x27;count_new&#x27;,\n",
       "                                                   &#x27;count_confirmation&#x27;])])),\n",
       "                (&#x27;classifier&#x27;,\n",
       "                 RandomForestClassifier(class_weight=&#x27;balanced_subsample&#x27;,\n",
       "                                        random_state=234))])</pre><b>In a Jupyter environment, please rerun this cell to show the HTML representation or trust the notebook. <br />On GitHub, the HTML representation is unable to render, please try loading this page with nbviewer.org.</b></div><div class=\"sk-container\" hidden><div class=\"sk-item sk-dashed-wrapped\"><div class=\"sk-label-container\"><div class=\"sk-label sk-toggleable\"><input class=\"sk-toggleable__control sk-hidden--visually\" id=\"sk-estimator-id-92\" type=\"checkbox\" ><label for=\"sk-estimator-id-92\" class=\"sk-toggleable__label sk-toggleable__label-arrow\">Pipeline</label><div class=\"sk-toggleable__content\"><pre>Pipeline(steps=[(&#x27;preprocess&#x27;,\n",
       "                 ColumnTransformer(transformers=[(&#x27;cat&#x27;,\n",
       "                                                  OrdinalEncoder(handle_unknown=&#x27;use_encoded_value&#x27;,\n",
       "                                                                 unknown_value=-1),\n",
       "                                                  [&#x27;DEVICE_FAMILY&#x27;, &#x27;PAGE_ID&#x27;,\n",
       "                                                   &#x27;OS_FAMILY&#x27;]),\n",
       "                                                 (&#x27;num&#x27;, SimpleImputer(),\n",
       "                                                  [&#x27;time_first_seen&#x27;,\n",
       "                                                   &#x27;mean_conversion_value&#x27;,\n",
       "                                                   &#x27;time_conversion&#x27;,\n",
       "                                                   &#x27;count_pages&#x27;,\n",
       "                                                   &#x27;count_addcart&#x27;,\n",
       "                                                   &#x27;count_checkout&#x27;,\n",
       "                                                   &#x27;count_cart&#x27;, &#x27;count_new&#x27;,\n",
       "                                                   &#x27;count_confirmation&#x27;])])),\n",
       "                (&#x27;classifier&#x27;,\n",
       "                 RandomForestClassifier(class_weight=&#x27;balanced_subsample&#x27;,\n",
       "                                        random_state=234))])</pre></div></div></div><div class=\"sk-serial\"><div class=\"sk-item sk-dashed-wrapped\"><div class=\"sk-label-container\"><div class=\"sk-label sk-toggleable\"><input class=\"sk-toggleable__control sk-hidden--visually\" id=\"sk-estimator-id-93\" type=\"checkbox\" ><label for=\"sk-estimator-id-93\" class=\"sk-toggleable__label sk-toggleable__label-arrow\">preprocess: ColumnTransformer</label><div class=\"sk-toggleable__content\"><pre>ColumnTransformer(transformers=[(&#x27;cat&#x27;,\n",
       "                                 OrdinalEncoder(handle_unknown=&#x27;use_encoded_value&#x27;,\n",
       "                                                unknown_value=-1),\n",
       "                                 [&#x27;DEVICE_FAMILY&#x27;, &#x27;PAGE_ID&#x27;, &#x27;OS_FAMILY&#x27;]),\n",
       "                                (&#x27;num&#x27;, SimpleImputer(),\n",
       "                                 [&#x27;time_first_seen&#x27;, &#x27;mean_conversion_value&#x27;,\n",
       "                                  &#x27;time_conversion&#x27;, &#x27;count_pages&#x27;,\n",
       "                                  &#x27;count_addcart&#x27;, &#x27;count_checkout&#x27;,\n",
       "                                  &#x27;count_cart&#x27;, &#x27;count_new&#x27;,\n",
       "                                  &#x27;count_confirmation&#x27;])])</pre></div></div></div><div class=\"sk-parallel\"><div class=\"sk-parallel-item\"><div class=\"sk-item\"><div class=\"sk-label-container\"><div class=\"sk-label sk-toggleable\"><input class=\"sk-toggleable__control sk-hidden--visually\" id=\"sk-estimator-id-94\" type=\"checkbox\" ><label for=\"sk-estimator-id-94\" class=\"sk-toggleable__label sk-toggleable__label-arrow\">cat</label><div class=\"sk-toggleable__content\"><pre>[&#x27;DEVICE_FAMILY&#x27;, &#x27;PAGE_ID&#x27;, &#x27;OS_FAMILY&#x27;]</pre></div></div></div><div class=\"sk-serial\"><div class=\"sk-item\"><div class=\"sk-estimator sk-toggleable\"><input class=\"sk-toggleable__control sk-hidden--visually\" id=\"sk-estimator-id-95\" type=\"checkbox\" ><label for=\"sk-estimator-id-95\" class=\"sk-toggleable__label sk-toggleable__label-arrow\">OrdinalEncoder</label><div class=\"sk-toggleable__content\"><pre>OrdinalEncoder(handle_unknown=&#x27;use_encoded_value&#x27;, unknown_value=-1)</pre></div></div></div></div></div></div><div class=\"sk-parallel-item\"><div class=\"sk-item\"><div class=\"sk-label-container\"><div class=\"sk-label sk-toggleable\"><input class=\"sk-toggleable__control sk-hidden--visually\" id=\"sk-estimator-id-96\" type=\"checkbox\" ><label for=\"sk-estimator-id-96\" class=\"sk-toggleable__label sk-toggleable__label-arrow\">num</label><div class=\"sk-toggleable__content\"><pre>[&#x27;time_first_seen&#x27;, &#x27;mean_conversion_value&#x27;, &#x27;time_conversion&#x27;, &#x27;count_pages&#x27;, &#x27;count_addcart&#x27;, &#x27;count_checkout&#x27;, &#x27;count_cart&#x27;, &#x27;count_new&#x27;, &#x27;count_confirmation&#x27;]</pre></div></div></div><div class=\"sk-serial\"><div class=\"sk-item\"><div class=\"sk-estimator sk-toggleable\"><input class=\"sk-toggleable__control sk-hidden--visually\" id=\"sk-estimator-id-97\" type=\"checkbox\" ><label for=\"sk-estimator-id-97\" class=\"sk-toggleable__label sk-toggleable__label-arrow\">SimpleImputer</label><div class=\"sk-toggleable__content\"><pre>SimpleImputer()</pre></div></div></div></div></div></div></div></div><div class=\"sk-item\"><div class=\"sk-estimator sk-toggleable\"><input class=\"sk-toggleable__control sk-hidden--visually\" id=\"sk-estimator-id-98\" type=\"checkbox\" ><label for=\"sk-estimator-id-98\" class=\"sk-toggleable__label sk-toggleable__label-arrow\">RandomForestClassifier</label><div class=\"sk-toggleable__content\"><pre>RandomForestClassifier(class_weight=&#x27;balanced_subsample&#x27;, random_state=234)</pre></div></div></div></div></div></div></div>"
      ],
      "text/plain": [
       "Pipeline(steps=[('preprocess',\n",
       "                 ColumnTransformer(transformers=[('cat',\n",
       "                                                  OrdinalEncoder(handle_unknown='use_encoded_value',\n",
       "                                                                 unknown_value=-1),\n",
       "                                                  ['DEVICE_FAMILY', 'PAGE_ID',\n",
       "                                                   'OS_FAMILY']),\n",
       "                                                 ('num', SimpleImputer(),\n",
       "                                                  ['time_first_seen',\n",
       "                                                   'mean_conversion_value',\n",
       "                                                   'time_conversion',\n",
       "                                                   'count_pages',\n",
       "                                                   'count_addcart',\n",
       "                                                   'count_checkout',\n",
       "                                                   'count_cart', 'count_new',\n",
       "                                                   'count_confirmation'])])),\n",
       "                ('classifier',\n",
       "                 RandomForestClassifier(class_weight='balanced_subsample',\n",
       "                                        random_state=234))])"
      ]
     },
     "execution_count": 133,
     "metadata": {},
     "output_type": "execute_result"
    }
   ],
   "source": [
    "from sklearn.model_selection import cross_val_score,cross_validate\n",
    "from sklearn.ensemble import RandomForestClassifier\n",
    "from sklearn.preprocessing import OrdinalEncoder\n",
    "from sklearn.impute import SimpleImputer\n",
    "\n",
    "numeric_features = [\"time_first_seen\",\n",
    "       'mean_conversion_value', 'time_conversion', 'count_pages',\n",
    "       'count_addcart', 'count_checkout', 'count_cart', 'count_new',\n",
    "       'count_confirmation']\n",
    "categorical_features = [\"DEVICE_FAMILY\",\"PAGE_ID\",'OS_FAMILY']\n",
    "\n",
    "categorical_encoder = OrdinalEncoder(\n",
    "    handle_unknown=\"use_encoded_value\", unknown_value=-1)\n",
    "numerical_pipe = SimpleImputer(strategy=\"mean\")\n",
    "\n",
    "preprocessing = ColumnTransformer(\n",
    "    [\n",
    "        (\"cat\", categorical_encoder, categorical_features),\n",
    "        (\"num\", numerical_pipe, numeric_features),\n",
    "    ],\n",
    ")\n",
    "\n",
    "clf = Pipeline(\n",
    "    [\n",
    "        (\"preprocess\", preprocessing),\n",
    "        (\"classifier\", RandomForestClassifier(random_state=234,class_weight='balanced_subsample')),\n",
    "    ]\n",
    ")\n",
    "\n",
    "results = cross_validate(clf, X_train_new, y_train_new, cv=3,scoring=['roc_auc','recall','precision'])\n",
    "clf.fit(X_train_new, y_train_new.values.ravel())\n"
   ]
  },
  {
   "cell_type": "code",
   "execution_count": 134,
   "metadata": {},
   "outputs": [
    {
     "data": {
      "text/plain": [
       "{'fit_time': array([0.7096231 , 0.75113297, 0.73905611]),\n",
       " 'score_time': array([0.12392998, 0.12989902, 0.13401818]),\n",
       " 'test_roc_auc': array([0.73071101, 0.70291113, 0.7406879 ]),\n",
       " 'test_recall': array([0.02358491, 0.04716981, 0.05188679]),\n",
       " 'test_precision': array([0.12820513, 0.28571429, 0.19642857])}"
      ]
     },
     "execution_count": 134,
     "metadata": {},
     "output_type": "execute_result"
    }
   ],
   "source": [
    "results"
   ]
  },
  {
   "cell_type": "code",
   "execution_count": 135,
   "metadata": {},
   "outputs": [
    {
     "name": "stdout",
     "output_type": "stream",
     "text": [
      "accuracy 0.9570803717878622 precision 0.1111111111111111 recall 0.022058823529411766 auc 0.7219950959514981\n",
      "confusion matrix\n"
     ]
    },
    {
     "data": {
      "text/plain": [
       "array([[6996,   48],\n",
       "       [ 266,    6]])"
      ]
     },
     "execution_count": 135,
     "metadata": {},
     "output_type": "execute_result"
    }
   ],
   "source": [
    "y_true = y_test_new\n",
    "y_preds = clf.predict(X_test_new)\n",
    "\n",
    "accuracy = accuracy_score(y_true,y_preds)\n",
    "precision = precision_score(y_true,y_preds)\n",
    "recall = recall_score(y_true,y_preds)\n",
    "\n",
    "auc = roc_auc_score(y_true,clf.predict_proba(X_test_new)[:, 1])\n",
    "\n",
    "print('accuracy',accuracy,'precision',precision,'recall',recall,'auc',auc)\n",
    "\n",
    "print(\"confusion matrix\")\n",
    "confusion_matrix(y_true,y_preds)"
   ]
  },
  {
   "cell_type": "markdown",
   "metadata": {},
   "source": [
    "## The new model isn't much better with the extra features\n",
    "- The auc is better but the precision is barely improved. Instead, the recall has worsened.\n",
    "- we would have to devote some time to feature selection, it looks like the extra features\n",
    "are making the model noisy"
   ]
  },
  {
   "cell_type": "code",
   "execution_count": 115,
   "metadata": {},
   "outputs": [
    {
     "data": {
      "image/png": "[encoded data removed]",
      "text/plain": [
       "<Figure size 432x288 with 1 Axes>"
      ]
     },
     "metadata": {
      "needs_background": "light"
     },
     "output_type": "display_data"
    }
   ],
   "source": [
    "feature_names = clf[:-1].get_feature_names_out()\n",
    "\n",
    "mdi_importances = pd.Series(\n",
    "    clf[-1].feature_importances_, index=feature_names\n",
    ").sort_values(ascending=True)\n",
    "\n",
    "ax = mdi_importances.plot.barh()\n",
    "ax.set_title(\"Random Forest Feature Importances (MDI)\")\n",
    "ax.figure.tight_layout()"
   ]
  },
  {
   "cell_type": "markdown",
   "metadata": {},
   "source": [
    "## the count of number previous pages looks like the most important feature"
   ]
  },
  {
   "cell_type": "markdown",
   "metadata": {},
   "source": [
    "## Try xgboost\n"
   ]
  },
  {
   "cell_type": "code",
   "execution_count": 154,
   "metadata": {},
   "outputs": [
    {
     "name": "stdout",
     "output_type": "stream",
     "text": [
      "{'fit_time': array([0.35017014, 0.34118724, 0.37158298]), 'score_time': array([0.0330019 , 0.03429389, 0.03612781]), 'test_roc_auc': array([0.77623702, 0.75175961, 0.77587062]), 'test_recall': array([0.05660377, 0.07075472, 0.07075472]), 'test_precision': array([0.29268293, 0.34883721, 0.27777778])}\n",
      "CV_precision: 0.30643263796979053\n",
      "accuracy 0.9602241662110443 precision 0.3389830508474576 \n",
      "recall 0.07352941176470588 auc 0.7952596285532952\n",
      "confusion matrix\n"
     ]
    },
    {
     "data": {
      "text/plain": [
       "array([[7005,   39],\n",
       "       [ 252,   20]])"
      ]
     },
     "execution_count": 154,
     "metadata": {},
     "output_type": "execute_result"
    }
   ],
   "source": [
    "from sklearn.model_selection import cross_val_score,cross_validate\n",
    "from sklearn.ensemble import RandomForestClassifier\n",
    "from sklearn.preprocessing import OrdinalEncoder\n",
    "from sklearn.impute import SimpleImputer\n",
    "\n",
    "numeric_features = [\"time_first_seen\",\n",
    "       'mean_conversion_value', 'time_conversion', 'count_pages',\n",
    "       'count_addcart', 'count_checkout', 'count_cart', 'count_new',\n",
    "       'count_confirmation']\n",
    "\n",
    "categorical_features = [\"DEVICE_FAMILY\",\"PAGE_ID\",'OS_FAMILY']\n",
    "\n",
    "# categorical_encoder = OrdinalEncoder(\n",
    "#     handle_unknown=\"use_encoded_value\", unknown_value=-1)\n",
    "\n",
    "categorical_encoder = OneHotEncoder(handle_unknown=\"ignore\") \n",
    "numerical_pipe = SimpleImputer(strategy=\"mean\")\n",
    "\n",
    "preprocessing = ColumnTransformer(\n",
    "    [\n",
    "        (\"cat\", categorical_encoder, categorical_features),\n",
    "        (\"num\", numerical_pipe, numeric_features),\n",
    "    ],\n",
    ")\n",
    "\n",
    "\n",
    "clf = Pipeline(\n",
    "    [\n",
    "        (\"preprocess\", preprocessing),\n",
    "        (\"classifier\", xgb.XGBClassifier()),\n",
    "    ]\n",
    ")\n",
    "\n",
    "results = cross_validate(clf, X_train_new, y_train_new, cv=3,scoring=['roc_auc','recall','precision'])\n",
    "clf.fit(X_train_new, y_train_new.values.ravel())\n",
    "print(results)\n",
    "print(\"CV_precision:\", results['test_precision'].mean())\n",
    "\n",
    "y_true = y_test_new\n",
    "y_preds = clf.predict(X_test_new)\n",
    "\n",
    "accuracy = accuracy_score(y_true,y_preds)\n",
    "precision = precision_score(y_true,y_preds)\n",
    "recall = recall_score(y_true,y_preds)\n",
    "auc = roc_auc_score(y_true,clf.predict_proba(X_test_new)[:, 1])\n",
    "\n",
    "print('accuracy',accuracy,'precision',precision,'\\nrecall',recall,'auc',auc)\n",
    "\n",
    "print(\"confusion matrix\")\n",
    "confusion_matrix(y_true,y_preds)\n"
   ]
  },
  {
   "cell_type": "markdown",
   "metadata": {},
   "source": [
    "# Final take away\n",
    "- xgboost vanilla model is better, with improved precision and auc have improved\n",
    "- We would have to tune class weights and feature selection to see better metrics\n",
    "- however the baseline model has got the best recall so far.\n",
    "- there are features can be gleaned from the summaries, but so far generating more informative takes priority.  "
   ]
  },
  {
   "cell_type": "code",
   "execution_count": 193,
   "metadata": {},
   "outputs": [
    {
     "data": {
      "text/plain": [
       "9"
      ]
     },
     "execution_count": 193,
     "metadata": {},
     "output_type": "execute_result"
    }
   ],
   "source": [
    "3 +2+4"
   ]
  },
  {
   "cell_type": "code",
   "execution_count": 215,
   "metadata": {},
   "outputs": [],
   "source": [
    "def lop(x,y):\n",
    "    return y*x/(3+4+7)"
   ]
  },
  {
   "cell_type": "code",
   "execution_count": 211,
   "metadata": {},
   "outputs": [],
   "source": [
    "def jkk(x,y):\n",
    "    return y*np.exp(-x)/(np.exp(-3)+np.exp(-4) +np.exp(-7))"
   ]
  },
  {
   "cell_type": "code",
   "execution_count": 217,
   "metadata": {},
   "outputs": [
    {
     "data": {
      "text/plain": [
       "15.857142857142858"
      ]
     },
     "execution_count": 217,
     "metadata": {},
     "output_type": "execute_result"
    }
   ],
   "source": [
    "lop(3,3) +lop(4,13)+lop(7,23)"
   ]
  },
  {
   "cell_type": "code",
   "execution_count": 218,
   "metadata": {},
   "outputs": [
    {
     "data": {
      "text/plain": [
       "1.0000000000000002"
      ]
     },
     "execution_count": 218,
     "metadata": {},
     "output_type": "execute_result"
    }
   ],
   "source": [
    "jkk(3,1) + jkk(4,1) +jkk(7,1)"
   ]
  },
  {
   "cell_type": "code",
   "execution_count": 199,
   "metadata": {},
   "outputs": [
    {
     "data": {
      "text/plain": [
       "9"
      ]
     },
     "execution_count": 199,
     "metadata": {},
     "output_type": "execute_result"
    }
   ],
   "source": [
    "3+2+4"
   ]
  },
  {
   "cell_type": "code",
   "execution_count": 209,
   "metadata": {},
   "outputs": [
    {
     "data": {
      "text/plain": [
       "0.013212886953789417"
      ]
     },
     "execution_count": 209,
     "metadata": {},
     "output_type": "execute_result"
    }
   ],
   "source": [
    "jkk(7)"
   ]
  },
  {
   "cell_type": "code",
   "execution_count": 210,
   "metadata": {},
   "outputs": [
    {
     "data": {
      "text/plain": [
       "0.7213991842739688"
      ]
     },
     "execution_count": 210,
     "metadata": {},
     "output_type": "execute_result"
    }
   ],
   "source": [
    "jkk(3)"
   ]
  },
  {
   "cell_type": "code",
   "execution_count": null,
   "metadata": {},
   "outputs": [],
   "source": []
  }
 ],
 "metadata": {
  "kernelspec": {
   "display_name": "tf_latest",
   "language": "python",
   "name": "tf_latest"
  },
  "language_info": {
   "codemirror_mode": {
    "name": "ipython",
    "version": 3
   },
   "file_extension": ".py",
   "mimetype": "text/x-python",
   "name": "python",
   "nbconvert_exporter": "python",
   "pygments_lexer": "ipython3",
   "version": "3.8.12"
  }
 },
 "nbformat": 4,
 "nbformat_minor": 4
}
