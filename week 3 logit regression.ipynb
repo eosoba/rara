{
 "metadata": {
  "name": "",
  "signature": "sha256:bc92fa733fbed76f1bb52e4745c359dbe82b018af52836afe66851c5d20ba6d3"
 },
 "nbformat": 3,
 "nbformat_minor": 0,
 "worksheets": [
  {
   "cells": [
    {
     "cell_type": "code",
     "collapsed": false,
     "input": [
      "import numpy as np\n",
      "import pandas as pd\n",
      "import statsmodels.api as sm\n",
      "import matplotlib.pyplot as plt\n",
      "from patsy import dmatrices\n",
      "from sklearn.linear_model import LogisticRegression\n",
      "from sklearn.cross_validation import train_test_split\n",
      "from sklearn import metrics\n",
      "from sklearn.cross_validation import cross_val_score"
     ],
     "language": "python",
     "metadata": {},
     "outputs": [],
     "prompt_number": 1
    },
    {
     "cell_type": "code",
     "collapsed": false,
     "input": [
      "cd static-chiller-551/"
     ],
     "language": "python",
     "metadata": {},
     "outputs": [
      {
       "output_type": "stream",
       "stream": "stdout",
       "text": [
        "/home/armadillo/static-chiller-551\n"
       ]
      }
     ],
     "prompt_number": 4
    },
    {
     "cell_type": "code",
     "collapsed": false,
     "input": [
      "polling = pd.read_csv(\"PollingData_Imputed.csv\")\n",
      "polling.head()"
     ],
     "language": "python",
     "metadata": {},
     "outputs": [
      {
       "html": [
        "<div style=\"max-height:1000px;max-width:1500px;overflow:auto;\">\n",
        "<table border=\"1\" class=\"dataframe\">\n",
        "  <thead>\n",
        "    <tr style=\"text-align: right;\">\n",
        "      <th></th>\n",
        "      <th>State</th>\n",
        "      <th>Year</th>\n",
        "      <th>Rasmussen</th>\n",
        "      <th>SurveyUSA</th>\n",
        "      <th>DiffCount</th>\n",
        "      <th>PropR</th>\n",
        "      <th>Republican</th>\n",
        "    </tr>\n",
        "  </thead>\n",
        "  <tbody>\n",
        "    <tr>\n",
        "      <th>0</th>\n",
        "      <td> Alabama</td>\n",
        "      <td> 2004</td>\n",
        "      <td> 11</td>\n",
        "      <td> 18</td>\n",
        "      <td> 5</td>\n",
        "      <td> 1</td>\n",
        "      <td> 1</td>\n",
        "    </tr>\n",
        "    <tr>\n",
        "      <th>1</th>\n",
        "      <td> Alabama</td>\n",
        "      <td> 2008</td>\n",
        "      <td> 21</td>\n",
        "      <td> 25</td>\n",
        "      <td> 5</td>\n",
        "      <td> 1</td>\n",
        "      <td> 1</td>\n",
        "    </tr>\n",
        "    <tr>\n",
        "      <th>2</th>\n",
        "      <td>  Alaska</td>\n",
        "      <td> 2004</td>\n",
        "      <td> 19</td>\n",
        "      <td> 21</td>\n",
        "      <td> 1</td>\n",
        "      <td> 1</td>\n",
        "      <td> 1</td>\n",
        "    </tr>\n",
        "    <tr>\n",
        "      <th>3</th>\n",
        "      <td>  Alaska</td>\n",
        "      <td> 2008</td>\n",
        "      <td> 16</td>\n",
        "      <td> 18</td>\n",
        "      <td> 6</td>\n",
        "      <td> 1</td>\n",
        "      <td> 1</td>\n",
        "    </tr>\n",
        "    <tr>\n",
        "      <th>4</th>\n",
        "      <td> Arizona</td>\n",
        "      <td> 2004</td>\n",
        "      <td>  5</td>\n",
        "      <td> 15</td>\n",
        "      <td> 8</td>\n",
        "      <td> 1</td>\n",
        "      <td> 1</td>\n",
        "    </tr>\n",
        "  </tbody>\n",
        "</table>\n",
        "</div>"
       ],
       "metadata": {},
       "output_type": "pyout",
       "prompt_number": 6,
       "text": [
        "     State  Year  Rasmussen  SurveyUSA  DiffCount  PropR  Republican\n",
        "0  Alabama  2004         11         18          5      1           1\n",
        "1  Alabama  2008         21         25          5      1           1\n",
        "2   Alaska  2004         19         21          1      1           1\n",
        "3   Alaska  2008         16         18          6      1           1\n",
        "4  Arizona  2004          5         15          8      1           1"
       ]
      }
     ],
     "prompt_number": 6
    },
    {
     "cell_type": "markdown",
     "metadata": {},
     "source": [
      "Divide the data into test and training data."
     ]
    },
    {
     "cell_type": "code",
     "collapsed": false,
     "input": [
      "test = polling[polling['Year'] == 2012]\n",
      "train = polling[(polling['Year']==2004 )| (polling['Year']==2008)]\n",
      "train.columns"
     ],
     "language": "python",
     "metadata": {},
     "outputs": [
      {
       "metadata": {},
       "output_type": "pyout",
       "prompt_number": 7,
       "text": [
        "Index([u'State', u'Year', u'Rasmussen', u'SurveyUSA', u'DiffCount', u'PropR', u'Republican'], dtype='object')"
       ]
      }
     ],
     "prompt_number": 7
    },
    {
     "cell_type": "code",
     "collapsed": false,
     "input": [
      "train.Republican.value_counts()"
     ],
     "language": "python",
     "metadata": {},
     "outputs": [
      {
       "metadata": {},
       "output_type": "pyout",
       "prompt_number": 28,
       "text": [
        "1    53\n",
        "0    47\n",
        "dtype: int64"
       ]
      }
     ],
     "prompt_number": 28
    },
    {
     "cell_type": "code",
     "collapsed": false,
     "input": [
      "train['Sign_Rasmussen']= sign(train['Rasmussen'])"
     ],
     "language": "python",
     "metadata": {},
     "outputs": [],
     "prompt_number": 14
    },
    {
     "cell_type": "code",
     "collapsed": false,
     "input": [
      "pd.crosstab(train['Republican'],train['Sign_Rasmussen'])\n"
     ],
     "language": "python",
     "metadata": {},
     "outputs": [
      {
       "html": [
        "<div style=\"max-height:1000px;max-width:1500px;overflow:auto;\">\n",
        "<table border=\"1\" class=\"dataframe\">\n",
        "  <thead>\n",
        "    <tr style=\"text-align: right;\">\n",
        "      <th>Sign_Rasmussen</th>\n",
        "      <th>-1</th>\n",
        "      <th>0</th>\n",
        "      <th>1</th>\n",
        "    </tr>\n",
        "    <tr>\n",
        "      <th>Republican</th>\n",
        "      <th></th>\n",
        "      <th></th>\n",
        "      <th></th>\n",
        "    </tr>\n",
        "  </thead>\n",
        "  <tbody>\n",
        "    <tr>\n",
        "      <th>0</th>\n",
        "      <td> 42</td>\n",
        "      <td> 1</td>\n",
        "      <td>  4</td>\n",
        "    </tr>\n",
        "    <tr>\n",
        "      <th>1</th>\n",
        "      <td>  0</td>\n",
        "      <td> 1</td>\n",
        "      <td> 52</td>\n",
        "    </tr>\n",
        "  </tbody>\n",
        "</table>\n",
        "</div>"
       ],
       "metadata": {},
       "output_type": "pyout",
       "prompt_number": 16,
       "text": [
        "Sign_Rasmussen  -1   0   1\n",
        "Republican                \n",
        "0               42   1   4\n",
        "1                0   1  52"
       ]
      }
     ],
     "prompt_number": 16
    },
    {
     "cell_type": "code",
     "collapsed": true,
     "input": [
      "train['Sign_Rasmussen'].value_counts()"
     ],
     "language": "python",
     "metadata": {},
     "outputs": [
      {
       "metadata": {},
       "output_type": "pyout",
       "prompt_number": 15,
       "text": [
        " 1    56\n",
        "-1    42\n",
        " 0     2\n",
        "dtype: int64"
       ]
      }
     ],
     "prompt_number": 15
    },
    {
     "cell_type": "code",
     "collapsed": false,
     "input": [
      "train.corr()"
     ],
     "language": "python",
     "metadata": {},
     "outputs": [
      {
       "html": [
        "<div style=\"max-height:1000px;max-width:1500px;overflow:auto;\">\n",
        "<table border=\"1\" class=\"dataframe\">\n",
        "  <thead>\n",
        "    <tr style=\"text-align: right;\">\n",
        "      <th></th>\n",
        "      <th>Year</th>\n",
        "      <th>Rasmussen</th>\n",
        "      <th>SurveyUSA</th>\n",
        "      <th>DiffCount</th>\n",
        "      <th>PropR</th>\n",
        "      <th>Republican</th>\n",
        "      <th>Sign_Rasmussen</th>\n",
        "    </tr>\n",
        "  </thead>\n",
        "  <tbody>\n",
        "    <tr>\n",
        "      <th>Year</th>\n",
        "      <td> 1.000000</td>\n",
        "      <td>-0.181673</td>\n",
        "      <td>-0.185243</td>\n",
        "      <td>-0.242669</td>\n",
        "      <td>-0.189380</td>\n",
        "      <td>-0.180325</td>\n",
        "      <td>-0.142857</td>\n",
        "    </tr>\n",
        "    <tr>\n",
        "      <th>Rasmussen</th>\n",
        "      <td>-0.181673</td>\n",
        "      <td> 1.000000</td>\n",
        "      <td> 0.936584</td>\n",
        "      <td> 0.510917</td>\n",
        "      <td> 0.843118</td>\n",
        "      <td> 0.792925</td>\n",
        "      <td> 0.819461</td>\n",
        "    </tr>\n",
        "    <tr>\n",
        "      <th>SurveyUSA</th>\n",
        "      <td>-0.185243</td>\n",
        "      <td> 0.936584</td>\n",
        "      <td> 1.000000</td>\n",
        "      <td> 0.522258</td>\n",
        "      <td> 0.861648</td>\n",
        "      <td> 0.810165</td>\n",
        "      <td> 0.820023</td>\n",
        "    </tr>\n",
        "    <tr>\n",
        "      <th>DiffCount</th>\n",
        "      <td>-0.242669</td>\n",
        "      <td> 0.510917</td>\n",
        "      <td> 0.522258</td>\n",
        "      <td> 1.000000</td>\n",
        "      <td> 0.827379</td>\n",
        "      <td> 0.809278</td>\n",
        "      <td> 0.761697</td>\n",
        "    </tr>\n",
        "    <tr>\n",
        "      <th>PropR</th>\n",
        "      <td>-0.189380</td>\n",
        "      <td> 0.843118</td>\n",
        "      <td> 0.861648</td>\n",
        "      <td> 0.827379</td>\n",
        "      <td> 1.000000</td>\n",
        "      <td> 0.948420</td>\n",
        "      <td> 0.937264</td>\n",
        "    </tr>\n",
        "    <tr>\n",
        "      <th>Republican</th>\n",
        "      <td>-0.180325</td>\n",
        "      <td> 0.792925</td>\n",
        "      <td> 0.810165</td>\n",
        "      <td> 0.809278</td>\n",
        "      <td> 0.948420</td>\n",
        "      <td> 1.000000</td>\n",
        "      <td> 0.911438</td>\n",
        "    </tr>\n",
        "    <tr>\n",
        "      <th>Sign_Rasmussen</th>\n",
        "      <td>-0.142857</td>\n",
        "      <td> 0.819461</td>\n",
        "      <td> 0.820023</td>\n",
        "      <td> 0.761697</td>\n",
        "      <td> 0.937264</td>\n",
        "      <td> 0.911438</td>\n",
        "      <td> 1.000000</td>\n",
        "    </tr>\n",
        "  </tbody>\n",
        "</table>\n",
        "</div>"
       ],
       "metadata": {},
       "output_type": "pyout",
       "prompt_number": 20,
       "text": [
        "                    Year  Rasmussen  SurveyUSA  DiffCount     PropR  \\\n",
        "Year            1.000000  -0.181673  -0.185243  -0.242669 -0.189380   \n",
        "Rasmussen      -0.181673   1.000000   0.936584   0.510917  0.843118   \n",
        "SurveyUSA      -0.185243   0.936584   1.000000   0.522258  0.861648   \n",
        "DiffCount      -0.242669   0.510917   0.522258   1.000000  0.827379   \n",
        "PropR          -0.189380   0.843118   0.861648   0.827379  1.000000   \n",
        "Republican     -0.180325   0.792925   0.810165   0.809278  0.948420   \n",
        "Sign_Rasmussen -0.142857   0.819461   0.820023   0.761697  0.937264   \n",
        "\n",
        "                Republican  Sign_Rasmussen  \n",
        "Year             -0.180325       -0.142857  \n",
        "Rasmussen         0.792925        0.819461  \n",
        "SurveyUSA         0.810165        0.820023  \n",
        "DiffCount         0.809278        0.761697  \n",
        "PropR             0.948420        0.937264  \n",
        "Republican        1.000000        0.911438  \n",
        "Sign_Rasmussen    0.911438        1.000000  "
       ]
      }
     ],
     "prompt_number": 20
    },
    {
     "cell_type": "markdown",
     "metadata": {},
     "source": [
      "Note that the Pandas correlation function automatically doesn't consider the State column in the correlation matrix."
     ]
    },
    {
     "cell_type": "code",
     "collapsed": false,
     "input": [
      "y, X = dmatrices('Republican ~ PropR',\n",
      "                  train, return_type=\"dataframe\")\n",
      "y=np.ravel(y)"
     ],
     "language": "python",
     "metadata": {},
     "outputs": [],
     "prompt_number": 191
    },
    {
     "cell_type": "code",
     "collapsed": false,
     "input": [
      "model = LogisticRegression(penalty='l1',random_state=322)\n",
      "model = model.fit(X,y)\n",
      "model.score(X,y)"
     ],
     "language": "python",
     "metadata": {},
     "outputs": [
      {
       "metadata": {},
       "output_type": "pyout",
       "prompt_number": 202,
       "text": [
        "0.96999999999999997"
       ]
      }
     ],
     "prompt_number": 202
    },
    {
     "cell_type": "code",
     "collapsed": false,
     "input": [
      "model.coef_"
     ],
     "language": "python",
     "metadata": {},
     "outputs": [
      {
       "metadata": {},
       "output_type": "pyout",
       "prompt_number": 203,
       "text": [
        "array([[-1.12602247,  6.71253854]])"
       ]
      }
     ],
     "prompt_number": 203
    },
    {
     "cell_type": "code",
     "collapsed": false,
     "input": [
      "\n",
      "pd.DataFrame(zip(X.columns, np.transpose(model.coef_)))"
     ],
     "language": "python",
     "metadata": {},
     "outputs": [
      {
       "html": [
        "<div style=\"max-height:1000px;max-width:1500px;overflow:auto;\">\n",
        "<table border=\"1\" class=\"dataframe\">\n",
        "  <thead>\n",
        "    <tr style=\"text-align: right;\">\n",
        "      <th></th>\n",
        "      <th>0</th>\n",
        "      <th>1</th>\n",
        "    </tr>\n",
        "  </thead>\n",
        "  <tbody>\n",
        "    <tr>\n",
        "      <th>0</th>\n",
        "      <td> Intercept</td>\n",
        "      <td> [-1.9287844059]</td>\n",
        "    </tr>\n",
        "    <tr>\n",
        "      <th>1</th>\n",
        "      <td>     PropR</td>\n",
        "      <td> [6.71363413919]</td>\n",
        "    </tr>\n",
        "  </tbody>\n",
        "</table>\n",
        "</div>"
       ],
       "metadata": {},
       "output_type": "pyout",
       "prompt_number": 198,
       "text": [
        "           0                1\n",
        "0  Intercept  [-1.9287844059]\n",
        "1      PropR  [6.71363413919]"
       ]
      }
     ],
     "prompt_number": 198
    },
    {
     "cell_type": "code",
     "collapsed": false,
     "input": [
      " metrics.confusion_matrix(train.Republican, model.predict(X))"
     ],
     "language": "python",
     "metadata": {},
     "outputs": [
      {
       "metadata": {},
       "output_type": "pyout",
       "prompt_number": 189,
       "text": [
        "array([[44,  3],\n",
        "       [ 0, 53]])"
       ]
      }
     ],
     "prompt_number": 189
    },
    {
     "cell_type": "code",
     "collapsed": false,
     "input": [
      "ytest, xtest = dmatrices('Republican ~ PropR',\n",
      "                  test, return_type=\"dataframe\")\n",
      "ytest = np.ravel(ytest)"
     ],
     "language": "python",
     "metadata": {},
     "outputs": [],
     "prompt_number": 40
    },
    {
     "cell_type": "code",
     "collapsed": false,
     "input": [
      "predicted = model.predict(xtest)\n",
      "print predicted"
     ],
     "language": "python",
     "metadata": {},
     "outputs": [
      {
       "output_type": "stream",
       "stream": "stdout",
       "text": [
        "[ 1.  1.  0.  0.  0.  1.  1.  0.  1.  0.  1.  0.  1.  1.  1.  0.  0.  0.\n",
        "  0.  0.  1.  1.  1.  1.  0.  0.  0.  0.  0.  1.  1.  0.  1.  0.  0.  0.\n",
        "  1.  1.  1.  1.  1.  0.  0.  1.  0.]\n"
       ]
      }
     ],
     "prompt_number": 41
    },
    {
     "cell_type": "code",
     "collapsed": false,
     "input": [
      "print metrics.accuracy_score(ytest, predicted)\n",
      "print metrics.roc_auc_score(ytest, predicted)"
     ],
     "language": "python",
     "metadata": {},
     "outputs": [
      {
       "output_type": "stream",
       "stream": "stdout",
       "text": [
        "0.977777777778\n",
        "0.979166666667\n"
       ]
      }
     ],
     "prompt_number": 44
    },
    {
     "cell_type": "code",
     "collapsed": false,
     "input": [
      "ynew,Xnew = dmatrices('Republican~SurveyUSA+DiffCount',train,return_type='dataframe')"
     ],
     "language": "python",
     "metadata": {},
     "outputs": [],
     "prompt_number": 91
    },
    {
     "cell_type": "code",
     "collapsed": false,
     "input": [
      "modeldiff = LogisticRegression()\n",
      "modeldiff = modeldiff.fit(Xnew,ynew)\n",
      "modeldiff.score(Xnew,ynew)"
     ],
     "language": "python",
     "metadata": {},
     "outputs": [
      {
       "output_type": "stream",
       "stream": "stderr",
       "text": [
        "/usr/local/lib/python2.7/dist-packages/sklearn/preprocessing/label.py:125: DataConversionWarning: A column-vector y was passed when a 1d array was expected. Please change the shape of y to (n_samples, ), for example using ravel().\n",
        "  y = column_or_1d(y, warn=True)\n"
       ]
      },
      {
       "metadata": {},
       "output_type": "pyout",
       "prompt_number": 92,
       "text": [
        "0.96999999999999997"
       ]
      }
     ],
     "prompt_number": 92
    },
    {
     "cell_type": "code",
     "collapsed": false,
     "input": [
      "zip(xtest.columns,np.transpose(modeldiff.coef_))"
     ],
     "language": "python",
     "metadata": {},
     "outputs": [
      {
       "metadata": {},
       "output_type": "pyout",
       "prompt_number": 205,
       "text": [
        "[('Intercept', array([-0.19222873])),\n",
        " ('SurveyUSA', array([ 0.31286692])),\n",
        " ('DiffCount', array([ 0.5656559]))]"
       ]
      }
     ],
     "prompt_number": 205
    },
    {
     "cell_type": "code",
     "collapsed": false,
     "input": [
      "metrics.confusion_matrix(train.Republican, modeldiff.predict(Xnew))"
     ],
     "language": "python",
     "metadata": {},
     "outputs": [
      {
       "metadata": {},
       "output_type": "pyout",
       "prompt_number": 103,
       "text": [
        "array([[45,  2],\n",
        "       [ 1, 52]])"
       ]
      }
     ],
     "prompt_number": 103
    },
    {
     "cell_type": "code",
     "collapsed": false,
     "input": [
      "pd.crosstab(test['Republican'],sign(test.Rasmussen),margins=True)"
     ],
     "language": "python",
     "metadata": {},
     "outputs": [
      {
       "html": [
        "<div style=\"max-height:1000px;max-width:1500px;overflow:auto;\">\n",
        "<table border=\"1\" class=\"dataframe\">\n",
        "  <thead>\n",
        "    <tr style=\"text-align: right;\">\n",
        "      <th>Rasmussen</th>\n",
        "      <th>-1</th>\n",
        "      <th>0</th>\n",
        "      <th>1</th>\n",
        "      <th>All</th>\n",
        "    </tr>\n",
        "    <tr>\n",
        "      <th>Republican</th>\n",
        "      <th></th>\n",
        "      <th></th>\n",
        "      <th></th>\n",
        "      <th></th>\n",
        "    </tr>\n",
        "  </thead>\n",
        "  <tbody>\n",
        "    <tr>\n",
        "      <th>0</th>\n",
        "      <td> 18</td>\n",
        "      <td> 2</td>\n",
        "      <td>  4</td>\n",
        "      <td> 24</td>\n",
        "    </tr>\n",
        "    <tr>\n",
        "      <th>1</th>\n",
        "      <td>  0</td>\n",
        "      <td> 0</td>\n",
        "      <td> 21</td>\n",
        "      <td> 21</td>\n",
        "    </tr>\n",
        "    <tr>\n",
        "      <th>All</th>\n",
        "      <td> 18</td>\n",
        "      <td> 2</td>\n",
        "      <td> 25</td>\n",
        "      <td> 45</td>\n",
        "    </tr>\n",
        "  </tbody>\n",
        "</table>\n",
        "</div>"
       ],
       "metadata": {},
       "output_type": "pyout",
       "prompt_number": 144,
       "text": [
        "Rasmussen   -1  0   1  All\n",
        "Republican                \n",
        "0           18  2   4   24\n",
        "1            0  0  21   21\n",
        "All         18  2  25   45"
       ]
      }
     ],
     "prompt_number": 144
    },
    {
     "cell_type": "code",
     "collapsed": false,
     "input": [
      "ytest, xtest = dmatrices('Republican~SurveyUSA+DiffCount',\n",
      "                  test, return_type=\"dataframe\")\n",
      "ytest = np.ravel(ytest)"
     ],
     "language": "python",
     "metadata": {},
     "outputs": [],
     "prompt_number": 146
    },
    {
     "cell_type": "code",
     "collapsed": false,
     "input": [
      "pd.crosstab(test.Republican, modeldiff.predict(xtest))"
     ],
     "language": "python",
     "metadata": {},
     "outputs": [
      {
       "html": [
        "<div style=\"max-height:1000px;max-width:1500px;overflow:auto;\">\n",
        "<table border=\"1\" class=\"dataframe\">\n",
        "  <thead>\n",
        "    <tr style=\"text-align: right;\">\n",
        "      <th>col_0</th>\n",
        "      <th>0.0</th>\n",
        "      <th>1.0</th>\n",
        "    </tr>\n",
        "    <tr>\n",
        "      <th>Republican</th>\n",
        "      <th></th>\n",
        "      <th></th>\n",
        "    </tr>\n",
        "  </thead>\n",
        "  <tbody>\n",
        "    <tr>\n",
        "      <th>0</th>\n",
        "      <td> 23</td>\n",
        "      <td>  1</td>\n",
        "    </tr>\n",
        "    <tr>\n",
        "      <th>1</th>\n",
        "      <td>  0</td>\n",
        "      <td> 21</td>\n",
        "    </tr>\n",
        "  </tbody>\n",
        "</table>\n",
        "</div>"
       ],
       "metadata": {},
       "output_type": "pyout",
       "prompt_number": 148,
       "text": [
        "col_0        0   1\n",
        "Republican        \n",
        "0           23   1\n",
        "1            0  21"
       ]
      }
     ],
     "prompt_number": 148
    },
    {
     "cell_type": "code",
     "collapsed": false,
     "input": [
      "test[(test['Republican']==0) &(modeldiff.predict(xtest)>0)]"
     ],
     "language": "python",
     "metadata": {},
     "outputs": [
      {
       "html": [
        "<div style=\"max-height:1000px;max-width:1500px;overflow:auto;\">\n",
        "<table border=\"1\" class=\"dataframe\">\n",
        "  <thead>\n",
        "    <tr style=\"text-align: right;\">\n",
        "      <th></th>\n",
        "      <th>State</th>\n",
        "      <th>Year</th>\n",
        "      <th>Rasmussen</th>\n",
        "      <th>SurveyUSA</th>\n",
        "      <th>DiffCount</th>\n",
        "      <th>PropR</th>\n",
        "      <th>Republican</th>\n",
        "      <th>ext</th>\n",
        "      <th>pext</th>\n",
        "    </tr>\n",
        "  </thead>\n",
        "  <tbody>\n",
        "    <tr>\n",
        "      <th>23</th>\n",
        "      <td> Florida</td>\n",
        "      <td> 2012</td>\n",
        "      <td> 2</td>\n",
        "      <td> 0</td>\n",
        "      <td> 6</td>\n",
        "      <td> 0.666667</td>\n",
        "      <td> 0</td>\n",
        "      <td> 1</td>\n",
        "      <td> 1</td>\n",
        "    </tr>\n",
        "  </tbody>\n",
        "</table>\n",
        "</div>"
       ],
       "metadata": {},
       "output_type": "pyout",
       "prompt_number": 163,
       "text": [
        "      State  Year  Rasmussen  SurveyUSA  DiffCount     PropR  Republican  ext  \\\n",
        "23  Florida  2012          2          0          6  0.666667           0    1   \n",
        "\n",
        "    pext  \n",
        "23     1  "
       ]
      }
     ],
     "prompt_number": 163
    },
    {
     "cell_type": "code",
     "collapsed": false,
     "input": [
      "train['intercept']=1.0\n",
      "traincols = train.columns[5:6]+train.columns[-1:]\n",
      "test['intercept']=1.0\n"
     ],
     "language": "python",
     "metadata": {},
     "outputs": [],
     "prompt_number": 178
    },
    {
     "cell_type": "code",
     "collapsed": false,
     "input": [
      "import statsmodels.api as sm\n",
      "logit = sm.Logit(train['Republican'], train[traincols])\n",
      "result = logit.fit()\n",
      "result.summary()"
     ],
     "language": "python",
     "metadata": {},
     "outputs": [
      {
       "output_type": "stream",
       "stream": "stdout",
       "text": [
        "Optimization terminated successfully.\n",
        "         Current function value: 0.078862\n",
        "         Iterations 9\n"
       ]
      },
      {
       "html": [
        "<table class=\"simpletable\">\n",
        "<caption>Logit Regression Results</caption>\n",
        "<tr>\n",
        "  <th>Dep. Variable:</th>    <td>Republican</td>    <th>  No. Observations:  </th>  <td>   100</td>  \n",
        "</tr>\n",
        "<tr>\n",
        "  <th>Model:</th>               <td>Logit</td>      <th>  Df Residuals:      </th>  <td>    98</td>  \n",
        "</tr>\n",
        "<tr>\n",
        "  <th>Method:</th>               <td>MLE</td>       <th>  Df Model:          </th>  <td>     1</td>  \n",
        "</tr>\n",
        "<tr>\n",
        "  <th>Date:</th>          <td>Fri, 03 Oct 2014</td> <th>  Pseudo R-squ.:     </th>  <td>0.8859</td>  \n",
        "</tr>\n",
        "<tr>\n",
        "  <th>Time:</th>              <td>01:48:05</td>     <th>  Log-Likelihood:    </th> <td> -7.8862</td> \n",
        "</tr>\n",
        "<tr>\n",
        "  <th>converged:</th>           <td>True</td>       <th>  LL-Null:           </th> <td> -69.135</td> \n",
        "</tr>\n",
        "<tr>\n",
        "  <th> </th>                      <td> </td>        <th>  LLR p-value:       </th> <td>1.797e-28</td>\n",
        "</tr>\n",
        "</table>\n",
        "<table class=\"simpletable\">\n",
        "<tr>\n",
        "      <td></td>         <th>coef</th>     <th>std err</th>      <th>z</th>      <th>P>|z|</th> <th>[95.0% Conf. Int.]</th> \n",
        "</tr>\n",
        "<tr>\n",
        "  <th>PropR</th>     <td>   11.3904</td> <td>    3.153</td> <td>    3.613</td> <td> 0.000</td> <td>    5.212    17.569</td>\n",
        "</tr>\n",
        "<tr>\n",
        "  <th>intercept</th> <td>   -6.1462</td> <td>    1.977</td> <td>   -3.108</td> <td> 0.002</td> <td>  -10.022    -2.271</td>\n",
        "</tr>\n",
        "</table>"
       ],
       "metadata": {},
       "output_type": "pyout",
       "prompt_number": 176,
       "text": [
        "<class 'statsmodels.iolib.summary.Summary'>\n",
        "\"\"\"\n",
        "                           Logit Regression Results                           \n",
        "==============================================================================\n",
        "Dep. Variable:             Republican   No. Observations:                  100\n",
        "Model:                          Logit   Df Residuals:                       98\n",
        "Method:                           MLE   Df Model:                            1\n",
        "Date:                Fri, 03 Oct 2014   Pseudo R-squ.:                  0.8859\n",
        "Time:                        01:48:05   Log-Likelihood:                -7.8862\n",
        "converged:                       True   LL-Null:                       -69.135\n",
        "                                        LLR p-value:                 1.797e-28\n",
        "==============================================================================\n",
        "                 coef    std err          z      P>|z|      [95.0% Conf. Int.]\n",
        "------------------------------------------------------------------------------\n",
        "PropR         11.3904      3.153      3.613      0.000         5.212    17.569\n",
        "intercept     -6.1462      1.977     -3.108      0.002       -10.022    -2.271\n",
        "==============================================================================\n",
        "\"\"\""
       ]
      }
     ],
     "prompt_number": 176
    },
    {
     "cell_type": "code",
     "collapsed": false,
     "input": [
      "pd.crosstab(train.Republican,(result.predict()>=0.5).astype(int),margins=True)"
     ],
     "language": "python",
     "metadata": {},
     "outputs": [
      {
       "html": [
        "<div style=\"max-height:1000px;max-width:1500px;overflow:auto;\">\n",
        "<table border=\"1\" class=\"dataframe\">\n",
        "  <thead>\n",
        "    <tr style=\"text-align: right;\">\n",
        "      <th>col_0</th>\n",
        "      <th>0</th>\n",
        "      <th>1</th>\n",
        "      <th>All</th>\n",
        "    </tr>\n",
        "    <tr>\n",
        "      <th>Republican</th>\n",
        "      <th></th>\n",
        "      <th></th>\n",
        "      <th></th>\n",
        "    </tr>\n",
        "  </thead>\n",
        "  <tbody>\n",
        "    <tr>\n",
        "      <th>0</th>\n",
        "      <td> 45</td>\n",
        "      <td>  2</td>\n",
        "      <td>  47</td>\n",
        "    </tr>\n",
        "    <tr>\n",
        "      <th>1</th>\n",
        "      <td>  2</td>\n",
        "      <td> 51</td>\n",
        "      <td>  53</td>\n",
        "    </tr>\n",
        "    <tr>\n",
        "      <th>All</th>\n",
        "      <td> 47</td>\n",
        "      <td> 53</td>\n",
        "      <td> 100</td>\n",
        "    </tr>\n",
        "  </tbody>\n",
        "</table>\n",
        "</div>"
       ],
       "metadata": {},
       "output_type": "pyout",
       "prompt_number": 190,
       "text": [
        "col_0        0   1  All\n",
        "Republican             \n",
        "0           45   2   47\n",
        "1            2  51   53\n",
        "All         47  53  100"
       ]
      }
     ],
     "prompt_number": 190
    },
    {
     "cell_type": "code",
     "collapsed": false,
     "input": [],
     "language": "python",
     "metadata": {},
     "outputs": []
    },
    {
     "cell_type": "code",
     "collapsed": false,
     "input": [],
     "language": "python",
     "metadata": {},
     "outputs": []
    }
   ],
   "metadata": {}
  }
 ]
}